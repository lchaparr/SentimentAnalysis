{
 "cells": [
  {
   "cell_type": "code",
   "execution_count": 1,
   "metadata": {},
   "outputs": [
    {
     "data": {
      "text/html": [
       "<div>\n",
       "<style scoped>\n",
       "    .dataframe tbody tr th:only-of-type {\n",
       "        vertical-align: middle;\n",
       "    }\n",
       "\n",
       "    .dataframe tbody tr th {\n",
       "        vertical-align: top;\n",
       "    }\n",
       "\n",
       "    .dataframe thead th {\n",
       "        text-align: right;\n",
       "    }\n",
       "</style>\n",
       "<table border=\"1\" class=\"dataframe\">\n",
       "  <thead>\n",
       "    <tr style=\"text-align: right;\">\n",
       "      <th></th>\n",
       "      <th>TweetId</th>\n",
       "      <th>CreatedAt</th>\n",
       "      <th>Text</th>\n",
       "      <th>ID</th>\n",
       "      <th>Sentiment</th>\n",
       "    </tr>\n",
       "  </thead>\n",
       "  <tbody>\n",
       "    <tr>\n",
       "      <th>0</th>\n",
       "      <td>1111016644380381189</td>\n",
       "      <td>2019-03-27 21:26:24.000</td>\n",
       "      <td>Definitivamente estámos muy mal. Es el colmo N...</td>\n",
       "      <td>0</td>\n",
       "      <td>1</td>\n",
       "    </tr>\n",
       "    <tr>\n",
       "      <th>1</th>\n",
       "      <td>1111004064190550016</td>\n",
       "      <td>2019-03-27 20:36:25.000</td>\n",
       "      <td>Imaginate! ¿Los videos no son una prueba? Para...</td>\n",
       "      <td>1</td>\n",
       "      <td>1</td>\n",
       "    </tr>\n",
       "    <tr>\n",
       "      <th>2</th>\n",
       "      <td>1110985764110827522</td>\n",
       "      <td>2019-03-27 19:23:41.000</td>\n",
       "      <td>No le pregunten a la Policia, preguntenle a nu...</td>\n",
       "      <td>2</td>\n",
       "      <td>1</td>\n",
       "    </tr>\n",
       "    <tr>\n",
       "      <th>3</th>\n",
       "      <td>1110984479743586306</td>\n",
       "      <td>2019-03-27 19:18:35.000</td>\n",
       "      <td>El único culpable de ello es @JuanManSantos po...</td>\n",
       "      <td>3</td>\n",
       "      <td>1</td>\n",
       "    </tr>\n",
       "    <tr>\n",
       "      <th>4</th>\n",
       "      <td>1110974209025630208</td>\n",
       "      <td>2019-03-27 18:37:46.000</td>\n",
       "      <td>¿Denunció ella?</td>\n",
       "      <td>4</td>\n",
       "      <td>1</td>\n",
       "    </tr>\n",
       "  </tbody>\n",
       "</table>\n",
       "</div>"
      ],
      "text/plain": [
       "               TweetId                CreatedAt  \\\n",
       "0  1111016644380381189  2019-03-27 21:26:24.000   \n",
       "1  1111004064190550016  2019-03-27 20:36:25.000   \n",
       "2  1110985764110827522  2019-03-27 19:23:41.000   \n",
       "3  1110984479743586306  2019-03-27 19:18:35.000   \n",
       "4  1110974209025630208  2019-03-27 18:37:46.000   \n",
       "\n",
       "                                                Text  ID  Sentiment  \n",
       "0  Definitivamente estámos muy mal. Es el colmo N...   0          1  \n",
       "1  Imaginate! ¿Los videos no son una prueba? Para...   1          1  \n",
       "2  No le pregunten a la Policia, preguntenle a nu...   2          1  \n",
       "3  El único culpable de ello es @JuanManSantos po...   3          1  \n",
       "4                                    ¿Denunció ella?   4          1  "
      ]
     },
     "execution_count": 1,
     "metadata": {},
     "output_type": "execute_result"
    }
   ],
   "source": [
    "import nltk\n",
    "import pandas as pd\n",
    "import matplotlib.pyplot as plt\n",
    "import numpy as np\n",
    "import re\n",
    "import unicodedata2\n",
    "import math\n",
    "import string\n",
    "import tokenize\n",
    "import sklearn\n",
    "from nltk.tokenize import sent_tokenize\n",
    "from nltk.tokenize import word_tokenize\n",
    "from nltk.tokenize import wordpunct_tokenize\n",
    "from nltk.probability import FreqDist\n",
    "from nltk.corpus import stopwords\n",
    "from nltk.stem import PorterStemmer\n",
    "from nltk.stem.wordnet import WordNetLemmatizer\n",
    "from nltk.stem.porter import PorterStemmer\n",
    "from sklearn.model_selection import train_test_split\n",
    "from sklearn.feature_extraction.text import CountVectorizer\n",
    "from sklearn.feature_extraction.text import TfidfVectorizer\n",
    "from nltk.tokenize import RegexpTokenizer\n",
    "from nltk.tokenize import sent_tokenize\n",
    "from sklearn import metrics\n",
    "from sklearn.metrics.pairwise import linear_kernel\n",
    "from sklearn.metrics.pairwise import polynomial_kernel\n",
    "from sklearn.naive_bayes import MultinomialNB\n",
    "from string import digits\n",
    "from xml.dom import minidom\n",
    "from unidecode import unidecode\n",
    "from nltk.stem.snowball import SnowballStemmer\n",
    "from string import punctuation\n",
    "from nltk.classify.scikitlearn import SklearnClassifier\n",
    "from sklearn.naive_bayes import MultinomialNB,BernoulliNB\n",
    "from sklearn.linear_model import LogisticRegression,SGDClassifier\n",
    "from sklearn.svm import SVC\n",
    "\n",
    "# Cargue de datos\n",
    "# Se especifica que se esta trabajando en Español, para carga de Stopword y Stemmización\n",
    "\n",
    "stop_words = stopwords.words('spanish')\n",
    "newStopWords = ['dr','dra','etc','bn','ud','u','ag','si','no','rt','q','m','bb','tan','aun','cr','tal','segun','w','lab','aca','wew','av','ah','cll','km','tm','ht','mk','xs','xxl','xl','xxx','reee','nls','kr']\n",
    "stop_words.extend(newStopWords)\n",
    "data=pd.read_csv(\"predict_data_to_score.csv\")\n",
    "sbEsp = SnowballStemmer('spanish')\n",
    "data.head()"
   ]
  },
  {
   "cell_type": "code",
   "execution_count": 2,
   "metadata": {},
   "outputs": [
    {
     "name": "stdout",
     "output_type": "stream",
     "text": [
      "0         definitivamente estamos muy mal es el colmo no...\n",
      "1         imaginate los videos no son una prueba para in...\n",
      "2         no le pregunten a la policia preguntenle a nue...\n",
      "3         el unico culpable de ello es juanmansantos por...\n",
      "4                                             denuncio ella\n",
      "                                ...                        \n",
      "146783    bogota sumida en el caos el pico y genero no f...\n",
      "146784    hugo acero secretario de seguridad seguridadbo...\n",
      "146785    siguen amenazas a personal medico agreden a pe...\n",
      "146786    estan en estas localidades comprobados por sat...\n",
      "146787    consejal bastidas por su intermedio es posible...\n",
      "Name: Text, Length: 146788, dtype: object\n"
     ]
    }
   ],
   "source": [
    "# Preprocesamiento\n",
    "# Eliminación de enlaces\n",
    "def strip_links(text):\n",
    "    link_regex    = re.compile('((https?):((//)|(\\\\\\\\))+([\\w\\d:#@%/;$()~_?\\+-=\\\\\\.&](#!)?)*)', re.DOTALL)\n",
    "    links         = re.findall(link_regex, text)\n",
    "    for link in links:\n",
    "        text = text.replace(link[0], ', ')   \n",
    "    return text\n",
    "\n",
    "# Eliminación de Hashtags y menciones\n",
    "def strip_all_entities(text):\n",
    "    entity_prefixes = ['@','#']\n",
    "    for separator in  string.punctuation:\n",
    "        if separator not in entity_prefixes :\n",
    "            text = text.replace(separator,' ')\n",
    "    words = []\n",
    "    for word in text.split():\n",
    "        word = word.strip()\n",
    "        if word:\n",
    "            if word[0] not in entity_prefixes:\n",
    "                words.append(word)\n",
    "    return ' '.join(words)\n",
    "\n",
    "# Eliminación de puntuacion, numeros y conversión del texto a minúsculas\n",
    "def remove_punctuations(text):\n",
    "    for punctuation in string.punctuation:\n",
    "        text = text.replace(punctuation, '')\n",
    "    for digits in string.digits:\n",
    "        text = text.replace(digits,'')\n",
    "    text = text.lower()\n",
    "    return text\n",
    "\n",
    "def remove_punct(strin):\n",
    "    strin = strin.translate(str.maketrans('','',string.punctuation));\n",
    "    strin = strin.translate(str.maketrans('','',string.digits));\n",
    "    return strin;\n",
    "\n",
    "#Normalizar: eliminar diéresis, acentos, y otros caracteres similares.\n",
    "def normunicode_data(strin):\n",
    "    #print(strin)\n",
    "    return unicodedata2.normalize('NFKD', strin).encode('ASCII', 'ignore').decode(\"utf-8\").lower()\n",
    "\n",
    "def proc_str(strin):\n",
    "    return remove_punct(normunicode_data(strin));\n",
    "\n",
    "def tok_cln(text):\n",
    "    return set(nltk.wordpunct_tokenize(text)).difference(stop_words)\n",
    "\n",
    "def preprocessing(text):\n",
    "    text= text.apply(strip_links)\n",
    "    text= text.apply(remove_punct)\n",
    "    text= text.apply(strip_all_entities)\n",
    "    text = text.apply(normunicode_data)\n",
    "    \n",
    "    return text\n",
    "\n",
    "data.Text=preprocessing(data[\"Text\"])\n",
    "print(data.Text)\n"
   ]
  },
  {
   "cell_type": "code",
   "execution_count": 3,
   "metadata": {},
   "outputs": [
    {
     "data": {
      "text/plain": [
       "RangeIndex(start=0, stop=146788, step=1)"
      ]
     },
     "execution_count": 3,
     "metadata": {},
     "output_type": "execute_result"
    }
   ],
   "source": [
    "data.Text.index"
   ]
  },
  {
   "cell_type": "code",
   "execution_count": 4,
   "metadata": {},
   "outputs": [
    {
     "data": {
      "image/png": "[encoded data removed]",
      "text/plain": [
       "<Figure size 720x288 with 1 Axes>"
      ]
     },
     "metadata": {
      "needs_background": "light"
     },
     "output_type": "display_data"
    }
   ],
   "source": [
    "def proc_string(strin,setData):\n",
    "    resp = set([]);\n",
    "    for data in tok_cln(proc_str(strin)):\n",
    "        tm  = stemm_data(data)\n",
    "        #tm = data\n",
    "        resp.add(tm)\n",
    "        if tm in setData:\n",
    "            setData[tm].add(data)\n",
    "        else:\n",
    "            setData[tm] = set([data])\n",
    "    return ', '.join(resp);\n",
    "\n",
    "def freq_dist_tok(strin):\n",
    "    token_clear = strin.apply(tok_cln)\n",
    "    out = [item for t in token_clear for item in t] \n",
    "    fig = plt.figure(figsize = (10,4))\n",
    "    plt.gcf().subplots_adjust(bottom=0.15)\n",
    "    fdist = FreqDist(out)\n",
    "    fdist.plot(40,cumulative=False)\n",
    "    return fig.savefig('freqDist.png', bbox_inches = \"tight\")\n",
    "\n",
    "freq_dist_tok(data.Text);"
   ]
  },
  {
   "cell_type": "code",
   "execution_count": 5,
   "metadata": {},
   "outputs": [],
   "source": [
    "def getVocab(fileName):\n",
    "    positive_vocab = [];    \n",
    "    negative_vocab = [];    \n",
    "    xmldoc = minidom.parse(fileName)\n",
    "    itemlist = xmldoc.getElementsByTagName('senticon')\n",
    "    for s in itemlist[0].getElementsByTagName('layer'):    \n",
    "        for pl in s.getElementsByTagName('positive'):\n",
    "            for pll in pl.getElementsByTagName('lemma'):                \n",
    "                positive_vocab.append([pll.firstChild.nodeValue.replace(\" \", \"\"),\n",
    "                                       float(pll.getAttribute('pol'))]);\n",
    "        for pl in s.getElementsByTagName('negative'):\n",
    "            for pll in pl.getElementsByTagName('lemma'):             \n",
    "                negative_vocab.append([pll.firstChild.nodeValue.replace(\" \", \"\"),\n",
    "                                       float(pll.getAttribute('pol'))]);\n",
    "    return (positive_vocab,negative_vocab)"
   ]
  },
  {
   "cell_type": "code",
   "execution_count": 6,
   "metadata": {},
   "outputs": [],
   "source": [
    "(positive_vocab,negative_vocab) = getVocab('senticon.es.xml')"
   ]
  },
  {
   "cell_type": "code",
   "execution_count": 7,
   "metadata": {},
   "outputs": [],
   "source": [
    "##Cuenta las ocurrencias de las palabras negativas y positivas\n",
    "def getScoreSentiment(words,posText,posScore,negText,negScore,optionScore):  \n",
    "    countTotalScore = 0;        \n",
    "    for word in words:                        \n",
    "        if len(word)>0:\n",
    "            indicesPos = [i for i, x in enumerate(posText) if word in x.split('_')]\n",
    "            indicesNeg = [i for i, x in enumerate(negText) if word in x.split('_')]\n",
    "            cvalP = 0;\n",
    "            for j in indicesPos:\n",
    "                if optionScore==0:                \n",
    "                    cvalP += 1;\n",
    "                if optionScore==1:\n",
    "                    cvalP += posScore[j];\n",
    "                                    \n",
    "            cvalN = 0;\n",
    "            for k in indicesNeg:                 \n",
    "                if optionScore==0:\n",
    "                    cvalN -= 1;\n",
    "                if optionScore==1:\n",
    "                    cvalN += negScore[k];\n",
    "                    \n",
    "            if (len(indicesNeg)+len(indicesPos))>0:\n",
    "                countTotalScore+=(cvalP+cvalN)/(len(indicesNeg)+len(indicesPos))\n",
    "            \n",
    "            finalval=(countTotalScore-1)/4\n",
    "            if finalval>1.0:\n",
    "                finalval=1.0\n",
    "            if finalval<-1.0:\n",
    "                finalval = -1.0\n",
    "            finalval= (finalval*2)+3\n",
    "            finalval = int(round(finalval))\n",
    "    return (finalval)\n",
    "\n",
    "def computeSentimentScoresDictionary(strWords,posText,posScore,negText,negScore,optionScore):\n",
    "    vecScoreSentimentDictionary = [];\n",
    "    for idx in strWords:        \n",
    "        scv = getScoreSentiment(idx.split(' '),posText,posScore,negText,negScore,optionScore);\n",
    "        vecScoreSentimentDictionary.append(scv)        \n",
    "    df= pd.DataFrame({'Terms':strWords, 'Sentiment Score':vecScoreSentimentDictionary});    \n",
    "    return (vecScoreSentimentDictionary,df);"
   ]
  },
  {
   "cell_type": "code",
   "execution_count": 8,
   "metadata": {},
   "outputs": [],
   "source": [
    "posText = [row[0] for row in positive_vocab]\n",
    "posScore = [row[1] for row in positive_vocab]\n",
    "negText = [row[0] for row in negative_vocab]\n",
    "negScore = [row[1] for row in negative_vocab]\n",
    "vecScoreSentimentSimple = []\n",
    "vecScoreSentimentPolarity = []\n",
    "\n",
    "\n",
    "\n"
   ]
  },
  {
   "cell_type": "code",
   "execution_count": 9,
   "metadata": {},
   "outputs": [],
   "source": [
    "dfpp = data[data['Sentiment'].isin(['1','2','3','4','5'])]\n",
    "for idx in dfpp.index:\n",
    "    wordsOpinion = [];\n",
    "    for data in tok_cln(dfpp['Text'][idx]):\n",
    "        tm = data\n",
    "        wordsOpinion.append(tm) \n",
    "    vecScoreSentimentSimple.append(getScoreSentiment(wordsOpinion,posText,\n",
    "                                                     posScore,negText,negScore,0))        \n",
    "    vecScoreSentimentPolarity.append(getScoreSentiment(wordsOpinion,posText,posScore,negText,negScore,1))\n",
    "    "
   ]
  },
  {
   "cell_type": "code",
   "execution_count": 10,
   "metadata": {},
   "outputs": [],
   "source": [
    "result = zip(dfpp.index,vecScoreSentimentSimple,vecScoreSentimentPolarity)\n",
    "import csv\n",
    "with open('lexicon_f.csv', 'w') as f:\n",
    "    writer = csv.writer(f, delimiter=',')\n",
    "    writer.writerow([\"ID\",\"SentimentSimple\",\"SentimentPolarity\"])\n",
    "    writer.writerows(result)  "
   ]
  },
  {
   "cell_type": "code",
   "execution_count": 11,
   "metadata": {},
   "outputs": [],
   "source": [
    "datas=pd.read_csv(\"predict_data_to_score.csv\")\n",
    "results = pd.read_csv(\"lexicon_f.csv\")\n",
    "results = results.dropna(axis=1)\n",
    "merged = datas.merge(results, on='ID')\n",
    "merged.to_csv(\"final_lexicon.csv\", index=False)"
   ]
  },
  {
   "cell_type": "code",
   "execution_count": null,
   "metadata": {},
   "outputs": [],
   "source": [
    "def get_metrics(true_labels, predicted_labels,clasificador):\n",
    "    print(clasificador+' Accuracy:', \n",
    "          np.round(metrics.accuracy_score(true_labels, predicted_labels),4))\n",
    "    print(clasificador+' Precision:', \n",
    "          np.round(metrics.precision_score(true_labels, \n",
    "                                           predicted_labels,average='weighted',zero_division=1),4))\n",
    "    print(clasificador+' Recall:', \n",
    "          np.round(metrics.recall_score(true_labels, predicted_labels,average='weighted'),4))\n",
    "    print(clasificador+' F1 score:', \n",
    "          np.round(metrics.f1_score(true_labels, predicted_labels, average='weighted'),4))\n",
    "    print('\\n')"
   ]
  },
  {
   "cell_type": "code",
   "execution_count": null,
   "metadata": {},
   "outputs": [],
   "source": [
    "lexi=pd.read_csv(\"final_lexicon.csv\")\n",
    "lexi.head()"
   ]
  },
  {
   "cell_type": "code",
   "execution_count": null,
   "metadata": {},
   "outputs": [],
   "source": [
    "get_metrics(lexi.Sentiment, lexi.SentimentSimple,\"Simple\")"
   ]
  },
  {
   "cell_type": "code",
   "execution_count": null,
   "metadata": {},
   "outputs": [],
   "source": [
    "get_metrics(lexi.Sentiment, lexi.SentimentPolarity,\"Polarity\")"
   ]
  },
  {
   "cell_type": "code",
   "execution_count": null,
   "metadata": {},
   "outputs": [],
   "source": []
  }
 ],
 "metadata": {
  "kernelspec": {
   "display_name": "Python 3",
   "language": "python",
   "name": "python3"
  },
  "language_info": {
   "codemirror_mode": {
    "name": "ipython",
    "version": 3
   },
   "file_extension": ".py",
   "mimetype": "text/x-python",
   "name": "python",
   "nbconvert_exporter": "python",
   "pygments_lexer": "ipython3",
   "version": "3.8.2"
  }
 },
 "nbformat": 4,
 "nbformat_minor": 4
}
