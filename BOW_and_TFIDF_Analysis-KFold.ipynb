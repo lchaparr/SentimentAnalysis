{
 "cells": [
  {
   "cell_type": "code",
   "execution_count": 1,
   "metadata": {},
   "outputs": [
    {
     "data": {
      "text/html": [
       "<div>\n",
       "<style scoped>\n",
       "    .dataframe tbody tr th:only-of-type {\n",
       "        vertical-align: middle;\n",
       "    }\n",
       "\n",
       "    .dataframe tbody tr th {\n",
       "        vertical-align: top;\n",
       "    }\n",
       "\n",
       "    .dataframe thead th {\n",
       "        text-align: right;\n",
       "    }\n",
       "</style>\n",
       "<table border=\"1\" class=\"dataframe\">\n",
       "  <thead>\n",
       "    <tr style=\"text-align: right;\">\n",
       "      <th></th>\n",
       "      <th>Tweet</th>\n",
       "      <th>Sentiment</th>\n",
       "    </tr>\n",
       "  </thead>\n",
       "  <tbody>\n",
       "    <tr>\n",
       "      <th>0</th>\n",
       "      <td>Comparto nuestro aliado estrategico para la Es...</td>\n",
       "      <td>5</td>\n",
       "    </tr>\n",
       "    <tr>\n",
       "      <th>1</th>\n",
       "      <td>@FREDYGUERRAHERR @consigliererojo @ClaudiaLope...</td>\n",
       "      <td>3</td>\n",
       "    </tr>\n",
       "    <tr>\n",
       "      <th>2</th>\n",
       "      <td>@FREDYGUERRAHERR @adelve3 @ClaudiaLopez @Trans...</td>\n",
       "      <td>1</td>\n",
       "    </tr>\n",
       "    <tr>\n",
       "      <th>3</th>\n",
       "      <td>@luciabastidasu @TransMilenio Pero esto esta p...</td>\n",
       "      <td>2</td>\n",
       "    </tr>\n",
       "    <tr>\n",
       "      <th>4</th>\n",
       "      <td>Lo del bus de TM y la marihuana no esta nada b...</td>\n",
       "      <td>2</td>\n",
       "    </tr>\n",
       "  </tbody>\n",
       "</table>\n",
       "</div>"
      ],
      "text/plain": [
       "                                               Tweet  Sentiment\n",
       "0  Comparto nuestro aliado estrategico para la Es...          5\n",
       "1  @FREDYGUERRAHERR @consigliererojo @ClaudiaLope...          3\n",
       "2  @FREDYGUERRAHERR @adelve3 @ClaudiaLopez @Trans...          1\n",
       "3  @luciabastidasu @TransMilenio Pero esto esta p...          2\n",
       "4  Lo del bus de TM y la marihuana no esta nada b...          2"
      ]
     },
     "execution_count": 1,
     "metadata": {},
     "output_type": "execute_result"
    }
   ],
   "source": [
    "import nltk\n",
    "import pandas as pd\n",
    "import matplotlib.pyplot as plt\n",
    "import numpy as np\n",
    "import re\n",
    "import unicodedata2\n",
    "import math\n",
    "import string\n",
    "import tokenize\n",
    "import sklearn\n",
    "from nltk.tokenize import sent_tokenize\n",
    "from nltk.tokenize import word_tokenize\n",
    "from nltk.tokenize import wordpunct_tokenize\n",
    "from nltk.probability import FreqDist\n",
    "from nltk.corpus import stopwords\n",
    "from nltk.stem import PorterStemmer\n",
    "from nltk.stem.wordnet import WordNetLemmatizer\n",
    "from nltk.stem.porter import PorterStemmer\n",
    "from sklearn.model_selection import train_test_split\n",
    "from sklearn.feature_extraction.text import CountVectorizer\n",
    "from sklearn.feature_extraction.text import TfidfVectorizer\n",
    "from nltk.tokenize import RegexpTokenizer\n",
    "from nltk.tokenize import sent_tokenize\n",
    "from sklearn import metrics\n",
    "from sklearn.metrics.pairwise import linear_kernel\n",
    "from sklearn.metrics.pairwise import polynomial_kernel\n",
    "from sklearn.naive_bayes import MultinomialNB\n",
    "from string import digits\n",
    "from xml.dom import minidom\n",
    "from unidecode import unidecode\n",
    "from nltk.stem.snowball import SnowballStemmer\n",
    "from string import punctuation\n",
    "from nltk.classify.scikitlearn import SklearnClassifier\n",
    "from sklearn.naive_bayes import MultinomialNB,BernoulliNB\n",
    "from sklearn.linear_model import LogisticRegression,SGDClassifier\n",
    "from sklearn.svm import SVC\n",
    "\n",
    "stop_words = stopwords.words('spanish')\n",
    "newStopWords = ['dr','dra','etc','bn','ud','u','ag','si','no','rt','q','m','bb','tan','aun','cr','tal','segun','w','lab','aca','wew','av','ah','cll','km','tm','ht','mk','xs','xxl','xl','xxx','reee','nls','kr']\n",
    "stop_words.extend(newStopWords)\n",
    "data=pd.read_csv(\"ScoreV0_int.csv\")\n",
    "sbEsp = SnowballStemmer('spanish')\n",
    "data.head()"
   ]
  },
  {
   "cell_type": "code",
   "execution_count": 2,
   "metadata": {},
   "outputs": [
    {
     "data": {
      "text/plain": [
       "2    1103\n",
       "3     528\n",
       "4     210\n",
       "1      57\n",
       "5      38\n",
       "Name: Sentiment, dtype: int64"
      ]
     },
     "execution_count": 2,
     "metadata": {},
     "output_type": "execute_result"
    }
   ],
   "source": [
    "data.Sentiment.value_counts()"
   ]
  },
  {
   "cell_type": "code",
   "execution_count": 3,
   "metadata": {},
   "outputs": [
    {
     "data": {
      "image/png": "[encoded data removed]",
      "text/plain": [
       "<Figure size 432x288 with 1 Axes>"
      ]
     },
     "metadata": {
      "needs_background": "light"
     },
     "output_type": "display_data"
    }
   ],
   "source": [
    "Sentiment_count=data.groupby('Sentiment').count()\n",
    "fig, ax = plt.subplots()\n",
    "plt.bar(Sentiment_count.index.values, Sentiment_count['Tweet'])\n",
    "ax.set(xlabel='Score', ylabel='# Tweets',\n",
    "       title='Goal Standard Distribution')\n",
    "fig.savefig(\"distGoldStandard.png\")\n",
    "plt.show()\n"
   ]
  },
  {
   "cell_type": "code",
   "execution_count": 4,
   "metadata": {},
   "outputs": [
    {
     "data": {
      "text/html": [
       "<div>\n",
       "<style scoped>\n",
       "    .dataframe tbody tr th:only-of-type {\n",
       "        vertical-align: middle;\n",
       "    }\n",
       "\n",
       "    .dataframe tbody tr th {\n",
       "        vertical-align: top;\n",
       "    }\n",
       "\n",
       "    .dataframe thead th {\n",
       "        text-align: right;\n",
       "    }\n",
       "</style>\n",
       "<table border=\"1\" class=\"dataframe\">\n",
       "  <thead>\n",
       "    <tr style=\"text-align: right;\">\n",
       "      <th></th>\n",
       "      <th>Tweet</th>\n",
       "      <th>Sentiment</th>\n",
       "    </tr>\n",
       "  </thead>\n",
       "  <tbody>\n",
       "    <tr>\n",
       "      <th>0</th>\n",
       "      <td>comparto nuestro aliado estrategico para la es...</td>\n",
       "      <td>5</td>\n",
       "    </tr>\n",
       "    <tr>\n",
       "      <th>1</th>\n",
       "      <td>si se permite esto se acaba la seguridad en bo...</td>\n",
       "      <td>3</td>\n",
       "    </tr>\n",
       "    <tr>\n",
       "      <th>2</th>\n",
       "      <td>que hpta desorden de ciudad ya aqui todos hace...</td>\n",
       "      <td>1</td>\n",
       "    </tr>\n",
       "    <tr>\n",
       "      <th>3</th>\n",
       "      <td>pero esto esta prohibido normas de convivencia...</td>\n",
       "      <td>2</td>\n",
       "    </tr>\n",
       "    <tr>\n",
       "      <th>4</th>\n",
       "      <td>lo del bus de tm y la marihuana no esta nada b...</td>\n",
       "      <td>2</td>\n",
       "    </tr>\n",
       "  </tbody>\n",
       "</table>\n",
       "</div>"
      ],
      "text/plain": [
       "                                               Tweet  Sentiment\n",
       "0  comparto nuestro aliado estrategico para la es...          5\n",
       "1  si se permite esto se acaba la seguridad en bo...          3\n",
       "2  que hpta desorden de ciudad ya aqui todos hace...          1\n",
       "3  pero esto esta prohibido normas de convivencia...          2\n",
       "4  lo del bus de tm y la marihuana no esta nada b...          2"
      ]
     },
     "execution_count": 4,
     "metadata": {},
     "output_type": "execute_result"
    }
   ],
   "source": [
    "def strip_links(text):\n",
    "    text = text.lower()\n",
    "    link_regex    = re.compile('((https?):((//)|(\\\\\\\\))+([\\w\\d:#@%/;$()~_?\\+-=\\\\\\.&](#!)?)*)', re.DOTALL)\n",
    "    links         = re.findall(link_regex, text)\n",
    "    for link in links:\n",
    "        text = text.replace(link[0], ', ')   \n",
    "    return text\n",
    "\n",
    "# Eliminación de Hashtags y menciones\n",
    "def strip_all_entities(text):\n",
    "    entity_prefixes = ['@','#']\n",
    "    for separator in  string.punctuation:\n",
    "        if separator not in entity_prefixes :\n",
    "            text = text.replace(separator,' ')\n",
    "    words = []\n",
    "    for word in text.split():\n",
    "        word = word.strip()\n",
    "        if word:\n",
    "            if word[0] not in entity_prefixes:\n",
    "                words.append(word)\n",
    "    return ' '.join(words)\n",
    "\n",
    "# Eliminación de puntuacion, numeros y conversión del texto a minúsculas\n",
    "def remove_punctuations(text):\n",
    "    for punctuation in string.punctuation:\n",
    "        text = text.replace(punctuation, '')\n",
    "    for digits in string.digits:\n",
    "        text = text.replace(digits,'')\n",
    "    text = text.lower()\n",
    "    return text\n",
    "\n",
    "def remove_punct(strin):\n",
    "    strin = strin.translate(str.maketrans('','',string.punctuation));\n",
    "    strin = strin.translate(str.maketrans('','',string.digits));\n",
    "    return strin;\n",
    "\n",
    "#Normalizar: eliminar diéresis, acentos, y otros caracteres similares.\n",
    "def normunicode_data(strin):\n",
    "    #print(strin)\n",
    "    return unicodedata2.normalize('NFKD', strin).encode('ASCII', 'ignore').decode(\"utf-8\").lower()\n",
    "\n",
    "def proc_str(strin):\n",
    "    return remove_punct(normunicode_data(strin));\n",
    "\n",
    "def tok_cln(text):\n",
    "    return set(nltk.wordpunct_tokenize(text)).difference(stop_words) #(este es el original)\n",
    "\n",
    "def preprocessing(text):\n",
    "    text= text.apply(strip_links)\n",
    "    text= text.apply(strip_all_entities)\n",
    "    text= text.apply(remove_punctuations)\n",
    "    text = text.apply(normunicode_data)\n",
    "    return text\n",
    "\n",
    "data.Tweet=preprocessing(data[\"Tweet\"])\n",
    "data.head()"
   ]
  },
  {
   "cell_type": "code",
   "execution_count": 5,
   "metadata": {},
   "outputs": [],
   "source": [
    "def stemm_data(strin):\n",
    "    stemmer = SnowballStemmer(\"spanish\");\n",
    "    return stemmer.stem(strin)  "
   ]
  },
  {
   "cell_type": "code",
   "execution_count": 6,
   "metadata": {},
   "outputs": [
    {
     "data": {
      "image/png": "[encoded data removed]",
      "text/plain": [
       "<Figure size 720x288 with 1 Axes>"
      ]
     },
     "metadata": {
      "needs_background": "light"
     },
     "output_type": "display_data"
    }
   ],
   "source": [
    "def proc_string(strin,setData):\n",
    "    resp = set([]);\n",
    "    for data in tok_cln(proc_str(strin)):\n",
    "        #tm  = stemm_data(data)\n",
    "        tm = data\n",
    "        resp.add(tm)\n",
    "        if tm in setData:\n",
    "            setData[tm].add(data)\n",
    "        else:\n",
    "            setData[tm] = set([data])\n",
    "    return ', '.join(resp);\n",
    "\n",
    "def freq_dist_tok(strin):\n",
    "    token_clear = strin.apply(tok_cln)\n",
    "    out = [item for t in token_clear for item in t] \n",
    "    fig = plt.figure(figsize = (10,4))\n",
    "    plt.gcf().subplots_adjust(bottom=0.15)\n",
    "    fdist = FreqDist(out)\n",
    "    fdist.plot(40,cumulative=False)\n",
    "    return fig.savefig('freqDist.png', bbox_inches = \"tight\")\n",
    "\n",
    "freq_dist_tok(data.Tweet)"
   ]
  },
  {
   "cell_type": "code",
   "execution_count": 7,
   "metadata": {},
   "outputs": [],
   "source": [
    "def df2tdm(df,titleColumn,setData):\n",
    "    listData = [];\n",
    "    for idx in data.index:        \n",
    "        listData.append(proc_string(data[titleColumn][idx],setData));\n",
    "    return listData;\n",
    "\n",
    "def getDictionary_BOW(dfpp): \n",
    "    setData = {}\n",
    "    stinProc = df2tdm(dfpp,'Tweet',setData);\n",
    "    cv =  CountVectorizer();    \n",
    "    cv_fit = cv.fit_transform(stinProc);       \n",
    "    cvCount =  CountVectorizer(cv.vocabulary_);\n",
    "    # computes the vectorial representation of the CIE10    \n",
    "    cv_fitCount = cvCount.fit_transform(stinProc);        \n",
    "    features = cvCount.get_feature_names();    \n",
    "    return cv,cv_fitCount,features,setData\n",
    "\n",
    "def getDictionary_TFIDF(dfpp): \n",
    "    setData = {}\n",
    "    stinProc = df2tdm(dfpp,'Tweet',setData);\n",
    "    cv =  TfidfVectorizer();    \n",
    "    cv_fit = cv.fit_transform(stinProc);       \n",
    "    cvCount =  TfidfVectorizer(cv.vocabulary_);\n",
    "    # computes the vectorial representation of the CIE10    \n",
    "    cv_fitCount = cvCount.fit_transform(stinProc);        \n",
    "    features = cvCount.get_feature_names();    \n",
    "    return cv,cv_fitCount,features,setData\n",
    "\n",
    "dfpp = data['Sentiment']\n",
    "BOW_cvQuery_fit,BOW_cv_fitCount,BOW_features,BOW_origTerms = getDictionary_BOW(dfpp)\n",
    "TFIDF_cvQuery_fit,TFIDF_cv_fitCount,TFIDF_features,TFIDF_origTerms = getDictionary_TFIDF(dfpp)"
   ]
  },
  {
   "cell_type": "code",
   "execution_count": 13,
   "metadata": {},
   "outputs": [],
   "source": [
    "from sklearn.model_selection import LeaveOneOut\n",
    "from sklearn import model_selection\n",
    "from sklearn.model_selection import cross_validate\n",
    "from sklearn.model_selection import cross_val_score\n",
    "from sklearn.metrics import make_scorer\n",
    "from sklearn.metrics import confusion_matrix\n",
    "import seaborn as sns\n",
    "from sklearn.metrics import make_scorer, accuracy_score, precision_score, recall_score, f1_score\n",
    "from sklearn.model_selection import KFold\n",
    "\n",
    "#kf = KFold(n_splits=30) # Define the split - into folds \n",
    "kf = KFold(n_splits=30, random_state=None, shuffle=False)\n",
    "def kfold_metrics(model,X,y):\n",
    "    accuracy_metr=[]\n",
    "    precision_metr=[]\n",
    "    f1_metr=[]\n",
    "    recall_metr=[]\n",
    "    for train_index, test_index in kf.split(X):\n",
    "        X_train, X_test = X[train_index], X[test_index]\n",
    "        y_train, y_test = y[train_index], y[test_index]\n",
    "        clf = model.fit(X_train, y_train)\n",
    "        predicted= clf.predict(X_test)\n",
    "        acc=metrics.accuracy_score(y_test, predicted)\n",
    "        prec=metrics.precision_score(y_test, predicted,average='weighted', zero_division=1)\n",
    "        f1sc=metrics.f1_score(y_test, predicted, average='weighted')\n",
    "        rec=metrics.recall_score(y_test, predicted,average='weighted',zero_division=1)\n",
    "        accuracy_metr.append(acc)\n",
    "        precision_metr.append(prec)\n",
    "        f1_metr.append(f1sc)\n",
    "        recall_metr.append(rec)\n",
    "    return accuracy_metr,precision_metr,f1_metr,recall_metr\n",
    "\n"
   ]
  },
  {
   "cell_type": "code",
   "execution_count": 14,
   "metadata": {},
   "outputs": [],
   "source": [
    "acc_BOW_MNB,prec_BOW_MNB,f1_BOW_MNB,recall_BOW_MNB=kfold_metrics(MultinomialNB(),BOW_cv_fitCount,data['Sentiment']);\n",
    "acc_TFIDF_MNB,prec_TFIDF_MNB,f1_TFIDF_MNB,recall_TFIDF_MNB=kfold_metrics(MultinomialNB(),TFIDF_cv_fitCount,data['Sentiment']);"
   ]
  },
  {
   "cell_type": "code",
   "execution_count": 19,
   "metadata": {},
   "outputs": [],
   "source": [
    "acc_BOW_LR,prec_BOW_LR,f1_BOW_LR,recall_BOW_LR=kfold_metrics(LogisticRegression(solver = 'liblinear', multi_class = 'ovr'),BOW_cv_fitCount,data['Sentiment']);\n",
    "acc_TFIDF_LR,prec_TFIDF_LR,f1_TFIDF_LR,recall_TFIDF_LR=kfold_metrics(LogisticRegression(solver = 'liblinear', multi_class = 'ovr'),TFIDF_cv_fitCount,data['Sentiment']);"
   ]
  },
  {
   "cell_type": "code",
   "execution_count": 20,
   "metadata": {},
   "outputs": [],
   "source": [
    "acc_BOW_BNB,prec_BOW_BNB,f1_BOW_BNB,recall_BOW_BNB=kfold_metrics(BernoulliNB(),BOW_cv_fitCount,data['Sentiment']);\n",
    "acc_TFIDF_BNB,prec_TFIDF_BNB,f1_TFIDF_BNB,recall_TFIDF_BNB=kfold_metrics(BernoulliNB(),TFIDF_cv_fitCount,data['Sentiment']);"
   ]
  },
  {
   "cell_type": "code",
   "execution_count": 22,
   "metadata": {},
   "outputs": [],
   "source": [
    "acc_BOW_SGD,prec_BOW_SGD,f1_BOW_SGD,recall_BOW_SGD=kfold_metrics(SGDClassifier(loss=\"log\", max_iter=7),BOW_cv_fitCount,data['Sentiment']);\n",
    "acc_TFIDF_SGD,prec_TFIDF_SGD,f1_TFIDF_SGD,recall_TFIDF_SGD=kfold_metrics(SGDClassifier(loss=\"log\", max_iter=7),TFIDF_cv_fitCount,data['Sentiment']);"
   ]
  },
  {
   "cell_type": "code",
   "execution_count": 23,
   "metadata": {},
   "outputs": [
    {
     "data": {
      "application/vnd.plotly.v1+json": {
       "config": {
        "plotlyServerURL": "https://plot.ly"
       },
       "data": [
        {
         "line": {
          "color": "blue"
         },
         "meanline": {
          "visible": true
         },
         "name": "BOW",
         "scalegroup": "BOW",
         "side": "negative",
         "type": "violin",
         "x0": "Accuracy",
         "y": [
          0.5538461538461539,
          0.46153846153846156,
          0.5692307692307692,
          0.4153846153846154,
          0.35384615384615387,
          0.6,
          0.5230769230769231,
          0.38461538461538464,
          0.5692307692307692,
          0.3230769230769231,
          0.5846153846153846,
          0.5538461538461539,
          0.6923076923076923,
          0.5846153846153846,
          0.6,
          0.7076923076923077,
          0.578125,
          0.703125,
          0.65625,
          0.734375,
          0.640625,
          0.671875,
          0.59375,
          0.59375,
          0.5625,
          0.5625,
          0.546875,
          0.609375,
          0.484375,
          0.3125
         ]
        },
        {
         "line": {
          "color": "orange"
         },
         "meanline": {
          "visible": true
         },
         "name": "TFIDF",
         "scalegroup": "TFIDF",
         "side": "positive",
         "type": "violin",
         "x0": "Accuracy",
         "y": [
          0.47692307692307695,
          0.4307692307692308,
          0.5076923076923077,
          0.36923076923076925,
          0.36923076923076925,
          0.5384615384615384,
          0.5230769230769231,
          0.4461538461538462,
          0.6,
          0.35384615384615387,
          0.5230769230769231,
          0.6923076923076923,
          0.7076923076923077,
          0.6615384615384615,
          0.7384615384615385,
          0.6923076923076923,
          0.65625,
          0.671875,
          0.75,
          0.6875,
          0.6875,
          0.6875,
          0.75,
          0.703125,
          0.515625,
          0.671875,
          0.546875,
          0.53125,
          0.5,
          0.28125
         ]
        },
        {
         "line": {
          "color": "blue"
         },
         "meanline": {
          "visible": true
         },
         "name": "BOW",
         "scalegroup": "BOW",
         "side": "negative",
         "type": "violin",
         "x0": "Precision",
         "y": [
          0.5827769714562167,
          0.4483516483516484,
          0.5993418346359524,
          0.45282051282051283,
          0.40063829787234045,
          0.6814102564102564,
          0.5076923076923077,
          0.5131811922093252,
          0.6101170568561872,
          0.35705576474807244,
          0.6100840336134454,
          0.6486587771203155,
          0.6966153846153846,
          0.5589743589743589,
          0.6424708720261088,
          0.7078402366863905,
          0.565222537878788,
          0.6450407608695652,
          0.6979166666666666,
          0.7620888157894736,
          0.6606749661246613,
          0.6832540760869565,
          0.6091145833333332,
          0.6180186170212766,
          0.5791412601626017,
          0.6323784722222222,
          0.570374503968254,
          0.6280262706043956,
          0.47619047619047616,
          0.40087728405315615
         ]
        },
        {
         "line": {
          "color": "orange"
         },
         "meanline": {
          "visible": true
         },
         "name": "TFIDF",
         "scalegroup": "TFIDF",
         "side": "positive",
         "type": "violin",
         "x0": "Precision",
         "y": [
          0.49254807692307695,
          0.754792899408284,
          0.7500591715976331,
          0.7671005917159763,
          0.7671005917159763,
          0.7514792899408285,
          0.4976800976800977,
          0.4790865384615385,
          0.76,
          0.45434243176178657,
          0.7540865384615385,
          0.7899877899877901,
          0.7931360946745563,
          0.6837882547559967,
          0.8101736972704715,
          0.5790865384615385,
          0.7744140625,
          0.78125,
          0.8125,
          0.78515625,
          0.7867063492063493,
          0.78515625,
          0.8134920634920635,
          0.791259765625,
          0.750244140625,
          0.779541015625,
          0.752197265625,
          0.7509765625,
          0.48834325396825395,
          0.7978515625
         ]
        },
        {
         "line": {
          "color": "blue"
         },
         "meanline": {
          "visible": true
         },
         "name": "BOW",
         "scalegroup": "BOW",
         "side": "negative",
         "type": "violin",
         "x0": "F1",
         "y": [
          0.452416479841229,
          0.4009324009324009,
          0.5139485514485514,
          0.3623188405797102,
          0.29004495585360085,
          0.5289940828402369,
          0.46562070043777365,
          0.33482783882783884,
          0.537134238310709,
          0.2577644411102776,
          0.5451571334648259,
          0.566078054367106,
          0.6784657650042265,
          0.559081368070132,
          0.6169883862907118,
          0.6916827497472658,
          0.5711167375177127,
          0.6728143328445747,
          0.6664402173913043,
          0.7428008365508366,
          0.6495681605975724,
          0.6640190972222222,
          0.5976003681626929,
          0.5732725155279503,
          0.5310964373464373,
          0.5843996676360614,
          0.5341210725893825,
          0.5901498538011696,
          0.44711203138622496,
          0.262019662039425
         ]
        },
        {
         "line": {
          "color": "orange"
         },
         "meanline": {
          "visible": true
         },
         "name": "TFIDF",
         "scalegroup": "TFIDF",
         "side": "positive",
         "type": "violin",
         "x0": "F1",
         "y": [
          0.311255060728745,
          0.2593879239040529,
          0.3419152276295133,
          0.19913569576490925,
          0.19913569576490925,
          0.37692307692307697,
          0.3666931007137193,
          0.2782464846980976,
          0.44999999999999996,
          0.19149321266968322,
          0.3746708961141951,
          0.5887908898068551,
          0.5865557865557866,
          0.5556775010552976,
          0.6614357605011811,
          0.5716302046577276,
          0.5200471698113208,
          0.554296875,
          0.6428571428571428,
          0.5601851851851851,
          0.5745178967813541,
          0.5601851851851851,
          0.6569685828877005,
          0.5805619266055047,
          0.3508376288659794,
          0.5400116822429907,
          0.38667929292929293,
          0.36862244897959184,
          0.3368421052631579,
          0.12347560975609756
         ]
        },
        {
         "line": {
          "color": "blue"
         },
         "meanline": {
          "visible": true
         },
         "name": "BOW",
         "scalegroup": "BOW",
         "side": "negative",
         "type": "violin",
         "x0": "Recall",
         "y": [
          0.5538461538461539,
          0.46153846153846156,
          0.5692307692307692,
          0.4153846153846154,
          0.35384615384615387,
          0.6,
          0.5230769230769231,
          0.38461538461538464,
          0.5692307692307692,
          0.3230769230769231,
          0.5846153846153846,
          0.5538461538461539,
          0.6923076923076923,
          0.5846153846153846,
          0.6,
          0.7076923076923077,
          0.578125,
          0.703125,
          0.65625,
          0.734375,
          0.640625,
          0.671875,
          0.59375,
          0.59375,
          0.5625,
          0.5625,
          0.546875,
          0.609375,
          0.484375,
          0.3125
         ]
        },
        {
         "line": {
          "color": "orange"
         },
         "meanline": {
          "visible": true
         },
         "name": "TFIDF",
         "side": "positive",
         "type": "violin",
         "x0": "Recall",
         "y": [
          0.47692307692307695,
          0.4307692307692308,
          0.5076923076923077,
          0.36923076923076925,
          0.36923076923076925,
          0.5384615384615384,
          0.5230769230769231,
          0.4461538461538462,
          0.6,
          0.35384615384615387,
          0.5230769230769231,
          0.6923076923076923,
          0.7076923076923077,
          0.6615384615384615,
          0.7384615384615385,
          0.6923076923076923,
          0.65625,
          0.671875,
          0.75,
          0.6875,
          0.6875,
          0.6875,
          0.75,
          0.703125,
          0.515625,
          0.671875,
          0.546875,
          0.53125,
          0.5,
          0.28125
         ]
        }
       ],
       "layout": {
        "template": {
         "data": {
          "bar": [
           {
            "error_x": {
             "color": "#2a3f5f"
            },
            "error_y": {
             "color": "#2a3f5f"
            },
            "marker": {
             "line": {
              "color": "#E5ECF6",
              "width": 0.5
             }
            },
            "type": "bar"
           }
          ],
          "barpolar": [
           {
            "marker": {
             "line": {
              "color": "#E5ECF6",
              "width": 0.5
             }
            },
            "type": "barpolar"
           }
          ],
          "carpet": [
           {
            "aaxis": {
             "endlinecolor": "#2a3f5f",
             "gridcolor": "white",
             "linecolor": "white",
             "minorgridcolor": "white",
             "startlinecolor": "#2a3f5f"
            },
            "baxis": {
             "endlinecolor": "#2a3f5f",
             "gridcolor": "white",
             "linecolor": "white",
             "minorgridcolor": "white",
             "startlinecolor": "#2a3f5f"
            },
            "type": "carpet"
           }
          ],
          "choropleth": [
           {
            "colorbar": {
             "outlinewidth": 0,
             "ticks": ""
            },
            "type": "choropleth"
           }
          ],
          "contour": [
           {
            "colorbar": {
             "outlinewidth": 0,
             "ticks": ""
            },
            "colorscale": [
             [
              0,
              "#0d0887"
             ],
             [
              0.1111111111111111,
              "#46039f"
             ],
             [
              0.2222222222222222,
              "#7201a8"
             ],
             [
              0.3333333333333333,
              "#9c179e"
             ],
             [
              0.4444444444444444,
              "#bd3786"
             ],
             [
              0.5555555555555556,
              "#d8576b"
             ],
             [
              0.6666666666666666,
              "#ed7953"
             ],
             [
              0.7777777777777778,
              "#fb9f3a"
             ],
             [
              0.8888888888888888,
              "#fdca26"
             ],
             [
              1,
              "#f0f921"
             ]
            ],
            "type": "contour"
           }
          ],
          "contourcarpet": [
           {
            "colorbar": {
             "outlinewidth": 0,
             "ticks": ""
            },
            "type": "contourcarpet"
           }
          ],
          "heatmap": [
           {
            "colorbar": {
             "outlinewidth": 0,
             "ticks": ""
            },
            "colorscale": [
             [
              0,
              "#0d0887"
             ],
             [
              0.1111111111111111,
              "#46039f"
             ],
             [
              0.2222222222222222,
              "#7201a8"
             ],
             [
              0.3333333333333333,
              "#9c179e"
             ],
             [
              0.4444444444444444,
              "#bd3786"
             ],
             [
              0.5555555555555556,
              "#d8576b"
             ],
             [
              0.6666666666666666,
              "#ed7953"
             ],
             [
              0.7777777777777778,
              "#fb9f3a"
             ],
             [
              0.8888888888888888,
              "#fdca26"
             ],
             [
              1,
              "#f0f921"
             ]
            ],
            "type": "heatmap"
           }
          ],
          "heatmapgl": [
           {
            "colorbar": {
             "outlinewidth": 0,
             "ticks": ""
            },
            "colorscale": [
             [
              0,
              "#0d0887"
             ],
             [
              0.1111111111111111,
              "#46039f"
             ],
             [
              0.2222222222222222,
              "#7201a8"
             ],
             [
              0.3333333333333333,
              "#9c179e"
             ],
             [
              0.4444444444444444,
              "#bd3786"
             ],
             [
              0.5555555555555556,
              "#d8576b"
             ],
             [
              0.6666666666666666,
              "#ed7953"
             ],
             [
              0.7777777777777778,
              "#fb9f3a"
             ],
             [
              0.8888888888888888,
              "#fdca26"
             ],
             [
              1,
              "#f0f921"
             ]
            ],
            "type": "heatmapgl"
           }
          ],
          "histogram": [
           {
            "marker": {
             "colorbar": {
              "outlinewidth": 0,
              "ticks": ""
             }
            },
            "type": "histogram"
           }
          ],
          "histogram2d": [
           {
            "colorbar": {
             "outlinewidth": 0,
             "ticks": ""
            },
            "colorscale": [
             [
              0,
              "#0d0887"
             ],
             [
              0.1111111111111111,
              "#46039f"
             ],
             [
              0.2222222222222222,
              "#7201a8"
             ],
             [
              0.3333333333333333,
              "#9c179e"
             ],
             [
              0.4444444444444444,
              "#bd3786"
             ],
             [
              0.5555555555555556,
              "#d8576b"
             ],
             [
              0.6666666666666666,
              "#ed7953"
             ],
             [
              0.7777777777777778,
              "#fb9f3a"
             ],
             [
              0.8888888888888888,
              "#fdca26"
             ],
             [
              1,
              "#f0f921"
             ]
            ],
            "type": "histogram2d"
           }
          ],
          "histogram2dcontour": [
           {
            "colorbar": {
             "outlinewidth": 0,
             "ticks": ""
            },
            "colorscale": [
             [
              0,
              "#0d0887"
             ],
             [
              0.1111111111111111,
              "#46039f"
             ],
             [
              0.2222222222222222,
              "#7201a8"
             ],
             [
              0.3333333333333333,
              "#9c179e"
             ],
             [
              0.4444444444444444,
              "#bd3786"
             ],
             [
              0.5555555555555556,
              "#d8576b"
             ],
             [
              0.6666666666666666,
              "#ed7953"
             ],
             [
              0.7777777777777778,
              "#fb9f3a"
             ],
             [
              0.8888888888888888,
              "#fdca26"
             ],
             [
              1,
              "#f0f921"
             ]
            ],
            "type": "histogram2dcontour"
           }
          ],
          "mesh3d": [
           {
            "colorbar": {
             "outlinewidth": 0,
             "ticks": ""
            },
            "type": "mesh3d"
           }
          ],
          "parcoords": [
           {
            "line": {
             "colorbar": {
              "outlinewidth": 0,
              "ticks": ""
             }
            },
            "type": "parcoords"
           }
          ],
          "pie": [
           {
            "automargin": true,
            "type": "pie"
           }
          ],
          "scatter": [
           {
            "marker": {
             "colorbar": {
              "outlinewidth": 0,
              "ticks": ""
             }
            },
            "type": "scatter"
           }
          ],
          "scatter3d": [
           {
            "line": {
             "colorbar": {
              "outlinewidth": 0,
              "ticks": ""
             }
            },
            "marker": {
             "colorbar": {
              "outlinewidth": 0,
              "ticks": ""
             }
            },
            "type": "scatter3d"
           }
          ],
          "scattercarpet": [
           {
            "marker": {
             "colorbar": {
              "outlinewidth": 0,
              "ticks": ""
             }
            },
            "type": "scattercarpet"
           }
          ],
          "scattergeo": [
           {
            "marker": {
             "colorbar": {
              "outlinewidth": 0,
              "ticks": ""
             }
            },
            "type": "scattergeo"
           }
          ],
          "scattergl": [
           {
            "marker": {
             "colorbar": {
              "outlinewidth": 0,
              "ticks": ""
             }
            },
            "type": "scattergl"
           }
          ],
          "scattermapbox": [
           {
            "marker": {
             "colorbar": {
              "outlinewidth": 0,
              "ticks": ""
             }
            },
            "type": "scattermapbox"
           }
          ],
          "scatterpolar": [
           {
            "marker": {
             "colorbar": {
              "outlinewidth": 0,
              "ticks": ""
             }
            },
            "type": "scatterpolar"
           }
          ],
          "scatterpolargl": [
           {
            "marker": {
             "colorbar": {
              "outlinewidth": 0,
              "ticks": ""
             }
            },
            "type": "scatterpolargl"
           }
          ],
          "scatterternary": [
           {
            "marker": {
             "colorbar": {
              "outlinewidth": 0,
              "ticks": ""
             }
            },
            "type": "scatterternary"
           }
          ],
          "surface": [
           {
            "colorbar": {
             "outlinewidth": 0,
             "ticks": ""
            },
            "colorscale": [
             [
              0,
              "#0d0887"
             ],
             [
              0.1111111111111111,
              "#46039f"
             ],
             [
              0.2222222222222222,
              "#7201a8"
             ],
             [
              0.3333333333333333,
              "#9c179e"
             ],
             [
              0.4444444444444444,
              "#bd3786"
             ],
             [
              0.5555555555555556,
              "#d8576b"
             ],
             [
              0.6666666666666666,
              "#ed7953"
             ],
             [
              0.7777777777777778,
              "#fb9f3a"
             ],
             [
              0.8888888888888888,
              "#fdca26"
             ],
             [
              1,
              "#f0f921"
             ]
            ],
            "type": "surface"
           }
          ],
          "table": [
           {
            "cells": {
             "fill": {
              "color": "#EBF0F8"
             },
             "line": {
              "color": "white"
             }
            },
            "header": {
             "fill": {
              "color": "#C8D4E3"
             },
             "line": {
              "color": "white"
             }
            },
            "type": "table"
           }
          ]
         },
         "layout": {
          "annotationdefaults": {
           "arrowcolor": "#2a3f5f",
           "arrowhead": 0,
           "arrowwidth": 1
          },
          "coloraxis": {
           "colorbar": {
            "outlinewidth": 0,
            "ticks": ""
           }
          },
          "colorscale": {
           "diverging": [
            [
             0,
             "#8e0152"
            ],
            [
             0.1,
             "#c51b7d"
            ],
            [
             0.2,
             "#de77ae"
            ],
            [
             0.3,
             "#f1b6da"
            ],
            [
             0.4,
             "#fde0ef"
            ],
            [
             0.5,
             "#f7f7f7"
            ],
            [
             0.6,
             "#e6f5d0"
            ],
            [
             0.7,
             "#b8e186"
            ],
            [
             0.8,
             "#7fbc41"
            ],
            [
             0.9,
             "#4d9221"
            ],
            [
             1,
             "#276419"
            ]
           ],
           "sequential": [
            [
             0,
             "#0d0887"
            ],
            [
             0.1111111111111111,
             "#46039f"
            ],
            [
             0.2222222222222222,
             "#7201a8"
            ],
            [
             0.3333333333333333,
             "#9c179e"
            ],
            [
             0.4444444444444444,
             "#bd3786"
            ],
            [
             0.5555555555555556,
             "#d8576b"
            ],
            [
             0.6666666666666666,
             "#ed7953"
            ],
            [
             0.7777777777777778,
             "#fb9f3a"
            ],
            [
             0.8888888888888888,
             "#fdca26"
            ],
            [
             1,
             "#f0f921"
            ]
           ],
           "sequentialminus": [
            [
             0,
             "#0d0887"
            ],
            [
             0.1111111111111111,
             "#46039f"
            ],
            [
             0.2222222222222222,
             "#7201a8"
            ],
            [
             0.3333333333333333,
             "#9c179e"
            ],
            [
             0.4444444444444444,
             "#bd3786"
            ],
            [
             0.5555555555555556,
             "#d8576b"
            ],
            [
             0.6666666666666666,
             "#ed7953"
            ],
            [
             0.7777777777777778,
             "#fb9f3a"
            ],
            [
             0.8888888888888888,
             "#fdca26"
            ],
            [
             1,
             "#f0f921"
            ]
           ]
          },
          "colorway": [
           "#636efa",
           "#EF553B",
           "#00cc96",
           "#ab63fa",
           "#FFA15A",
           "#19d3f3",
           "#FF6692",
           "#B6E880",
           "#FF97FF",
           "#FECB52"
          ],
          "font": {
           "color": "#2a3f5f"
          },
          "geo": {
           "bgcolor": "white",
           "lakecolor": "white",
           "landcolor": "#E5ECF6",
           "showlakes": true,
           "showland": true,
           "subunitcolor": "white"
          },
          "hoverlabel": {
           "align": "left"
          },
          "hovermode": "closest",
          "mapbox": {
           "style": "light"
          },
          "paper_bgcolor": "white",
          "plot_bgcolor": "#E5ECF6",
          "polar": {
           "angularaxis": {
            "gridcolor": "white",
            "linecolor": "white",
            "ticks": ""
           },
           "bgcolor": "#E5ECF6",
           "radialaxis": {
            "gridcolor": "white",
            "linecolor": "white",
            "ticks": ""
           }
          },
          "scene": {
           "xaxis": {
            "backgroundcolor": "#E5ECF6",
            "gridcolor": "white",
            "gridwidth": 2,
            "linecolor": "white",
            "showbackground": true,
            "ticks": "",
            "zerolinecolor": "white"
           },
           "yaxis": {
            "backgroundcolor": "#E5ECF6",
            "gridcolor": "white",
            "gridwidth": 2,
            "linecolor": "white",
            "showbackground": true,
            "ticks": "",
            "zerolinecolor": "white"
           },
           "zaxis": {
            "backgroundcolor": "#E5ECF6",
            "gridcolor": "white",
            "gridwidth": 2,
            "linecolor": "white",
            "showbackground": true,
            "ticks": "",
            "zerolinecolor": "white"
           }
          },
          "shapedefaults": {
           "line": {
            "color": "#2a3f5f"
           }
          },
          "ternary": {
           "aaxis": {
            "gridcolor": "white",
            "linecolor": "white",
            "ticks": ""
           },
           "baxis": {
            "gridcolor": "white",
            "linecolor": "white",
            "ticks": ""
           },
           "bgcolor": "#E5ECF6",
           "caxis": {
            "gridcolor": "white",
            "linecolor": "white",
            "ticks": ""
           }
          },
          "title": {
           "x": 0.05
          },
          "xaxis": {
           "automargin": true,
           "gridcolor": "white",
           "linecolor": "white",
           "ticks": "",
           "title": {
            "standoff": 15
           },
           "zerolinecolor": "white",
           "zerolinewidth": 2
          },
          "yaxis": {
           "automargin": true,
           "gridcolor": "white",
           "linecolor": "white",
           "ticks": "",
           "title": {
            "standoff": 15
           },
           "zerolinecolor": "white",
           "zerolinewidth": 2
          }
         }
        },
        "violingap": 0,
        "violinmode": "overlay"
       }
      },
      "text/html": [
       "<div>\n",
       "        \n",
       "        \n",
       "            <div id=\"49bc6be4-b2d5-4025-943b-e96ebd34f302\" class=\"plotly-graph-div\" style=\"height:525px; width:100%;\"></div>\n",
       "            <script type=\"text/javascript\">\n",
       "                require([\"plotly\"], function(Plotly) {\n",
       "                    window.PLOTLYENV=window.PLOTLYENV || {};\n",
       "                    \n",
       "                if (document.getElementById(\"49bc6be4-b2d5-4025-943b-e96ebd34f302\")) {\n",
       "                    Plotly.newPlot(\n",
       "                        '49bc6be4-b2d5-4025-943b-e96ebd34f302',\n",
       "                        [{\"line\": {\"color\": \"blue\"}, \"meanline\": {\"visible\": true}, \"name\": \"BOW\", \"scalegroup\": \"BOW\", \"side\": \"negative\", \"type\": \"violin\", \"x0\": \"Accuracy\", \"y\": [0.5538461538461539, 0.46153846153846156, 0.5692307692307692, 0.4153846153846154, 0.35384615384615387, 0.6, 0.5230769230769231, 0.38461538461538464, 0.5692307692307692, 0.3230769230769231, 0.5846153846153846, 0.5538461538461539, 0.6923076923076923, 0.5846153846153846, 0.6, 0.7076923076923077, 0.578125, 0.703125, 0.65625, 0.734375, 0.640625, 0.671875, 0.59375, 0.59375, 0.5625, 0.5625, 0.546875, 0.609375, 0.484375, 0.3125]}, {\"line\": {\"color\": \"orange\"}, \"meanline\": {\"visible\": true}, \"name\": \"TFIDF\", \"scalegroup\": \"TFIDF\", \"side\": \"positive\", \"type\": \"violin\", \"x0\": \"Accuracy\", \"y\": [0.47692307692307695, 0.4307692307692308, 0.5076923076923077, 0.36923076923076925, 0.36923076923076925, 0.5384615384615384, 0.5230769230769231, 0.4461538461538462, 0.6, 0.35384615384615387, 0.5230769230769231, 0.6923076923076923, 0.7076923076923077, 0.6615384615384615, 0.7384615384615385, 0.6923076923076923, 0.65625, 0.671875, 0.75, 0.6875, 0.6875, 0.6875, 0.75, 0.703125, 0.515625, 0.671875, 0.546875, 0.53125, 0.5, 0.28125]}, {\"line\": {\"color\": \"blue\"}, \"meanline\": {\"visible\": true}, \"name\": \"BOW\", \"scalegroup\": \"BOW\", \"side\": \"negative\", \"type\": \"violin\", \"x0\": \"Precision\", \"y\": [0.5827769714562167, 0.4483516483516484, 0.5993418346359524, 0.45282051282051283, 0.40063829787234045, 0.6814102564102564, 0.5076923076923077, 0.5131811922093252, 0.6101170568561872, 0.35705576474807244, 0.6100840336134454, 0.6486587771203155, 0.6966153846153846, 0.5589743589743589, 0.6424708720261088, 0.7078402366863905, 0.565222537878788, 0.6450407608695652, 0.6979166666666666, 0.7620888157894736, 0.6606749661246613, 0.6832540760869565, 0.6091145833333332, 0.6180186170212766, 0.5791412601626017, 0.6323784722222222, 0.570374503968254, 0.6280262706043956, 0.47619047619047616, 0.40087728405315615]}, {\"line\": {\"color\": \"orange\"}, \"meanline\": {\"visible\": true}, \"name\": \"TFIDF\", \"scalegroup\": \"TFIDF\", \"side\": \"positive\", \"type\": \"violin\", \"x0\": \"Precision\", \"y\": [0.49254807692307695, 0.754792899408284, 0.7500591715976331, 0.7671005917159763, 0.7671005917159763, 0.7514792899408285, 0.4976800976800977, 0.4790865384615385, 0.76, 0.45434243176178657, 0.7540865384615385, 0.7899877899877901, 0.7931360946745563, 0.6837882547559967, 0.8101736972704715, 0.5790865384615385, 0.7744140625, 0.78125, 0.8125, 0.78515625, 0.7867063492063493, 0.78515625, 0.8134920634920635, 0.791259765625, 0.750244140625, 0.779541015625, 0.752197265625, 0.7509765625, 0.48834325396825395, 0.7978515625]}, {\"line\": {\"color\": \"blue\"}, \"meanline\": {\"visible\": true}, \"name\": \"BOW\", \"scalegroup\": \"BOW\", \"side\": \"negative\", \"type\": \"violin\", \"x0\": \"F1\", \"y\": [0.452416479841229, 0.4009324009324009, 0.5139485514485514, 0.3623188405797102, 0.29004495585360085, 0.5289940828402369, 0.46562070043777365, 0.33482783882783884, 0.537134238310709, 0.2577644411102776, 0.5451571334648259, 0.566078054367106, 0.6784657650042265, 0.559081368070132, 0.6169883862907118, 0.6916827497472658, 0.5711167375177127, 0.6728143328445747, 0.6664402173913043, 0.7428008365508366, 0.6495681605975724, 0.6640190972222222, 0.5976003681626929, 0.5732725155279503, 0.5310964373464373, 0.5843996676360614, 0.5341210725893825, 0.5901498538011696, 0.44711203138622496, 0.262019662039425]}, {\"line\": {\"color\": \"orange\"}, \"meanline\": {\"visible\": true}, \"name\": \"TFIDF\", \"scalegroup\": \"TFIDF\", \"side\": \"positive\", \"type\": \"violin\", \"x0\": \"F1\", \"y\": [0.311255060728745, 0.2593879239040529, 0.3419152276295133, 0.19913569576490925, 0.19913569576490925, 0.37692307692307697, 0.3666931007137193, 0.2782464846980976, 0.44999999999999996, 0.19149321266968322, 0.3746708961141951, 0.5887908898068551, 0.5865557865557866, 0.5556775010552976, 0.6614357605011811, 0.5716302046577276, 0.5200471698113208, 0.554296875, 0.6428571428571428, 0.5601851851851851, 0.5745178967813541, 0.5601851851851851, 0.6569685828877005, 0.5805619266055047, 0.3508376288659794, 0.5400116822429907, 0.38667929292929293, 0.36862244897959184, 0.3368421052631579, 0.12347560975609756]}, {\"line\": {\"color\": \"blue\"}, \"meanline\": {\"visible\": true}, \"name\": \"BOW\", \"scalegroup\": \"BOW\", \"side\": \"negative\", \"type\": \"violin\", \"x0\": \"Recall\", \"y\": [0.5538461538461539, 0.46153846153846156, 0.5692307692307692, 0.4153846153846154, 0.35384615384615387, 0.6, 0.5230769230769231, 0.38461538461538464, 0.5692307692307692, 0.3230769230769231, 0.5846153846153846, 0.5538461538461539, 0.6923076923076923, 0.5846153846153846, 0.6, 0.7076923076923077, 0.578125, 0.703125, 0.65625, 0.734375, 0.640625, 0.671875, 0.59375, 0.59375, 0.5625, 0.5625, 0.546875, 0.609375, 0.484375, 0.3125]}, {\"line\": {\"color\": \"orange\"}, \"meanline\": {\"visible\": true}, \"name\": \"TFIDF\", \"side\": \"positive\", \"type\": \"violin\", \"x0\": \"Recall\", \"y\": [0.47692307692307695, 0.4307692307692308, 0.5076923076923077, 0.36923076923076925, 0.36923076923076925, 0.5384615384615384, 0.5230769230769231, 0.4461538461538462, 0.6, 0.35384615384615387, 0.5230769230769231, 0.6923076923076923, 0.7076923076923077, 0.6615384615384615, 0.7384615384615385, 0.6923076923076923, 0.65625, 0.671875, 0.75, 0.6875, 0.6875, 0.6875, 0.75, 0.703125, 0.515625, 0.671875, 0.546875, 0.53125, 0.5, 0.28125]}],\n",
       "                        {\"template\": {\"data\": {\"bar\": [{\"error_x\": {\"color\": \"#2a3f5f\"}, \"error_y\": {\"color\": \"#2a3f5f\"}, \"marker\": {\"line\": {\"color\": \"#E5ECF6\", \"width\": 0.5}}, \"type\": \"bar\"}], \"barpolar\": [{\"marker\": {\"line\": {\"color\": \"#E5ECF6\", \"width\": 0.5}}, \"type\": \"barpolar\"}], \"carpet\": [{\"aaxis\": {\"endlinecolor\": \"#2a3f5f\", \"gridcolor\": \"white\", \"linecolor\": \"white\", \"minorgridcolor\": \"white\", \"startlinecolor\": \"#2a3f5f\"}, \"baxis\": {\"endlinecolor\": \"#2a3f5f\", \"gridcolor\": \"white\", \"linecolor\": \"white\", \"minorgridcolor\": \"white\", \"startlinecolor\": \"#2a3f5f\"}, \"type\": \"carpet\"}], \"choropleth\": [{\"colorbar\": {\"outlinewidth\": 0, \"ticks\": \"\"}, \"type\": \"choropleth\"}], \"contour\": [{\"colorbar\": {\"outlinewidth\": 0, \"ticks\": \"\"}, \"colorscale\": [[0.0, \"#0d0887\"], [0.1111111111111111, \"#46039f\"], [0.2222222222222222, \"#7201a8\"], [0.3333333333333333, \"#9c179e\"], [0.4444444444444444, \"#bd3786\"], [0.5555555555555556, \"#d8576b\"], [0.6666666666666666, \"#ed7953\"], [0.7777777777777778, \"#fb9f3a\"], [0.8888888888888888, \"#fdca26\"], [1.0, \"#f0f921\"]], \"type\": \"contour\"}], \"contourcarpet\": [{\"colorbar\": {\"outlinewidth\": 0, \"ticks\": \"\"}, \"type\": \"contourcarpet\"}], \"heatmap\": [{\"colorbar\": {\"outlinewidth\": 0, \"ticks\": \"\"}, \"colorscale\": [[0.0, \"#0d0887\"], [0.1111111111111111, \"#46039f\"], [0.2222222222222222, \"#7201a8\"], [0.3333333333333333, \"#9c179e\"], [0.4444444444444444, \"#bd3786\"], [0.5555555555555556, \"#d8576b\"], [0.6666666666666666, \"#ed7953\"], [0.7777777777777778, \"#fb9f3a\"], [0.8888888888888888, \"#fdca26\"], [1.0, \"#f0f921\"]], \"type\": \"heatmap\"}], \"heatmapgl\": [{\"colorbar\": {\"outlinewidth\": 0, \"ticks\": \"\"}, \"colorscale\": [[0.0, \"#0d0887\"], [0.1111111111111111, \"#46039f\"], [0.2222222222222222, \"#7201a8\"], [0.3333333333333333, \"#9c179e\"], [0.4444444444444444, \"#bd3786\"], [0.5555555555555556, \"#d8576b\"], [0.6666666666666666, \"#ed7953\"], [0.7777777777777778, \"#fb9f3a\"], [0.8888888888888888, \"#fdca26\"], [1.0, \"#f0f921\"]], \"type\": \"heatmapgl\"}], \"histogram\": [{\"marker\": {\"colorbar\": {\"outlinewidth\": 0, \"ticks\": \"\"}}, \"type\": \"histogram\"}], \"histogram2d\": [{\"colorbar\": {\"outlinewidth\": 0, \"ticks\": \"\"}, \"colorscale\": [[0.0, \"#0d0887\"], [0.1111111111111111, \"#46039f\"], [0.2222222222222222, \"#7201a8\"], [0.3333333333333333, \"#9c179e\"], [0.4444444444444444, \"#bd3786\"], [0.5555555555555556, \"#d8576b\"], [0.6666666666666666, \"#ed7953\"], [0.7777777777777778, \"#fb9f3a\"], [0.8888888888888888, \"#fdca26\"], [1.0, \"#f0f921\"]], \"type\": \"histogram2d\"}], \"histogram2dcontour\": [{\"colorbar\": {\"outlinewidth\": 0, \"ticks\": \"\"}, \"colorscale\": [[0.0, \"#0d0887\"], [0.1111111111111111, \"#46039f\"], [0.2222222222222222, \"#7201a8\"], [0.3333333333333333, \"#9c179e\"], [0.4444444444444444, \"#bd3786\"], [0.5555555555555556, \"#d8576b\"], [0.6666666666666666, \"#ed7953\"], [0.7777777777777778, \"#fb9f3a\"], [0.8888888888888888, \"#fdca26\"], [1.0, \"#f0f921\"]], \"type\": \"histogram2dcontour\"}], \"mesh3d\": [{\"colorbar\": {\"outlinewidth\": 0, \"ticks\": \"\"}, \"type\": \"mesh3d\"}], \"parcoords\": [{\"line\": {\"colorbar\": {\"outlinewidth\": 0, \"ticks\": \"\"}}, \"type\": \"parcoords\"}], \"pie\": [{\"automargin\": true, \"type\": \"pie\"}], \"scatter\": [{\"marker\": {\"colorbar\": {\"outlinewidth\": 0, \"ticks\": \"\"}}, \"type\": \"scatter\"}], \"scatter3d\": [{\"line\": {\"colorbar\": {\"outlinewidth\": 0, \"ticks\": \"\"}}, \"marker\": {\"colorbar\": {\"outlinewidth\": 0, \"ticks\": \"\"}}, \"type\": \"scatter3d\"}], \"scattercarpet\": [{\"marker\": {\"colorbar\": {\"outlinewidth\": 0, \"ticks\": \"\"}}, \"type\": \"scattercarpet\"}], \"scattergeo\": [{\"marker\": {\"colorbar\": {\"outlinewidth\": 0, \"ticks\": \"\"}}, \"type\": \"scattergeo\"}], \"scattergl\": [{\"marker\": {\"colorbar\": {\"outlinewidth\": 0, \"ticks\": \"\"}}, \"type\": \"scattergl\"}], \"scattermapbox\": [{\"marker\": {\"colorbar\": {\"outlinewidth\": 0, \"ticks\": \"\"}}, \"type\": \"scattermapbox\"}], \"scatterpolar\": [{\"marker\": {\"colorbar\": {\"outlinewidth\": 0, \"ticks\": \"\"}}, \"type\": \"scatterpolar\"}], \"scatterpolargl\": [{\"marker\": {\"colorbar\": {\"outlinewidth\": 0, \"ticks\": \"\"}}, \"type\": \"scatterpolargl\"}], \"scatterternary\": [{\"marker\": {\"colorbar\": {\"outlinewidth\": 0, \"ticks\": \"\"}}, \"type\": \"scatterternary\"}], \"surface\": [{\"colorbar\": {\"outlinewidth\": 0, \"ticks\": \"\"}, \"colorscale\": [[0.0, \"#0d0887\"], [0.1111111111111111, \"#46039f\"], [0.2222222222222222, \"#7201a8\"], [0.3333333333333333, \"#9c179e\"], [0.4444444444444444, \"#bd3786\"], [0.5555555555555556, \"#d8576b\"], [0.6666666666666666, \"#ed7953\"], [0.7777777777777778, \"#fb9f3a\"], [0.8888888888888888, \"#fdca26\"], [1.0, \"#f0f921\"]], \"type\": \"surface\"}], \"table\": [{\"cells\": {\"fill\": {\"color\": \"#EBF0F8\"}, \"line\": {\"color\": \"white\"}}, \"header\": {\"fill\": {\"color\": \"#C8D4E3\"}, \"line\": {\"color\": \"white\"}}, \"type\": \"table\"}]}, \"layout\": {\"annotationdefaults\": {\"arrowcolor\": \"#2a3f5f\", \"arrowhead\": 0, \"arrowwidth\": 1}, \"coloraxis\": {\"colorbar\": {\"outlinewidth\": 0, \"ticks\": \"\"}}, \"colorscale\": {\"diverging\": [[0, \"#8e0152\"], [0.1, \"#c51b7d\"], [0.2, \"#de77ae\"], [0.3, \"#f1b6da\"], [0.4, \"#fde0ef\"], [0.5, \"#f7f7f7\"], [0.6, \"#e6f5d0\"], [0.7, \"#b8e186\"], [0.8, \"#7fbc41\"], [0.9, \"#4d9221\"], [1, \"#276419\"]], \"sequential\": [[0.0, \"#0d0887\"], [0.1111111111111111, \"#46039f\"], [0.2222222222222222, \"#7201a8\"], [0.3333333333333333, \"#9c179e\"], [0.4444444444444444, \"#bd3786\"], [0.5555555555555556, \"#d8576b\"], [0.6666666666666666, \"#ed7953\"], [0.7777777777777778, \"#fb9f3a\"], [0.8888888888888888, \"#fdca26\"], [1.0, \"#f0f921\"]], \"sequentialminus\": [[0.0, \"#0d0887\"], [0.1111111111111111, \"#46039f\"], [0.2222222222222222, \"#7201a8\"], [0.3333333333333333, \"#9c179e\"], [0.4444444444444444, \"#bd3786\"], [0.5555555555555556, \"#d8576b\"], [0.6666666666666666, \"#ed7953\"], [0.7777777777777778, \"#fb9f3a\"], [0.8888888888888888, \"#fdca26\"], [1.0, \"#f0f921\"]]}, \"colorway\": [\"#636efa\", \"#EF553B\", \"#00cc96\", \"#ab63fa\", \"#FFA15A\", \"#19d3f3\", \"#FF6692\", \"#B6E880\", \"#FF97FF\", \"#FECB52\"], \"font\": {\"color\": \"#2a3f5f\"}, \"geo\": {\"bgcolor\": \"white\", \"lakecolor\": \"white\", \"landcolor\": \"#E5ECF6\", \"showlakes\": true, \"showland\": true, \"subunitcolor\": \"white\"}, \"hoverlabel\": {\"align\": \"left\"}, \"hovermode\": \"closest\", \"mapbox\": {\"style\": \"light\"}, \"paper_bgcolor\": \"white\", \"plot_bgcolor\": \"#E5ECF6\", \"polar\": {\"angularaxis\": {\"gridcolor\": \"white\", \"linecolor\": \"white\", \"ticks\": \"\"}, \"bgcolor\": \"#E5ECF6\", \"radialaxis\": {\"gridcolor\": \"white\", \"linecolor\": \"white\", \"ticks\": \"\"}}, \"scene\": {\"xaxis\": {\"backgroundcolor\": \"#E5ECF6\", \"gridcolor\": \"white\", \"gridwidth\": 2, \"linecolor\": \"white\", \"showbackground\": true, \"ticks\": \"\", \"zerolinecolor\": \"white\"}, \"yaxis\": {\"backgroundcolor\": \"#E5ECF6\", \"gridcolor\": \"white\", \"gridwidth\": 2, \"linecolor\": \"white\", \"showbackground\": true, \"ticks\": \"\", \"zerolinecolor\": \"white\"}, \"zaxis\": {\"backgroundcolor\": \"#E5ECF6\", \"gridcolor\": \"white\", \"gridwidth\": 2, \"linecolor\": \"white\", \"showbackground\": true, \"ticks\": \"\", \"zerolinecolor\": \"white\"}}, \"shapedefaults\": {\"line\": {\"color\": \"#2a3f5f\"}}, \"ternary\": {\"aaxis\": {\"gridcolor\": \"white\", \"linecolor\": \"white\", \"ticks\": \"\"}, \"baxis\": {\"gridcolor\": \"white\", \"linecolor\": \"white\", \"ticks\": \"\"}, \"bgcolor\": \"#E5ECF6\", \"caxis\": {\"gridcolor\": \"white\", \"linecolor\": \"white\", \"ticks\": \"\"}}, \"title\": {\"x\": 0.05}, \"xaxis\": {\"automargin\": true, \"gridcolor\": \"white\", \"linecolor\": \"white\", \"ticks\": \"\", \"title\": {\"standoff\": 15}, \"zerolinecolor\": \"white\", \"zerolinewidth\": 2}, \"yaxis\": {\"automargin\": true, \"gridcolor\": \"white\", \"linecolor\": \"white\", \"ticks\": \"\", \"title\": {\"standoff\": 15}, \"zerolinecolor\": \"white\", \"zerolinewidth\": 2}}}, \"violingap\": 0, \"violinmode\": \"overlay\"},\n",
       "                        {\"responsive\": true}\n",
       "                    ).then(function(){\n",
       "                            \n",
       "var gd = document.getElementById('49bc6be4-b2d5-4025-943b-e96ebd34f302');\n",
       "var x = new MutationObserver(function (mutations, observer) {{\n",
       "        var display = window.getComputedStyle(gd).display;\n",
       "        if (!display || display === 'none') {{\n",
       "            console.log([gd, 'removed!']);\n",
       "            Plotly.purge(gd);\n",
       "            observer.disconnect();\n",
       "        }}\n",
       "}});\n",
       "\n",
       "// Listen for the removal of the full notebook cells\n",
       "var notebookContainer = gd.closest('#notebook-container');\n",
       "if (notebookContainer) {{\n",
       "    x.observe(notebookContainer, {childList: true});\n",
       "}}\n",
       "\n",
       "// Listen for the clearing of the current output cell\n",
       "var outputEl = gd.closest('.output');\n",
       "if (outputEl) {{\n",
       "    x.observe(outputEl, {childList: true});\n",
       "}}\n",
       "\n",
       "                        })\n",
       "                };\n",
       "                });\n",
       "            </script>\n",
       "        </div>"
      ]
     },
     "metadata": {},
     "output_type": "display_data"
    }
   ],
   "source": [
    "import plotly.express as px\n",
    "import plotly.graph_objects as go\n",
    "\n",
    "fig = go.Figure()\n",
    "\n",
    "fig.add_trace(go.Violin(y=acc_BOW_MNB, scalegroup='BOW', name='BOW',\n",
    "                        side='negative',\n",
    "                        line_color='blue', x0='Accuracy')\n",
    "             )\n",
    "fig.add_trace(go.Violin(y=acc_TFIDF_MNB, scalegroup='TFIDF', name='TFIDF',\n",
    "                        side='positive',\n",
    "                        line_color='orange', x0='Accuracy')\n",
    "             )\n",
    "\n",
    "fig.add_trace(go.Violin(y=prec_BOW_MNB, scalegroup='BOW', name='BOW',\n",
    "                        side='negative',\n",
    "                        line_color='blue', x0='Precision')\n",
    "             )\n",
    "fig.add_trace(go.Violin(y=prec_TFIDF_MNB, scalegroup='TFIDF', name='TFIDF',\n",
    "                        side='positive',\n",
    "                        line_color='orange', x0='Precision')\n",
    "             )\n",
    "fig.add_trace(go.Violin(y=f1_BOW_MNB, scalegroup='BOW', name='BOW',\n",
    "                        side='negative',\n",
    "                        line_color='blue', x0='F1')\n",
    "             )\n",
    "fig.add_trace(go.Violin(y=f1_TFIDF_MNB, scalegroup='TFIDF', name='TFIDF',\n",
    "                        side='positive',\n",
    "                        line_color='orange', x0='F1')\n",
    "             )\n",
    "\n",
    "fig.add_trace(go.Violin(y=recall_BOW_MNB, scalegroup='BOW', name='BOW',\n",
    "                        side='negative',\n",
    "                        line_color='blue', x0='Recall')\n",
    "             )\n",
    "fig.add_trace(go.Violin(y=recall_TFIDF_MNB, name='TFIDF',\n",
    "                        side='positive',\n",
    "                        line_color='orange', x0='Recall')\n",
    "             )\n",
    "\n",
    "fig.update_traces(meanline_visible=True)\n",
    "fig.update_layout(violingap=0, violinmode='overlay')\n",
    "fig.show()\n"
   ]
  },
  {
   "cell_type": "code",
   "execution_count": 24,
   "metadata": {},
   "outputs": [
    {
     "data": {
      "application/vnd.plotly.v1+json": {
       "config": {
        "plotlyServerURL": "https://plot.ly"
       },
       "data": [
        {
         "line": {
          "color": "blue"
         },
         "meanline": {
          "visible": true
         },
         "name": "BOW",
         "scalegroup": "BOW",
         "side": "negative",
         "type": "violin",
         "x0": "Accuracy",
         "y": [
          0.49230769230769234,
          0.46153846153846156,
          0.5692307692307692,
          0.4307692307692308,
          0.36923076923076925,
          0.5384615384615384,
          0.5692307692307692,
          0.4461538461538462,
          0.5692307692307692,
          0.38461538461538464,
          0.6,
          0.6153846153846154,
          0.676923076923077,
          0.6307692307692307,
          0.7384615384615385,
          0.676923076923077,
          0.609375,
          0.71875,
          0.6875,
          0.78125,
          0.65625,
          0.703125,
          0.671875,
          0.640625,
          0.453125,
          0.65625,
          0.5625,
          0.515625,
          0.46875,
          0.328125
         ]
        },
        {
         "line": {
          "color": "orange"
         },
         "meanline": {
          "visible": true
         },
         "name": "TFIDF",
         "scalegroup": "TFIDF",
         "side": "positive",
         "type": "violin",
         "x0": "Accuracy",
         "y": [
          0.47692307692307695,
          0.4307692307692308,
          0.5230769230769231,
          0.36923076923076925,
          0.36923076923076925,
          0.5384615384615384,
          0.5230769230769231,
          0.4461538461538462,
          0.6,
          0.35384615384615387,
          0.5230769230769231,
          0.7076923076923077,
          0.7076923076923077,
          0.6615384615384615,
          0.7384615384615385,
          0.6923076923076923,
          0.6875,
          0.671875,
          0.765625,
          0.71875,
          0.6875,
          0.703125,
          0.75,
          0.71875,
          0.53125,
          0.671875,
          0.515625,
          0.515625,
          0.5,
          0.265625
         ]
        },
        {
         "line": {
          "color": "blue"
         },
         "meanline": {
          "visible": true
         },
         "name": "BOW",
         "scalegroup": "BOW",
         "side": "negative",
         "type": "violin",
         "x0": "Precision",
         "y": [
          0.5168828557063851,
          0.5010482180293501,
          0.6089833243679397,
          0.4859656301145663,
          0.3021928297946398,
          0.5552706552706553,
          0.6315384615384615,
          0.5643076923076923,
          0.5843255645453448,
          0.3899959083469722,
          0.6431397174254317,
          0.6310965630114567,
          0.6475524475524475,
          0.6104576741939379,
          0.7302373158756138,
          0.6794194484760523,
          0.551923076923077,
          0.700576923076923,
          0.7005974264705883,
          0.7693452380952381,
          0.6041175314465409,
          0.7021875,
          0.6726190476190477,
          0.6721754807692308,
          0.5029296875,
          0.6401466836734694,
          0.5705357142857143,
          0.47090773809523806,
          0.44849411231884057,
          0.44558159232072275
         ]
        },
        {
         "line": {
          "color": "orange"
         },
         "meanline": {
          "visible": true
         },
         "name": "TFIDF",
         "scalegroup": "TFIDF",
         "side": "positive",
         "type": "violin",
         "x0": "Precision",
         "y": [
          0.3923076923076923,
          0.754792899408284,
          0.5967032967032968,
          0.44835164835164837,
          0.7671005917159763,
          0.41754807692307694,
          0.4932692307692308,
          0.4790865384615385,
          0.76,
          0.4587179487179487,
          0.7540865384615385,
          0.7508434547908232,
          0.5548076923076923,
          0.6837882547559967,
          0.8101736972704715,
          0.5868131868131868,
          0.6997881355932204,
          0.78125,
          0.8214285714285714,
          0.7146516393442623,
          0.7867063492063493,
          0.7926587301587301,
          0.8134920634920635,
          0.7991071428571429,
          0.602570564516129,
          0.6148313492063493,
          0.4677254098360656,
          0.5282738095238095,
          0.48834325396825395,
          0.34151785714285715
         ]
        },
        {
         "line": {
          "color": "blue"
         },
         "meanline": {
          "visible": true
         },
         "name": "BOW",
         "scalegroup": "BOW",
         "side": "negative",
         "type": "violin",
         "x0": "F1",
         "y": [
          0.4018376870159234,
          0.3932332332332332,
          0.5096822295351706,
          0.36181735784328856,
          0.2666666666666667,
          0.45715932008066845,
          0.5093875636558564,
          0.3440205364255997,
          0.5326987826987829,
          0.28951588951588947,
          0.5462832373681827,
          0.5914529914529915,
          0.6313668053195852,
          0.6038539238539239,
          0.7335628565807594,
          0.6436106750392465,
          0.5682861694152924,
          0.6735733695652174,
          0.6808712121212122,
          0.7716542119565217,
          0.6142224702380953,
          0.6871010638297873,
          0.6692708333333334,
          0.5989046391752578,
          0.3996362433862435,
          0.6305654264214046,
          0.5323016826923077,
          0.4645801083591332,
          0.41782876943881003,
          0.273092830882353
         ]
        },
        {
         "line": {
          "color": "orange"
         },
         "meanline": {
          "visible": true
         },
         "name": "TFIDF",
         "scalegroup": "TFIDF",
         "side": "positive",
         "type": "violin",
         "x0": "F1",
         "y": [
          0.31794871794871793,
          0.2593879239040529,
          0.37713210702341143,
          0.20371352785145888,
          0.19913569576490925,
          0.38073038073038074,
          0.3629513343799058,
          0.2782464846980976,
          0.44999999999999996,
          0.19610750695088044,
          0.3746708961141951,
          0.6315303643724697,
          0.5918881118881119,
          0.5556775010552976,
          0.6614357605011811,
          0.5769230769230769,
          0.6042256011315417,
          0.554296875,
          0.6778153153153152,
          0.6297619047619049,
          0.5745178967813541,
          0.5950258239055582,
          0.6569685828877005,
          0.6147836538461539,
          0.38663277511961724,
          0.5451061320754718,
          0.3759765625,
          0.3614690721649484,
          0.3368421052631579,
          0.11805555555555555
         ]
        },
        {
         "line": {
          "color": "blue"
         },
         "meanline": {
          "visible": true
         },
         "name": "BOW",
         "scalegroup": "BOW",
         "side": "negative",
         "type": "violin",
         "x0": "Recall",
         "y": [
          0.49230769230769234,
          0.46153846153846156,
          0.5692307692307692,
          0.4307692307692308,
          0.36923076923076925,
          0.5384615384615384,
          0.5692307692307692,
          0.4461538461538462,
          0.5692307692307692,
          0.38461538461538464,
          0.6,
          0.6153846153846154,
          0.676923076923077,
          0.6307692307692307,
          0.7384615384615385,
          0.676923076923077,
          0.609375,
          0.71875,
          0.6875,
          0.78125,
          0.65625,
          0.703125,
          0.671875,
          0.640625,
          0.453125,
          0.65625,
          0.5625,
          0.515625,
          0.46875,
          0.328125
         ]
        },
        {
         "line": {
          "color": "orange"
         },
         "meanline": {
          "visible": true
         },
         "name": "TFIDF",
         "side": "positive",
         "type": "violin",
         "x0": "Recall",
         "y": [
          0.47692307692307695,
          0.4307692307692308,
          0.5230769230769231,
          0.36923076923076925,
          0.36923076923076925,
          0.5384615384615384,
          0.5230769230769231,
          0.4461538461538462,
          0.6,
          0.35384615384615387,
          0.5230769230769231,
          0.7076923076923077,
          0.7076923076923077,
          0.6615384615384615,
          0.7384615384615385,
          0.6923076923076923,
          0.6875,
          0.671875,
          0.765625,
          0.71875,
          0.6875,
          0.703125,
          0.75,
          0.71875,
          0.53125,
          0.671875,
          0.515625,
          0.515625,
          0.5,
          0.265625
         ]
        }
       ],
       "layout": {
        "template": {
         "data": {
          "bar": [
           {
            "error_x": {
             "color": "#2a3f5f"
            },
            "error_y": {
             "color": "#2a3f5f"
            },
            "marker": {
             "line": {
              "color": "#E5ECF6",
              "width": 0.5
             }
            },
            "type": "bar"
           }
          ],
          "barpolar": [
           {
            "marker": {
             "line": {
              "color": "#E5ECF6",
              "width": 0.5
             }
            },
            "type": "barpolar"
           }
          ],
          "carpet": [
           {
            "aaxis": {
             "endlinecolor": "#2a3f5f",
             "gridcolor": "white",
             "linecolor": "white",
             "minorgridcolor": "white",
             "startlinecolor": "#2a3f5f"
            },
            "baxis": {
             "endlinecolor": "#2a3f5f",
             "gridcolor": "white",
             "linecolor": "white",
             "minorgridcolor": "white",
             "startlinecolor": "#2a3f5f"
            },
            "type": "carpet"
           }
          ],
          "choropleth": [
           {
            "colorbar": {
             "outlinewidth": 0,
             "ticks": ""
            },
            "type": "choropleth"
           }
          ],
          "contour": [
           {
            "colorbar": {
             "outlinewidth": 0,
             "ticks": ""
            },
            "colorscale": [
             [
              0,
              "#0d0887"
             ],
             [
              0.1111111111111111,
              "#46039f"
             ],
             [
              0.2222222222222222,
              "#7201a8"
             ],
             [
              0.3333333333333333,
              "#9c179e"
             ],
             [
              0.4444444444444444,
              "#bd3786"
             ],
             [
              0.5555555555555556,
              "#d8576b"
             ],
             [
              0.6666666666666666,
              "#ed7953"
             ],
             [
              0.7777777777777778,
              "#fb9f3a"
             ],
             [
              0.8888888888888888,
              "#fdca26"
             ],
             [
              1,
              "#f0f921"
             ]
            ],
            "type": "contour"
           }
          ],
          "contourcarpet": [
           {
            "colorbar": {
             "outlinewidth": 0,
             "ticks": ""
            },
            "type": "contourcarpet"
           }
          ],
          "heatmap": [
           {
            "colorbar": {
             "outlinewidth": 0,
             "ticks": ""
            },
            "colorscale": [
             [
              0,
              "#0d0887"
             ],
             [
              0.1111111111111111,
              "#46039f"
             ],
             [
              0.2222222222222222,
              "#7201a8"
             ],
             [
              0.3333333333333333,
              "#9c179e"
             ],
             [
              0.4444444444444444,
              "#bd3786"
             ],
             [
              0.5555555555555556,
              "#d8576b"
             ],
             [
              0.6666666666666666,
              "#ed7953"
             ],
             [
              0.7777777777777778,
              "#fb9f3a"
             ],
             [
              0.8888888888888888,
              "#fdca26"
             ],
             [
              1,
              "#f0f921"
             ]
            ],
            "type": "heatmap"
           }
          ],
          "heatmapgl": [
           {
            "colorbar": {
             "outlinewidth": 0,
             "ticks": ""
            },
            "colorscale": [
             [
              0,
              "#0d0887"
             ],
             [
              0.1111111111111111,
              "#46039f"
             ],
             [
              0.2222222222222222,
              "#7201a8"
             ],
             [
              0.3333333333333333,
              "#9c179e"
             ],
             [
              0.4444444444444444,
              "#bd3786"
             ],
             [
              0.5555555555555556,
              "#d8576b"
             ],
             [
              0.6666666666666666,
              "#ed7953"
             ],
             [
              0.7777777777777778,
              "#fb9f3a"
             ],
             [
              0.8888888888888888,
              "#fdca26"
             ],
             [
              1,
              "#f0f921"
             ]
            ],
            "type": "heatmapgl"
           }
          ],
          "histogram": [
           {
            "marker": {
             "colorbar": {
              "outlinewidth": 0,
              "ticks": ""
             }
            },
            "type": "histogram"
           }
          ],
          "histogram2d": [
           {
            "colorbar": {
             "outlinewidth": 0,
             "ticks": ""
            },
            "colorscale": [
             [
              0,
              "#0d0887"
             ],
             [
              0.1111111111111111,
              "#46039f"
             ],
             [
              0.2222222222222222,
              "#7201a8"
             ],
             [
              0.3333333333333333,
              "#9c179e"
             ],
             [
              0.4444444444444444,
              "#bd3786"
             ],
             [
              0.5555555555555556,
              "#d8576b"
             ],
             [
              0.6666666666666666,
              "#ed7953"
             ],
             [
              0.7777777777777778,
              "#fb9f3a"
             ],
             [
              0.8888888888888888,
              "#fdca26"
             ],
             [
              1,
              "#f0f921"
             ]
            ],
            "type": "histogram2d"
           }
          ],
          "histogram2dcontour": [
           {
            "colorbar": {
             "outlinewidth": 0,
             "ticks": ""
            },
            "colorscale": [
             [
              0,
              "#0d0887"
             ],
             [
              0.1111111111111111,
              "#46039f"
             ],
             [
              0.2222222222222222,
              "#7201a8"
             ],
             [
              0.3333333333333333,
              "#9c179e"
             ],
             [
              0.4444444444444444,
              "#bd3786"
             ],
             [
              0.5555555555555556,
              "#d8576b"
             ],
             [
              0.6666666666666666,
              "#ed7953"
             ],
             [
              0.7777777777777778,
              "#fb9f3a"
             ],
             [
              0.8888888888888888,
              "#fdca26"
             ],
             [
              1,
              "#f0f921"
             ]
            ],
            "type": "histogram2dcontour"
           }
          ],
          "mesh3d": [
           {
            "colorbar": {
             "outlinewidth": 0,
             "ticks": ""
            },
            "type": "mesh3d"
           }
          ],
          "parcoords": [
           {
            "line": {
             "colorbar": {
              "outlinewidth": 0,
              "ticks": ""
             }
            },
            "type": "parcoords"
           }
          ],
          "pie": [
           {
            "automargin": true,
            "type": "pie"
           }
          ],
          "scatter": [
           {
            "marker": {
             "colorbar": {
              "outlinewidth": 0,
              "ticks": ""
             }
            },
            "type": "scatter"
           }
          ],
          "scatter3d": [
           {
            "line": {
             "colorbar": {
              "outlinewidth": 0,
              "ticks": ""
             }
            },
            "marker": {
             "colorbar": {
              "outlinewidth": 0,
              "ticks": ""
             }
            },
            "type": "scatter3d"
           }
          ],
          "scattercarpet": [
           {
            "marker": {
             "colorbar": {
              "outlinewidth": 0,
              "ticks": ""
             }
            },
            "type": "scattercarpet"
           }
          ],
          "scattergeo": [
           {
            "marker": {
             "colorbar": {
              "outlinewidth": 0,
              "ticks": ""
             }
            },
            "type": "scattergeo"
           }
          ],
          "scattergl": [
           {
            "marker": {
             "colorbar": {
              "outlinewidth": 0,
              "ticks": ""
             }
            },
            "type": "scattergl"
           }
          ],
          "scattermapbox": [
           {
            "marker": {
             "colorbar": {
              "outlinewidth": 0,
              "ticks": ""
             }
            },
            "type": "scattermapbox"
           }
          ],
          "scatterpolar": [
           {
            "marker": {
             "colorbar": {
              "outlinewidth": 0,
              "ticks": ""
             }
            },
            "type": "scatterpolar"
           }
          ],
          "scatterpolargl": [
           {
            "marker": {
             "colorbar": {
              "outlinewidth": 0,
              "ticks": ""
             }
            },
            "type": "scatterpolargl"
           }
          ],
          "scatterternary": [
           {
            "marker": {
             "colorbar": {
              "outlinewidth": 0,
              "ticks": ""
             }
            },
            "type": "scatterternary"
           }
          ],
          "surface": [
           {
            "colorbar": {
             "outlinewidth": 0,
             "ticks": ""
            },
            "colorscale": [
             [
              0,
              "#0d0887"
             ],
             [
              0.1111111111111111,
              "#46039f"
             ],
             [
              0.2222222222222222,
              "#7201a8"
             ],
             [
              0.3333333333333333,
              "#9c179e"
             ],
             [
              0.4444444444444444,
              "#bd3786"
             ],
             [
              0.5555555555555556,
              "#d8576b"
             ],
             [
              0.6666666666666666,
              "#ed7953"
             ],
             [
              0.7777777777777778,
              "#fb9f3a"
             ],
             [
              0.8888888888888888,
              "#fdca26"
             ],
             [
              1,
              "#f0f921"
             ]
            ],
            "type": "surface"
           }
          ],
          "table": [
           {
            "cells": {
             "fill": {
              "color": "#EBF0F8"
             },
             "line": {
              "color": "white"
             }
            },
            "header": {
             "fill": {
              "color": "#C8D4E3"
             },
             "line": {
              "color": "white"
             }
            },
            "type": "table"
           }
          ]
         },
         "layout": {
          "annotationdefaults": {
           "arrowcolor": "#2a3f5f",
           "arrowhead": 0,
           "arrowwidth": 1
          },
          "coloraxis": {
           "colorbar": {
            "outlinewidth": 0,
            "ticks": ""
           }
          },
          "colorscale": {
           "diverging": [
            [
             0,
             "#8e0152"
            ],
            [
             0.1,
             "#c51b7d"
            ],
            [
             0.2,
             "#de77ae"
            ],
            [
             0.3,
             "#f1b6da"
            ],
            [
             0.4,
             "#fde0ef"
            ],
            [
             0.5,
             "#f7f7f7"
            ],
            [
             0.6,
             "#e6f5d0"
            ],
            [
             0.7,
             "#b8e186"
            ],
            [
             0.8,
             "#7fbc41"
            ],
            [
             0.9,
             "#4d9221"
            ],
            [
             1,
             "#276419"
            ]
           ],
           "sequential": [
            [
             0,
             "#0d0887"
            ],
            [
             0.1111111111111111,
             "#46039f"
            ],
            [
             0.2222222222222222,
             "#7201a8"
            ],
            [
             0.3333333333333333,
             "#9c179e"
            ],
            [
             0.4444444444444444,
             "#bd3786"
            ],
            [
             0.5555555555555556,
             "#d8576b"
            ],
            [
             0.6666666666666666,
             "#ed7953"
            ],
            [
             0.7777777777777778,
             "#fb9f3a"
            ],
            [
             0.8888888888888888,
             "#fdca26"
            ],
            [
             1,
             "#f0f921"
            ]
           ],
           "sequentialminus": [
            [
             0,
             "#0d0887"
            ],
            [
             0.1111111111111111,
             "#46039f"
            ],
            [
             0.2222222222222222,
             "#7201a8"
            ],
            [
             0.3333333333333333,
             "#9c179e"
            ],
            [
             0.4444444444444444,
             "#bd3786"
            ],
            [
             0.5555555555555556,
             "#d8576b"
            ],
            [
             0.6666666666666666,
             "#ed7953"
            ],
            [
             0.7777777777777778,
             "#fb9f3a"
            ],
            [
             0.8888888888888888,
             "#fdca26"
            ],
            [
             1,
             "#f0f921"
            ]
           ]
          },
          "colorway": [
           "#636efa",
           "#EF553B",
           "#00cc96",
           "#ab63fa",
           "#FFA15A",
           "#19d3f3",
           "#FF6692",
           "#B6E880",
           "#FF97FF",
           "#FECB52"
          ],
          "font": {
           "color": "#2a3f5f"
          },
          "geo": {
           "bgcolor": "white",
           "lakecolor": "white",
           "landcolor": "#E5ECF6",
           "showlakes": true,
           "showland": true,
           "subunitcolor": "white"
          },
          "hoverlabel": {
           "align": "left"
          },
          "hovermode": "closest",
          "mapbox": {
           "style": "light"
          },
          "paper_bgcolor": "white",
          "plot_bgcolor": "#E5ECF6",
          "polar": {
           "angularaxis": {
            "gridcolor": "white",
            "linecolor": "white",
            "ticks": ""
           },
           "bgcolor": "#E5ECF6",
           "radialaxis": {
            "gridcolor": "white",
            "linecolor": "white",
            "ticks": ""
           }
          },
          "scene": {
           "xaxis": {
            "backgroundcolor": "#E5ECF6",
            "gridcolor": "white",
            "gridwidth": 2,
            "linecolor": "white",
            "showbackground": true,
            "ticks": "",
            "zerolinecolor": "white"
           },
           "yaxis": {
            "backgroundcolor": "#E5ECF6",
            "gridcolor": "white",
            "gridwidth": 2,
            "linecolor": "white",
            "showbackground": true,
            "ticks": "",
            "zerolinecolor": "white"
           },
           "zaxis": {
            "backgroundcolor": "#E5ECF6",
            "gridcolor": "white",
            "gridwidth": 2,
            "linecolor": "white",
            "showbackground": true,
            "ticks": "",
            "zerolinecolor": "white"
           }
          },
          "shapedefaults": {
           "line": {
            "color": "#2a3f5f"
           }
          },
          "ternary": {
           "aaxis": {
            "gridcolor": "white",
            "linecolor": "white",
            "ticks": ""
           },
           "baxis": {
            "gridcolor": "white",
            "linecolor": "white",
            "ticks": ""
           },
           "bgcolor": "#E5ECF6",
           "caxis": {
            "gridcolor": "white",
            "linecolor": "white",
            "ticks": ""
           }
          },
          "title": {
           "x": 0.05
          },
          "xaxis": {
           "automargin": true,
           "gridcolor": "white",
           "linecolor": "white",
           "ticks": "",
           "title": {
            "standoff": 15
           },
           "zerolinecolor": "white",
           "zerolinewidth": 2
          },
          "yaxis": {
           "automargin": true,
           "gridcolor": "white",
           "linecolor": "white",
           "ticks": "",
           "title": {
            "standoff": 15
           },
           "zerolinecolor": "white",
           "zerolinewidth": 2
          }
         }
        },
        "violingap": 0,
        "violinmode": "overlay"
       }
      },
      "text/html": [
       "<div>\n",
       "        \n",
       "        \n",
       "            <div id=\"627b2b28-81ef-465e-8b92-8f39fbc4a291\" class=\"plotly-graph-div\" style=\"height:525px; width:100%;\"></div>\n",
       "            <script type=\"text/javascript\">\n",
       "                require([\"plotly\"], function(Plotly) {\n",
       "                    window.PLOTLYENV=window.PLOTLYENV || {};\n",
       "                    \n",
       "                if (document.getElementById(\"627b2b28-81ef-465e-8b92-8f39fbc4a291\")) {\n",
       "                    Plotly.newPlot(\n",
       "                        '627b2b28-81ef-465e-8b92-8f39fbc4a291',\n",
       "                        [{\"line\": {\"color\": \"blue\"}, \"meanline\": {\"visible\": true}, \"name\": \"BOW\", \"scalegroup\": \"BOW\", \"side\": \"negative\", \"type\": \"violin\", \"x0\": \"Accuracy\", \"y\": [0.49230769230769234, 0.46153846153846156, 0.5692307692307692, 0.4307692307692308, 0.36923076923076925, 0.5384615384615384, 0.5692307692307692, 0.4461538461538462, 0.5692307692307692, 0.38461538461538464, 0.6, 0.6153846153846154, 0.676923076923077, 0.6307692307692307, 0.7384615384615385, 0.676923076923077, 0.609375, 0.71875, 0.6875, 0.78125, 0.65625, 0.703125, 0.671875, 0.640625, 0.453125, 0.65625, 0.5625, 0.515625, 0.46875, 0.328125]}, {\"line\": {\"color\": \"orange\"}, \"meanline\": {\"visible\": true}, \"name\": \"TFIDF\", \"scalegroup\": \"TFIDF\", \"side\": \"positive\", \"type\": \"violin\", \"x0\": \"Accuracy\", \"y\": [0.47692307692307695, 0.4307692307692308, 0.5230769230769231, 0.36923076923076925, 0.36923076923076925, 0.5384615384615384, 0.5230769230769231, 0.4461538461538462, 0.6, 0.35384615384615387, 0.5230769230769231, 0.7076923076923077, 0.7076923076923077, 0.6615384615384615, 0.7384615384615385, 0.6923076923076923, 0.6875, 0.671875, 0.765625, 0.71875, 0.6875, 0.703125, 0.75, 0.71875, 0.53125, 0.671875, 0.515625, 0.515625, 0.5, 0.265625]}, {\"line\": {\"color\": \"blue\"}, \"meanline\": {\"visible\": true}, \"name\": \"BOW\", \"scalegroup\": \"BOW\", \"side\": \"negative\", \"type\": \"violin\", \"x0\": \"Precision\", \"y\": [0.5168828557063851, 0.5010482180293501, 0.6089833243679397, 0.4859656301145663, 0.3021928297946398, 0.5552706552706553, 0.6315384615384615, 0.5643076923076923, 0.5843255645453448, 0.3899959083469722, 0.6431397174254317, 0.6310965630114567, 0.6475524475524475, 0.6104576741939379, 0.7302373158756138, 0.6794194484760523, 0.551923076923077, 0.700576923076923, 0.7005974264705883, 0.7693452380952381, 0.6041175314465409, 0.7021875, 0.6726190476190477, 0.6721754807692308, 0.5029296875, 0.6401466836734694, 0.5705357142857143, 0.47090773809523806, 0.44849411231884057, 0.44558159232072275]}, {\"line\": {\"color\": \"orange\"}, \"meanline\": {\"visible\": true}, \"name\": \"TFIDF\", \"scalegroup\": \"TFIDF\", \"side\": \"positive\", \"type\": \"violin\", \"x0\": \"Precision\", \"y\": [0.3923076923076923, 0.754792899408284, 0.5967032967032968, 0.44835164835164837, 0.7671005917159763, 0.41754807692307694, 0.4932692307692308, 0.4790865384615385, 0.76, 0.4587179487179487, 0.7540865384615385, 0.7508434547908232, 0.5548076923076923, 0.6837882547559967, 0.8101736972704715, 0.5868131868131868, 0.6997881355932204, 0.78125, 0.8214285714285714, 0.7146516393442623, 0.7867063492063493, 0.7926587301587301, 0.8134920634920635, 0.7991071428571429, 0.602570564516129, 0.6148313492063493, 0.4677254098360656, 0.5282738095238095, 0.48834325396825395, 0.34151785714285715]}, {\"line\": {\"color\": \"blue\"}, \"meanline\": {\"visible\": true}, \"name\": \"BOW\", \"scalegroup\": \"BOW\", \"side\": \"negative\", \"type\": \"violin\", \"x0\": \"F1\", \"y\": [0.4018376870159234, 0.3932332332332332, 0.5096822295351706, 0.36181735784328856, 0.2666666666666667, 0.45715932008066845, 0.5093875636558564, 0.3440205364255997, 0.5326987826987829, 0.28951588951588947, 0.5462832373681827, 0.5914529914529915, 0.6313668053195852, 0.6038539238539239, 0.7335628565807594, 0.6436106750392465, 0.5682861694152924, 0.6735733695652174, 0.6808712121212122, 0.7716542119565217, 0.6142224702380953, 0.6871010638297873, 0.6692708333333334, 0.5989046391752578, 0.3996362433862435, 0.6305654264214046, 0.5323016826923077, 0.4645801083591332, 0.41782876943881003, 0.273092830882353]}, {\"line\": {\"color\": \"orange\"}, \"meanline\": {\"visible\": true}, \"name\": \"TFIDF\", \"scalegroup\": \"TFIDF\", \"side\": \"positive\", \"type\": \"violin\", \"x0\": \"F1\", \"y\": [0.31794871794871793, 0.2593879239040529, 0.37713210702341143, 0.20371352785145888, 0.19913569576490925, 0.38073038073038074, 0.3629513343799058, 0.2782464846980976, 0.44999999999999996, 0.19610750695088044, 0.3746708961141951, 0.6315303643724697, 0.5918881118881119, 0.5556775010552976, 0.6614357605011811, 0.5769230769230769, 0.6042256011315417, 0.554296875, 0.6778153153153152, 0.6297619047619049, 0.5745178967813541, 0.5950258239055582, 0.6569685828877005, 0.6147836538461539, 0.38663277511961724, 0.5451061320754718, 0.3759765625, 0.3614690721649484, 0.3368421052631579, 0.11805555555555555]}, {\"line\": {\"color\": \"blue\"}, \"meanline\": {\"visible\": true}, \"name\": \"BOW\", \"scalegroup\": \"BOW\", \"side\": \"negative\", \"type\": \"violin\", \"x0\": \"Recall\", \"y\": [0.49230769230769234, 0.46153846153846156, 0.5692307692307692, 0.4307692307692308, 0.36923076923076925, 0.5384615384615384, 0.5692307692307692, 0.4461538461538462, 0.5692307692307692, 0.38461538461538464, 0.6, 0.6153846153846154, 0.676923076923077, 0.6307692307692307, 0.7384615384615385, 0.676923076923077, 0.609375, 0.71875, 0.6875, 0.78125, 0.65625, 0.703125, 0.671875, 0.640625, 0.453125, 0.65625, 0.5625, 0.515625, 0.46875, 0.328125]}, {\"line\": {\"color\": \"orange\"}, \"meanline\": {\"visible\": true}, \"name\": \"TFIDF\", \"side\": \"positive\", \"type\": \"violin\", \"x0\": \"Recall\", \"y\": [0.47692307692307695, 0.4307692307692308, 0.5230769230769231, 0.36923076923076925, 0.36923076923076925, 0.5384615384615384, 0.5230769230769231, 0.4461538461538462, 0.6, 0.35384615384615387, 0.5230769230769231, 0.7076923076923077, 0.7076923076923077, 0.6615384615384615, 0.7384615384615385, 0.6923076923076923, 0.6875, 0.671875, 0.765625, 0.71875, 0.6875, 0.703125, 0.75, 0.71875, 0.53125, 0.671875, 0.515625, 0.515625, 0.5, 0.265625]}],\n",
       "                        {\"template\": {\"data\": {\"bar\": [{\"error_x\": {\"color\": \"#2a3f5f\"}, \"error_y\": {\"color\": \"#2a3f5f\"}, \"marker\": {\"line\": {\"color\": \"#E5ECF6\", \"width\": 0.5}}, \"type\": \"bar\"}], \"barpolar\": [{\"marker\": {\"line\": {\"color\": \"#E5ECF6\", \"width\": 0.5}}, \"type\": \"barpolar\"}], \"carpet\": [{\"aaxis\": {\"endlinecolor\": \"#2a3f5f\", \"gridcolor\": \"white\", \"linecolor\": \"white\", \"minorgridcolor\": \"white\", \"startlinecolor\": \"#2a3f5f\"}, \"baxis\": {\"endlinecolor\": \"#2a3f5f\", \"gridcolor\": \"white\", \"linecolor\": \"white\", \"minorgridcolor\": \"white\", \"startlinecolor\": \"#2a3f5f\"}, \"type\": \"carpet\"}], \"choropleth\": [{\"colorbar\": {\"outlinewidth\": 0, \"ticks\": \"\"}, \"type\": \"choropleth\"}], \"contour\": [{\"colorbar\": {\"outlinewidth\": 0, \"ticks\": \"\"}, \"colorscale\": [[0.0, \"#0d0887\"], [0.1111111111111111, \"#46039f\"], [0.2222222222222222, \"#7201a8\"], [0.3333333333333333, \"#9c179e\"], [0.4444444444444444, \"#bd3786\"], [0.5555555555555556, \"#d8576b\"], [0.6666666666666666, \"#ed7953\"], [0.7777777777777778, \"#fb9f3a\"], [0.8888888888888888, \"#fdca26\"], [1.0, \"#f0f921\"]], \"type\": \"contour\"}], \"contourcarpet\": [{\"colorbar\": {\"outlinewidth\": 0, \"ticks\": \"\"}, \"type\": \"contourcarpet\"}], \"heatmap\": [{\"colorbar\": {\"outlinewidth\": 0, \"ticks\": \"\"}, \"colorscale\": [[0.0, \"#0d0887\"], [0.1111111111111111, \"#46039f\"], [0.2222222222222222, \"#7201a8\"], [0.3333333333333333, \"#9c179e\"], [0.4444444444444444, \"#bd3786\"], [0.5555555555555556, \"#d8576b\"], [0.6666666666666666, \"#ed7953\"], [0.7777777777777778, \"#fb9f3a\"], [0.8888888888888888, \"#fdca26\"], [1.0, \"#f0f921\"]], \"type\": \"heatmap\"}], \"heatmapgl\": [{\"colorbar\": {\"outlinewidth\": 0, \"ticks\": \"\"}, \"colorscale\": [[0.0, \"#0d0887\"], [0.1111111111111111, \"#46039f\"], [0.2222222222222222, \"#7201a8\"], [0.3333333333333333, \"#9c179e\"], [0.4444444444444444, \"#bd3786\"], [0.5555555555555556, \"#d8576b\"], [0.6666666666666666, \"#ed7953\"], [0.7777777777777778, \"#fb9f3a\"], [0.8888888888888888, \"#fdca26\"], [1.0, \"#f0f921\"]], \"type\": \"heatmapgl\"}], \"histogram\": [{\"marker\": {\"colorbar\": {\"outlinewidth\": 0, \"ticks\": \"\"}}, \"type\": \"histogram\"}], \"histogram2d\": [{\"colorbar\": {\"outlinewidth\": 0, \"ticks\": \"\"}, \"colorscale\": [[0.0, \"#0d0887\"], [0.1111111111111111, \"#46039f\"], [0.2222222222222222, \"#7201a8\"], [0.3333333333333333, \"#9c179e\"], [0.4444444444444444, \"#bd3786\"], [0.5555555555555556, \"#d8576b\"], [0.6666666666666666, \"#ed7953\"], [0.7777777777777778, \"#fb9f3a\"], [0.8888888888888888, \"#fdca26\"], [1.0, \"#f0f921\"]], \"type\": \"histogram2d\"}], \"histogram2dcontour\": [{\"colorbar\": {\"outlinewidth\": 0, \"ticks\": \"\"}, \"colorscale\": [[0.0, \"#0d0887\"], [0.1111111111111111, \"#46039f\"], [0.2222222222222222, \"#7201a8\"], [0.3333333333333333, \"#9c179e\"], [0.4444444444444444, \"#bd3786\"], [0.5555555555555556, \"#d8576b\"], [0.6666666666666666, \"#ed7953\"], [0.7777777777777778, \"#fb9f3a\"], [0.8888888888888888, \"#fdca26\"], [1.0, \"#f0f921\"]], \"type\": \"histogram2dcontour\"}], \"mesh3d\": [{\"colorbar\": {\"outlinewidth\": 0, \"ticks\": \"\"}, \"type\": \"mesh3d\"}], \"parcoords\": [{\"line\": {\"colorbar\": {\"outlinewidth\": 0, \"ticks\": \"\"}}, \"type\": \"parcoords\"}], \"pie\": [{\"automargin\": true, \"type\": \"pie\"}], \"scatter\": [{\"marker\": {\"colorbar\": {\"outlinewidth\": 0, \"ticks\": \"\"}}, \"type\": \"scatter\"}], \"scatter3d\": [{\"line\": {\"colorbar\": {\"outlinewidth\": 0, \"ticks\": \"\"}}, \"marker\": {\"colorbar\": {\"outlinewidth\": 0, \"ticks\": \"\"}}, \"type\": \"scatter3d\"}], \"scattercarpet\": [{\"marker\": {\"colorbar\": {\"outlinewidth\": 0, \"ticks\": \"\"}}, \"type\": \"scattercarpet\"}], \"scattergeo\": [{\"marker\": {\"colorbar\": {\"outlinewidth\": 0, \"ticks\": \"\"}}, \"type\": \"scattergeo\"}], \"scattergl\": [{\"marker\": {\"colorbar\": {\"outlinewidth\": 0, \"ticks\": \"\"}}, \"type\": \"scattergl\"}], \"scattermapbox\": [{\"marker\": {\"colorbar\": {\"outlinewidth\": 0, \"ticks\": \"\"}}, \"type\": \"scattermapbox\"}], \"scatterpolar\": [{\"marker\": {\"colorbar\": {\"outlinewidth\": 0, \"ticks\": \"\"}}, \"type\": \"scatterpolar\"}], \"scatterpolargl\": [{\"marker\": {\"colorbar\": {\"outlinewidth\": 0, \"ticks\": \"\"}}, \"type\": \"scatterpolargl\"}], \"scatterternary\": [{\"marker\": {\"colorbar\": {\"outlinewidth\": 0, \"ticks\": \"\"}}, \"type\": \"scatterternary\"}], \"surface\": [{\"colorbar\": {\"outlinewidth\": 0, \"ticks\": \"\"}, \"colorscale\": [[0.0, \"#0d0887\"], [0.1111111111111111, \"#46039f\"], [0.2222222222222222, \"#7201a8\"], [0.3333333333333333, \"#9c179e\"], [0.4444444444444444, \"#bd3786\"], [0.5555555555555556, \"#d8576b\"], [0.6666666666666666, \"#ed7953\"], [0.7777777777777778, \"#fb9f3a\"], [0.8888888888888888, \"#fdca26\"], [1.0, \"#f0f921\"]], \"type\": \"surface\"}], \"table\": [{\"cells\": {\"fill\": {\"color\": \"#EBF0F8\"}, \"line\": {\"color\": \"white\"}}, \"header\": {\"fill\": {\"color\": \"#C8D4E3\"}, \"line\": {\"color\": \"white\"}}, \"type\": \"table\"}]}, \"layout\": {\"annotationdefaults\": {\"arrowcolor\": \"#2a3f5f\", \"arrowhead\": 0, \"arrowwidth\": 1}, \"coloraxis\": {\"colorbar\": {\"outlinewidth\": 0, \"ticks\": \"\"}}, \"colorscale\": {\"diverging\": [[0, \"#8e0152\"], [0.1, \"#c51b7d\"], [0.2, \"#de77ae\"], [0.3, \"#f1b6da\"], [0.4, \"#fde0ef\"], [0.5, \"#f7f7f7\"], [0.6, \"#e6f5d0\"], [0.7, \"#b8e186\"], [0.8, \"#7fbc41\"], [0.9, \"#4d9221\"], [1, \"#276419\"]], \"sequential\": [[0.0, \"#0d0887\"], [0.1111111111111111, \"#46039f\"], [0.2222222222222222, \"#7201a8\"], [0.3333333333333333, \"#9c179e\"], [0.4444444444444444, \"#bd3786\"], [0.5555555555555556, \"#d8576b\"], [0.6666666666666666, \"#ed7953\"], [0.7777777777777778, \"#fb9f3a\"], [0.8888888888888888, \"#fdca26\"], [1.0, \"#f0f921\"]], \"sequentialminus\": [[0.0, \"#0d0887\"], [0.1111111111111111, \"#46039f\"], [0.2222222222222222, \"#7201a8\"], [0.3333333333333333, \"#9c179e\"], [0.4444444444444444, \"#bd3786\"], [0.5555555555555556, \"#d8576b\"], [0.6666666666666666, \"#ed7953\"], [0.7777777777777778, \"#fb9f3a\"], [0.8888888888888888, \"#fdca26\"], [1.0, \"#f0f921\"]]}, \"colorway\": [\"#636efa\", \"#EF553B\", \"#00cc96\", \"#ab63fa\", \"#FFA15A\", \"#19d3f3\", \"#FF6692\", \"#B6E880\", \"#FF97FF\", \"#FECB52\"], \"font\": {\"color\": \"#2a3f5f\"}, \"geo\": {\"bgcolor\": \"white\", \"lakecolor\": \"white\", \"landcolor\": \"#E5ECF6\", \"showlakes\": true, \"showland\": true, \"subunitcolor\": \"white\"}, \"hoverlabel\": {\"align\": \"left\"}, \"hovermode\": \"closest\", \"mapbox\": {\"style\": \"light\"}, \"paper_bgcolor\": \"white\", \"plot_bgcolor\": \"#E5ECF6\", \"polar\": {\"angularaxis\": {\"gridcolor\": \"white\", \"linecolor\": \"white\", \"ticks\": \"\"}, \"bgcolor\": \"#E5ECF6\", \"radialaxis\": {\"gridcolor\": \"white\", \"linecolor\": \"white\", \"ticks\": \"\"}}, \"scene\": {\"xaxis\": {\"backgroundcolor\": \"#E5ECF6\", \"gridcolor\": \"white\", \"gridwidth\": 2, \"linecolor\": \"white\", \"showbackground\": true, \"ticks\": \"\", \"zerolinecolor\": \"white\"}, \"yaxis\": {\"backgroundcolor\": \"#E5ECF6\", \"gridcolor\": \"white\", \"gridwidth\": 2, \"linecolor\": \"white\", \"showbackground\": true, \"ticks\": \"\", \"zerolinecolor\": \"white\"}, \"zaxis\": {\"backgroundcolor\": \"#E5ECF6\", \"gridcolor\": \"white\", \"gridwidth\": 2, \"linecolor\": \"white\", \"showbackground\": true, \"ticks\": \"\", \"zerolinecolor\": \"white\"}}, \"shapedefaults\": {\"line\": {\"color\": \"#2a3f5f\"}}, \"ternary\": {\"aaxis\": {\"gridcolor\": \"white\", \"linecolor\": \"white\", \"ticks\": \"\"}, \"baxis\": {\"gridcolor\": \"white\", \"linecolor\": \"white\", \"ticks\": \"\"}, \"bgcolor\": \"#E5ECF6\", \"caxis\": {\"gridcolor\": \"white\", \"linecolor\": \"white\", \"ticks\": \"\"}}, \"title\": {\"x\": 0.05}, \"xaxis\": {\"automargin\": true, \"gridcolor\": \"white\", \"linecolor\": \"white\", \"ticks\": \"\", \"title\": {\"standoff\": 15}, \"zerolinecolor\": \"white\", \"zerolinewidth\": 2}, \"yaxis\": {\"automargin\": true, \"gridcolor\": \"white\", \"linecolor\": \"white\", \"ticks\": \"\", \"title\": {\"standoff\": 15}, \"zerolinecolor\": \"white\", \"zerolinewidth\": 2}}}, \"violingap\": 0, \"violinmode\": \"overlay\"},\n",
       "                        {\"responsive\": true}\n",
       "                    ).then(function(){\n",
       "                            \n",
       "var gd = document.getElementById('627b2b28-81ef-465e-8b92-8f39fbc4a291');\n",
       "var x = new MutationObserver(function (mutations, observer) {{\n",
       "        var display = window.getComputedStyle(gd).display;\n",
       "        if (!display || display === 'none') {{\n",
       "            console.log([gd, 'removed!']);\n",
       "            Plotly.purge(gd);\n",
       "            observer.disconnect();\n",
       "        }}\n",
       "}});\n",
       "\n",
       "// Listen for the removal of the full notebook cells\n",
       "var notebookContainer = gd.closest('#notebook-container');\n",
       "if (notebookContainer) {{\n",
       "    x.observe(notebookContainer, {childList: true});\n",
       "}}\n",
       "\n",
       "// Listen for the clearing of the current output cell\n",
       "var outputEl = gd.closest('.output');\n",
       "if (outputEl) {{\n",
       "    x.observe(outputEl, {childList: true});\n",
       "}}\n",
       "\n",
       "                        })\n",
       "                };\n",
       "                });\n",
       "            </script>\n",
       "        </div>"
      ]
     },
     "metadata": {},
     "output_type": "display_data"
    }
   ],
   "source": [
    "fig = go.Figure()\n",
    "\n",
    "fig.add_trace(go.Violin(y=acc_BOW_LR, scalegroup='BOW', name='BOW',\n",
    "                        side='negative',\n",
    "                        line_color='blue', x0='Accuracy')\n",
    "             )\n",
    "fig.add_trace(go.Violin(y=acc_TFIDF_LR, scalegroup='TFIDF', name='TFIDF',\n",
    "                        side='positive',\n",
    "                        line_color='orange', x0='Accuracy')\n",
    "             )\n",
    "\n",
    "fig.add_trace(go.Violin(y=prec_BOW_LR, scalegroup='BOW', name='BOW',\n",
    "                        side='negative',\n",
    "                        line_color='blue', x0='Precision')\n",
    "             )\n",
    "fig.add_trace(go.Violin(y=prec_TFIDF_LR, scalegroup='TFIDF', name='TFIDF',\n",
    "                        side='positive',\n",
    "                        line_color='orange', x0='Precision')\n",
    "             )\n",
    "fig.add_trace(go.Violin(y=f1_BOW_LR, scalegroup='BOW', name='BOW',\n",
    "                        side='negative',\n",
    "                        line_color='blue', x0='F1')\n",
    "             )\n",
    "fig.add_trace(go.Violin(y=f1_TFIDF_LR, scalegroup='TFIDF', name='TFIDF',\n",
    "                        side='positive',\n",
    "                        line_color='orange', x0='F1')\n",
    "             )\n",
    "\n",
    "fig.add_trace(go.Violin(y=recall_BOW_LR, scalegroup='BOW', name='BOW',\n",
    "                        side='negative',\n",
    "                        line_color='blue', x0='Recall')\n",
    "             )\n",
    "fig.add_trace(go.Violin(y=recall_TFIDF_LR, name='TFIDF',\n",
    "                        side='positive',\n",
    "                        line_color='orange', x0='Recall')\n",
    "             )\n",
    "\n",
    "fig.update_traces(meanline_visible=True)\n",
    "fig.update_layout(violingap=0, violinmode='overlay')\n",
    "fig.show()"
   ]
  },
  {
   "cell_type": "code",
   "execution_count": 25,
   "metadata": {},
   "outputs": [
    {
     "data": {
      "application/vnd.plotly.v1+json": {
       "config": {
        "plotlyServerURL": "https://plot.ly"
       },
       "data": [
        {
         "line": {
          "color": "blue"
         },
         "meanline": {
          "visible": true
         },
         "name": "BOW",
         "scalegroup": "BOW",
         "side": "negative",
         "type": "violin",
         "x0": "Accuracy",
         "y": [
          0.47692307692307695,
          0.4307692307692308,
          0.49230769230769234,
          0.4153846153846154,
          0.35384615384615387,
          0.5846153846153846,
          0.49230769230769234,
          0.4307692307692308,
          0.5692307692307692,
          0.36923076923076925,
          0.49230769230769234,
          0.6461538461538462,
          0.7230769230769231,
          0.6307692307692307,
          0.6923076923076923,
          0.6923076923076923,
          0.609375,
          0.671875,
          0.75,
          0.71875,
          0.6875,
          0.640625,
          0.71875,
          0.65625,
          0.515625,
          0.640625,
          0.59375,
          0.53125,
          0.484375,
          0.28125
         ]
        },
        {
         "line": {
          "color": "orange"
         },
         "meanline": {
          "visible": true
         },
         "name": "TFIDF",
         "scalegroup": "TFIDF",
         "side": "positive",
         "type": "violin",
         "x0": "Accuracy",
         "y": [
          0.47692307692307695,
          0.4307692307692308,
          0.49230769230769234,
          0.4153846153846154,
          0.35384615384615387,
          0.5846153846153846,
          0.49230769230769234,
          0.4307692307692308,
          0.5692307692307692,
          0.36923076923076925,
          0.49230769230769234,
          0.6461538461538462,
          0.7230769230769231,
          0.6307692307692307,
          0.6923076923076923,
          0.6923076923076923,
          0.609375,
          0.671875,
          0.75,
          0.71875,
          0.6875,
          0.640625,
          0.71875,
          0.65625,
          0.515625,
          0.640625,
          0.59375,
          0.53125,
          0.484375,
          0.28125
         ]
        },
        {
         "line": {
          "color": "blue"
         },
         "meanline": {
          "visible": true
         },
         "name": "BOW",
         "scalegroup": "BOW",
         "side": "negative",
         "type": "violin",
         "x0": "Precision",
         "y": [
          0.5039092055485498,
          0.537452711223203,
          0.4271062271062271,
          0.6029304029304029,
          0.5084489281210592,
          0.698974358974359,
          0.5325573549257759,
          0.4851282051282051,
          0.5866145154280747,
          0.5338827838827839,
          0.5310844892812105,
          0.6863553113553112,
          0.6912988650693569,
          0.5974358974358973,
          0.6620599739243808,
          0.6554177005789908,
          0.5653735632183908,
          0.675,
          0.7156250000000001,
          0.6985432330827067,
          0.6934343434343435,
          0.5536016949152542,
          0.6560704022988506,
          0.6015625,
          0.508441091954023,
          0.6078381147540983,
          0.6490384615384616,
          0.6374198717948718,
          0.49270833333333336,
          0.44813762626262627
         ]
        },
        {
         "line": {
          "color": "orange"
         },
         "meanline": {
          "visible": true
         },
         "name": "TFIDF",
         "scalegroup": "TFIDF",
         "side": "positive",
         "type": "violin",
         "x0": "Precision",
         "y": [
          0.5039092055485498,
          0.537452711223203,
          0.4271062271062271,
          0.6029304029304029,
          0.5084489281210592,
          0.698974358974359,
          0.5325573549257759,
          0.4851282051282051,
          0.5866145154280747,
          0.5338827838827839,
          0.5310844892812105,
          0.6863553113553112,
          0.6912988650693569,
          0.5974358974358973,
          0.6620599739243808,
          0.6554177005789908,
          0.5653735632183908,
          0.675,
          0.7156250000000001,
          0.6985432330827067,
          0.6934343434343435,
          0.5536016949152542,
          0.6560704022988506,
          0.6015625,
          0.508441091954023,
          0.6078381147540983,
          0.6490384615384616,
          0.6374198717948718,
          0.49270833333333336,
          0.44813762626262627
         ]
        },
        {
         "line": {
          "color": "blue"
         },
         "meanline": {
          "visible": true
         },
         "name": "BOW",
         "scalegroup": "BOW",
         "side": "negative",
         "type": "violin",
         "x0": "F1",
         "y": [
          0.3214046822742475,
          0.3055315471045808,
          0.3384615384615385,
          0.29846153846153844,
          0.19981900452488688,
          0.48571000149947524,
          0.37730515638207945,
          0.2807260155574763,
          0.4623547880690738,
          0.24015579357351505,
          0.3602789439977229,
          0.5719813519813519,
          0.6444859813084112,
          0.5551020408163265,
          0.6284023668639053,
          0.5947139171987992,
          0.5214772727272726,
          0.5769156346749226,
          0.6875,
          0.6617821782178217,
          0.6347576530612244,
          0.5584371042634022,
          0.6609307359307359,
          0.5625,
          0.38667582417582425,
          0.5297475961538461,
          0.5147988505747128,
          0.44241949910554557,
          0.3369565217391305,
          0.17098503965392933
         ]
        },
        {
         "line": {
          "color": "orange"
         },
         "meanline": {
          "visible": true
         },
         "name": "TFIDF",
         "scalegroup": "TFIDF",
         "side": "positive",
         "type": "violin",
         "x0": "F1",
         "y": [
          0.3214046822742475,
          0.3055315471045808,
          0.3384615384615385,
          0.29846153846153844,
          0.19981900452488688,
          0.48571000149947524,
          0.37730515638207945,
          0.2807260155574763,
          0.4623547880690738,
          0.24015579357351505,
          0.3602789439977229,
          0.5719813519813519,
          0.6444859813084112,
          0.5551020408163265,
          0.6284023668639053,
          0.5947139171987992,
          0.5214772727272726,
          0.5769156346749226,
          0.6875,
          0.6617821782178217,
          0.6347576530612244,
          0.5584371042634022,
          0.6609307359307359,
          0.5625,
          0.38667582417582425,
          0.5297475961538461,
          0.5147988505747128,
          0.44241949910554557,
          0.3369565217391305,
          0.17098503965392933
         ]
        },
        {
         "line": {
          "color": "blue"
         },
         "meanline": {
          "visible": true
         },
         "name": "BOW",
         "scalegroup": "BOW",
         "side": "negative",
         "type": "violin",
         "x0": "Recall",
         "y": [
          0.47692307692307695,
          0.4307692307692308,
          0.49230769230769234,
          0.4153846153846154,
          0.35384615384615387,
          0.5846153846153846,
          0.49230769230769234,
          0.4307692307692308,
          0.5692307692307692,
          0.36923076923076925,
          0.49230769230769234,
          0.6461538461538462,
          0.7230769230769231,
          0.6307692307692307,
          0.6923076923076923,
          0.6923076923076923,
          0.609375,
          0.671875,
          0.75,
          0.71875,
          0.6875,
          0.640625,
          0.71875,
          0.65625,
          0.515625,
          0.640625,
          0.59375,
          0.53125,
          0.484375,
          0.28125
         ]
        },
        {
         "line": {
          "color": "orange"
         },
         "meanline": {
          "visible": true
         },
         "name": "TFIDF",
         "side": "positive",
         "type": "violin",
         "x0": "Recall",
         "y": [
          0.47692307692307695,
          0.4307692307692308,
          0.49230769230769234,
          0.4153846153846154,
          0.35384615384615387,
          0.5846153846153846,
          0.49230769230769234,
          0.4307692307692308,
          0.5692307692307692,
          0.36923076923076925,
          0.49230769230769234,
          0.6461538461538462,
          0.7230769230769231,
          0.6307692307692307,
          0.6923076923076923,
          0.6923076923076923,
          0.609375,
          0.671875,
          0.75,
          0.71875,
          0.6875,
          0.640625,
          0.71875,
          0.65625,
          0.515625,
          0.640625,
          0.59375,
          0.53125,
          0.484375,
          0.28125
         ]
        }
       ],
       "layout": {
        "template": {
         "data": {
          "bar": [
           {
            "error_x": {
             "color": "#2a3f5f"
            },
            "error_y": {
             "color": "#2a3f5f"
            },
            "marker": {
             "line": {
              "color": "#E5ECF6",
              "width": 0.5
             }
            },
            "type": "bar"
           }
          ],
          "barpolar": [
           {
            "marker": {
             "line": {
              "color": "#E5ECF6",
              "width": 0.5
             }
            },
            "type": "barpolar"
           }
          ],
          "carpet": [
           {
            "aaxis": {
             "endlinecolor": "#2a3f5f",
             "gridcolor": "white",
             "linecolor": "white",
             "minorgridcolor": "white",
             "startlinecolor": "#2a3f5f"
            },
            "baxis": {
             "endlinecolor": "#2a3f5f",
             "gridcolor": "white",
             "linecolor": "white",
             "minorgridcolor": "white",
             "startlinecolor": "#2a3f5f"
            },
            "type": "carpet"
           }
          ],
          "choropleth": [
           {
            "colorbar": {
             "outlinewidth": 0,
             "ticks": ""
            },
            "type": "choropleth"
           }
          ],
          "contour": [
           {
            "colorbar": {
             "outlinewidth": 0,
             "ticks": ""
            },
            "colorscale": [
             [
              0,
              "#0d0887"
             ],
             [
              0.1111111111111111,
              "#46039f"
             ],
             [
              0.2222222222222222,
              "#7201a8"
             ],
             [
              0.3333333333333333,
              "#9c179e"
             ],
             [
              0.4444444444444444,
              "#bd3786"
             ],
             [
              0.5555555555555556,
              "#d8576b"
             ],
             [
              0.6666666666666666,
              "#ed7953"
             ],
             [
              0.7777777777777778,
              "#fb9f3a"
             ],
             [
              0.8888888888888888,
              "#fdca26"
             ],
             [
              1,
              "#f0f921"
             ]
            ],
            "type": "contour"
           }
          ],
          "contourcarpet": [
           {
            "colorbar": {
             "outlinewidth": 0,
             "ticks": ""
            },
            "type": "contourcarpet"
           }
          ],
          "heatmap": [
           {
            "colorbar": {
             "outlinewidth": 0,
             "ticks": ""
            },
            "colorscale": [
             [
              0,
              "#0d0887"
             ],
             [
              0.1111111111111111,
              "#46039f"
             ],
             [
              0.2222222222222222,
              "#7201a8"
             ],
             [
              0.3333333333333333,
              "#9c179e"
             ],
             [
              0.4444444444444444,
              "#bd3786"
             ],
             [
              0.5555555555555556,
              "#d8576b"
             ],
             [
              0.6666666666666666,
              "#ed7953"
             ],
             [
              0.7777777777777778,
              "#fb9f3a"
             ],
             [
              0.8888888888888888,
              "#fdca26"
             ],
             [
              1,
              "#f0f921"
             ]
            ],
            "type": "heatmap"
           }
          ],
          "heatmapgl": [
           {
            "colorbar": {
             "outlinewidth": 0,
             "ticks": ""
            },
            "colorscale": [
             [
              0,
              "#0d0887"
             ],
             [
              0.1111111111111111,
              "#46039f"
             ],
             [
              0.2222222222222222,
              "#7201a8"
             ],
             [
              0.3333333333333333,
              "#9c179e"
             ],
             [
              0.4444444444444444,
              "#bd3786"
             ],
             [
              0.5555555555555556,
              "#d8576b"
             ],
             [
              0.6666666666666666,
              "#ed7953"
             ],
             [
              0.7777777777777778,
              "#fb9f3a"
             ],
             [
              0.8888888888888888,
              "#fdca26"
             ],
             [
              1,
              "#f0f921"
             ]
            ],
            "type": "heatmapgl"
           }
          ],
          "histogram": [
           {
            "marker": {
             "colorbar": {
              "outlinewidth": 0,
              "ticks": ""
             }
            },
            "type": "histogram"
           }
          ],
          "histogram2d": [
           {
            "colorbar": {
             "outlinewidth": 0,
             "ticks": ""
            },
            "colorscale": [
             [
              0,
              "#0d0887"
             ],
             [
              0.1111111111111111,
              "#46039f"
             ],
             [
              0.2222222222222222,
              "#7201a8"
             ],
             [
              0.3333333333333333,
              "#9c179e"
             ],
             [
              0.4444444444444444,
              "#bd3786"
             ],
             [
              0.5555555555555556,
              "#d8576b"
             ],
             [
              0.6666666666666666,
              "#ed7953"
             ],
             [
              0.7777777777777778,
              "#fb9f3a"
             ],
             [
              0.8888888888888888,
              "#fdca26"
             ],
             [
              1,
              "#f0f921"
             ]
            ],
            "type": "histogram2d"
           }
          ],
          "histogram2dcontour": [
           {
            "colorbar": {
             "outlinewidth": 0,
             "ticks": ""
            },
            "colorscale": [
             [
              0,
              "#0d0887"
             ],
             [
              0.1111111111111111,
              "#46039f"
             ],
             [
              0.2222222222222222,
              "#7201a8"
             ],
             [
              0.3333333333333333,
              "#9c179e"
             ],
             [
              0.4444444444444444,
              "#bd3786"
             ],
             [
              0.5555555555555556,
              "#d8576b"
             ],
             [
              0.6666666666666666,
              "#ed7953"
             ],
             [
              0.7777777777777778,
              "#fb9f3a"
             ],
             [
              0.8888888888888888,
              "#fdca26"
             ],
             [
              1,
              "#f0f921"
             ]
            ],
            "type": "histogram2dcontour"
           }
          ],
          "mesh3d": [
           {
            "colorbar": {
             "outlinewidth": 0,
             "ticks": ""
            },
            "type": "mesh3d"
           }
          ],
          "parcoords": [
           {
            "line": {
             "colorbar": {
              "outlinewidth": 0,
              "ticks": ""
             }
            },
            "type": "parcoords"
           }
          ],
          "pie": [
           {
            "automargin": true,
            "type": "pie"
           }
          ],
          "scatter": [
           {
            "marker": {
             "colorbar": {
              "outlinewidth": 0,
              "ticks": ""
             }
            },
            "type": "scatter"
           }
          ],
          "scatter3d": [
           {
            "line": {
             "colorbar": {
              "outlinewidth": 0,
              "ticks": ""
             }
            },
            "marker": {
             "colorbar": {
              "outlinewidth": 0,
              "ticks": ""
             }
            },
            "type": "scatter3d"
           }
          ],
          "scattercarpet": [
           {
            "marker": {
             "colorbar": {
              "outlinewidth": 0,
              "ticks": ""
             }
            },
            "type": "scattercarpet"
           }
          ],
          "scattergeo": [
           {
            "marker": {
             "colorbar": {
              "outlinewidth": 0,
              "ticks": ""
             }
            },
            "type": "scattergeo"
           }
          ],
          "scattergl": [
           {
            "marker": {
             "colorbar": {
              "outlinewidth": 0,
              "ticks": ""
             }
            },
            "type": "scattergl"
           }
          ],
          "scattermapbox": [
           {
            "marker": {
             "colorbar": {
              "outlinewidth": 0,
              "ticks": ""
             }
            },
            "type": "scattermapbox"
           }
          ],
          "scatterpolar": [
           {
            "marker": {
             "colorbar": {
              "outlinewidth": 0,
              "ticks": ""
             }
            },
            "type": "scatterpolar"
           }
          ],
          "scatterpolargl": [
           {
            "marker": {
             "colorbar": {
              "outlinewidth": 0,
              "ticks": ""
             }
            },
            "type": "scatterpolargl"
           }
          ],
          "scatterternary": [
           {
            "marker": {
             "colorbar": {
              "outlinewidth": 0,
              "ticks": ""
             }
            },
            "type": "scatterternary"
           }
          ],
          "surface": [
           {
            "colorbar": {
             "outlinewidth": 0,
             "ticks": ""
            },
            "colorscale": [
             [
              0,
              "#0d0887"
             ],
             [
              0.1111111111111111,
              "#46039f"
             ],
             [
              0.2222222222222222,
              "#7201a8"
             ],
             [
              0.3333333333333333,
              "#9c179e"
             ],
             [
              0.4444444444444444,
              "#bd3786"
             ],
             [
              0.5555555555555556,
              "#d8576b"
             ],
             [
              0.6666666666666666,
              "#ed7953"
             ],
             [
              0.7777777777777778,
              "#fb9f3a"
             ],
             [
              0.8888888888888888,
              "#fdca26"
             ],
             [
              1,
              "#f0f921"
             ]
            ],
            "type": "surface"
           }
          ],
          "table": [
           {
            "cells": {
             "fill": {
              "color": "#EBF0F8"
             },
             "line": {
              "color": "white"
             }
            },
            "header": {
             "fill": {
              "color": "#C8D4E3"
             },
             "line": {
              "color": "white"
             }
            },
            "type": "table"
           }
          ]
         },
         "layout": {
          "annotationdefaults": {
           "arrowcolor": "#2a3f5f",
           "arrowhead": 0,
           "arrowwidth": 1
          },
          "coloraxis": {
           "colorbar": {
            "outlinewidth": 0,
            "ticks": ""
           }
          },
          "colorscale": {
           "diverging": [
            [
             0,
             "#8e0152"
            ],
            [
             0.1,
             "#c51b7d"
            ],
            [
             0.2,
             "#de77ae"
            ],
            [
             0.3,
             "#f1b6da"
            ],
            [
             0.4,
             "#fde0ef"
            ],
            [
             0.5,
             "#f7f7f7"
            ],
            [
             0.6,
             "#e6f5d0"
            ],
            [
             0.7,
             "#b8e186"
            ],
            [
             0.8,
             "#7fbc41"
            ],
            [
             0.9,
             "#4d9221"
            ],
            [
             1,
             "#276419"
            ]
           ],
           "sequential": [
            [
             0,
             "#0d0887"
            ],
            [
             0.1111111111111111,
             "#46039f"
            ],
            [
             0.2222222222222222,
             "#7201a8"
            ],
            [
             0.3333333333333333,
             "#9c179e"
            ],
            [
             0.4444444444444444,
             "#bd3786"
            ],
            [
             0.5555555555555556,
             "#d8576b"
            ],
            [
             0.6666666666666666,
             "#ed7953"
            ],
            [
             0.7777777777777778,
             "#fb9f3a"
            ],
            [
             0.8888888888888888,
             "#fdca26"
            ],
            [
             1,
             "#f0f921"
            ]
           ],
           "sequentialminus": [
            [
             0,
             "#0d0887"
            ],
            [
             0.1111111111111111,
             "#46039f"
            ],
            [
             0.2222222222222222,
             "#7201a8"
            ],
            [
             0.3333333333333333,
             "#9c179e"
            ],
            [
             0.4444444444444444,
             "#bd3786"
            ],
            [
             0.5555555555555556,
             "#d8576b"
            ],
            [
             0.6666666666666666,
             "#ed7953"
            ],
            [
             0.7777777777777778,
             "#fb9f3a"
            ],
            [
             0.8888888888888888,
             "#fdca26"
            ],
            [
             1,
             "#f0f921"
            ]
           ]
          },
          "colorway": [
           "#636efa",
           "#EF553B",
           "#00cc96",
           "#ab63fa",
           "#FFA15A",
           "#19d3f3",
           "#FF6692",
           "#B6E880",
           "#FF97FF",
           "#FECB52"
          ],
          "font": {
           "color": "#2a3f5f"
          },
          "geo": {
           "bgcolor": "white",
           "lakecolor": "white",
           "landcolor": "#E5ECF6",
           "showlakes": true,
           "showland": true,
           "subunitcolor": "white"
          },
          "hoverlabel": {
           "align": "left"
          },
          "hovermode": "closest",
          "mapbox": {
           "style": "light"
          },
          "paper_bgcolor": "white",
          "plot_bgcolor": "#E5ECF6",
          "polar": {
           "angularaxis": {
            "gridcolor": "white",
            "linecolor": "white",
            "ticks": ""
           },
           "bgcolor": "#E5ECF6",
           "radialaxis": {
            "gridcolor": "white",
            "linecolor": "white",
            "ticks": ""
           }
          },
          "scene": {
           "xaxis": {
            "backgroundcolor": "#E5ECF6",
            "gridcolor": "white",
            "gridwidth": 2,
            "linecolor": "white",
            "showbackground": true,
            "ticks": "",
            "zerolinecolor": "white"
           },
           "yaxis": {
            "backgroundcolor": "#E5ECF6",
            "gridcolor": "white",
            "gridwidth": 2,
            "linecolor": "white",
            "showbackground": true,
            "ticks": "",
            "zerolinecolor": "white"
           },
           "zaxis": {
            "backgroundcolor": "#E5ECF6",
            "gridcolor": "white",
            "gridwidth": 2,
            "linecolor": "white",
            "showbackground": true,
            "ticks": "",
            "zerolinecolor": "white"
           }
          },
          "shapedefaults": {
           "line": {
            "color": "#2a3f5f"
           }
          },
          "ternary": {
           "aaxis": {
            "gridcolor": "white",
            "linecolor": "white",
            "ticks": ""
           },
           "baxis": {
            "gridcolor": "white",
            "linecolor": "white",
            "ticks": ""
           },
           "bgcolor": "#E5ECF6",
           "caxis": {
            "gridcolor": "white",
            "linecolor": "white",
            "ticks": ""
           }
          },
          "title": {
           "x": 0.05
          },
          "xaxis": {
           "automargin": true,
           "gridcolor": "white",
           "linecolor": "white",
           "ticks": "",
           "title": {
            "standoff": 15
           },
           "zerolinecolor": "white",
           "zerolinewidth": 2
          },
          "yaxis": {
           "automargin": true,
           "gridcolor": "white",
           "linecolor": "white",
           "ticks": "",
           "title": {
            "standoff": 15
           },
           "zerolinecolor": "white",
           "zerolinewidth": 2
          }
         }
        },
        "violingap": 0,
        "violinmode": "overlay"
       }
      },
      "text/html": [
       "<div>\n",
       "        \n",
       "        \n",
       "            <div id=\"0b223a53-4f8d-4a12-b98b-77e6ab1c3b39\" class=\"plotly-graph-div\" style=\"height:525px; width:100%;\"></div>\n",
       "            <script type=\"text/javascript\">\n",
       "                require([\"plotly\"], function(Plotly) {\n",
       "                    window.PLOTLYENV=window.PLOTLYENV || {};\n",
       "                    \n",
       "                if (document.getElementById(\"0b223a53-4f8d-4a12-b98b-77e6ab1c3b39\")) {\n",
       "                    Plotly.newPlot(\n",
       "                        '0b223a53-4f8d-4a12-b98b-77e6ab1c3b39',\n",
       "                        [{\"line\": {\"color\": \"blue\"}, \"meanline\": {\"visible\": true}, \"name\": \"BOW\", \"scalegroup\": \"BOW\", \"side\": \"negative\", \"type\": \"violin\", \"x0\": \"Accuracy\", \"y\": [0.47692307692307695, 0.4307692307692308, 0.49230769230769234, 0.4153846153846154, 0.35384615384615387, 0.5846153846153846, 0.49230769230769234, 0.4307692307692308, 0.5692307692307692, 0.36923076923076925, 0.49230769230769234, 0.6461538461538462, 0.7230769230769231, 0.6307692307692307, 0.6923076923076923, 0.6923076923076923, 0.609375, 0.671875, 0.75, 0.71875, 0.6875, 0.640625, 0.71875, 0.65625, 0.515625, 0.640625, 0.59375, 0.53125, 0.484375, 0.28125]}, {\"line\": {\"color\": \"orange\"}, \"meanline\": {\"visible\": true}, \"name\": \"TFIDF\", \"scalegroup\": \"TFIDF\", \"side\": \"positive\", \"type\": \"violin\", \"x0\": \"Accuracy\", \"y\": [0.47692307692307695, 0.4307692307692308, 0.49230769230769234, 0.4153846153846154, 0.35384615384615387, 0.5846153846153846, 0.49230769230769234, 0.4307692307692308, 0.5692307692307692, 0.36923076923076925, 0.49230769230769234, 0.6461538461538462, 0.7230769230769231, 0.6307692307692307, 0.6923076923076923, 0.6923076923076923, 0.609375, 0.671875, 0.75, 0.71875, 0.6875, 0.640625, 0.71875, 0.65625, 0.515625, 0.640625, 0.59375, 0.53125, 0.484375, 0.28125]}, {\"line\": {\"color\": \"blue\"}, \"meanline\": {\"visible\": true}, \"name\": \"BOW\", \"scalegroup\": \"BOW\", \"side\": \"negative\", \"type\": \"violin\", \"x0\": \"Precision\", \"y\": [0.5039092055485498, 0.537452711223203, 0.4271062271062271, 0.6029304029304029, 0.5084489281210592, 0.698974358974359, 0.5325573549257759, 0.4851282051282051, 0.5866145154280747, 0.5338827838827839, 0.5310844892812105, 0.6863553113553112, 0.6912988650693569, 0.5974358974358973, 0.6620599739243808, 0.6554177005789908, 0.5653735632183908, 0.675, 0.7156250000000001, 0.6985432330827067, 0.6934343434343435, 0.5536016949152542, 0.6560704022988506, 0.6015625, 0.508441091954023, 0.6078381147540983, 0.6490384615384616, 0.6374198717948718, 0.49270833333333336, 0.44813762626262627]}, {\"line\": {\"color\": \"orange\"}, \"meanline\": {\"visible\": true}, \"name\": \"TFIDF\", \"scalegroup\": \"TFIDF\", \"side\": \"positive\", \"type\": \"violin\", \"x0\": \"Precision\", \"y\": [0.5039092055485498, 0.537452711223203, 0.4271062271062271, 0.6029304029304029, 0.5084489281210592, 0.698974358974359, 0.5325573549257759, 0.4851282051282051, 0.5866145154280747, 0.5338827838827839, 0.5310844892812105, 0.6863553113553112, 0.6912988650693569, 0.5974358974358973, 0.6620599739243808, 0.6554177005789908, 0.5653735632183908, 0.675, 0.7156250000000001, 0.6985432330827067, 0.6934343434343435, 0.5536016949152542, 0.6560704022988506, 0.6015625, 0.508441091954023, 0.6078381147540983, 0.6490384615384616, 0.6374198717948718, 0.49270833333333336, 0.44813762626262627]}, {\"line\": {\"color\": \"blue\"}, \"meanline\": {\"visible\": true}, \"name\": \"BOW\", \"scalegroup\": \"BOW\", \"side\": \"negative\", \"type\": \"violin\", \"x0\": \"F1\", \"y\": [0.3214046822742475, 0.3055315471045808, 0.3384615384615385, 0.29846153846153844, 0.19981900452488688, 0.48571000149947524, 0.37730515638207945, 0.2807260155574763, 0.4623547880690738, 0.24015579357351505, 0.3602789439977229, 0.5719813519813519, 0.6444859813084112, 0.5551020408163265, 0.6284023668639053, 0.5947139171987992, 0.5214772727272726, 0.5769156346749226, 0.6875, 0.6617821782178217, 0.6347576530612244, 0.5584371042634022, 0.6609307359307359, 0.5625, 0.38667582417582425, 0.5297475961538461, 0.5147988505747128, 0.44241949910554557, 0.3369565217391305, 0.17098503965392933]}, {\"line\": {\"color\": \"orange\"}, \"meanline\": {\"visible\": true}, \"name\": \"TFIDF\", \"scalegroup\": \"TFIDF\", \"side\": \"positive\", \"type\": \"violin\", \"x0\": \"F1\", \"y\": [0.3214046822742475, 0.3055315471045808, 0.3384615384615385, 0.29846153846153844, 0.19981900452488688, 0.48571000149947524, 0.37730515638207945, 0.2807260155574763, 0.4623547880690738, 0.24015579357351505, 0.3602789439977229, 0.5719813519813519, 0.6444859813084112, 0.5551020408163265, 0.6284023668639053, 0.5947139171987992, 0.5214772727272726, 0.5769156346749226, 0.6875, 0.6617821782178217, 0.6347576530612244, 0.5584371042634022, 0.6609307359307359, 0.5625, 0.38667582417582425, 0.5297475961538461, 0.5147988505747128, 0.44241949910554557, 0.3369565217391305, 0.17098503965392933]}, {\"line\": {\"color\": \"blue\"}, \"meanline\": {\"visible\": true}, \"name\": \"BOW\", \"scalegroup\": \"BOW\", \"side\": \"negative\", \"type\": \"violin\", \"x0\": \"Recall\", \"y\": [0.47692307692307695, 0.4307692307692308, 0.49230769230769234, 0.4153846153846154, 0.35384615384615387, 0.5846153846153846, 0.49230769230769234, 0.4307692307692308, 0.5692307692307692, 0.36923076923076925, 0.49230769230769234, 0.6461538461538462, 0.7230769230769231, 0.6307692307692307, 0.6923076923076923, 0.6923076923076923, 0.609375, 0.671875, 0.75, 0.71875, 0.6875, 0.640625, 0.71875, 0.65625, 0.515625, 0.640625, 0.59375, 0.53125, 0.484375, 0.28125]}, {\"line\": {\"color\": \"orange\"}, \"meanline\": {\"visible\": true}, \"name\": \"TFIDF\", \"side\": \"positive\", \"type\": \"violin\", \"x0\": \"Recall\", \"y\": [0.47692307692307695, 0.4307692307692308, 0.49230769230769234, 0.4153846153846154, 0.35384615384615387, 0.5846153846153846, 0.49230769230769234, 0.4307692307692308, 0.5692307692307692, 0.36923076923076925, 0.49230769230769234, 0.6461538461538462, 0.7230769230769231, 0.6307692307692307, 0.6923076923076923, 0.6923076923076923, 0.609375, 0.671875, 0.75, 0.71875, 0.6875, 0.640625, 0.71875, 0.65625, 0.515625, 0.640625, 0.59375, 0.53125, 0.484375, 0.28125]}],\n",
       "                        {\"template\": {\"data\": {\"bar\": [{\"error_x\": {\"color\": \"#2a3f5f\"}, \"error_y\": {\"color\": \"#2a3f5f\"}, \"marker\": {\"line\": {\"color\": \"#E5ECF6\", \"width\": 0.5}}, \"type\": \"bar\"}], \"barpolar\": [{\"marker\": {\"line\": {\"color\": \"#E5ECF6\", \"width\": 0.5}}, \"type\": \"barpolar\"}], \"carpet\": [{\"aaxis\": {\"endlinecolor\": \"#2a3f5f\", \"gridcolor\": \"white\", \"linecolor\": \"white\", \"minorgridcolor\": \"white\", \"startlinecolor\": \"#2a3f5f\"}, \"baxis\": {\"endlinecolor\": \"#2a3f5f\", \"gridcolor\": \"white\", \"linecolor\": \"white\", \"minorgridcolor\": \"white\", \"startlinecolor\": \"#2a3f5f\"}, \"type\": \"carpet\"}], \"choropleth\": [{\"colorbar\": {\"outlinewidth\": 0, \"ticks\": \"\"}, \"type\": \"choropleth\"}], \"contour\": [{\"colorbar\": {\"outlinewidth\": 0, \"ticks\": \"\"}, \"colorscale\": [[0.0, \"#0d0887\"], [0.1111111111111111, \"#46039f\"], [0.2222222222222222, \"#7201a8\"], [0.3333333333333333, \"#9c179e\"], [0.4444444444444444, \"#bd3786\"], [0.5555555555555556, \"#d8576b\"], [0.6666666666666666, \"#ed7953\"], [0.7777777777777778, \"#fb9f3a\"], [0.8888888888888888, \"#fdca26\"], [1.0, \"#f0f921\"]], \"type\": \"contour\"}], \"contourcarpet\": [{\"colorbar\": {\"outlinewidth\": 0, \"ticks\": \"\"}, \"type\": \"contourcarpet\"}], \"heatmap\": [{\"colorbar\": {\"outlinewidth\": 0, \"ticks\": \"\"}, \"colorscale\": [[0.0, \"#0d0887\"], [0.1111111111111111, \"#46039f\"], [0.2222222222222222, \"#7201a8\"], [0.3333333333333333, \"#9c179e\"], [0.4444444444444444, \"#bd3786\"], [0.5555555555555556, \"#d8576b\"], [0.6666666666666666, \"#ed7953\"], [0.7777777777777778, \"#fb9f3a\"], [0.8888888888888888, \"#fdca26\"], [1.0, \"#f0f921\"]], \"type\": \"heatmap\"}], \"heatmapgl\": [{\"colorbar\": {\"outlinewidth\": 0, \"ticks\": \"\"}, \"colorscale\": [[0.0, \"#0d0887\"], [0.1111111111111111, \"#46039f\"], [0.2222222222222222, \"#7201a8\"], [0.3333333333333333, \"#9c179e\"], [0.4444444444444444, \"#bd3786\"], [0.5555555555555556, \"#d8576b\"], [0.6666666666666666, \"#ed7953\"], [0.7777777777777778, \"#fb9f3a\"], [0.8888888888888888, \"#fdca26\"], [1.0, \"#f0f921\"]], \"type\": \"heatmapgl\"}], \"histogram\": [{\"marker\": {\"colorbar\": {\"outlinewidth\": 0, \"ticks\": \"\"}}, \"type\": \"histogram\"}], \"histogram2d\": [{\"colorbar\": {\"outlinewidth\": 0, \"ticks\": \"\"}, \"colorscale\": [[0.0, \"#0d0887\"], [0.1111111111111111, \"#46039f\"], [0.2222222222222222, \"#7201a8\"], [0.3333333333333333, \"#9c179e\"], [0.4444444444444444, \"#bd3786\"], [0.5555555555555556, \"#d8576b\"], [0.6666666666666666, \"#ed7953\"], [0.7777777777777778, \"#fb9f3a\"], [0.8888888888888888, \"#fdca26\"], [1.0, \"#f0f921\"]], \"type\": \"histogram2d\"}], \"histogram2dcontour\": [{\"colorbar\": {\"outlinewidth\": 0, \"ticks\": \"\"}, \"colorscale\": [[0.0, \"#0d0887\"], [0.1111111111111111, \"#46039f\"], [0.2222222222222222, \"#7201a8\"], [0.3333333333333333, \"#9c179e\"], [0.4444444444444444, \"#bd3786\"], [0.5555555555555556, \"#d8576b\"], [0.6666666666666666, \"#ed7953\"], [0.7777777777777778, \"#fb9f3a\"], [0.8888888888888888, \"#fdca26\"], [1.0, \"#f0f921\"]], \"type\": \"histogram2dcontour\"}], \"mesh3d\": [{\"colorbar\": {\"outlinewidth\": 0, \"ticks\": \"\"}, \"type\": \"mesh3d\"}], \"parcoords\": [{\"line\": {\"colorbar\": {\"outlinewidth\": 0, \"ticks\": \"\"}}, \"type\": \"parcoords\"}], \"pie\": [{\"automargin\": true, \"type\": \"pie\"}], \"scatter\": [{\"marker\": {\"colorbar\": {\"outlinewidth\": 0, \"ticks\": \"\"}}, \"type\": \"scatter\"}], \"scatter3d\": [{\"line\": {\"colorbar\": {\"outlinewidth\": 0, \"ticks\": \"\"}}, \"marker\": {\"colorbar\": {\"outlinewidth\": 0, \"ticks\": \"\"}}, \"type\": \"scatter3d\"}], \"scattercarpet\": [{\"marker\": {\"colorbar\": {\"outlinewidth\": 0, \"ticks\": \"\"}}, \"type\": \"scattercarpet\"}], \"scattergeo\": [{\"marker\": {\"colorbar\": {\"outlinewidth\": 0, \"ticks\": \"\"}}, \"type\": \"scattergeo\"}], \"scattergl\": [{\"marker\": {\"colorbar\": {\"outlinewidth\": 0, \"ticks\": \"\"}}, \"type\": \"scattergl\"}], \"scattermapbox\": [{\"marker\": {\"colorbar\": {\"outlinewidth\": 0, \"ticks\": \"\"}}, \"type\": \"scattermapbox\"}], \"scatterpolar\": [{\"marker\": {\"colorbar\": {\"outlinewidth\": 0, \"ticks\": \"\"}}, \"type\": \"scatterpolar\"}], \"scatterpolargl\": [{\"marker\": {\"colorbar\": {\"outlinewidth\": 0, \"ticks\": \"\"}}, \"type\": \"scatterpolargl\"}], \"scatterternary\": [{\"marker\": {\"colorbar\": {\"outlinewidth\": 0, \"ticks\": \"\"}}, \"type\": \"scatterternary\"}], \"surface\": [{\"colorbar\": {\"outlinewidth\": 0, \"ticks\": \"\"}, \"colorscale\": [[0.0, \"#0d0887\"], [0.1111111111111111, \"#46039f\"], [0.2222222222222222, \"#7201a8\"], [0.3333333333333333, \"#9c179e\"], [0.4444444444444444, \"#bd3786\"], [0.5555555555555556, \"#d8576b\"], [0.6666666666666666, \"#ed7953\"], [0.7777777777777778, \"#fb9f3a\"], [0.8888888888888888, \"#fdca26\"], [1.0, \"#f0f921\"]], \"type\": \"surface\"}], \"table\": [{\"cells\": {\"fill\": {\"color\": \"#EBF0F8\"}, \"line\": {\"color\": \"white\"}}, \"header\": {\"fill\": {\"color\": \"#C8D4E3\"}, \"line\": {\"color\": \"white\"}}, \"type\": \"table\"}]}, \"layout\": {\"annotationdefaults\": {\"arrowcolor\": \"#2a3f5f\", \"arrowhead\": 0, \"arrowwidth\": 1}, \"coloraxis\": {\"colorbar\": {\"outlinewidth\": 0, \"ticks\": \"\"}}, \"colorscale\": {\"diverging\": [[0, \"#8e0152\"], [0.1, \"#c51b7d\"], [0.2, \"#de77ae\"], [0.3, \"#f1b6da\"], [0.4, \"#fde0ef\"], [0.5, \"#f7f7f7\"], [0.6, \"#e6f5d0\"], [0.7, \"#b8e186\"], [0.8, \"#7fbc41\"], [0.9, \"#4d9221\"], [1, \"#276419\"]], \"sequential\": [[0.0, \"#0d0887\"], [0.1111111111111111, \"#46039f\"], [0.2222222222222222, \"#7201a8\"], [0.3333333333333333, \"#9c179e\"], [0.4444444444444444, \"#bd3786\"], [0.5555555555555556, \"#d8576b\"], [0.6666666666666666, \"#ed7953\"], [0.7777777777777778, \"#fb9f3a\"], [0.8888888888888888, \"#fdca26\"], [1.0, \"#f0f921\"]], \"sequentialminus\": [[0.0, \"#0d0887\"], [0.1111111111111111, \"#46039f\"], [0.2222222222222222, \"#7201a8\"], [0.3333333333333333, \"#9c179e\"], [0.4444444444444444, \"#bd3786\"], [0.5555555555555556, \"#d8576b\"], [0.6666666666666666, \"#ed7953\"], [0.7777777777777778, \"#fb9f3a\"], [0.8888888888888888, \"#fdca26\"], [1.0, \"#f0f921\"]]}, \"colorway\": [\"#636efa\", \"#EF553B\", \"#00cc96\", \"#ab63fa\", \"#FFA15A\", \"#19d3f3\", \"#FF6692\", \"#B6E880\", \"#FF97FF\", \"#FECB52\"], \"font\": {\"color\": \"#2a3f5f\"}, \"geo\": {\"bgcolor\": \"white\", \"lakecolor\": \"white\", \"landcolor\": \"#E5ECF6\", \"showlakes\": true, \"showland\": true, \"subunitcolor\": \"white\"}, \"hoverlabel\": {\"align\": \"left\"}, \"hovermode\": \"closest\", \"mapbox\": {\"style\": \"light\"}, \"paper_bgcolor\": \"white\", \"plot_bgcolor\": \"#E5ECF6\", \"polar\": {\"angularaxis\": {\"gridcolor\": \"white\", \"linecolor\": \"white\", \"ticks\": \"\"}, \"bgcolor\": \"#E5ECF6\", \"radialaxis\": {\"gridcolor\": \"white\", \"linecolor\": \"white\", \"ticks\": \"\"}}, \"scene\": {\"xaxis\": {\"backgroundcolor\": \"#E5ECF6\", \"gridcolor\": \"white\", \"gridwidth\": 2, \"linecolor\": \"white\", \"showbackground\": true, \"ticks\": \"\", \"zerolinecolor\": \"white\"}, \"yaxis\": {\"backgroundcolor\": \"#E5ECF6\", \"gridcolor\": \"white\", \"gridwidth\": 2, \"linecolor\": \"white\", \"showbackground\": true, \"ticks\": \"\", \"zerolinecolor\": \"white\"}, \"zaxis\": {\"backgroundcolor\": \"#E5ECF6\", \"gridcolor\": \"white\", \"gridwidth\": 2, \"linecolor\": \"white\", \"showbackground\": true, \"ticks\": \"\", \"zerolinecolor\": \"white\"}}, \"shapedefaults\": {\"line\": {\"color\": \"#2a3f5f\"}}, \"ternary\": {\"aaxis\": {\"gridcolor\": \"white\", \"linecolor\": \"white\", \"ticks\": \"\"}, \"baxis\": {\"gridcolor\": \"white\", \"linecolor\": \"white\", \"ticks\": \"\"}, \"bgcolor\": \"#E5ECF6\", \"caxis\": {\"gridcolor\": \"white\", \"linecolor\": \"white\", \"ticks\": \"\"}}, \"title\": {\"x\": 0.05}, \"xaxis\": {\"automargin\": true, \"gridcolor\": \"white\", \"linecolor\": \"white\", \"ticks\": \"\", \"title\": {\"standoff\": 15}, \"zerolinecolor\": \"white\", \"zerolinewidth\": 2}, \"yaxis\": {\"automargin\": true, \"gridcolor\": \"white\", \"linecolor\": \"white\", \"ticks\": \"\", \"title\": {\"standoff\": 15}, \"zerolinecolor\": \"white\", \"zerolinewidth\": 2}}}, \"violingap\": 0, \"violinmode\": \"overlay\"},\n",
       "                        {\"responsive\": true}\n",
       "                    ).then(function(){\n",
       "                            \n",
       "var gd = document.getElementById('0b223a53-4f8d-4a12-b98b-77e6ab1c3b39');\n",
       "var x = new MutationObserver(function (mutations, observer) {{\n",
       "        var display = window.getComputedStyle(gd).display;\n",
       "        if (!display || display === 'none') {{\n",
       "            console.log([gd, 'removed!']);\n",
       "            Plotly.purge(gd);\n",
       "            observer.disconnect();\n",
       "        }}\n",
       "}});\n",
       "\n",
       "// Listen for the removal of the full notebook cells\n",
       "var notebookContainer = gd.closest('#notebook-container');\n",
       "if (notebookContainer) {{\n",
       "    x.observe(notebookContainer, {childList: true});\n",
       "}}\n",
       "\n",
       "// Listen for the clearing of the current output cell\n",
       "var outputEl = gd.closest('.output');\n",
       "if (outputEl) {{\n",
       "    x.observe(outputEl, {childList: true});\n",
       "}}\n",
       "\n",
       "                        })\n",
       "                };\n",
       "                });\n",
       "            </script>\n",
       "        </div>"
      ]
     },
     "metadata": {},
     "output_type": "display_data"
    }
   ],
   "source": [
    "fig = go.Figure()\n",
    "\n",
    "fig.add_trace(go.Violin(y=acc_BOW_BNB, scalegroup='BOW', name='BOW',\n",
    "                        side='negative',\n",
    "                        line_color='blue', x0='Accuracy')\n",
    "             )\n",
    "fig.add_trace(go.Violin(y=acc_TFIDF_BNB, scalegroup='TFIDF', name='TFIDF',\n",
    "                        side='positive',\n",
    "                        line_color='orange', x0='Accuracy')\n",
    "             )\n",
    "\n",
    "fig.add_trace(go.Violin(y=prec_BOW_BNB, scalegroup='BOW', name='BOW',\n",
    "                        side='negative',\n",
    "                        line_color='blue', x0='Precision')\n",
    "             )\n",
    "fig.add_trace(go.Violin(y=prec_TFIDF_BNB, scalegroup='TFIDF', name='TFIDF',\n",
    "                        side='positive',\n",
    "                        line_color='orange', x0='Precision')\n",
    "             )\n",
    "fig.add_trace(go.Violin(y=f1_BOW_BNB, scalegroup='BOW', name='BOW',\n",
    "                        side='negative',\n",
    "                        line_color='blue', x0='F1')\n",
    "             )\n",
    "fig.add_trace(go.Violin(y=f1_TFIDF_BNB, scalegroup='TFIDF', name='TFIDF',\n",
    "                        side='positive',\n",
    "                        line_color='orange', x0='F1')\n",
    "             )\n",
    "\n",
    "fig.add_trace(go.Violin(y=recall_BOW_BNB, scalegroup='BOW', name='BOW',\n",
    "                        side='negative',\n",
    "                        line_color='blue', x0='Recall')\n",
    "             )\n",
    "fig.add_trace(go.Violin(y=recall_TFIDF_BNB, name='TFIDF',\n",
    "                        side='positive',\n",
    "                        line_color='orange', x0='Recall')\n",
    "             )\n",
    "\n",
    "fig.update_traces(meanline_visible=True)\n",
    "fig.update_layout(violingap=0, violinmode='overlay')\n",
    "fig.show()\n",
    "\n"
   ]
  },
  {
   "cell_type": "code",
   "execution_count": 26,
   "metadata": {},
   "outputs": [
    {
     "data": {
      "application/vnd.plotly.v1+json": {
       "config": {
        "plotlyServerURL": "https://plot.ly"
       },
       "data": [
        {
         "line": {
          "color": "blue"
         },
         "meanline": {
          "visible": true
         },
         "name": "BOW",
         "scalegroup": "BOW",
         "side": "negative",
         "type": "violin",
         "x0": "Accuracy",
         "y": [
          0.5076923076923077,
          0.4307692307692308,
          0.5846153846153846,
          0.4,
          0.35384615384615387,
          0.5076923076923077,
          0.5692307692307692,
          0.46153846153846156,
          0.5076923076923077,
          0.4153846153846154,
          0.5846153846153846,
          0.5846153846153846,
          0.6,
          0.5846153846153846,
          0.7230769230769231,
          0.6307692307692307,
          0.5625,
          0.671875,
          0.65625,
          0.71875,
          0.53125,
          0.671875,
          0.578125,
          0.625,
          0.46875,
          0.515625,
          0.515625,
          0.546875,
          0.5,
          0.375
         ]
        },
        {
         "line": {
          "color": "orange"
         },
         "meanline": {
          "visible": true
         },
         "name": "TFIDF",
         "scalegroup": "TFIDF",
         "side": "positive",
         "type": "violin",
         "x0": "Accuracy",
         "y": [
          0.5076923076923077,
          0.4461538461538462,
          0.5692307692307692,
          0.4307692307692308,
          0.35384615384615387,
          0.5692307692307692,
          0.5230769230769231,
          0.46153846153846156,
          0.5846153846153846,
          0.4,
          0.5538461538461539,
          0.676923076923077,
          0.676923076923077,
          0.676923076923077,
          0.7538461538461538,
          0.676923076923077,
          0.640625,
          0.734375,
          0.734375,
          0.734375,
          0.71875,
          0.703125,
          0.671875,
          0.6875,
          0.5,
          0.65625,
          0.546875,
          0.578125,
          0.515625,
          0.328125
         ]
        },
        {
         "line": {
          "color": "blue"
         },
         "meanline": {
          "visible": true
         },
         "name": "BOW",
         "scalegroup": "BOW",
         "side": "negative",
         "type": "violin",
         "x0": "Precision",
         "y": [
          0.5521153846153847,
          0.4626681011296396,
          0.5936454849498328,
          0.4106280193236715,
          0.29000000000000004,
          0.5374358974358975,
          0.5576857330703484,
          0.5748573676962424,
          0.5549450549450549,
          0.48625874125874124,
          0.6195348454963839,
          0.6259906759906759,
          0.5663431952662722,
          0.5728049728049728,
          0.7373626373626374,
          0.668974358974359,
          0.5435753105590062,
          0.674781976744186,
          0.7015534332688588,
          0.7309027777777778,
          0.5868969298245613,
          0.6893229166666668,
          0.6356162891986064,
          0.658922697368421,
          0.469385162601626,
          0.5446220408895266,
          0.5068910256410256,
          0.560761848805327,
          0.4669744318181818,
          0.48125
         ]
        },
        {
         "line": {
          "color": "orange"
         },
         "meanline": {
          "visible": true
         },
         "name": "TFIDF",
         "scalegroup": "TFIDF",
         "side": "positive",
         "type": "violin",
         "x0": "Precision",
         "y": [
          0.5042421729214183,
          0.4658569500674764,
          0.6181422351233673,
          0.5224963715529753,
          0.26056587091069844,
          0.6026075619295959,
          0.5827945639266394,
          0.5586117586117586,
          0.49840938722294653,
          0.46858526089295316,
          0.5834976988823143,
          0.6598290598290599,
          0.6463369963369963,
          0.6642011834319526,
          0.7318681318681318,
          0.6653846153846154,
          0.6328125,
          0.7218455188679246,
          0.673287429378531,
          0.7037146226415094,
          0.7177966101694915,
          0.7006655092592592,
          0.5827850877192982,
          0.7040719696969697,
          0.521875,
          0.6796875,
          0.5509025621118012,
          0.6690051020408163,
          0.4660101540616246,
          0.40433673469387754
         ]
        },
        {
         "line": {
          "color": "blue"
         },
         "meanline": {
          "visible": true
         },
         "name": "BOW",
         "scalegroup": "BOW",
         "side": "negative",
         "type": "violin",
         "x0": "F1",
         "y": [
          0.43395561226202867,
          0.3713083497698883,
          0.5457459406826495,
          0.33778221778221784,
          0.25369560541974334,
          0.44622722269781095,
          0.5378773125608569,
          0.40216849816849815,
          0.48852324146441795,
          0.3489094821842846,
          0.5515384615384615,
          0.5742298081728366,
          0.5816976127320954,
          0.5770707311264586,
          0.7286268108549275,
          0.6200119791221015,
          0.543939393939394,
          0.6706495098039216,
          0.6699999999999999,
          0.7236178498467823,
          0.5554659942680776,
          0.6586438923395447,
          0.5994318181818181,
          0.6060959586806813,
          0.4474608537108537,
          0.5194940476190476,
          0.5070166320166319,
          0.511986955516885,
          0.45188672111312767,
          0.33017993183640737
         ]
        },
        {
         "line": {
          "color": "orange"
         },
         "meanline": {
          "visible": true
         },
         "name": "TFIDF",
         "scalegroup": "TFIDF",
         "side": "positive",
         "type": "violin",
         "x0": "F1",
         "y": [
          0.3983516483516484,
          0.3518552036199096,
          0.5087719482318133,
          0.3459417775207249,
          0.22086630230850804,
          0.4620528407762451,
          0.4453580901856764,
          0.3392157489373941,
          0.48616045608526814,
          0.29454029304029306,
          0.48430510665804777,
          0.6247522851538044,
          0.6280060331825037,
          0.6403639371381307,
          0.7387651821862349,
          0.614941494149415,
          0.5714285714285714,
          0.6838815789473683,
          0.6705951072017593,
          0.700977233676976,
          0.6379114145658263,
          0.6693975667189953,
          0.6158763111888111,
          0.6339285714285714,
          0.41226438492063494,
          0.602770618556701,
          0.51171875,
          0.5064319779116466,
          0.4377094776163477,
          0.24493691084053418
         ]
        },
        {
         "line": {
          "color": "blue"
         },
         "meanline": {
          "visible": true
         },
         "name": "BOW",
         "scalegroup": "BOW",
         "side": "negative",
         "type": "violin",
         "x0": "Recall",
         "y": [
          0.5076923076923077,
          0.4307692307692308,
          0.5846153846153846,
          0.4,
          0.35384615384615387,
          0.5076923076923077,
          0.5692307692307692,
          0.46153846153846156,
          0.5076923076923077,
          0.4153846153846154,
          0.5846153846153846,
          0.5846153846153846,
          0.6,
          0.5846153846153846,
          0.7230769230769231,
          0.6307692307692307,
          0.5625,
          0.671875,
          0.65625,
          0.71875,
          0.53125,
          0.671875,
          0.578125,
          0.625,
          0.46875,
          0.515625,
          0.515625,
          0.546875,
          0.5,
          0.375
         ]
        },
        {
         "line": {
          "color": "orange"
         },
         "meanline": {
          "visible": true
         },
         "name": "TFIDF",
         "side": "positive",
         "type": "violin",
         "x0": "Recall",
         "y": [
          0.5076923076923077,
          0.4461538461538462,
          0.5692307692307692,
          0.4307692307692308,
          0.35384615384615387,
          0.5692307692307692,
          0.5230769230769231,
          0.46153846153846156,
          0.5846153846153846,
          0.4,
          0.5538461538461539,
          0.676923076923077,
          0.676923076923077,
          0.676923076923077,
          0.7538461538461538,
          0.676923076923077,
          0.640625,
          0.734375,
          0.734375,
          0.734375,
          0.71875,
          0.703125,
          0.671875,
          0.6875,
          0.5,
          0.65625,
          0.546875,
          0.578125,
          0.515625,
          0.328125
         ]
        }
       ],
       "layout": {
        "template": {
         "data": {
          "bar": [
           {
            "error_x": {
             "color": "#2a3f5f"
            },
            "error_y": {
             "color": "#2a3f5f"
            },
            "marker": {
             "line": {
              "color": "#E5ECF6",
              "width": 0.5
             }
            },
            "type": "bar"
           }
          ],
          "barpolar": [
           {
            "marker": {
             "line": {
              "color": "#E5ECF6",
              "width": 0.5
             }
            },
            "type": "barpolar"
           }
          ],
          "carpet": [
           {
            "aaxis": {
             "endlinecolor": "#2a3f5f",
             "gridcolor": "white",
             "linecolor": "white",
             "minorgridcolor": "white",
             "startlinecolor": "#2a3f5f"
            },
            "baxis": {
             "endlinecolor": "#2a3f5f",
             "gridcolor": "white",
             "linecolor": "white",
             "minorgridcolor": "white",
             "startlinecolor": "#2a3f5f"
            },
            "type": "carpet"
           }
          ],
          "choropleth": [
           {
            "colorbar": {
             "outlinewidth": 0,
             "ticks": ""
            },
            "type": "choropleth"
           }
          ],
          "contour": [
           {
            "colorbar": {
             "outlinewidth": 0,
             "ticks": ""
            },
            "colorscale": [
             [
              0,
              "#0d0887"
             ],
             [
              0.1111111111111111,
              "#46039f"
             ],
             [
              0.2222222222222222,
              "#7201a8"
             ],
             [
              0.3333333333333333,
              "#9c179e"
             ],
             [
              0.4444444444444444,
              "#bd3786"
             ],
             [
              0.5555555555555556,
              "#d8576b"
             ],
             [
              0.6666666666666666,
              "#ed7953"
             ],
             [
              0.7777777777777778,
              "#fb9f3a"
             ],
             [
              0.8888888888888888,
              "#fdca26"
             ],
             [
              1,
              "#f0f921"
             ]
            ],
            "type": "contour"
           }
          ],
          "contourcarpet": [
           {
            "colorbar": {
             "outlinewidth": 0,
             "ticks": ""
            },
            "type": "contourcarpet"
           }
          ],
          "heatmap": [
           {
            "colorbar": {
             "outlinewidth": 0,
             "ticks": ""
            },
            "colorscale": [
             [
              0,
              "#0d0887"
             ],
             [
              0.1111111111111111,
              "#46039f"
             ],
             [
              0.2222222222222222,
              "#7201a8"
             ],
             [
              0.3333333333333333,
              "#9c179e"
             ],
             [
              0.4444444444444444,
              "#bd3786"
             ],
             [
              0.5555555555555556,
              "#d8576b"
             ],
             [
              0.6666666666666666,
              "#ed7953"
             ],
             [
              0.7777777777777778,
              "#fb9f3a"
             ],
             [
              0.8888888888888888,
              "#fdca26"
             ],
             [
              1,
              "#f0f921"
             ]
            ],
            "type": "heatmap"
           }
          ],
          "heatmapgl": [
           {
            "colorbar": {
             "outlinewidth": 0,
             "ticks": ""
            },
            "colorscale": [
             [
              0,
              "#0d0887"
             ],
             [
              0.1111111111111111,
              "#46039f"
             ],
             [
              0.2222222222222222,
              "#7201a8"
             ],
             [
              0.3333333333333333,
              "#9c179e"
             ],
             [
              0.4444444444444444,
              "#bd3786"
             ],
             [
              0.5555555555555556,
              "#d8576b"
             ],
             [
              0.6666666666666666,
              "#ed7953"
             ],
             [
              0.7777777777777778,
              "#fb9f3a"
             ],
             [
              0.8888888888888888,
              "#fdca26"
             ],
             [
              1,
              "#f0f921"
             ]
            ],
            "type": "heatmapgl"
           }
          ],
          "histogram": [
           {
            "marker": {
             "colorbar": {
              "outlinewidth": 0,
              "ticks": ""
             }
            },
            "type": "histogram"
           }
          ],
          "histogram2d": [
           {
            "colorbar": {
             "outlinewidth": 0,
             "ticks": ""
            },
            "colorscale": [
             [
              0,
              "#0d0887"
             ],
             [
              0.1111111111111111,
              "#46039f"
             ],
             [
              0.2222222222222222,
              "#7201a8"
             ],
             [
              0.3333333333333333,
              "#9c179e"
             ],
             [
              0.4444444444444444,
              "#bd3786"
             ],
             [
              0.5555555555555556,
              "#d8576b"
             ],
             [
              0.6666666666666666,
              "#ed7953"
             ],
             [
              0.7777777777777778,
              "#fb9f3a"
             ],
             [
              0.8888888888888888,
              "#fdca26"
             ],
             [
              1,
              "#f0f921"
             ]
            ],
            "type": "histogram2d"
           }
          ],
          "histogram2dcontour": [
           {
            "colorbar": {
             "outlinewidth": 0,
             "ticks": ""
            },
            "colorscale": [
             [
              0,
              "#0d0887"
             ],
             [
              0.1111111111111111,
              "#46039f"
             ],
             [
              0.2222222222222222,
              "#7201a8"
             ],
             [
              0.3333333333333333,
              "#9c179e"
             ],
             [
              0.4444444444444444,
              "#bd3786"
             ],
             [
              0.5555555555555556,
              "#d8576b"
             ],
             [
              0.6666666666666666,
              "#ed7953"
             ],
             [
              0.7777777777777778,
              "#fb9f3a"
             ],
             [
              0.8888888888888888,
              "#fdca26"
             ],
             [
              1,
              "#f0f921"
             ]
            ],
            "type": "histogram2dcontour"
           }
          ],
          "mesh3d": [
           {
            "colorbar": {
             "outlinewidth": 0,
             "ticks": ""
            },
            "type": "mesh3d"
           }
          ],
          "parcoords": [
           {
            "line": {
             "colorbar": {
              "outlinewidth": 0,
              "ticks": ""
             }
            },
            "type": "parcoords"
           }
          ],
          "pie": [
           {
            "automargin": true,
            "type": "pie"
           }
          ],
          "scatter": [
           {
            "marker": {
             "colorbar": {
              "outlinewidth": 0,
              "ticks": ""
             }
            },
            "type": "scatter"
           }
          ],
          "scatter3d": [
           {
            "line": {
             "colorbar": {
              "outlinewidth": 0,
              "ticks": ""
             }
            },
            "marker": {
             "colorbar": {
              "outlinewidth": 0,
              "ticks": ""
             }
            },
            "type": "scatter3d"
           }
          ],
          "scattercarpet": [
           {
            "marker": {
             "colorbar": {
              "outlinewidth": 0,
              "ticks": ""
             }
            },
            "type": "scattercarpet"
           }
          ],
          "scattergeo": [
           {
            "marker": {
             "colorbar": {
              "outlinewidth": 0,
              "ticks": ""
             }
            },
            "type": "scattergeo"
           }
          ],
          "scattergl": [
           {
            "marker": {
             "colorbar": {
              "outlinewidth": 0,
              "ticks": ""
             }
            },
            "type": "scattergl"
           }
          ],
          "scattermapbox": [
           {
            "marker": {
             "colorbar": {
              "outlinewidth": 0,
              "ticks": ""
             }
            },
            "type": "scattermapbox"
           }
          ],
          "scatterpolar": [
           {
            "marker": {
             "colorbar": {
              "outlinewidth": 0,
              "ticks": ""
             }
            },
            "type": "scatterpolar"
           }
          ],
          "scatterpolargl": [
           {
            "marker": {
             "colorbar": {
              "outlinewidth": 0,
              "ticks": ""
             }
            },
            "type": "scatterpolargl"
           }
          ],
          "scatterternary": [
           {
            "marker": {
             "colorbar": {
              "outlinewidth": 0,
              "ticks": ""
             }
            },
            "type": "scatterternary"
           }
          ],
          "surface": [
           {
            "colorbar": {
             "outlinewidth": 0,
             "ticks": ""
            },
            "colorscale": [
             [
              0,
              "#0d0887"
             ],
             [
              0.1111111111111111,
              "#46039f"
             ],
             [
              0.2222222222222222,
              "#7201a8"
             ],
             [
              0.3333333333333333,
              "#9c179e"
             ],
             [
              0.4444444444444444,
              "#bd3786"
             ],
             [
              0.5555555555555556,
              "#d8576b"
             ],
             [
              0.6666666666666666,
              "#ed7953"
             ],
             [
              0.7777777777777778,
              "#fb9f3a"
             ],
             [
              0.8888888888888888,
              "#fdca26"
             ],
             [
              1,
              "#f0f921"
             ]
            ],
            "type": "surface"
           }
          ],
          "table": [
           {
            "cells": {
             "fill": {
              "color": "#EBF0F8"
             },
             "line": {
              "color": "white"
             }
            },
            "header": {
             "fill": {
              "color": "#C8D4E3"
             },
             "line": {
              "color": "white"
             }
            },
            "type": "table"
           }
          ]
         },
         "layout": {
          "annotationdefaults": {
           "arrowcolor": "#2a3f5f",
           "arrowhead": 0,
           "arrowwidth": 1
          },
          "coloraxis": {
           "colorbar": {
            "outlinewidth": 0,
            "ticks": ""
           }
          },
          "colorscale": {
           "diverging": [
            [
             0,
             "#8e0152"
            ],
            [
             0.1,
             "#c51b7d"
            ],
            [
             0.2,
             "#de77ae"
            ],
            [
             0.3,
             "#f1b6da"
            ],
            [
             0.4,
             "#fde0ef"
            ],
            [
             0.5,
             "#f7f7f7"
            ],
            [
             0.6,
             "#e6f5d0"
            ],
            [
             0.7,
             "#b8e186"
            ],
            [
             0.8,
             "#7fbc41"
            ],
            [
             0.9,
             "#4d9221"
            ],
            [
             1,
             "#276419"
            ]
           ],
           "sequential": [
            [
             0,
             "#0d0887"
            ],
            [
             0.1111111111111111,
             "#46039f"
            ],
            [
             0.2222222222222222,
             "#7201a8"
            ],
            [
             0.3333333333333333,
             "#9c179e"
            ],
            [
             0.4444444444444444,
             "#bd3786"
            ],
            [
             0.5555555555555556,
             "#d8576b"
            ],
            [
             0.6666666666666666,
             "#ed7953"
            ],
            [
             0.7777777777777778,
             "#fb9f3a"
            ],
            [
             0.8888888888888888,
             "#fdca26"
            ],
            [
             1,
             "#f0f921"
            ]
           ],
           "sequentialminus": [
            [
             0,
             "#0d0887"
            ],
            [
             0.1111111111111111,
             "#46039f"
            ],
            [
             0.2222222222222222,
             "#7201a8"
            ],
            [
             0.3333333333333333,
             "#9c179e"
            ],
            [
             0.4444444444444444,
             "#bd3786"
            ],
            [
             0.5555555555555556,
             "#d8576b"
            ],
            [
             0.6666666666666666,
             "#ed7953"
            ],
            [
             0.7777777777777778,
             "#fb9f3a"
            ],
            [
             0.8888888888888888,
             "#fdca26"
            ],
            [
             1,
             "#f0f921"
            ]
           ]
          },
          "colorway": [
           "#636efa",
           "#EF553B",
           "#00cc96",
           "#ab63fa",
           "#FFA15A",
           "#19d3f3",
           "#FF6692",
           "#B6E880",
           "#FF97FF",
           "#FECB52"
          ],
          "font": {
           "color": "#2a3f5f"
          },
          "geo": {
           "bgcolor": "white",
           "lakecolor": "white",
           "landcolor": "#E5ECF6",
           "showlakes": true,
           "showland": true,
           "subunitcolor": "white"
          },
          "hoverlabel": {
           "align": "left"
          },
          "hovermode": "closest",
          "mapbox": {
           "style": "light"
          },
          "paper_bgcolor": "white",
          "plot_bgcolor": "#E5ECF6",
          "polar": {
           "angularaxis": {
            "gridcolor": "white",
            "linecolor": "white",
            "ticks": ""
           },
           "bgcolor": "#E5ECF6",
           "radialaxis": {
            "gridcolor": "white",
            "linecolor": "white",
            "ticks": ""
           }
          },
          "scene": {
           "xaxis": {
            "backgroundcolor": "#E5ECF6",
            "gridcolor": "white",
            "gridwidth": 2,
            "linecolor": "white",
            "showbackground": true,
            "ticks": "",
            "zerolinecolor": "white"
           },
           "yaxis": {
            "backgroundcolor": "#E5ECF6",
            "gridcolor": "white",
            "gridwidth": 2,
            "linecolor": "white",
            "showbackground": true,
            "ticks": "",
            "zerolinecolor": "white"
           },
           "zaxis": {
            "backgroundcolor": "#E5ECF6",
            "gridcolor": "white",
            "gridwidth": 2,
            "linecolor": "white",
            "showbackground": true,
            "ticks": "",
            "zerolinecolor": "white"
           }
          },
          "shapedefaults": {
           "line": {
            "color": "#2a3f5f"
           }
          },
          "ternary": {
           "aaxis": {
            "gridcolor": "white",
            "linecolor": "white",
            "ticks": ""
           },
           "baxis": {
            "gridcolor": "white",
            "linecolor": "white",
            "ticks": ""
           },
           "bgcolor": "#E5ECF6",
           "caxis": {
            "gridcolor": "white",
            "linecolor": "white",
            "ticks": ""
           }
          },
          "title": {
           "x": 0.05
          },
          "xaxis": {
           "automargin": true,
           "gridcolor": "white",
           "linecolor": "white",
           "ticks": "",
           "title": {
            "standoff": 15
           },
           "zerolinecolor": "white",
           "zerolinewidth": 2
          },
          "yaxis": {
           "automargin": true,
           "gridcolor": "white",
           "linecolor": "white",
           "ticks": "",
           "title": {
            "standoff": 15
           },
           "zerolinecolor": "white",
           "zerolinewidth": 2
          }
         }
        },
        "violingap": 0,
        "violinmode": "overlay"
       }
      },
      "text/html": [
       "<div>\n",
       "        \n",
       "        \n",
       "            <div id=\"591be84c-37b6-46bd-97a5-054b25df80cf\" class=\"plotly-graph-div\" style=\"height:525px; width:100%;\"></div>\n",
       "            <script type=\"text/javascript\">\n",
       "                require([\"plotly\"], function(Plotly) {\n",
       "                    window.PLOTLYENV=window.PLOTLYENV || {};\n",
       "                    \n",
       "                if (document.getElementById(\"591be84c-37b6-46bd-97a5-054b25df80cf\")) {\n",
       "                    Plotly.newPlot(\n",
       "                        '591be84c-37b6-46bd-97a5-054b25df80cf',\n",
       "                        [{\"line\": {\"color\": \"blue\"}, \"meanline\": {\"visible\": true}, \"name\": \"BOW\", \"scalegroup\": \"BOW\", \"side\": \"negative\", \"type\": \"violin\", \"x0\": \"Accuracy\", \"y\": [0.5076923076923077, 0.4307692307692308, 0.5846153846153846, 0.4, 0.35384615384615387, 0.5076923076923077, 0.5692307692307692, 0.46153846153846156, 0.5076923076923077, 0.4153846153846154, 0.5846153846153846, 0.5846153846153846, 0.6, 0.5846153846153846, 0.7230769230769231, 0.6307692307692307, 0.5625, 0.671875, 0.65625, 0.71875, 0.53125, 0.671875, 0.578125, 0.625, 0.46875, 0.515625, 0.515625, 0.546875, 0.5, 0.375]}, {\"line\": {\"color\": \"orange\"}, \"meanline\": {\"visible\": true}, \"name\": \"TFIDF\", \"scalegroup\": \"TFIDF\", \"side\": \"positive\", \"type\": \"violin\", \"x0\": \"Accuracy\", \"y\": [0.5076923076923077, 0.4461538461538462, 0.5692307692307692, 0.4307692307692308, 0.35384615384615387, 0.5692307692307692, 0.5230769230769231, 0.46153846153846156, 0.5846153846153846, 0.4, 0.5538461538461539, 0.676923076923077, 0.676923076923077, 0.676923076923077, 0.7538461538461538, 0.676923076923077, 0.640625, 0.734375, 0.734375, 0.734375, 0.71875, 0.703125, 0.671875, 0.6875, 0.5, 0.65625, 0.546875, 0.578125, 0.515625, 0.328125]}, {\"line\": {\"color\": \"blue\"}, \"meanline\": {\"visible\": true}, \"name\": \"BOW\", \"scalegroup\": \"BOW\", \"side\": \"negative\", \"type\": \"violin\", \"x0\": \"Precision\", \"y\": [0.5521153846153847, 0.4626681011296396, 0.5936454849498328, 0.4106280193236715, 0.29000000000000004, 0.5374358974358975, 0.5576857330703484, 0.5748573676962424, 0.5549450549450549, 0.48625874125874124, 0.6195348454963839, 0.6259906759906759, 0.5663431952662722, 0.5728049728049728, 0.7373626373626374, 0.668974358974359, 0.5435753105590062, 0.674781976744186, 0.7015534332688588, 0.7309027777777778, 0.5868969298245613, 0.6893229166666668, 0.6356162891986064, 0.658922697368421, 0.469385162601626, 0.5446220408895266, 0.5068910256410256, 0.560761848805327, 0.4669744318181818, 0.48125]}, {\"line\": {\"color\": \"orange\"}, \"meanline\": {\"visible\": true}, \"name\": \"TFIDF\", \"scalegroup\": \"TFIDF\", \"side\": \"positive\", \"type\": \"violin\", \"x0\": \"Precision\", \"y\": [0.5042421729214183, 0.4658569500674764, 0.6181422351233673, 0.5224963715529753, 0.26056587091069844, 0.6026075619295959, 0.5827945639266394, 0.5586117586117586, 0.49840938722294653, 0.46858526089295316, 0.5834976988823143, 0.6598290598290599, 0.6463369963369963, 0.6642011834319526, 0.7318681318681318, 0.6653846153846154, 0.6328125, 0.7218455188679246, 0.673287429378531, 0.7037146226415094, 0.7177966101694915, 0.7006655092592592, 0.5827850877192982, 0.7040719696969697, 0.521875, 0.6796875, 0.5509025621118012, 0.6690051020408163, 0.4660101540616246, 0.40433673469387754]}, {\"line\": {\"color\": \"blue\"}, \"meanline\": {\"visible\": true}, \"name\": \"BOW\", \"scalegroup\": \"BOW\", \"side\": \"negative\", \"type\": \"violin\", \"x0\": \"F1\", \"y\": [0.43395561226202867, 0.3713083497698883, 0.5457459406826495, 0.33778221778221784, 0.25369560541974334, 0.44622722269781095, 0.5378773125608569, 0.40216849816849815, 0.48852324146441795, 0.3489094821842846, 0.5515384615384615, 0.5742298081728366, 0.5816976127320954, 0.5770707311264586, 0.7286268108549275, 0.6200119791221015, 0.543939393939394, 0.6706495098039216, 0.6699999999999999, 0.7236178498467823, 0.5554659942680776, 0.6586438923395447, 0.5994318181818181, 0.6060959586806813, 0.4474608537108537, 0.5194940476190476, 0.5070166320166319, 0.511986955516885, 0.45188672111312767, 0.33017993183640737]}, {\"line\": {\"color\": \"orange\"}, \"meanline\": {\"visible\": true}, \"name\": \"TFIDF\", \"scalegroup\": \"TFIDF\", \"side\": \"positive\", \"type\": \"violin\", \"x0\": \"F1\", \"y\": [0.3983516483516484, 0.3518552036199096, 0.5087719482318133, 0.3459417775207249, 0.22086630230850804, 0.4620528407762451, 0.4453580901856764, 0.3392157489373941, 0.48616045608526814, 0.29454029304029306, 0.48430510665804777, 0.6247522851538044, 0.6280060331825037, 0.6403639371381307, 0.7387651821862349, 0.614941494149415, 0.5714285714285714, 0.6838815789473683, 0.6705951072017593, 0.700977233676976, 0.6379114145658263, 0.6693975667189953, 0.6158763111888111, 0.6339285714285714, 0.41226438492063494, 0.602770618556701, 0.51171875, 0.5064319779116466, 0.4377094776163477, 0.24493691084053418]}, {\"line\": {\"color\": \"blue\"}, \"meanline\": {\"visible\": true}, \"name\": \"BOW\", \"scalegroup\": \"BOW\", \"side\": \"negative\", \"type\": \"violin\", \"x0\": \"Recall\", \"y\": [0.5076923076923077, 0.4307692307692308, 0.5846153846153846, 0.4, 0.35384615384615387, 0.5076923076923077, 0.5692307692307692, 0.46153846153846156, 0.5076923076923077, 0.4153846153846154, 0.5846153846153846, 0.5846153846153846, 0.6, 0.5846153846153846, 0.7230769230769231, 0.6307692307692307, 0.5625, 0.671875, 0.65625, 0.71875, 0.53125, 0.671875, 0.578125, 0.625, 0.46875, 0.515625, 0.515625, 0.546875, 0.5, 0.375]}, {\"line\": {\"color\": \"orange\"}, \"meanline\": {\"visible\": true}, \"name\": \"TFIDF\", \"side\": \"positive\", \"type\": \"violin\", \"x0\": \"Recall\", \"y\": [0.5076923076923077, 0.4461538461538462, 0.5692307692307692, 0.4307692307692308, 0.35384615384615387, 0.5692307692307692, 0.5230769230769231, 0.46153846153846156, 0.5846153846153846, 0.4, 0.5538461538461539, 0.676923076923077, 0.676923076923077, 0.676923076923077, 0.7538461538461538, 0.676923076923077, 0.640625, 0.734375, 0.734375, 0.734375, 0.71875, 0.703125, 0.671875, 0.6875, 0.5, 0.65625, 0.546875, 0.578125, 0.515625, 0.328125]}],\n",
       "                        {\"template\": {\"data\": {\"bar\": [{\"error_x\": {\"color\": \"#2a3f5f\"}, \"error_y\": {\"color\": \"#2a3f5f\"}, \"marker\": {\"line\": {\"color\": \"#E5ECF6\", \"width\": 0.5}}, \"type\": \"bar\"}], \"barpolar\": [{\"marker\": {\"line\": {\"color\": \"#E5ECF6\", \"width\": 0.5}}, \"type\": \"barpolar\"}], \"carpet\": [{\"aaxis\": {\"endlinecolor\": \"#2a3f5f\", \"gridcolor\": \"white\", \"linecolor\": \"white\", \"minorgridcolor\": \"white\", \"startlinecolor\": \"#2a3f5f\"}, \"baxis\": {\"endlinecolor\": \"#2a3f5f\", \"gridcolor\": \"white\", \"linecolor\": \"white\", \"minorgridcolor\": \"white\", \"startlinecolor\": \"#2a3f5f\"}, \"type\": \"carpet\"}], \"choropleth\": [{\"colorbar\": {\"outlinewidth\": 0, \"ticks\": \"\"}, \"type\": \"choropleth\"}], \"contour\": [{\"colorbar\": {\"outlinewidth\": 0, \"ticks\": \"\"}, \"colorscale\": [[0.0, \"#0d0887\"], [0.1111111111111111, \"#46039f\"], [0.2222222222222222, \"#7201a8\"], [0.3333333333333333, \"#9c179e\"], [0.4444444444444444, \"#bd3786\"], [0.5555555555555556, \"#d8576b\"], [0.6666666666666666, \"#ed7953\"], [0.7777777777777778, \"#fb9f3a\"], [0.8888888888888888, \"#fdca26\"], [1.0, \"#f0f921\"]], \"type\": \"contour\"}], \"contourcarpet\": [{\"colorbar\": {\"outlinewidth\": 0, \"ticks\": \"\"}, \"type\": \"contourcarpet\"}], \"heatmap\": [{\"colorbar\": {\"outlinewidth\": 0, \"ticks\": \"\"}, \"colorscale\": [[0.0, \"#0d0887\"], [0.1111111111111111, \"#46039f\"], [0.2222222222222222, \"#7201a8\"], [0.3333333333333333, \"#9c179e\"], [0.4444444444444444, \"#bd3786\"], [0.5555555555555556, \"#d8576b\"], [0.6666666666666666, \"#ed7953\"], [0.7777777777777778, \"#fb9f3a\"], [0.8888888888888888, \"#fdca26\"], [1.0, \"#f0f921\"]], \"type\": \"heatmap\"}], \"heatmapgl\": [{\"colorbar\": {\"outlinewidth\": 0, \"ticks\": \"\"}, \"colorscale\": [[0.0, \"#0d0887\"], [0.1111111111111111, \"#46039f\"], [0.2222222222222222, \"#7201a8\"], [0.3333333333333333, \"#9c179e\"], [0.4444444444444444, \"#bd3786\"], [0.5555555555555556, \"#d8576b\"], [0.6666666666666666, \"#ed7953\"], [0.7777777777777778, \"#fb9f3a\"], [0.8888888888888888, \"#fdca26\"], [1.0, \"#f0f921\"]], \"type\": \"heatmapgl\"}], \"histogram\": [{\"marker\": {\"colorbar\": {\"outlinewidth\": 0, \"ticks\": \"\"}}, \"type\": \"histogram\"}], \"histogram2d\": [{\"colorbar\": {\"outlinewidth\": 0, \"ticks\": \"\"}, \"colorscale\": [[0.0, \"#0d0887\"], [0.1111111111111111, \"#46039f\"], [0.2222222222222222, \"#7201a8\"], [0.3333333333333333, \"#9c179e\"], [0.4444444444444444, \"#bd3786\"], [0.5555555555555556, \"#d8576b\"], [0.6666666666666666, \"#ed7953\"], [0.7777777777777778, \"#fb9f3a\"], [0.8888888888888888, \"#fdca26\"], [1.0, \"#f0f921\"]], \"type\": \"histogram2d\"}], \"histogram2dcontour\": [{\"colorbar\": {\"outlinewidth\": 0, \"ticks\": \"\"}, \"colorscale\": [[0.0, \"#0d0887\"], [0.1111111111111111, \"#46039f\"], [0.2222222222222222, \"#7201a8\"], [0.3333333333333333, \"#9c179e\"], [0.4444444444444444, \"#bd3786\"], [0.5555555555555556, \"#d8576b\"], [0.6666666666666666, \"#ed7953\"], [0.7777777777777778, \"#fb9f3a\"], [0.8888888888888888, \"#fdca26\"], [1.0, \"#f0f921\"]], \"type\": \"histogram2dcontour\"}], \"mesh3d\": [{\"colorbar\": {\"outlinewidth\": 0, \"ticks\": \"\"}, \"type\": \"mesh3d\"}], \"parcoords\": [{\"line\": {\"colorbar\": {\"outlinewidth\": 0, \"ticks\": \"\"}}, \"type\": \"parcoords\"}], \"pie\": [{\"automargin\": true, \"type\": \"pie\"}], \"scatter\": [{\"marker\": {\"colorbar\": {\"outlinewidth\": 0, \"ticks\": \"\"}}, \"type\": \"scatter\"}], \"scatter3d\": [{\"line\": {\"colorbar\": {\"outlinewidth\": 0, \"ticks\": \"\"}}, \"marker\": {\"colorbar\": {\"outlinewidth\": 0, \"ticks\": \"\"}}, \"type\": \"scatter3d\"}], \"scattercarpet\": [{\"marker\": {\"colorbar\": {\"outlinewidth\": 0, \"ticks\": \"\"}}, \"type\": \"scattercarpet\"}], \"scattergeo\": [{\"marker\": {\"colorbar\": {\"outlinewidth\": 0, \"ticks\": \"\"}}, \"type\": \"scattergeo\"}], \"scattergl\": [{\"marker\": {\"colorbar\": {\"outlinewidth\": 0, \"ticks\": \"\"}}, \"type\": \"scattergl\"}], \"scattermapbox\": [{\"marker\": {\"colorbar\": {\"outlinewidth\": 0, \"ticks\": \"\"}}, \"type\": \"scattermapbox\"}], \"scatterpolar\": [{\"marker\": {\"colorbar\": {\"outlinewidth\": 0, \"ticks\": \"\"}}, \"type\": \"scatterpolar\"}], \"scatterpolargl\": [{\"marker\": {\"colorbar\": {\"outlinewidth\": 0, \"ticks\": \"\"}}, \"type\": \"scatterpolargl\"}], \"scatterternary\": [{\"marker\": {\"colorbar\": {\"outlinewidth\": 0, \"ticks\": \"\"}}, \"type\": \"scatterternary\"}], \"surface\": [{\"colorbar\": {\"outlinewidth\": 0, \"ticks\": \"\"}, \"colorscale\": [[0.0, \"#0d0887\"], [0.1111111111111111, \"#46039f\"], [0.2222222222222222, \"#7201a8\"], [0.3333333333333333, \"#9c179e\"], [0.4444444444444444, \"#bd3786\"], [0.5555555555555556, \"#d8576b\"], [0.6666666666666666, \"#ed7953\"], [0.7777777777777778, \"#fb9f3a\"], [0.8888888888888888, \"#fdca26\"], [1.0, \"#f0f921\"]], \"type\": \"surface\"}], \"table\": [{\"cells\": {\"fill\": {\"color\": \"#EBF0F8\"}, \"line\": {\"color\": \"white\"}}, \"header\": {\"fill\": {\"color\": \"#C8D4E3\"}, \"line\": {\"color\": \"white\"}}, \"type\": \"table\"}]}, \"layout\": {\"annotationdefaults\": {\"arrowcolor\": \"#2a3f5f\", \"arrowhead\": 0, \"arrowwidth\": 1}, \"coloraxis\": {\"colorbar\": {\"outlinewidth\": 0, \"ticks\": \"\"}}, \"colorscale\": {\"diverging\": [[0, \"#8e0152\"], [0.1, \"#c51b7d\"], [0.2, \"#de77ae\"], [0.3, \"#f1b6da\"], [0.4, \"#fde0ef\"], [0.5, \"#f7f7f7\"], [0.6, \"#e6f5d0\"], [0.7, \"#b8e186\"], [0.8, \"#7fbc41\"], [0.9, \"#4d9221\"], [1, \"#276419\"]], \"sequential\": [[0.0, \"#0d0887\"], [0.1111111111111111, \"#46039f\"], [0.2222222222222222, \"#7201a8\"], [0.3333333333333333, \"#9c179e\"], [0.4444444444444444, \"#bd3786\"], [0.5555555555555556, \"#d8576b\"], [0.6666666666666666, \"#ed7953\"], [0.7777777777777778, \"#fb9f3a\"], [0.8888888888888888, \"#fdca26\"], [1.0, \"#f0f921\"]], \"sequentialminus\": [[0.0, \"#0d0887\"], [0.1111111111111111, \"#46039f\"], [0.2222222222222222, \"#7201a8\"], [0.3333333333333333, \"#9c179e\"], [0.4444444444444444, \"#bd3786\"], [0.5555555555555556, \"#d8576b\"], [0.6666666666666666, \"#ed7953\"], [0.7777777777777778, \"#fb9f3a\"], [0.8888888888888888, \"#fdca26\"], [1.0, \"#f0f921\"]]}, \"colorway\": [\"#636efa\", \"#EF553B\", \"#00cc96\", \"#ab63fa\", \"#FFA15A\", \"#19d3f3\", \"#FF6692\", \"#B6E880\", \"#FF97FF\", \"#FECB52\"], \"font\": {\"color\": \"#2a3f5f\"}, \"geo\": {\"bgcolor\": \"white\", \"lakecolor\": \"white\", \"landcolor\": \"#E5ECF6\", \"showlakes\": true, \"showland\": true, \"subunitcolor\": \"white\"}, \"hoverlabel\": {\"align\": \"left\"}, \"hovermode\": \"closest\", \"mapbox\": {\"style\": \"light\"}, \"paper_bgcolor\": \"white\", \"plot_bgcolor\": \"#E5ECF6\", \"polar\": {\"angularaxis\": {\"gridcolor\": \"white\", \"linecolor\": \"white\", \"ticks\": \"\"}, \"bgcolor\": \"#E5ECF6\", \"radialaxis\": {\"gridcolor\": \"white\", \"linecolor\": \"white\", \"ticks\": \"\"}}, \"scene\": {\"xaxis\": {\"backgroundcolor\": \"#E5ECF6\", \"gridcolor\": \"white\", \"gridwidth\": 2, \"linecolor\": \"white\", \"showbackground\": true, \"ticks\": \"\", \"zerolinecolor\": \"white\"}, \"yaxis\": {\"backgroundcolor\": \"#E5ECF6\", \"gridcolor\": \"white\", \"gridwidth\": 2, \"linecolor\": \"white\", \"showbackground\": true, \"ticks\": \"\", \"zerolinecolor\": \"white\"}, \"zaxis\": {\"backgroundcolor\": \"#E5ECF6\", \"gridcolor\": \"white\", \"gridwidth\": 2, \"linecolor\": \"white\", \"showbackground\": true, \"ticks\": \"\", \"zerolinecolor\": \"white\"}}, \"shapedefaults\": {\"line\": {\"color\": \"#2a3f5f\"}}, \"ternary\": {\"aaxis\": {\"gridcolor\": \"white\", \"linecolor\": \"white\", \"ticks\": \"\"}, \"baxis\": {\"gridcolor\": \"white\", \"linecolor\": \"white\", \"ticks\": \"\"}, \"bgcolor\": \"#E5ECF6\", \"caxis\": {\"gridcolor\": \"white\", \"linecolor\": \"white\", \"ticks\": \"\"}}, \"title\": {\"x\": 0.05}, \"xaxis\": {\"automargin\": true, \"gridcolor\": \"white\", \"linecolor\": \"white\", \"ticks\": \"\", \"title\": {\"standoff\": 15}, \"zerolinecolor\": \"white\", \"zerolinewidth\": 2}, \"yaxis\": {\"automargin\": true, \"gridcolor\": \"white\", \"linecolor\": \"white\", \"ticks\": \"\", \"title\": {\"standoff\": 15}, \"zerolinecolor\": \"white\", \"zerolinewidth\": 2}}}, \"violingap\": 0, \"violinmode\": \"overlay\"},\n",
       "                        {\"responsive\": true}\n",
       "                    ).then(function(){\n",
       "                            \n",
       "var gd = document.getElementById('591be84c-37b6-46bd-97a5-054b25df80cf');\n",
       "var x = new MutationObserver(function (mutations, observer) {{\n",
       "        var display = window.getComputedStyle(gd).display;\n",
       "        if (!display || display === 'none') {{\n",
       "            console.log([gd, 'removed!']);\n",
       "            Plotly.purge(gd);\n",
       "            observer.disconnect();\n",
       "        }}\n",
       "}});\n",
       "\n",
       "// Listen for the removal of the full notebook cells\n",
       "var notebookContainer = gd.closest('#notebook-container');\n",
       "if (notebookContainer) {{\n",
       "    x.observe(notebookContainer, {childList: true});\n",
       "}}\n",
       "\n",
       "// Listen for the clearing of the current output cell\n",
       "var outputEl = gd.closest('.output');\n",
       "if (outputEl) {{\n",
       "    x.observe(outputEl, {childList: true});\n",
       "}}\n",
       "\n",
       "                        })\n",
       "                };\n",
       "                });\n",
       "            </script>\n",
       "        </div>"
      ]
     },
     "metadata": {},
     "output_type": "display_data"
    }
   ],
   "source": [
    "fig = go.Figure()\n",
    "\n",
    "fig.add_trace(go.Violin(y=acc_BOW_SGD, scalegroup='BOW', name='BOW',\n",
    "                        side='negative',\n",
    "                        line_color='blue', x0='Accuracy')\n",
    "             )\n",
    "fig.add_trace(go.Violin(y=acc_TFIDF_SGD, scalegroup='TFIDF', name='TFIDF',\n",
    "                        side='positive',\n",
    "                        line_color='orange', x0='Accuracy')\n",
    "             )\n",
    "\n",
    "fig.add_trace(go.Violin(y=prec_BOW_SGD, scalegroup='BOW', name='BOW',\n",
    "                        side='negative',\n",
    "                        line_color='blue', x0='Precision')\n",
    "             )\n",
    "fig.add_trace(go.Violin(y=prec_TFIDF_SGD, scalegroup='TFIDF', name='TFIDF',\n",
    "                        side='positive',\n",
    "                        line_color='orange', x0='Precision')\n",
    "             )\n",
    "fig.add_trace(go.Violin(y=f1_BOW_SGD, scalegroup='BOW', name='BOW',\n",
    "                        side='negative',\n",
    "                        line_color='blue', x0='F1')\n",
    "             )\n",
    "fig.add_trace(go.Violin(y=f1_TFIDF_SGD, scalegroup='TFIDF', name='TFIDF',\n",
    "                        side='positive',\n",
    "                        line_color='orange', x0='F1')\n",
    "             )\n",
    "\n",
    "fig.add_trace(go.Violin(y=recall_BOW_SGD, scalegroup='BOW', name='BOW',\n",
    "                        side='negative',\n",
    "                        line_color='blue', x0='Recall')\n",
    "             )\n",
    "fig.add_trace(go.Violin(y=recall_TFIDF_SGD, name='TFIDF',\n",
    "                        side='positive',\n",
    "                        line_color='orange', x0='Recall')\n",
    "             )\n",
    "\n",
    "fig.update_traces(meanline_visible=True)\n",
    "fig.update_layout(violingap=0, violinmode='overlay')\n",
    "fig.show()"
   ]
  },
  {
   "cell_type": "code",
   "execution_count": null,
   "metadata": {},
   "outputs": [],
   "source": []
  }
 ],
 "metadata": {
  "kernelspec": {
   "display_name": "Python 3",
   "language": "python",
   "name": "python3"
  },
  "language_info": {
   "codemirror_mode": {
    "name": "ipython",
    "version": 3
   },
   "file_extension": ".py",
   "mimetype": "text/x-python",
   "name": "python",
   "nbconvert_exporter": "python",
   "pygments_lexer": "ipython3",
   "version": "3.8.2"
  }
 },
 "nbformat": 4,
 "nbformat_minor": 4
}
