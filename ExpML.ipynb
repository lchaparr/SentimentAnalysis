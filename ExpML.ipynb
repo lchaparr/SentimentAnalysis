{
 "cells": [
  {
   "cell_type": "code",
   "execution_count": 1,
   "metadata": {},
   "outputs": [
    {
     "data": {
      "text/html": [
       "<div>\n",
       "<style scoped>\n",
       "    .dataframe tbody tr th:only-of-type {\n",
       "        vertical-align: middle;\n",
       "    }\n",
       "\n",
       "    .dataframe tbody tr th {\n",
       "        vertical-align: top;\n",
       "    }\n",
       "\n",
       "    .dataframe thead th {\n",
       "        text-align: right;\n",
       "    }\n",
       "</style>\n",
       "<table border=\"1\" class=\"dataframe\">\n",
       "  <thead>\n",
       "    <tr style=\"text-align: right;\">\n",
       "      <th></th>\n",
       "      <th>Tweet</th>\n",
       "      <th>Sentiment</th>\n",
       "    </tr>\n",
       "  </thead>\n",
       "  <tbody>\n",
       "    <tr>\n",
       "      <th>0</th>\n",
       "      <td>Segun el Tribunal Superior de Bogota, el Frent...</td>\n",
       "      <td>0.00</td>\n",
       "    </tr>\n",
       "    <tr>\n",
       "      <th>1</th>\n",
       "      <td>@FREDYGUERRAHERR @darcyquinnr @ClaudiaLopez @T...</td>\n",
       "      <td>0.00</td>\n",
       "    </tr>\n",
       "    <tr>\n",
       "      <th>2</th>\n",
       "      <td>@FREDYGUERRAHERR @adelve3 @ClaudiaLopez @Trans...</td>\n",
       "      <td>0.01</td>\n",
       "    </tr>\n",
       "    <tr>\n",
       "      <th>3</th>\n",
       "      <td>@Americadecali1 Usted es un hijupueta asco. Su...</td>\n",
       "      <td>0.02</td>\n",
       "    </tr>\n",
       "    <tr>\n",
       "      <th>4</th>\n",
       "      <td>@LaCrestaNoSeCae Ese malparido que se devuelve...</td>\n",
       "      <td>0.02</td>\n",
       "    </tr>\n",
       "  </tbody>\n",
       "</table>\n",
       "</div>"
      ],
      "text/plain": [
       "                                               Tweet  Sentiment\n",
       "0  Segun el Tribunal Superior de Bogota, el Frent...       0.00\n",
       "1  @FREDYGUERRAHERR @darcyquinnr @ClaudiaLopez @T...       0.00\n",
       "2  @FREDYGUERRAHERR @adelve3 @ClaudiaLopez @Trans...       0.01\n",
       "3  @Americadecali1 Usted es un hijupueta asco. Su...       0.02\n",
       "4  @LaCrestaNoSeCae Ese malparido que se devuelve...       0.02"
      ]
     },
     "execution_count": 1,
     "metadata": {},
     "output_type": "execute_result"
    }
   ],
   "source": [
    "import nltk\n",
    "import pandas as pd\n",
    "import matplotlib.pyplot as plt\n",
    "import numpy as np\n",
    "import re\n",
    "import unicodedata2\n",
    "import math\n",
    "import string\n",
    "import tokenize\n",
    "import sklearn\n",
    "from nltk.tokenize import sent_tokenize\n",
    "from nltk.tokenize import word_tokenize\n",
    "from nltk.tokenize import wordpunct_tokenize\n",
    "from nltk.probability import FreqDist\n",
    "from nltk.corpus import stopwords\n",
    "from nltk.stem import PorterStemmer\n",
    "from nltk.stem.wordnet import WordNetLemmatizer\n",
    "from nltk.stem.porter import PorterStemmer\n",
    "from sklearn.model_selection import train_test_split\n",
    "from sklearn.feature_extraction.text import CountVectorizer\n",
    "from sklearn.feature_extraction.text import TfidfVectorizer\n",
    "from nltk.tokenize import RegexpTokenizer\n",
    "from nltk.tokenize import sent_tokenize\n",
    "from sklearn import metrics\n",
    "from sklearn.metrics.pairwise import linear_kernel\n",
    "from sklearn.metrics.pairwise import polynomial_kernel\n",
    "from sklearn.naive_bayes import MultinomialNB\n",
    "from string import digits\n",
    "from xml.dom import minidom\n",
    "from unidecode import unidecode\n",
    "from nltk.stem.snowball import SnowballStemmer\n",
    "from string import punctuation\n",
    "from nltk.classify.scikitlearn import SklearnClassifier\n",
    "from sklearn.naive_bayes import MultinomialNB,BernoulliNB\n",
    "from sklearn.linear_model import LogisticRegression,SGDClassifier\n",
    "from sklearn.svm import SVC\n",
    "\n",
    "stop_words = stopwords.words('spanish')\n",
    "data=pd.read_csv(\"ScoreV0.csv\")\n",
    "sbEsp = SnowballStemmer('spanish')\n",
    "data.head()"
   ]
  },
  {
   "cell_type": "code",
   "execution_count": 2,
   "metadata": {},
   "outputs": [
    {
     "data": {
      "text/plain": [
       "0.33    104\n",
       "0.25     84\n",
       "0.28     83\n",
       "0.23     78\n",
       "0.38     78\n",
       "       ... \n",
       "0.07      1\n",
       "0.05      1\n",
       "0.85      1\n",
       "0.84      1\n",
       "0.91      1\n",
       "Name: Sentiment, Length: 92, dtype: int64"
      ]
     },
     "execution_count": 2,
     "metadata": {},
     "output_type": "execute_result"
    }
   ],
   "source": [
    "data.Sentiment.value_counts()"
   ]
  },
  {
   "cell_type": "code",
   "execution_count": 3,
   "metadata": {},
   "outputs": [
    {
     "data": {
      "image/png": "[encoded data removed]",
      "text/plain": [
       "<Figure size 432x288 with 1 Axes>"
      ]
     },
     "metadata": {
      "needs_background": "light"
     },
     "output_type": "display_data"
    }
   ],
   "source": [
    "Sentiment_count=data.groupby('Sentiment').count()\n",
    "fig, ax = plt.subplots()\n",
    "ax.plot(Sentiment_count)\n",
    "ax.set(xlabel='Score', ylabel='# Tweets',\n",
    "       title='Goal Standard Distribution')\n",
    "fig.savefig(\"distGoldStandard.png\")\n",
    "plt.show()"
   ]
  },
  {
   "cell_type": "code",
   "execution_count": 5,
   "metadata": {},
   "outputs": [
    {
     "data": {
      "text/html": [
       "<div>\n",
       "<style scoped>\n",
       "    .dataframe tbody tr th:only-of-type {\n",
       "        vertical-align: middle;\n",
       "    }\n",
       "\n",
       "    .dataframe tbody tr th {\n",
       "        vertical-align: top;\n",
       "    }\n",
       "\n",
       "    .dataframe thead th {\n",
       "        text-align: right;\n",
       "    }\n",
       "</style>\n",
       "<table border=\"1\" class=\"dataframe\">\n",
       "  <thead>\n",
       "    <tr style=\"text-align: right;\">\n",
       "      <th></th>\n",
       "      <th>Tweet</th>\n",
       "      <th>Sentiment</th>\n",
       "    </tr>\n",
       "  </thead>\n",
       "  <tbody>\n",
       "    <tr>\n",
       "      <th>0</th>\n",
       "      <td>segun el tribunal superior de bogota el frente...</td>\n",
       "      <td>0.00</td>\n",
       "    </tr>\n",
       "    <tr>\n",
       "      <th>1</th>\n",
       "      <td>drogos inmundos basofias sociales vandalos inm...</td>\n",
       "      <td>0.00</td>\n",
       "    </tr>\n",
       "    <tr>\n",
       "      <th>2</th>\n",
       "      <td>que hpta desorden de ciudad ya aqui todos hace...</td>\n",
       "      <td>0.01</td>\n",
       "    </tr>\n",
       "    <tr>\n",
       "      <th>3</th>\n",
       "      <td>usted es un hijupueta asco su mentalidad asesi...</td>\n",
       "      <td>0.02</td>\n",
       "    </tr>\n",
       "    <tr>\n",
       "      <th>4</th>\n",
       "      <td>ese malparido que se devuelve yo lo vi en otra...</td>\n",
       "      <td>0.02</td>\n",
       "    </tr>\n",
       "  </tbody>\n",
       "</table>\n",
       "</div>"
      ],
      "text/plain": [
       "                                               Tweet  Sentiment\n",
       "0  segun el tribunal superior de bogota el frente...       0.00\n",
       "1  drogos inmundos basofias sociales vandalos inm...       0.00\n",
       "2  que hpta desorden de ciudad ya aqui todos hace...       0.01\n",
       "3  usted es un hijupueta asco su mentalidad asesi...       0.02\n",
       "4  ese malparido que se devuelve yo lo vi en otra...       0.02"
      ]
     },
     "execution_count": 5,
     "metadata": {},
     "output_type": "execute_result"
    }
   ],
   "source": [
    "def strip_links(text):\n",
    "    text = text.lower()\n",
    "    link_regex    = re.compile('((https?):((//)|(\\\\\\\\))+([\\w\\d:#@%/;$()~_?\\+-=\\\\\\.&](#!)?)*)', re.DOTALL)\n",
    "    links         = re.findall(link_regex, text)\n",
    "    for link in links:\n",
    "        text = text.replace(link[0], ', ')   \n",
    "    return text\n",
    "\n",
    "# Eliminación de Hashtags y menciones\n",
    "def strip_all_entities(text):\n",
    "    entity_prefixes = ['@','#']\n",
    "    for separator in  string.punctuation:\n",
    "        if separator not in entity_prefixes :\n",
    "            text = text.replace(separator,' ')\n",
    "    words = []\n",
    "    for word in text.split():\n",
    "        word = word.strip()\n",
    "        if word:\n",
    "            if word[0] not in entity_prefixes:\n",
    "                words.append(word)\n",
    "    return ' '.join(words)\n",
    "\n",
    "# Eliminación de puntuacion, numeros y conversión del texto a minúsculas\n",
    "def remove_punctuations(text):\n",
    "    for punctuation in string.punctuation:\n",
    "        text = text.replace(punctuation, '')\n",
    "    for digits in string.digits:\n",
    "        text = text.replace(digits,'')\n",
    "    text = text.lower()\n",
    "    return text\n",
    "\n",
    "#Normalizar: eliminar diéresis, acentos, y otros caracteres similares.\n",
    "def normunicode_data(strin):\n",
    "    #print(strin)\n",
    "    return unicodedata2.normalize('NFKD', strin).encode('ASCII', 'ignore').decode(\"utf-8\").lower()\n",
    "\n",
    "def proc_str(strin):\n",
    "    return remove_punct(normunicode_data(strin));\n",
    "\n",
    "def tok_cln(text):\n",
    "    return set(nltk.wordpunct_tokenize(text)).difference(sw) #(este es el original)\n",
    "    #return nltk.wordpunct_tokenize(text).difference(sw)\n",
    "\n",
    "def preprocessing(text):\n",
    "    text= text.apply(strip_links)\n",
    "    text= text.apply(strip_all_entities)\n",
    "    text= text.apply(remove_punctuations)\n",
    "    text = text.apply(normunicode_data)\n",
    "#    text = text.apply(tok_cln)\n",
    "    return text\n",
    "\n",
    "#data_clean = pd.DataFrame(preprocessing(data[\"Tweet\"]))\n",
    "data.Tweet=preprocessing(data[\"Tweet\"])\n",
    "data.head()"
   ]
  },
  {
   "cell_type": "code",
   "execution_count": 10,
   "metadata": {},
   "outputs": [],
   "source": [
    "non_words = list(punctuation)\n",
    "non_words.extend(['¿', '¡'])\n",
    "non_words.extend(map(str,range(10)))\n",
    "\n",
    "def tokenize(text):\n",
    "    text = ''.join([c for c in text if c not in non_words])\n",
    "    tokens =  word_tokenize(text)\n",
    "    return tokens\n",
    "\n",
    "cv = CountVectorizer(\n",
    "                analyzer = 'word',\n",
    "                tokenizer = tokenize,\n",
    "                lowercase = True,\n",
    "                stop_words = stop_words)\n",
    "\n",
    "#tokenizer to remove unwanted elements from out data like symbols and numbers\n",
    "text_counts= cv.fit_transform(data['Tweet'])"
   ]
  },
  {
   "cell_type": "code",
   "execution_count": 11,
   "metadata": {},
   "outputs": [],
   "source": [
    "from sklearn.model_selection import train_test_split\n",
    "X_train, X_test, y_train, y_test = train_test_split(\n",
    "    text_counts, data['Sentiment'], test_size=0.3, random_state=1)"
   ]
  },
  {
   "cell_type": "code",
   "execution_count": 12,
   "metadata": {},
   "outputs": [],
   "source": [
    "from sklearn.naive_bayes import MultinomialNB\n",
    "#Import scikit-learn metrics module for accuracy calculation\n",
    "from sklearn import metrics\n",
    "# Model Generation Using Multinomial Naive Bayes\n"
   ]
  },
  {
   "cell_type": "code",
   "execution_count": 20,
   "metadata": {},
   "outputs": [
    {
     "name": "stdout",
     "output_type": "stream",
     "text": [
      "1385    0.43\n",
      "1279    0.41\n",
      "1123    0.36\n",
      "1666    0.60\n",
      "1094    0.36\n",
      "        ... \n",
      "332     0.21\n",
      "1       0.00\n",
      "661     0.28\n",
      "1071    0.35\n",
      "142     0.17\n",
      "Name: Sentiment, Length: 581, dtype: float64\n"
     ]
    }
   ],
   "source": [
    "print(y_test)"
   ]
  },
  {
   "cell_type": "code",
   "execution_count": null,
   "metadata": {},
   "outputs": [],
   "source": [
    "\n",
    "  \n",
    "\n"
   ]
  },
  {
   "cell_type": "code",
   "execution_count": null,
   "metadata": {},
   "outputs": [],
   "source": []
  },
  {
   "cell_type": "code",
   "execution_count": null,
   "metadata": {},
   "outputs": [],
   "source": []
  }
 ],
 "metadata": {
  "kernelspec": {
   "display_name": "Python 3",
   "language": "python",
   "name": "python3"
  },
  "language_info": {
   "codemirror_mode": {
    "name": "ipython",
    "version": 3
   },
   "file_extension": ".py",
   "mimetype": "text/x-python",
   "name": "python",
   "nbconvert_exporter": "python",
   "pygments_lexer": "ipython3",
   "version": "3.8.2"
  }
 },
 "nbformat": 4,
 "nbformat_minor": 4
}
