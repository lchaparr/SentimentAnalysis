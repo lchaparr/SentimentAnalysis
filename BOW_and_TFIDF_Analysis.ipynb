{
 "cells": [
  {
   "cell_type": "code",
   "execution_count": 1,
   "metadata": {},
   "outputs": [
    {
     "data": {
      "text/html": [
       "<div>\n",
       "<style scoped>\n",
       "    .dataframe tbody tr th:only-of-type {\n",
       "        vertical-align: middle;\n",
       "    }\n",
       "\n",
       "    .dataframe tbody tr th {\n",
       "        vertical-align: top;\n",
       "    }\n",
       "\n",
       "    .dataframe thead th {\n",
       "        text-align: right;\n",
       "    }\n",
       "</style>\n",
       "<table border=\"1\" class=\"dataframe\">\n",
       "  <thead>\n",
       "    <tr style=\"text-align: right;\">\n",
       "      <th></th>\n",
       "      <th>Tweet</th>\n",
       "      <th>Sentiment</th>\n",
       "    </tr>\n",
       "  </thead>\n",
       "  <tbody>\n",
       "    <tr>\n",
       "      <th>0</th>\n",
       "      <td>Comparto nuestro aliado estrategico para la Es...</td>\n",
       "      <td>5</td>\n",
       "    </tr>\n",
       "    <tr>\n",
       "      <th>1</th>\n",
       "      <td>@FREDYGUERRAHERR @consigliererojo @ClaudiaLope...</td>\n",
       "      <td>3</td>\n",
       "    </tr>\n",
       "    <tr>\n",
       "      <th>2</th>\n",
       "      <td>@FREDYGUERRAHERR @adelve3 @ClaudiaLopez @Trans...</td>\n",
       "      <td>1</td>\n",
       "    </tr>\n",
       "    <tr>\n",
       "      <th>3</th>\n",
       "      <td>@luciabastidasu @TransMilenio Pero esto esta p...</td>\n",
       "      <td>2</td>\n",
       "    </tr>\n",
       "    <tr>\n",
       "      <th>4</th>\n",
       "      <td>Lo del bus de TM y la marihuana no esta nada b...</td>\n",
       "      <td>2</td>\n",
       "    </tr>\n",
       "  </tbody>\n",
       "</table>\n",
       "</div>"
      ],
      "text/plain": [
       "                                               Tweet  Sentiment\n",
       "0  Comparto nuestro aliado estrategico para la Es...          5\n",
       "1  @FREDYGUERRAHERR @consigliererojo @ClaudiaLope...          3\n",
       "2  @FREDYGUERRAHERR @adelve3 @ClaudiaLopez @Trans...          1\n",
       "3  @luciabastidasu @TransMilenio Pero esto esta p...          2\n",
       "4  Lo del bus de TM y la marihuana no esta nada b...          2"
      ]
     },
     "execution_count": 1,
     "metadata": {},
     "output_type": "execute_result"
    }
   ],
   "source": [
    "import nltk\n",
    "import pandas as pd\n",
    "import matplotlib.pyplot as plt\n",
    "import numpy as np\n",
    "import re\n",
    "import unicodedata2\n",
    "import math\n",
    "import string\n",
    "import tokenize\n",
    "import sklearn\n",
    "from nltk.tokenize import sent_tokenize\n",
    "from nltk.tokenize import word_tokenize\n",
    "from nltk.tokenize import wordpunct_tokenize\n",
    "from nltk.probability import FreqDist\n",
    "from nltk.corpus import stopwords\n",
    "from nltk.stem import PorterStemmer\n",
    "from nltk.stem.wordnet import WordNetLemmatizer\n",
    "from nltk.stem.porter import PorterStemmer\n",
    "from sklearn.model_selection import train_test_split\n",
    "from sklearn.feature_extraction.text import CountVectorizer\n",
    "from sklearn.feature_extraction.text import TfidfVectorizer\n",
    "from nltk.tokenize import RegexpTokenizer\n",
    "from nltk.tokenize import sent_tokenize\n",
    "from sklearn import metrics\n",
    "from sklearn.metrics.pairwise import linear_kernel\n",
    "from sklearn.metrics.pairwise import polynomial_kernel\n",
    "from sklearn.naive_bayes import MultinomialNB\n",
    "from string import digits\n",
    "from xml.dom import minidom\n",
    "from unidecode import unidecode\n",
    "from nltk.stem.snowball import SnowballStemmer\n",
    "from string import punctuation\n",
    "from nltk.classify.scikitlearn import SklearnClassifier\n",
    "from sklearn.naive_bayes import MultinomialNB,BernoulliNB\n",
    "from sklearn.linear_model import LogisticRegression,SGDClassifier\n",
    "from sklearn.svm import SVC\n",
    "\n",
    "stop_words = stopwords.words('spanish')\n",
    "newStopWords = ['dr','dra','etc','bn','ud','u','ag','si','no','rt','q','m','bb','tan','aun','cr','tal','segun','w','lab','aca','wew','av','ah','cll','km','tm','ht','mk','xs','xxl','xl','xxx','reee','nls','kr']\n",
    "stop_words.extend(newStopWords)\n",
    "data=pd.read_csv(\"ScoreV0_int.csv\")\n",
    "sbEsp = SnowballStemmer('spanish')\n",
    "data.head()"
   ]
  },
  {
   "cell_type": "code",
   "execution_count": 2,
   "metadata": {},
   "outputs": [
    {
     "data": {
      "text/plain": [
       "2    1103\n",
       "3     528\n",
       "4     210\n",
       "1      57\n",
       "5      38\n",
       "Name: Sentiment, dtype: int64"
      ]
     },
     "execution_count": 2,
     "metadata": {},
     "output_type": "execute_result"
    }
   ],
   "source": [
    "data.Sentiment.value_counts()"
   ]
  },
  {
   "cell_type": "code",
   "execution_count": 3,
   "metadata": {},
   "outputs": [
    {
     "data": {
      "image/png": "[encoded data removed]",
      "text/plain": [
       "<Figure size 432x288 with 1 Axes>"
      ]
     },
     "metadata": {
      "needs_background": "light"
     },
     "output_type": "display_data"
    }
   ],
   "source": [
    "Sentiment_count=data.groupby('Sentiment').count()\n",
    "fig, ax = plt.subplots()\n",
    "plt.bar(Sentiment_count.index.values, Sentiment_count['Tweet'])\n",
    "ax.set(xlabel='Score', ylabel='# Tweets',\n",
    "       title='Goal Standard Distribution')\n",
    "fig.savefig(\"distGoldStandard.png\")\n",
    "plt.show()\n"
   ]
  },
  {
   "cell_type": "code",
   "execution_count": 4,
   "metadata": {},
   "outputs": [
    {
     "data": {
      "text/html": [
       "<div>\n",
       "<style scoped>\n",
       "    .dataframe tbody tr th:only-of-type {\n",
       "        vertical-align: middle;\n",
       "    }\n",
       "\n",
       "    .dataframe tbody tr th {\n",
       "        vertical-align: top;\n",
       "    }\n",
       "\n",
       "    .dataframe thead th {\n",
       "        text-align: right;\n",
       "    }\n",
       "</style>\n",
       "<table border=\"1\" class=\"dataframe\">\n",
       "  <thead>\n",
       "    <tr style=\"text-align: right;\">\n",
       "      <th></th>\n",
       "      <th>Tweet</th>\n",
       "      <th>Sentiment</th>\n",
       "    </tr>\n",
       "  </thead>\n",
       "  <tbody>\n",
       "    <tr>\n",
       "      <th>0</th>\n",
       "      <td>comparto nuestro aliado estrategico para la es...</td>\n",
       "      <td>5</td>\n",
       "    </tr>\n",
       "    <tr>\n",
       "      <th>1</th>\n",
       "      <td>si se permite esto se acaba la seguridad en bo...</td>\n",
       "      <td>3</td>\n",
       "    </tr>\n",
       "    <tr>\n",
       "      <th>2</th>\n",
       "      <td>que hpta desorden de ciudad ya aqui todos hace...</td>\n",
       "      <td>1</td>\n",
       "    </tr>\n",
       "    <tr>\n",
       "      <th>3</th>\n",
       "      <td>pero esto esta prohibido normas de convivencia...</td>\n",
       "      <td>2</td>\n",
       "    </tr>\n",
       "    <tr>\n",
       "      <th>4</th>\n",
       "      <td>lo del bus de tm y la marihuana no esta nada b...</td>\n",
       "      <td>2</td>\n",
       "    </tr>\n",
       "  </tbody>\n",
       "</table>\n",
       "</div>"
      ],
      "text/plain": [
       "                                               Tweet  Sentiment\n",
       "0  comparto nuestro aliado estrategico para la es...          5\n",
       "1  si se permite esto se acaba la seguridad en bo...          3\n",
       "2  que hpta desorden de ciudad ya aqui todos hace...          1\n",
       "3  pero esto esta prohibido normas de convivencia...          2\n",
       "4  lo del bus de tm y la marihuana no esta nada b...          2"
      ]
     },
     "execution_count": 4,
     "metadata": {},
     "output_type": "execute_result"
    }
   ],
   "source": [
    "def strip_links(text):\n",
    "    text = text.lower()\n",
    "    link_regex    = re.compile('((https?):((//)|(\\\\\\\\))+([\\w\\d:#@%/;$()~_?\\+-=\\\\\\.&](#!)?)*)', re.DOTALL)\n",
    "    links         = re.findall(link_regex, text)\n",
    "    for link in links:\n",
    "        text = text.replace(link[0], ', ')   \n",
    "    return text\n",
    "\n",
    "# Eliminación de Hashtags y menciones\n",
    "def strip_all_entities(text):\n",
    "    entity_prefixes = ['@','#']\n",
    "    for separator in  string.punctuation:\n",
    "        if separator not in entity_prefixes :\n",
    "            text = text.replace(separator,' ')\n",
    "    words = []\n",
    "    for word in text.split():\n",
    "        word = word.strip()\n",
    "        if word:\n",
    "            if word[0] not in entity_prefixes:\n",
    "                words.append(word)\n",
    "    return ' '.join(words)\n",
    "\n",
    "# Eliminación de puntuacion, numeros y conversión del texto a minúsculas\n",
    "def remove_punctuations(text):\n",
    "    for punctuation in string.punctuation:\n",
    "        text = text.replace(punctuation, '')\n",
    "    for digits in string.digits:\n",
    "        text = text.replace(digits,'')\n",
    "    text = text.lower()\n",
    "    return text\n",
    "\n",
    "def remove_punct(strin):\n",
    "    strin = strin.translate(str.maketrans('','',string.punctuation));\n",
    "    strin = strin.translate(str.maketrans('','',string.digits));\n",
    "    return strin;\n",
    "\n",
    "#Normalizar: eliminar diéresis, acentos, y otros caracteres similares.\n",
    "def normunicode_data(strin):\n",
    "    #print(strin)\n",
    "    return unicodedata2.normalize('NFKD', strin).encode('ASCII', 'ignore').decode(\"utf-8\").lower()\n",
    "\n",
    "def proc_str(strin):\n",
    "    return remove_punct(normunicode_data(strin));\n",
    "\n",
    "def tok_cln(text):\n",
    "    return set(nltk.wordpunct_tokenize(text)).difference(stop_words) #(este es el original)\n",
    "\n",
    "def preprocessing(text):\n",
    "    text= text.apply(strip_links)\n",
    "    text= text.apply(strip_all_entities)\n",
    "    text= text.apply(remove_punctuations)\n",
    "    text = text.apply(normunicode_data)\n",
    "    return text\n",
    "\n",
    "data.Tweet=preprocessing(data[\"Tweet\"])\n",
    "data.head()"
   ]
  },
  {
   "cell_type": "code",
   "execution_count": 5,
   "metadata": {},
   "outputs": [],
   "source": [
    "def stemm_data(strin):\n",
    "    stemmer = SnowballStemmer(\"spanish\");\n",
    "    return stemmer.stem(strin)  "
   ]
  },
  {
   "cell_type": "code",
   "execution_count": 6,
   "metadata": {},
   "outputs": [
    {
     "data": {
      "image/png": "[encoded data removed]",
      "text/plain": [
       "<Figure size 720x288 with 1 Axes>"
      ]
     },
     "metadata": {
      "needs_background": "light"
     },
     "output_type": "display_data"
    }
   ],
   "source": [
    "def proc_string(strin,setData):\n",
    "    resp = set([]);\n",
    "    for data in tok_cln(proc_str(strin)):\n",
    "        #tm  = stemm_data(data)\n",
    "        tm = data\n",
    "        resp.add(tm)\n",
    "        if tm in setData:\n",
    "            setData[tm].add(data)\n",
    "        else:\n",
    "            setData[tm] = set([data])\n",
    "    return ', '.join(resp);\n",
    "\n",
    "def freq_dist_tok(strin):\n",
    "    token_clear = strin.apply(tok_cln)\n",
    "    out = [item for t in token_clear for item in t] \n",
    "    fig = plt.figure(figsize = (10,4))\n",
    "    plt.gcf().subplots_adjust(bottom=0.15)\n",
    "    fdist = FreqDist(out)\n",
    "    fdist.plot(40,cumulative=False)\n",
    "    return fig.savefig('freqDist.png', bbox_inches = \"tight\")\n",
    "\n",
    "freq_dist_tok(data.Tweet)"
   ]
  },
  {
   "cell_type": "code",
   "execution_count": 7,
   "metadata": {},
   "outputs": [],
   "source": [
    "def df2tdm(df,titleColumn,setData):\n",
    "    listData = [];\n",
    "    for idx in data.index:        \n",
    "        listData.append(proc_string(data[titleColumn][idx],setData));\n",
    "    return listData;\n",
    "\n",
    "def getDictionary_BOW(dfpp): \n",
    "    setData = {}\n",
    "    stinProc = df2tdm(dfpp,'Tweet',setData);\n",
    "    cv =  CountVectorizer();    \n",
    "    cv_fit = cv.fit_transform(stinProc);       \n",
    "    cvCount =  CountVectorizer(cv.vocabulary_);\n",
    "    # computes the vectorial representation of the CIE10    \n",
    "    cv_fitCount = cvCount.fit_transform(stinProc);        \n",
    "    features = cvCount.get_feature_names();    \n",
    "    return cv,cv_fitCount,features,setData\n",
    "\n",
    "def getDictionary_TFIDF(dfpp): \n",
    "    setData = {}\n",
    "    stinProc = df2tdm(dfpp,'Tweet',setData);\n",
    "    cv =  TfidfVectorizer();    \n",
    "    cv_fit = cv.fit_transform(stinProc);       \n",
    "    cvCount =  TfidfVectorizer(cv.vocabulary_);\n",
    "    # computes the vectorial representation of the CIE10    \n",
    "    cv_fitCount = cvCount.fit_transform(stinProc);        \n",
    "    features = cvCount.get_feature_names();    \n",
    "    return cv,cv_fitCount,features,setData\n",
    "\n",
    "dfpp = data['Sentiment']\n",
    "BOW_cvQuery_fit,BOW_cv_fitCount,BOW_features,BOW_origTerms = getDictionary_BOW(dfpp)\n",
    "TFIDF_cvQuery_fit,TFIDF_cv_fitCount,TFIDF_features,TFIDF_origTerms = getDictionary_TFIDF(dfpp)"
   ]
  },
  {
   "cell_type": "code",
   "execution_count": 8,
   "metadata": {},
   "outputs": [],
   "source": [
    "BOWX_train, BOWX_test, BOWy_train, BOWy_test = train_test_split(\n",
    "    BOW_cv_fitCount, data['Sentiment'], test_size=0.2, random_state=1)\n",
    "\n",
    "TFIDFX_train, TFIDFX_test, TFIDFy_train, TFIDFy_test = train_test_split(\n",
    "    TFIDF_cv_fitCount, data['Sentiment'], test_size=0.2, random_state=1)"
   ]
  },
  {
   "cell_type": "code",
   "execution_count": 54,
   "metadata": {},
   "outputs": [
    {
     "name": "stdout",
     "output_type": "stream",
     "text": [
      "MultinomialNB Accuracy BOW: 0.5129\n",
      "MultinomialNB Accuracy TFIDF: 0.5258\n",
      "MultinomialNB Precision BOW: 0.5115\n",
      "MultinomialNB Precision TFIDF: 0.5619\n",
      "MultinomialNB Recall BOW: 0.5129\n",
      "MultinomialNB Recall TFIDF: 0.5258\n",
      "MultinomialNB F1 score BOW: 0.4649\n",
      "MultinomialNB F1 score TFIDF: 0.3663\n",
      "\n",
      "\n"
     ]
    }
   ],
   "source": [
    "clf_BOW = MultinomialNB().fit(BOWX_train, BOWy_train)\n",
    "clf_TFIDF = MultinomialNB().fit(TFIDFX_train, TFIDFy_train)\n",
    "\n",
    "BOW_predicted_MNB= clf_BOW.predict(BOWX_test)\n",
    "TFIDF_predicted_MNB= clf_TFIDF.predict(TFIDFX_test)\n",
    "\n",
    "def get_metrics(true_labelsBOW, predicted_labelsBOW, true_labelsTFIDF, predicted_labelsTFIDF, clasificador):\n",
    "    print(clasificador+' Accuracy BOW:', np.round(metrics.accuracy_score(true_labelsBOW, predicted_labelsBOW),4))\n",
    "    print(clasificador+' Accuracy TFIDF:',np.round(metrics.accuracy_score(true_labelsTFIDF, predicted_labelsTFIDF),4))\n",
    "    print(clasificador+' Precision BOW:', np.round(metrics.precision_score(true_labelsBOW, predicted_labelsBOW,average='weighted',zero_division=1),4))\n",
    "    print(clasificador+' Precision TFIDF:', np.round(metrics.precision_score(true_labelsTFIDF, predicted_labelsTFIDF, average='weighted',zero_division=1),4))\n",
    "    print(clasificador+' Recall BOW:', np.round(metrics.recall_score(true_labelsBOW, predicted_labelsBOW,average='weighted'),4))\n",
    "    print(clasificador+' Recall TFIDF:', np.round(metrics.recall_score(true_labelsTFIDF, predicted_labelsTFIDF,average='weighted'),4))\n",
    "    print(clasificador+' F1 score BOW:', np.round(metrics.f1_score(true_labelsBOW, predicted_labelsBOW, average='weighted'),4))\n",
    "    print(clasificador+' F1 score TFIDF:', np.round(metrics.f1_score(true_labelsTFIDF, predicted_labelsTFIDF, average='weighted'),4))\n",
    "    print('\\n')\n",
    "\n",
    "get_metrics(BOWy_test, BOW_predicted_MNB,TFIDFy_test, TFIDF_predicted_MNB, 'MultinomialNB')\n"
   ]
  },
  {
   "cell_type": "code",
   "execution_count": 55,
   "metadata": {},
   "outputs": [
    {
     "name": "stdout",
     "output_type": "stream",
     "text": [
      "Logistic Regresion Accuracy BOW: 0.5077\n",
      "Logistic Regresion Accuracy TFIDF: 0.5232\n",
      "Logistic Regresion Precision BOW: 0.4632\n",
      "Logistic Regresion Precision TFIDF: 0.5375\n",
      "Logistic Regresion Recall BOW: 0.5077\n",
      "Logistic Regresion Recall TFIDF: 0.5232\n",
      "Logistic Regresion F1 score BOW: 0.4443\n",
      "Logistic Regresion F1 score TFIDF: 0.3651\n",
      "\n",
      "\n"
     ]
    }
   ],
   "source": [
    "Logreg_BOW= LogisticRegression(solver = 'liblinear', multi_class = 'ovr').fit(BOWX_train, BOWy_train)\n",
    "Logreg_TFIDF= LogisticRegression(solver = 'liblinear', multi_class = 'ovr').fit(TFIDFX_train, TFIDFy_train)\n",
    "\n",
    "BOW_predicted_Logreg= Logreg_BOW.predict(BOWX_test)\n",
    "TFIDF_predicted_Logreg= Logreg_TFIDF.predict(TFIDFX_test)\n",
    "\n",
    "get_metrics(BOWy_test, BOW_predicted_Logreg, TFIDFy_test, TFIDF_predicted_Logreg, 'Logistic Regresion')"
   ]
  },
  {
   "cell_type": "code",
   "execution_count": 56,
   "metadata": {},
   "outputs": [
    {
     "name": "stdout",
     "output_type": "stream",
     "text": [
      "BernouilliNB Accuracy BOW: 0.518\n",
      "BernouilliNB Accuracy TFIDF: 0.518\n",
      "BernouilliNB Precision BOW: 0.5393\n",
      "BernouilliNB Precision TFIDF: 0.5393\n",
      "BernouilliNB Recall BOW: 0.518\n",
      "BernouilliNB Recall TFIDF: 0.518\n",
      "BernouilliNB F1 score BOW: 0.3765\n",
      "BernouilliNB F1 score TFIDF: 0.3765\n",
      "\n",
      "\n"
     ]
    }
   ],
   "source": [
    "clf_BerNB_BOW = BernoulliNB().fit(BOWX_train, BOWy_train)\n",
    "clf_BerNB_TFIDF = BernoulliNB().fit(TFIDFX_train, TFIDFy_train)\n",
    "\n",
    "BOW_predicted_BNB= clf_BerNB_BOW.predict(BOWX_test)\n",
    "TFIDF_predicted_BNB= clf_BerNB_TFIDF.predict(TFIDFX_test)\n",
    "\n",
    "get_metrics(BOWy_test, BOW_predicted_BNB, TFIDFy_test, TFIDF_predicted_BNB, 'BernouilliNB')\n"
   ]
  },
  {
   "cell_type": "code",
   "execution_count": 58,
   "metadata": {},
   "outputs": [
    {
     "name": "stdout",
     "output_type": "stream",
     "text": [
      "SGDClassifier Accuracy BOW: 0.4897\n",
      "SGDClassifier Accuracy TFIDF: 0.5309\n",
      "SGDClassifier Precision BOW: 0.4589\n",
      "SGDClassifier Precision TFIDF: 0.5092\n",
      "SGDClassifier Recall BOW: 0.4897\n",
      "SGDClassifier Recall TFIDF: 0.5309\n",
      "SGDClassifier F1 score BOW: 0.4661\n",
      "SGDClassifier F1 score TFIDF: 0.4489\n",
      "\n",
      "\n"
     ]
    }
   ],
   "source": [
    "SGD_BOW= SGDClassifier(loss=\"log\", max_iter=5).fit(BOWX_train, BOWy_train)\n",
    "SGD_TFIDF= SGDClassifier(loss=\"log\", max_iter=5).fit(TFIDFX_train, TFIDFy_train)\n",
    "\n",
    "BOW_predicted_SGD= SGD_BOW.predict(BOWX_test)\n",
    "TFIDF_predicted_SGD= SGD_TFIDF.predict(TFIDFX_test)\n",
    "\n",
    "get_metrics(BOWy_test, BOW_predicted_SGD,TFIDFy_test, TFIDF_predicted_SGD,'SGDClassifier')\n"
   ]
  },
  {
   "cell_type": "code",
   "execution_count": 47,
   "metadata": {},
   "outputs": [
    {
     "name": "stdout",
     "output_type": "stream",
     "text": [
      "[3 2 3 4 3 2 2 2 3 3 2 2 2 4 3 2 2 2 2 3 4 2 3 2 2 2 4 2 2 2 2 3 4 2 2 3 2\n",
      " 2 2 2 2 3 2 2 3 2 2 2 2 2 2 2 2 2 2 2 2 2 2 2 2 3 3 2 3 3 2 3 4 3 2 2 2 2\n",
      " 2 2 2 2 2 2 3 3 3 2 3 2 2 2 2 4 3 3 3 2 2 2 3 3 2 2 3 2 2 4 2 2 2 2 4 5 2\n",
      " 3 2 3 2 2 4 2 2 3 2 2 2 2 3 2 2 2 3 2 2 2 2 3 2 2 2 2 2 2 2 3 2 2 2 3 2 2\n",
      " 3 2 2 3 2 2 3 2 3 3 2 2 2 2 3 2 2 4 4 2 2 3 2 3 2 2 2 3 3 2 2 2 3 2 2 2 2\n",
      " 3 4 2 2 2 3 2 2 3 4 2 3 3 3 2 2 2 2 2 3 2 2 2 2 2 2 2 3 2 2 2 2 2 2 2 3 3\n",
      " 2 2 2 5 3 3 2 3 2 2 3 2 2 2 2 2 2 2 2 2 2 2 3 3 2 2 3 2 2 3 2 2 2 2 3 2 2\n",
      " 2 2 3 2 4 2 2 2 4 2 4 2 2 2 2 3 3 2 2 2 2 2 2 2 2 2 2 3 2 3 2 2 2 2 2 2 2\n",
      " 3 2 2 2 2 2 2 4 2 2 2 2 2 2 3 2 2 2 2 2 2 3 2 2 4 3 3 3 2 2 3 4 4 2 2 2 2\n",
      " 2 4 2 4 2 4 3 2 2 2 2 4 3 2 2 5 2 2 2 2 2 4 3 3 2 2 2 2 2 3 2 2 3 2 3 2 2\n",
      " 2 2 3 3 2 2 2 2 2 2 2 2 4 3 3 2 2 2]\n"
     ]
    }
   ],
   "source": [
    "print (BOW_predicted_SGD)"
   ]
  },
  {
   "cell_type": "code",
   "execution_count": 48,
   "metadata": {},
   "outputs": [
    {
     "name": "stdout",
     "output_type": "stream",
     "text": [
      "[3 2 3 2 3 2 2 2 2 2 2 2 2 2 3 2 2 2 2 2 2 2 2 2 2 2 2 2 2 2 2 3 4 2 2 3 3\n",
      " 2 2 2 2 3 2 2 3 2 2 2 2 2 2 2 2 2 2 2 2 2 2 2 2 3 2 2 2 3 2 3 2 2 2 2 2 2\n",
      " 2 2 2 2 2 2 3 2 3 2 2 2 2 2 2 2 3 2 2 2 2 2 3 2 2 2 2 2 2 4 2 2 2 2 4 2 2\n",
      " 3 2 3 2 2 3 2 2 2 2 2 2 2 2 2 2 2 2 2 2 2 2 2 2 2 2 2 2 2 2 3 2 2 2 2 2 2\n",
      " 2 2 2 2 2 2 2 2 2 2 2 2 2 2 3 2 2 2 2 2 2 2 2 2 2 2 2 2 2 2 2 2 2 2 2 2 2\n",
      " 2 2 2 2 2 3 2 2 3 3 2 3 2 3 2 2 2 2 2 2 2 2 2 2 2 2 2 2 2 2 2 2 2 2 2 2 2\n",
      " 2 2 2 3 2 2 2 2 2 2 2 2 2 2 2 2 2 2 2 2 2 2 2 2 2 2 3 2 3 2 2 2 2 2 2 2 2\n",
      " 2 2 2 2 4 2 2 2 2 2 3 2 2 2 2 2 2 2 2 2 2 2 2 2 2 2 2 2 2 2 2 2 2 2 2 2 2\n",
      " 3 2 2 2 2 2 2 2 2 2 2 2 2 2 2 2 2 2 2 2 2 3 2 3 2 3 3 2 2 2 2 4 4 2 2 2 2\n",
      " 2 4 2 3 2 4 2 2 2 2 2 4 3 2 2 5 2 2 2 2 2 2 2 2 2 2 2 2 2 2 2 2 3 2 3 2 2\n",
      " 2 2 3 2 2 2 2 2 2 2 2 2 4 3 3 2 2 2]\n"
     ]
    }
   ],
   "source": [
    "print (TFIDF_predicted_SGD)"
   ]
  },
  {
   "cell_type": "code",
   "execution_count": 50,
   "metadata": {},
   "outputs": [
    {
     "name": "stdout",
     "output_type": "stream",
     "text": [
      "[3, 2, 2, 4, 4, 2, 3, 3, 3, 2, 2, 2, 2, 4, 3, 2, 2, 3, 3, 3, 3, 2, 2, 2, 2, 2, 3, 3, 4, 2, 4, 2, 4, 3, 2, 5, 3, 4, 2, 2, 3, 4, 3, 2, 2, 4, 2, 2, 3, 2, 2, 3, 2, 2, 2, 2, 2, 3, 3, 2, 2, 3, 2, 2, 3, 4, 2, 4, 4, 2, 2, 2, 2, 2, 2, 2, 2, 3, 2, 2, 4, 2, 2, 4, 4, 3, 3, 2, 2, 2, 3, 3, 2, 4, 2, 2, 2, 2, 2, 2, 2, 3, 4, 4, 3, 4, 2, 3, 4, 3, 2, 3, 2, 2, 2, 2, 2, 3, 2, 3, 2, 2, 2, 3, 2, 2, 3, 2, 3, 2, 2, 4, 2, 2, 2, 2, 3, 3, 2, 3, 5, 2, 3, 2, 2, 2, 4, 2, 2, 2, 2, 2, 2, 3, 3, 2, 2, 3, 2, 2, 2, 1, 2, 2, 4, 4, 3, 2, 2, 4, 2, 2, 2, 2, 2, 2, 2, 2, 2, 4, 3, 3, 2, 3, 4, 3, 4, 2, 1, 2, 2, 4, 2, 2, 4, 3, 3, 2, 3, 3, 3, 2, 3, 4, 2, 1, 4, 1, 2, 5, 2, 2, 3, 2, 3, 2, 2, 4, 2, 2, 3, 4, 3, 2, 2, 2, 2, 3, 2, 3, 2, 2, 4, 3, 3, 3, 2, 2, 2, 2, 3, 3, 2, 2, 3, 2, 2, 2, 2, 2, 2, 3, 2, 3, 4, 2, 2, 3, 2, 3, 3, 2, 2, 3, 1, 1, 5, 4, 1, 4, 2, 2, 3, 2, 3, 3, 4, 4, 2, 2, 2, 3, 2, 3, 3, 1, 2, 2, 2, 3, 2, 2, 3, 3, 3, 2, 3, 2, 3, 2, 2, 2, 2, 5, 4, 2, 2, 2, 2, 2, 3, 2, 2, 2, 3, 3, 3, 3, 2, 2, 2, 4, 4, 3, 2, 2, 2, 4, 5, 3, 2, 2, 5, 3, 4, 1, 3, 3, 5, 3, 4, 4, 2, 2, 4, 5, 3, 2, 4, 2, 3, 1, 3, 3, 3, 2, 3, 2, 1, 3, 3, 3, 3, 2, 3, 4, 2, 4, 2, 2, 2, 2, 2, 3, 2, 4, 2, 3, 3, 2, 2, 2, 4, 4, 3, 2, 2, 3]\n"
     ]
    }
   ],
   "source": [
    "print(list(BOWy_test))"
   ]
  },
  {
   "cell_type": "code",
   "execution_count": null,
   "metadata": {},
   "outputs": [],
   "source": []
  }
 ],
 "metadata": {
  "kernelspec": {
   "display_name": "Python 3",
   "language": "python",
   "name": "python3"
  },
  "language_info": {
   "codemirror_mode": {
    "name": "ipython",
    "version": 3
   },
   "file_extension": ".py",
   "mimetype": "text/x-python",
   "name": "python",
   "nbconvert_exporter": "python",
   "pygments_lexer": "ipython3",
   "version": "3.8.2"
  }
 },
 "nbformat": 4,
 "nbformat_minor": 4
}
