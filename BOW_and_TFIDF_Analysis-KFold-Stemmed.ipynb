{
 "cells": [
  {
   "cell_type": "code",
   "execution_count": 1,
   "metadata": {},
   "outputs": [
    {
     "data": {
      "text/html": [
       "<div>\n",
       "<style scoped>\n",
       "    .dataframe tbody tr th:only-of-type {\n",
       "        vertical-align: middle;\n",
       "    }\n",
       "\n",
       "    .dataframe tbody tr th {\n",
       "        vertical-align: top;\n",
       "    }\n",
       "\n",
       "    .dataframe thead th {\n",
       "        text-align: right;\n",
       "    }\n",
       "</style>\n",
       "<table border=\"1\" class=\"dataframe\">\n",
       "  <thead>\n",
       "    <tr style=\"text-align: right;\">\n",
       "      <th></th>\n",
       "      <th>ID</th>\n",
       "      <th>Tweet</th>\n",
       "      <th>Sentiment</th>\n",
       "    </tr>\n",
       "  </thead>\n",
       "  <tbody>\n",
       "    <tr>\n",
       "      <th>0</th>\n",
       "      <td>0</td>\n",
       "      <td>Comparto nuestro aliado estrategico para la Es...</td>\n",
       "      <td>5</td>\n",
       "    </tr>\n",
       "    <tr>\n",
       "      <th>1</th>\n",
       "      <td>1</td>\n",
       "      <td>@FREDYGUERRAHERR @consigliererojo @ClaudiaLope...</td>\n",
       "      <td>3</td>\n",
       "    </tr>\n",
       "    <tr>\n",
       "      <th>2</th>\n",
       "      <td>2</td>\n",
       "      <td>@FREDYGUERRAHERR @adelve3 @ClaudiaLopez @Trans...</td>\n",
       "      <td>1</td>\n",
       "    </tr>\n",
       "    <tr>\n",
       "      <th>3</th>\n",
       "      <td>3</td>\n",
       "      <td>@luciabastidasu @TransMilenio Pero esto esta p...</td>\n",
       "      <td>2</td>\n",
       "    </tr>\n",
       "    <tr>\n",
       "      <th>4</th>\n",
       "      <td>4</td>\n",
       "      <td>Lo del bus de TM y la marihuana no esta nada b...</td>\n",
       "      <td>2</td>\n",
       "    </tr>\n",
       "  </tbody>\n",
       "</table>\n",
       "</div>"
      ],
      "text/plain": [
       "   ID                                              Tweet  Sentiment\n",
       "0   0  Comparto nuestro aliado estrategico para la Es...          5\n",
       "1   1  @FREDYGUERRAHERR @consigliererojo @ClaudiaLope...          3\n",
       "2   2  @FREDYGUERRAHERR @adelve3 @ClaudiaLopez @Trans...          1\n",
       "3   3  @luciabastidasu @TransMilenio Pero esto esta p...          2\n",
       "4   4  Lo del bus de TM y la marihuana no esta nada b...          2"
      ]
     },
     "execution_count": 1,
     "metadata": {},
     "output_type": "execute_result"
    }
   ],
   "source": [
    "import nltk\n",
    "import pandas as pd\n",
    "import matplotlib.pyplot as plt\n",
    "import numpy as np\n",
    "import re\n",
    "import unicodedata2\n",
    "import math\n",
    "import string\n",
    "import tokenize\n",
    "import sklearn\n",
    "from nltk.tokenize import sent_tokenize\n",
    "from nltk.tokenize import word_tokenize\n",
    "from nltk.tokenize import wordpunct_tokenize\n",
    "from nltk.probability import FreqDist\n",
    "from nltk.corpus import stopwords\n",
    "from nltk.stem import PorterStemmer\n",
    "from nltk.stem.wordnet import WordNetLemmatizer\n",
    "from nltk.stem.porter import PorterStemmer\n",
    "from sklearn.model_selection import train_test_split\n",
    "from sklearn.feature_extraction.text import CountVectorizer\n",
    "from sklearn.feature_extraction.text import TfidfVectorizer\n",
    "from nltk.tokenize import RegexpTokenizer\n",
    "from nltk.tokenize import sent_tokenize\n",
    "from sklearn import metrics\n",
    "from sklearn.metrics.pairwise import linear_kernel\n",
    "from sklearn.metrics.pairwise import polynomial_kernel\n",
    "from sklearn.naive_bayes import MultinomialNB\n",
    "from string import digits\n",
    "from xml.dom import minidom\n",
    "from unidecode import unidecode\n",
    "from nltk.stem.snowball import SnowballStemmer\n",
    "from string import punctuation\n",
    "from nltk.classify.scikitlearn import SklearnClassifier\n",
    "from sklearn.naive_bayes import MultinomialNB,BernoulliNB\n",
    "from sklearn.linear_model import LogisticRegression,SGDClassifier\n",
    "from sklearn.svm import SVC\n",
    "\n",
    "stop_words = stopwords.words('spanish')\n",
    "newStopWords = ['dr','dra','etc','bn','ud','u','ag','si','no','rt','q','m','bb','tan','aun','cr','tal','segun','w','lab','aca','wew','av','ah','cll','km','tm','ht','mk','xs','xxl','xl','xxx','reee','nls','kr']\n",
    "stop_words.extend(newStopWords)\n",
    "data=pd.read_csv(\"ScoreV0_int.csv\")\n",
    "sbEsp = SnowballStemmer('spanish')\n",
    "data.head()"
   ]
  },
  {
   "cell_type": "code",
   "execution_count": 2,
   "metadata": {},
   "outputs": [
    {
     "data": {
      "text/plain": [
       "2    1103\n",
       "3     528\n",
       "4     210\n",
       "1      57\n",
       "5      38\n",
       "Name: Sentiment, dtype: int64"
      ]
     },
     "execution_count": 2,
     "metadata": {},
     "output_type": "execute_result"
    }
   ],
   "source": [
    "data.Sentiment.value_counts()"
   ]
  },
  {
   "cell_type": "code",
   "execution_count": 3,
   "metadata": {},
   "outputs": [
    {
     "data": {
      "image/png": "[encoded data removed]",
      "text/plain": [
       "<Figure size 432x288 with 1 Axes>"
      ]
     },
     "metadata": {
      "needs_background": "light"
     },
     "output_type": "display_data"
    }
   ],
   "source": [
    "Sentiment_count=data.groupby('Sentiment').count()\n",
    "fig, ax = plt.subplots()\n",
    "plt.bar(Sentiment_count.index.values, Sentiment_count['Tweet'])\n",
    "ax.set(xlabel='Score', ylabel='# Tweets',\n",
    "       title='Goal Standard Distribution')\n",
    "fig.savefig(\"distGoldStandard.png\")\n",
    "plt.show()\n"
   ]
  },
  {
   "cell_type": "code",
   "execution_count": 4,
   "metadata": {},
   "outputs": [
    {
     "data": {
      "text/html": [
       "<div>\n",
       "<style scoped>\n",
       "    .dataframe tbody tr th:only-of-type {\n",
       "        vertical-align: middle;\n",
       "    }\n",
       "\n",
       "    .dataframe tbody tr th {\n",
       "        vertical-align: top;\n",
       "    }\n",
       "\n",
       "    .dataframe thead th {\n",
       "        text-align: right;\n",
       "    }\n",
       "</style>\n",
       "<table border=\"1\" class=\"dataframe\">\n",
       "  <thead>\n",
       "    <tr style=\"text-align: right;\">\n",
       "      <th></th>\n",
       "      <th>ID</th>\n",
       "      <th>Tweet</th>\n",
       "      <th>Sentiment</th>\n",
       "    </tr>\n",
       "  </thead>\n",
       "  <tbody>\n",
       "    <tr>\n",
       "      <th>0</th>\n",
       "      <td>0</td>\n",
       "      <td>comparto nuestro aliado estrategico para la es...</td>\n",
       "      <td>5</td>\n",
       "    </tr>\n",
       "    <tr>\n",
       "      <th>1</th>\n",
       "      <td>1</td>\n",
       "      <td>si se permite esto se acaba la seguridad en bo...</td>\n",
       "      <td>3</td>\n",
       "    </tr>\n",
       "    <tr>\n",
       "      <th>2</th>\n",
       "      <td>2</td>\n",
       "      <td>que hpta desorden de ciudad ya aqui todos hace...</td>\n",
       "      <td>1</td>\n",
       "    </tr>\n",
       "    <tr>\n",
       "      <th>3</th>\n",
       "      <td>3</td>\n",
       "      <td>pero esto esta prohibido normas de convivencia...</td>\n",
       "      <td>2</td>\n",
       "    </tr>\n",
       "    <tr>\n",
       "      <th>4</th>\n",
       "      <td>4</td>\n",
       "      <td>lo del bus de tm y la marihuana no esta nada b...</td>\n",
       "      <td>2</td>\n",
       "    </tr>\n",
       "  </tbody>\n",
       "</table>\n",
       "</div>"
      ],
      "text/plain": [
       "   ID                                              Tweet  Sentiment\n",
       "0   0  comparto nuestro aliado estrategico para la es...          5\n",
       "1   1  si se permite esto se acaba la seguridad en bo...          3\n",
       "2   2  que hpta desorden de ciudad ya aqui todos hace...          1\n",
       "3   3  pero esto esta prohibido normas de convivencia...          2\n",
       "4   4  lo del bus de tm y la marihuana no esta nada b...          2"
      ]
     },
     "execution_count": 4,
     "metadata": {},
     "output_type": "execute_result"
    }
   ],
   "source": [
    "def strip_links(text):\n",
    "    text = text.lower()\n",
    "    link_regex    = re.compile('((https?):((//)|(\\\\\\\\))+([\\w\\d:#@%/;$()~_?\\+-=\\\\\\.&](#!)?)*)', re.DOTALL)\n",
    "    links         = re.findall(link_regex, text)\n",
    "    for link in links:\n",
    "        text = text.replace(link[0], ', ')   \n",
    "    return text\n",
    "\n",
    "# Eliminación de Hashtags y menciones\n",
    "def strip_all_entities(text):\n",
    "    entity_prefixes = ['@','#']\n",
    "    for separator in  string.punctuation:\n",
    "        if separator not in entity_prefixes :\n",
    "            text = text.replace(separator,' ')\n",
    "    words = []\n",
    "    for word in text.split():\n",
    "        word = word.strip()\n",
    "        if word:\n",
    "            if word[0] not in entity_prefixes:\n",
    "                words.append(word)\n",
    "    return ' '.join(words)\n",
    "\n",
    "# Eliminación de puntuacion, numeros y conversión del texto a minúsculas\n",
    "def remove_punctuations(text):\n",
    "    for punctuation in string.punctuation:\n",
    "        text = text.replace(punctuation, '')\n",
    "    for digits in string.digits:\n",
    "        text = text.replace(digits,'')\n",
    "    text = text.lower()\n",
    "    return text\n",
    "\n",
    "def remove_punct(strin):\n",
    "    strin = strin.translate(str.maketrans('','',string.punctuation));\n",
    "    strin = strin.translate(str.maketrans('','',string.digits));\n",
    "    return strin;\n",
    "\n",
    "#Normalizar: eliminar diéresis, acentos, y otros caracteres similares.\n",
    "def normunicode_data(strin):\n",
    "    #print(strin)\n",
    "    return unicodedata2.normalize('NFKD', strin).encode('ASCII', 'ignore').decode(\"utf-8\").lower()\n",
    "\n",
    "def proc_str(strin):\n",
    "    return remove_punct(normunicode_data(strin));\n",
    "\n",
    "def tok_cln(text):\n",
    "    return set(nltk.wordpunct_tokenize(text)).difference(stop_words) #(este es el original)\n",
    "\n",
    "def preprocessing(text):\n",
    "    text= text.apply(strip_links)\n",
    "    text= text.apply(strip_all_entities)\n",
    "    text= text.apply(remove_punctuations)\n",
    "    text = text.apply(normunicode_data)\n",
    "    return text\n",
    "\n",
    "data.Tweet=preprocessing(data[\"Tweet\"])\n",
    "data.head()"
   ]
  },
  {
   "cell_type": "code",
   "execution_count": 5,
   "metadata": {},
   "outputs": [],
   "source": [
    "def stemm_data(strin):\n",
    "    stemmer = SnowballStemmer(\"spanish\");\n",
    "    return stemmer.stem(strin)  "
   ]
  },
  {
   "cell_type": "code",
   "execution_count": 6,
   "metadata": {},
   "outputs": [
    {
     "data": {
      "image/png": "[encoded data removed]",
      "text/plain": [
       "<Figure size 720x288 with 1 Axes>"
      ]
     },
     "metadata": {
      "needs_background": "light"
     },
     "output_type": "display_data"
    }
   ],
   "source": [
    "def proc_string(strin,setData):\n",
    "    resp = set([]);\n",
    "    for data in tok_cln(proc_str(strin)):\n",
    "        tm  = stemm_data(data)\n",
    "        #tm = data\n",
    "        resp.add(tm)\n",
    "        if tm in setData:\n",
    "            setData[tm].add(data)\n",
    "        else:\n",
    "            setData[tm] = set([data])\n",
    "    return ', '.join(resp);\n",
    "\n",
    "def freq_dist_tok(strin):\n",
    "    token_clear = strin.apply(tok_cln)\n",
    "    out = [item for t in token_clear for item in t] \n",
    "    fig = plt.figure(figsize = (10,4))\n",
    "    plt.gcf().subplots_adjust(bottom=0.15)\n",
    "    fdist = FreqDist(out)\n",
    "    fdist.plot(40,cumulative=False)\n",
    "    return fig.savefig('freqDist.png', bbox_inches = \"tight\")\n",
    "\n",
    "freq_dist_tok(data.Tweet)"
   ]
  },
  {
   "cell_type": "code",
   "execution_count": 7,
   "metadata": {},
   "outputs": [],
   "source": [
    "def df2tdm(df,titleColumn,setData):\n",
    "    listData = [];\n",
    "    for idx in data.index:        \n",
    "        listData.append(proc_string(data[titleColumn][idx],setData));\n",
    "    return listData;\n",
    "\n",
    "def getDictionary_BOW(dfpp): \n",
    "    setData = {}\n",
    "    stinProc = df2tdm(dfpp,'Tweet',setData);\n",
    "    cv =  CountVectorizer();    \n",
    "    cv_fit = cv.fit_transform(stinProc);       \n",
    "    cvCount =  CountVectorizer(cv.vocabulary_);\n",
    "    # computes the vectorial representation of the CIE10    \n",
    "    cv_fitCount = cvCount.fit_transform(stinProc);        \n",
    "    features = cvCount.get_feature_names();    \n",
    "    return cv,cv_fitCount,features,setData\n",
    "\n",
    "def getDictionary_TFIDF(dfpp): \n",
    "    setData = {}\n",
    "    stinProc = df2tdm(dfpp,'Tweet',setData);\n",
    "    cv =  TfidfVectorizer();    \n",
    "    cv_fit = cv.fit_transform(stinProc);       \n",
    "    cvCount =  TfidfVectorizer(cv.vocabulary_);\n",
    "    # computes the vectorial representation of the CIE10    \n",
    "    cv_fitCount = cvCount.fit_transform(stinProc);        \n",
    "    features = cvCount.get_feature_names();    \n",
    "    return cv,cv_fitCount,features,setData\n",
    "\n",
    "dfpp = data['Sentiment']\n",
    "BOW_cvQuery_fit,BOW_cv_fitCount,BOW_features,BOW_origTerms = getDictionary_BOW(dfpp)\n",
    "TFIDF_cvQuery_fit,TFIDF_cv_fitCount,TFIDF_features,TFIDF_origTerms = getDictionary_TFIDF(dfpp)"
   ]
  },
  {
   "cell_type": "code",
   "execution_count": 8,
   "metadata": {},
   "outputs": [],
   "source": [
    "from sklearn.model_selection import LeaveOneOut\n",
    "from sklearn import model_selection\n",
    "from sklearn.model_selection import cross_validate\n",
    "from sklearn.model_selection import cross_val_score\n",
    "from sklearn.metrics import make_scorer\n",
    "from sklearn.metrics import confusion_matrix\n",
    "import seaborn as sns\n",
    "from sklearn.metrics import make_scorer, accuracy_score, precision_score, recall_score, f1_score\n",
    "from sklearn.model_selection import KFold\n",
    "\n",
    "#kf = KFold(n_splits=30) # Define the split - into folds \n",
    "kf = KFold(n_splits=50, random_state=None, shuffle=False)\n",
    "def kfold_metrics(model,X,y):\n",
    "    accuracy_metr=[]\n",
    "    precision_metr=[]\n",
    "    f1_metr=[]\n",
    "    recall_metr=[]\n",
    "    for train_index, test_index in kf.split(X):\n",
    "        X_train, X_test = X[train_index], X[test_index]\n",
    "        y_train, y_test = y[train_index], y[test_index]\n",
    "        clf = model.fit(X_train, y_train)\n",
    "        predicted= clf.predict(X_test)\n",
    "        acc=metrics.accuracy_score(y_test, predicted)\n",
    "        prec=metrics.precision_score(y_test, predicted,average='weighted', zero_division=1)\n",
    "        f1sc=metrics.f1_score(y_test, predicted, average='weighted')\n",
    "        rec=metrics.recall_score(y_test, predicted,average='weighted',zero_division=1)\n",
    "        accuracy_metr.append(acc)\n",
    "        precision_metr.append(prec)\n",
    "        f1_metr.append(f1sc)\n",
    "        recall_metr.append(rec)\n",
    "    return accuracy_metr,precision_metr,f1_metr,recall_metr\n",
    "\n"
   ]
  },
  {
   "cell_type": "code",
   "execution_count": 9,
   "metadata": {},
   "outputs": [],
   "source": [
    "acc_BOW_MNB,prec_BOW_MNB,f1_BOW_MNB,recall_BOW_MNB=kfold_metrics(MultinomialNB(),BOW_cv_fitCount,data['Sentiment']);\n",
    "acc_TFIDF_MNB,prec_TFIDF_MNB,f1_TFIDF_MNB,recall_TFIDF_MNB=kfold_metrics(MultinomialNB(),TFIDF_cv_fitCount,data['Sentiment']);"
   ]
  },
  {
   "cell_type": "code",
   "execution_count": 10,
   "metadata": {},
   "outputs": [],
   "source": [
    "acc_BOW_LR,prec_BOW_LR,f1_BOW_LR,recall_BOW_LR=kfold_metrics(LogisticRegression(solver = 'liblinear', multi_class = 'ovr'),BOW_cv_fitCount,data['Sentiment']);\n",
    "acc_TFIDF_LR,prec_TFIDF_LR,f1_TFIDF_LR,recall_TFIDF_LR=kfold_metrics(LogisticRegression(solver = 'liblinear', multi_class = 'ovr'),TFIDF_cv_fitCount,data['Sentiment']);"
   ]
  },
  {
   "cell_type": "code",
   "execution_count": 11,
   "metadata": {},
   "outputs": [],
   "source": [
    "acc_BOW_BNB,prec_BOW_BNB,f1_BOW_BNB,recall_BOW_BNB=kfold_metrics(BernoulliNB(),BOW_cv_fitCount,data['Sentiment']);\n",
    "acc_TFIDF_BNB,prec_TFIDF_BNB,f1_TFIDF_BNB,recall_TFIDF_BNB=kfold_metrics(BernoulliNB(),TFIDF_cv_fitCount,data['Sentiment']);"
   ]
  },
  {
   "cell_type": "code",
   "execution_count": 13,
   "metadata": {},
   "outputs": [],
   "source": [
    "acc_BOW_SGD,prec_BOW_SGD,f1_BOW_SGD,recall_BOW_SGD=kfold_metrics(SGDClassifier(loss=\"log\", max_iter=9),BOW_cv_fitCount,data['Sentiment']);\n",
    "acc_TFIDF_SGD,prec_TFIDF_SGD,f1_TFIDF_SGD,recall_TFIDF_SGD=kfold_metrics(SGDClassifier(loss=\"log\", max_iter=9),TFIDF_cv_fitCount,data['Sentiment']);"
   ]
  },
  {
   "cell_type": "code",
   "execution_count": 14,
   "metadata": {},
   "outputs": [],
   "source": [
    "import plotly.express as px\n",
    "import plotly.graph_objects as go"
   ]
  },
  {
   "cell_type": "code",
   "execution_count": 15,
   "metadata": {},
   "outputs": [],
   "source": [
    "import os\n",
    "\n",
    "if not os.path.exists(\"images\"):\n",
    "    os.mkdir(\"images\")"
   ]
  },
  {
   "cell_type": "code",
   "execution_count": 68,
   "metadata": {},
   "outputs": [],
   "source": [
    "def plots_metrics(metric_BOW_SGD, metric_TFIDF_SGD, metric_BOW_BNB, metric_TFIDF_BNB, \n",
    "                  metric_BOW_LR, metric_TFIDF_LR,metric_BOW_MNB, metric_TFIDF_MNB, measure, \n",
    "                  lexicon_data1, lexicon_data2):\n",
    "    fig = go.Figure()\n",
    "    fig.add_trace(go.Violin(y=metric_BOW_SGD, scalegroup='BOW', name='BOW SGD',side='negative',\n",
    "                            pointpos=-1.4,line_color='green',x0='SGD Classifier'))\n",
    "    fig.add_trace(go.Violin(y=metric_TFIDF_SGD, scalegroup='TFIDF', name='TFIDF SGD',side='positive', \n",
    "                            pointpos=1.4,line_color='lightseagreen',x0='SGD Classifier'))\n",
    "    fig.add_trace(go.Violin(y=metric_BOW_BNB, scalegroup='BOW', name='BOW BNB',side='negative',\n",
    "                            pointpos=-1.4,line_color='red', x0='Bernoulli NB'))\n",
    "    fig.add_trace(go.Violin(y=metric_TFIDF_BNB, scalegroup='TFIDF', name='TFIDF BNB',side='positive',\n",
    "                            pointpos=1.4,line_color='darkmagenta',x0='Bernoulli NB'))\n",
    "    fig.add_trace(go.Violin(y=metric_BOW_LR, scalegroup='BOW', name='BOW LR',side='negative',\n",
    "                            pointpos=-1.4,line_color='blue',x0='Logistic Regresion'))\n",
    "    fig.add_trace(go.Violin(y=metric_TFIDF_LR, scalegroup='TFIDF', name='TFIDF LR',side='positive',\n",
    "                            pointpos=1.4,line_color='darkblue', x0='Logistic Regresion'))\n",
    "    fig.add_trace(go.Violin(y=metric_BOW_MNB, scalegroup='BOW', name='BOW MNB',side='negative',\n",
    "                            pointpos=-1.4,line_color='black', x0='Multinomial NB'))\n",
    "    fig.add_trace(go.Violin(y=metric_TFIDF_MNB, name='TFIDF MNB',side='positive',\n",
    "                            pointpos=1.4,line_color='gray', x0='Multinomial NB'))\n",
    "    fig.update_traces(meanline_visible=True, points='all', jitter=0.05, scalemode='count')\n",
    "    fig.update_layout(title_text=measure,violingap=0, violingroupgap=0.6, violinmode='overlay')\n",
    "    fig.add_trace(go.Scatter(x=['SGD Classifier', 'Multinomial NB'], y=[lexicon_data1,lexicon_data1], line = dict(color='darkslategrey', dash='dash'), name=\"Lexicon Simple\"))\n",
    "    fig.add_trace(go.Scatter(x=['SGD Classifier', 'Multinomial NB'], y=[lexicon_data2,lexicon_data2], line = dict(color='darkslateblue', dash='dot'), name=\"Lexicon Polarity\"))\n",
    "    fig.write_image(\"images/\"+measure+\".png\")\n",
    "    fig.show()\n",
    "\n"
   ]
  },
  {
   "cell_type": "code",
   "execution_count": 69,
   "metadata": {},
   "outputs": [
    {
     "data": {
      "application/vnd.plotly.v1+json": {
       "config": {
        "plotlyServerURL": "https://plot.ly"
       },
       "data": [
        {
         "jitter": 0.05,
         "line": {
          "color": "green"
         },
         "meanline": {
          "visible": true
         },
         "name": "BOW SGD",
         "pointpos": -1.4,
         "points": "all",
         "scalegroup": "BOW",
         "scalemode": "count",
         "side": "negative",
         "type": "violin",
         "x0": "SGD Classifier",
         "y": [
          0.5384615384615384,
          0.46153846153846156,
          0.46153846153846156,
          0.358974358974359,
          0.46153846153846156,
          0.38461538461538464,
          0.3076923076923077,
          0.3333333333333333,
          0.5128205128205128,
          0.5641025641025641,
          0.5641025641025641,
          0.46153846153846156,
          0.46153846153846156,
          0.5128205128205128,
          0.5897435897435898,
          0.38461538461538464,
          0.358974358974359,
          0.5641025641025641,
          0.4358974358974359,
          0.6410256410256411,
          0.717948717948718,
          0.5641025641025641,
          0.6153846153846154,
          0.5897435897435898,
          0.5641025641025641,
          0.5897435897435898,
          0.6923076923076923,
          0.46153846153846156,
          0.6666666666666666,
          0.5897435897435898,
          0.6410256410256411,
          0.6923076923076923,
          0.6153846153846154,
          0.6923076923076923,
          0.6410256410256411,
          0.6666666666666666,
          0.6842105263157895,
          0.47368421052631576,
          0.5789473684210527,
          0.6052631578947368,
          0.631578947368421,
          0.39473684210526316,
          0.5526315789473685,
          0.5,
          0.42105263157894735,
          0.5789473684210527,
          0.5789473684210527,
          0.47368421052631576,
          0.5,
          0.34210526315789475
         ]
        },
        {
         "jitter": 0.05,
         "line": {
          "color": "lightseagreen"
         },
         "meanline": {
          "visible": true
         },
         "name": "TFIDF SGD",
         "pointpos": 1.4,
         "points": "all",
         "scalegroup": "TFIDF",
         "scalemode": "count",
         "side": "positive",
         "type": "violin",
         "x0": "SGD Classifier",
         "y": [
          0.5384615384615384,
          0.5128205128205128,
          0.46153846153846156,
          0.46153846153846156,
          0.5641025641025641,
          0.48717948717948717,
          0.3333333333333333,
          0.3076923076923077,
          0.5384615384615384,
          0.5641025641025641,
          0.5897435897435898,
          0.46153846153846156,
          0.41025641025641024,
          0.48717948717948717,
          0.6153846153846154,
          0.358974358974359,
          0.46153846153846156,
          0.5384615384615384,
          0.46153846153846156,
          0.8205128205128205,
          0.6923076923076923,
          0.6923076923076923,
          0.6410256410256411,
          0.6410256410256411,
          0.7435897435897436,
          0.6410256410256411,
          0.6666666666666666,
          0.5128205128205128,
          0.717948717948718,
          0.6666666666666666,
          0.6410256410256411,
          0.7435897435897436,
          0.6666666666666666,
          0.7435897435897436,
          0.6923076923076923,
          0.6666666666666666,
          0.7105263157894737,
          0.6052631578947368,
          0.6842105263157895,
          0.6842105263157895,
          0.5,
          0.3684210526315789,
          0.631578947368421,
          0.5789473684210527,
          0.4473684210526316,
          0.5,
          0.5789473684210527,
          0.5526315789473685,
          0.5,
          0.34210526315789475
         ]
        },
        {
         "jitter": 0.05,
         "line": {
          "color": "red"
         },
         "meanline": {
          "visible": true
         },
         "name": "BOW BNB",
         "pointpos": -1.4,
         "points": "all",
         "scalegroup": "BOW",
         "scalemode": "count",
         "side": "negative",
         "type": "violin",
         "x0": "Bernoulli NB",
         "y": [
          0.48717948717948717,
          0.5128205128205128,
          0.46153846153846156,
          0.46153846153846156,
          0.5384615384615384,
          0.48717948717948717,
          0.2564102564102564,
          0.28205128205128205,
          0.5897435897435898,
          0.5128205128205128,
          0.5128205128205128,
          0.46153846153846156,
          0.38461538461538464,
          0.48717948717948717,
          0.5897435897435898,
          0.3333333333333333,
          0.41025641025641024,
          0.5641025641025641,
          0.5128205128205128,
          0.7692307692307693,
          0.6666666666666666,
          0.7435897435897436,
          0.6153846153846154,
          0.7692307692307693,
          0.6410256410256411,
          0.6153846153846154,
          0.6153846153846154,
          0.5897435897435898,
          0.7435897435897436,
          0.6923076923076923,
          0.8205128205128205,
          0.6666666666666666,
          0.6153846153846154,
          0.7692307692307693,
          0.6666666666666666,
          0.6410256410256411,
          0.631578947368421,
          0.6842105263157895,
          0.6578947368421053,
          0.7105263157894737,
          0.6052631578947368,
          0.5,
          0.7105263157894737,
          0.6578947368421053,
          0.5789473684210527,
          0.47368421052631576,
          0.5789473684210527,
          0.4473684210526316,
          0.5,
          0.21052631578947367
         ]
        },
        {
         "jitter": 0.05,
         "line": {
          "color": "darkmagenta"
         },
         "meanline": {
          "visible": true
         },
         "name": "TFIDF BNB",
         "pointpos": 1.4,
         "points": "all",
         "scalegroup": "TFIDF",
         "scalemode": "count",
         "side": "positive",
         "type": "violin",
         "x0": "Bernoulli NB",
         "y": [
          0.48717948717948717,
          0.5128205128205128,
          0.46153846153846156,
          0.46153846153846156,
          0.5384615384615384,
          0.48717948717948717,
          0.2564102564102564,
          0.28205128205128205,
          0.5897435897435898,
          0.5128205128205128,
          0.5128205128205128,
          0.46153846153846156,
          0.38461538461538464,
          0.48717948717948717,
          0.5897435897435898,
          0.3333333333333333,
          0.41025641025641024,
          0.5641025641025641,
          0.5128205128205128,
          0.7692307692307693,
          0.6666666666666666,
          0.7435897435897436,
          0.6153846153846154,
          0.7692307692307693,
          0.6410256410256411,
          0.6153846153846154,
          0.6153846153846154,
          0.5897435897435898,
          0.7435897435897436,
          0.6923076923076923,
          0.8205128205128205,
          0.6666666666666666,
          0.6153846153846154,
          0.7692307692307693,
          0.6666666666666666,
          0.6410256410256411,
          0.631578947368421,
          0.6842105263157895,
          0.6578947368421053,
          0.7105263157894737,
          0.6052631578947368,
          0.5,
          0.7105263157894737,
          0.6578947368421053,
          0.5789473684210527,
          0.47368421052631576,
          0.5789473684210527,
          0.4473684210526316,
          0.5,
          0.21052631578947367
         ]
        },
        {
         "jitter": 0.05,
         "line": {
          "color": "blue"
         },
         "meanline": {
          "visible": true
         },
         "name": "BOW LR",
         "pointpos": -1.4,
         "points": "all",
         "scalegroup": "BOW",
         "scalemode": "count",
         "side": "negative",
         "type": "violin",
         "x0": "Logistic Regresion",
         "y": [
          0.48717948717948717,
          0.46153846153846156,
          0.48717948717948717,
          0.41025641025641024,
          0.5384615384615384,
          0.46153846153846156,
          0.3333333333333333,
          0.2564102564102564,
          0.5897435897435898,
          0.5897435897435898,
          0.6153846153846154,
          0.48717948717948717,
          0.4358974358974359,
          0.5641025641025641,
          0.5897435897435898,
          0.38461538461538464,
          0.4358974358974359,
          0.5641025641025641,
          0.4358974358974359,
          0.717948717948718,
          0.6666666666666666,
          0.6666666666666666,
          0.6153846153846154,
          0.6410256410256411,
          0.6923076923076923,
          0.5384615384615384,
          0.6153846153846154,
          0.48717948717948717,
          0.717948717948718,
          0.6153846153846154,
          0.5897435897435898,
          0.7435897435897436,
          0.6666666666666666,
          0.6923076923076923,
          0.5897435897435898,
          0.717948717948718,
          0.6842105263157895,
          0.6052631578947368,
          0.5789473684210527,
          0.631578947368421,
          0.5526315789473685,
          0.42105263157894735,
          0.631578947368421,
          0.5526315789473685,
          0.39473684210526316,
          0.5789473684210527,
          0.5789473684210527,
          0.5,
          0.5,
          0.3157894736842105
         ]
        },
        {
         "jitter": 0.05,
         "line": {
          "color": "darkblue"
         },
         "meanline": {
          "visible": true
         },
         "name": "TFIDF LR",
         "pointpos": 1.4,
         "points": "all",
         "scalegroup": "TFIDF",
         "scalemode": "count",
         "side": "positive",
         "type": "violin",
         "x0": "Logistic Regresion",
         "y": [
          0.48717948717948717,
          0.46153846153846156,
          0.46153846153846156,
          0.46153846153846156,
          0.6153846153846154,
          0.46153846153846156,
          0.358974358974359,
          0.3333333333333333,
          0.5897435897435898,
          0.5128205128205128,
          0.5128205128205128,
          0.5128205128205128,
          0.38461538461538464,
          0.5384615384615384,
          0.6410256410256411,
          0.358974358974359,
          0.41025641025641024,
          0.6153846153846154,
          0.48717948717948717,
          0.8717948717948718,
          0.7435897435897436,
          0.717948717948718,
          0.6666666666666666,
          0.7948717948717948,
          0.717948717948718,
          0.717948717948718,
          0.6666666666666666,
          0.6410256410256411,
          0.717948717948718,
          0.717948717948718,
          0.7948717948717948,
          0.8461538461538461,
          0.5641025641025641,
          0.6923076923076923,
          0.6923076923076923,
          0.7692307692307693,
          0.7105263157894737,
          0.7631578947368421,
          0.7631578947368421,
          0.7368421052631579,
          0.5263157894736842,
          0.5,
          0.7105263157894737,
          0.5789473684210527,
          0.5,
          0.5,
          0.5526315789473685,
          0.47368421052631576,
          0.5263157894736842,
          0.21052631578947367
         ]
        },
        {
         "jitter": 0.05,
         "line": {
          "color": "black"
         },
         "meanline": {
          "visible": true
         },
         "name": "BOW MNB",
         "pointpos": -1.4,
         "points": "all",
         "scalegroup": "BOW",
         "scalemode": "count",
         "side": "negative",
         "type": "violin",
         "x0": "Multinomial NB",
         "y": [
          0.5128205128205128,
          0.5384615384615384,
          0.46153846153846156,
          0.5128205128205128,
          0.5641025641025641,
          0.5384615384615384,
          0.3333333333333333,
          0.4358974358974359,
          0.5897435897435898,
          0.5384615384615384,
          0.6153846153846154,
          0.48717948717948717,
          0.38461538461538464,
          0.5384615384615384,
          0.6153846153846154,
          0.4358974358974359,
          0.41025641025641024,
          0.6153846153846154,
          0.48717948717948717,
          0.7435897435897436,
          0.717948717948718,
          0.7435897435897436,
          0.6666666666666666,
          0.717948717948718,
          0.6923076923076923,
          0.6923076923076923,
          0.6410256410256411,
          0.5384615384615384,
          0.7948717948717948,
          0.6923076923076923,
          0.6923076923076923,
          0.6410256410256411,
          0.6666666666666666,
          0.7692307692307693,
          0.6410256410256411,
          0.717948717948718,
          0.7105263157894737,
          0.5263157894736842,
          0.5526315789473685,
          0.6842105263157895,
          0.6578947368421053,
          0.47368421052631576,
          0.6052631578947368,
          0.6052631578947368,
          0.631578947368421,
          0.6052631578947368,
          0.5789473684210527,
          0.4473684210526316,
          0.5,
          0.23684210526315788
         ]
        },
        {
         "jitter": 0.05,
         "line": {
          "color": "gray"
         },
         "meanline": {
          "visible": true
         },
         "name": "TFIDF MNB",
         "pointpos": 1.4,
         "points": "all",
         "scalemode": "count",
         "side": "positive",
         "type": "violin",
         "x0": "Multinomial NB",
         "y": [
          0.46153846153846156,
          0.46153846153846156,
          0.46153846153846156,
          0.4358974358974359,
          0.5384615384615384,
          0.4358974358974359,
          0.3076923076923077,
          0.3076923076923077,
          0.5897435897435898,
          0.5128205128205128,
          0.5384615384615384,
          0.5128205128205128,
          0.38461538461538464,
          0.5384615384615384,
          0.6153846153846154,
          0.3076923076923077,
          0.41025641025641024,
          0.5641025641025641,
          0.5128205128205128,
          0.7948717948717948,
          0.6923076923076923,
          0.717948717948718,
          0.6153846153846154,
          0.8205128205128205,
          0.6666666666666666,
          0.6410256410256411,
          0.6410256410256411,
          0.717948717948718,
          0.6923076923076923,
          0.6666666666666666,
          0.7692307692307693,
          0.7948717948717948,
          0.5641025641025641,
          0.717948717948718,
          0.6666666666666666,
          0.7435897435897436,
          0.6578947368421053,
          0.7631578947368421,
          0.7631578947368421,
          0.7368421052631579,
          0.47368421052631576,
          0.5,
          0.7105263157894737,
          0.631578947368421,
          0.5263157894736842,
          0.47368421052631576,
          0.5789473684210527,
          0.4473684210526316,
          0.5263157894736842,
          0.18421052631578946
         ]
        },
        {
         "line": {
          "color": "darkslategrey",
          "dash": "dash"
         },
         "name": "Lexicon Simple",
         "type": "scatter",
         "x": [
          "SGD Classifier",
          "Multinomial NB"
         ],
         "y": [
          0.4112,
          0.4112
         ]
        },
        {
         "line": {
          "color": "darkslateblue",
          "dash": "dot"
         },
         "name": "Lexicon Polarity",
         "type": "scatter",
         "x": [
          "SGD Classifier",
          "Multinomial NB"
         ],
         "y": [
          0.4804,
          0.4804
         ]
        }
       ],
       "layout": {
        "template": {
         "data": {
          "bar": [
           {
            "error_x": {
             "color": "#2a3f5f"
            },
            "error_y": {
             "color": "#2a3f5f"
            },
            "marker": {
             "line": {
              "color": "#E5ECF6",
              "width": 0.5
             }
            },
            "type": "bar"
           }
          ],
          "barpolar": [
           {
            "marker": {
             "line": {
              "color": "#E5ECF6",
              "width": 0.5
             }
            },
            "type": "barpolar"
           }
          ],
          "carpet": [
           {
            "aaxis": {
             "endlinecolor": "#2a3f5f",
             "gridcolor": "white",
             "linecolor": "white",
             "minorgridcolor": "white",
             "startlinecolor": "#2a3f5f"
            },
            "baxis": {
             "endlinecolor": "#2a3f5f",
             "gridcolor": "white",
             "linecolor": "white",
             "minorgridcolor": "white",
             "startlinecolor": "#2a3f5f"
            },
            "type": "carpet"
           }
          ],
          "choropleth": [
           {
            "colorbar": {
             "outlinewidth": 0,
             "ticks": ""
            },
            "type": "choropleth"
           }
          ],
          "contour": [
           {
            "colorbar": {
             "outlinewidth": 0,
             "ticks": ""
            },
            "colorscale": [
             [
              0,
              "#0d0887"
             ],
             [
              0.1111111111111111,
              "#46039f"
             ],
             [
              0.2222222222222222,
              "#7201a8"
             ],
             [
              0.3333333333333333,
              "#9c179e"
             ],
             [
              0.4444444444444444,
              "#bd3786"
             ],
             [
              0.5555555555555556,
              "#d8576b"
             ],
             [
              0.6666666666666666,
              "#ed7953"
             ],
             [
              0.7777777777777778,
              "#fb9f3a"
             ],
             [
              0.8888888888888888,
              "#fdca26"
             ],
             [
              1,
              "#f0f921"
             ]
            ],
            "type": "contour"
           }
          ],
          "contourcarpet": [
           {
            "colorbar": {
             "outlinewidth": 0,
             "ticks": ""
            },
            "type": "contourcarpet"
           }
          ],
          "heatmap": [
           {
            "colorbar": {
             "outlinewidth": 0,
             "ticks": ""
            },
            "colorscale": [
             [
              0,
              "#0d0887"
             ],
             [
              0.1111111111111111,
              "#46039f"
             ],
             [
              0.2222222222222222,
              "#7201a8"
             ],
             [
              0.3333333333333333,
              "#9c179e"
             ],
             [
              0.4444444444444444,
              "#bd3786"
             ],
             [
              0.5555555555555556,
              "#d8576b"
             ],
             [
              0.6666666666666666,
              "#ed7953"
             ],
             [
              0.7777777777777778,
              "#fb9f3a"
             ],
             [
              0.8888888888888888,
              "#fdca26"
             ],
             [
              1,
              "#f0f921"
             ]
            ],
            "type": "heatmap"
           }
          ],
          "heatmapgl": [
           {
            "colorbar": {
             "outlinewidth": 0,
             "ticks": ""
            },
            "colorscale": [
             [
              0,
              "#0d0887"
             ],
             [
              0.1111111111111111,
              "#46039f"
             ],
             [
              0.2222222222222222,
              "#7201a8"
             ],
             [
              0.3333333333333333,
              "#9c179e"
             ],
             [
              0.4444444444444444,
              "#bd3786"
             ],
             [
              0.5555555555555556,
              "#d8576b"
             ],
             [
              0.6666666666666666,
              "#ed7953"
             ],
             [
              0.7777777777777778,
              "#fb9f3a"
             ],
             [
              0.8888888888888888,
              "#fdca26"
             ],
             [
              1,
              "#f0f921"
             ]
            ],
            "type": "heatmapgl"
           }
          ],
          "histogram": [
           {
            "marker": {
             "colorbar": {
              "outlinewidth": 0,
              "ticks": ""
             }
            },
            "type": "histogram"
           }
          ],
          "histogram2d": [
           {
            "colorbar": {
             "outlinewidth": 0,
             "ticks": ""
            },
            "colorscale": [
             [
              0,
              "#0d0887"
             ],
             [
              0.1111111111111111,
              "#46039f"
             ],
             [
              0.2222222222222222,
              "#7201a8"
             ],
             [
              0.3333333333333333,
              "#9c179e"
             ],
             [
              0.4444444444444444,
              "#bd3786"
             ],
             [
              0.5555555555555556,
              "#d8576b"
             ],
             [
              0.6666666666666666,
              "#ed7953"
             ],
             [
              0.7777777777777778,
              "#fb9f3a"
             ],
             [
              0.8888888888888888,
              "#fdca26"
             ],
             [
              1,
              "#f0f921"
             ]
            ],
            "type": "histogram2d"
           }
          ],
          "histogram2dcontour": [
           {
            "colorbar": {
             "outlinewidth": 0,
             "ticks": ""
            },
            "colorscale": [
             [
              0,
              "#0d0887"
             ],
             [
              0.1111111111111111,
              "#46039f"
             ],
             [
              0.2222222222222222,
              "#7201a8"
             ],
             [
              0.3333333333333333,
              "#9c179e"
             ],
             [
              0.4444444444444444,
              "#bd3786"
             ],
             [
              0.5555555555555556,
              "#d8576b"
             ],
             [
              0.6666666666666666,
              "#ed7953"
             ],
             [
              0.7777777777777778,
              "#fb9f3a"
             ],
             [
              0.8888888888888888,
              "#fdca26"
             ],
             [
              1,
              "#f0f921"
             ]
            ],
            "type": "histogram2dcontour"
           }
          ],
          "mesh3d": [
           {
            "colorbar": {
             "outlinewidth": 0,
             "ticks": ""
            },
            "type": "mesh3d"
           }
          ],
          "parcoords": [
           {
            "line": {
             "colorbar": {
              "outlinewidth": 0,
              "ticks": ""
             }
            },
            "type": "parcoords"
           }
          ],
          "pie": [
           {
            "automargin": true,
            "type": "pie"
           }
          ],
          "scatter": [
           {
            "marker": {
             "colorbar": {
              "outlinewidth": 0,
              "ticks": ""
             }
            },
            "type": "scatter"
           }
          ],
          "scatter3d": [
           {
            "line": {
             "colorbar": {
              "outlinewidth": 0,
              "ticks": ""
             }
            },
            "marker": {
             "colorbar": {
              "outlinewidth": 0,
              "ticks": ""
             }
            },
            "type": "scatter3d"
           }
          ],
          "scattercarpet": [
           {
            "marker": {
             "colorbar": {
              "outlinewidth": 0,
              "ticks": ""
             }
            },
            "type": "scattercarpet"
           }
          ],
          "scattergeo": [
           {
            "marker": {
             "colorbar": {
              "outlinewidth": 0,
              "ticks": ""
             }
            },
            "type": "scattergeo"
           }
          ],
          "scattergl": [
           {
            "marker": {
             "colorbar": {
              "outlinewidth": 0,
              "ticks": ""
             }
            },
            "type": "scattergl"
           }
          ],
          "scattermapbox": [
           {
            "marker": {
             "colorbar": {
              "outlinewidth": 0,
              "ticks": ""
             }
            },
            "type": "scattermapbox"
           }
          ],
          "scatterpolar": [
           {
            "marker": {
             "colorbar": {
              "outlinewidth": 0,
              "ticks": ""
             }
            },
            "type": "scatterpolar"
           }
          ],
          "scatterpolargl": [
           {
            "marker": {
             "colorbar": {
              "outlinewidth": 0,
              "ticks": ""
             }
            },
            "type": "scatterpolargl"
           }
          ],
          "scatterternary": [
           {
            "marker": {
             "colorbar": {
              "outlinewidth": 0,
              "ticks": ""
             }
            },
            "type": "scatterternary"
           }
          ],
          "surface": [
           {
            "colorbar": {
             "outlinewidth": 0,
             "ticks": ""
            },
            "colorscale": [
             [
              0,
              "#0d0887"
             ],
             [
              0.1111111111111111,
              "#46039f"
             ],
             [
              0.2222222222222222,
              "#7201a8"
             ],
             [
              0.3333333333333333,
              "#9c179e"
             ],
             [
              0.4444444444444444,
              "#bd3786"
             ],
             [
              0.5555555555555556,
              "#d8576b"
             ],
             [
              0.6666666666666666,
              "#ed7953"
             ],
             [
              0.7777777777777778,
              "#fb9f3a"
             ],
             [
              0.8888888888888888,
              "#fdca26"
             ],
             [
              1,
              "#f0f921"
             ]
            ],
            "type": "surface"
           }
          ],
          "table": [
           {
            "cells": {
             "fill": {
              "color": "#EBF0F8"
             },
             "line": {
              "color": "white"
             }
            },
            "header": {
             "fill": {
              "color": "#C8D4E3"
             },
             "line": {
              "color": "white"
             }
            },
            "type": "table"
           }
          ]
         },
         "layout": {
          "annotationdefaults": {
           "arrowcolor": "#2a3f5f",
           "arrowhead": 0,
           "arrowwidth": 1
          },
          "coloraxis": {
           "colorbar": {
            "outlinewidth": 0,
            "ticks": ""
           }
          },
          "colorscale": {
           "diverging": [
            [
             0,
             "#8e0152"
            ],
            [
             0.1,
             "#c51b7d"
            ],
            [
             0.2,
             "#de77ae"
            ],
            [
             0.3,
             "#f1b6da"
            ],
            [
             0.4,
             "#fde0ef"
            ],
            [
             0.5,
             "#f7f7f7"
            ],
            [
             0.6,
             "#e6f5d0"
            ],
            [
             0.7,
             "#b8e186"
            ],
            [
             0.8,
             "#7fbc41"
            ],
            [
             0.9,
             "#4d9221"
            ],
            [
             1,
             "#276419"
            ]
           ],
           "sequential": [
            [
             0,
             "#0d0887"
            ],
            [
             0.1111111111111111,
             "#46039f"
            ],
            [
             0.2222222222222222,
             "#7201a8"
            ],
            [
             0.3333333333333333,
             "#9c179e"
            ],
            [
             0.4444444444444444,
             "#bd3786"
            ],
            [
             0.5555555555555556,
             "#d8576b"
            ],
            [
             0.6666666666666666,
             "#ed7953"
            ],
            [
             0.7777777777777778,
             "#fb9f3a"
            ],
            [
             0.8888888888888888,
             "#fdca26"
            ],
            [
             1,
             "#f0f921"
            ]
           ],
           "sequentialminus": [
            [
             0,
             "#0d0887"
            ],
            [
             0.1111111111111111,
             "#46039f"
            ],
            [
             0.2222222222222222,
             "#7201a8"
            ],
            [
             0.3333333333333333,
             "#9c179e"
            ],
            [
             0.4444444444444444,
             "#bd3786"
            ],
            [
             0.5555555555555556,
             "#d8576b"
            ],
            [
             0.6666666666666666,
             "#ed7953"
            ],
            [
             0.7777777777777778,
             "#fb9f3a"
            ],
            [
             0.8888888888888888,
             "#fdca26"
            ],
            [
             1,
             "#f0f921"
            ]
           ]
          },
          "colorway": [
           "#636efa",
           "#EF553B",
           "#00cc96",
           "#ab63fa",
           "#FFA15A",
           "#19d3f3",
           "#FF6692",
           "#B6E880",
           "#FF97FF",
           "#FECB52"
          ],
          "font": {
           "color": "#2a3f5f"
          },
          "geo": {
           "bgcolor": "white",
           "lakecolor": "white",
           "landcolor": "#E5ECF6",
           "showlakes": true,
           "showland": true,
           "subunitcolor": "white"
          },
          "hoverlabel": {
           "align": "left"
          },
          "hovermode": "closest",
          "mapbox": {
           "style": "light"
          },
          "paper_bgcolor": "white",
          "plot_bgcolor": "#E5ECF6",
          "polar": {
           "angularaxis": {
            "gridcolor": "white",
            "linecolor": "white",
            "ticks": ""
           },
           "bgcolor": "#E5ECF6",
           "radialaxis": {
            "gridcolor": "white",
            "linecolor": "white",
            "ticks": ""
           }
          },
          "scene": {
           "xaxis": {
            "backgroundcolor": "#E5ECF6",
            "gridcolor": "white",
            "gridwidth": 2,
            "linecolor": "white",
            "showbackground": true,
            "ticks": "",
            "zerolinecolor": "white"
           },
           "yaxis": {
            "backgroundcolor": "#E5ECF6",
            "gridcolor": "white",
            "gridwidth": 2,
            "linecolor": "white",
            "showbackground": true,
            "ticks": "",
            "zerolinecolor": "white"
           },
           "zaxis": {
            "backgroundcolor": "#E5ECF6",
            "gridcolor": "white",
            "gridwidth": 2,
            "linecolor": "white",
            "showbackground": true,
            "ticks": "",
            "zerolinecolor": "white"
           }
          },
          "shapedefaults": {
           "line": {
            "color": "#2a3f5f"
           }
          },
          "ternary": {
           "aaxis": {
            "gridcolor": "white",
            "linecolor": "white",
            "ticks": ""
           },
           "baxis": {
            "gridcolor": "white",
            "linecolor": "white",
            "ticks": ""
           },
           "bgcolor": "#E5ECF6",
           "caxis": {
            "gridcolor": "white",
            "linecolor": "white",
            "ticks": ""
           }
          },
          "title": {
           "x": 0.05
          },
          "xaxis": {
           "automargin": true,
           "gridcolor": "white",
           "linecolor": "white",
           "ticks": "",
           "title": {
            "standoff": 15
           },
           "zerolinecolor": "white",
           "zerolinewidth": 2
          },
          "yaxis": {
           "automargin": true,
           "gridcolor": "white",
           "linecolor": "white",
           "ticks": "",
           "title": {
            "standoff": 15
           },
           "zerolinecolor": "white",
           "zerolinewidth": 2
          }
         }
        },
        "title": {
         "text": "Accuracy"
        },
        "violingap": 0,
        "violingroupgap": 0.6,
        "violinmode": "overlay"
       }
      },
      "text/html": [
       "<div>\n",
       "        \n",
       "        \n",
       "            <div id=\"b1ab7b8f-d88a-438e-9077-3c1e527ed0cd\" class=\"plotly-graph-div\" style=\"height:525px; width:100%;\"></div>\n",
       "            <script type=\"text/javascript\">\n",
       "                require([\"plotly\"], function(Plotly) {\n",
       "                    window.PLOTLYENV=window.PLOTLYENV || {};\n",
       "                    \n",
       "                if (document.getElementById(\"b1ab7b8f-d88a-438e-9077-3c1e527ed0cd\")) {\n",
       "                    Plotly.newPlot(\n",
       "                        'b1ab7b8f-d88a-438e-9077-3c1e527ed0cd',\n",
       "                        [{\"jitter\": 0.05, \"line\": {\"color\": \"green\"}, \"meanline\": {\"visible\": true}, \"name\": \"BOW SGD\", \"pointpos\": -1.4, \"points\": \"all\", \"scalegroup\": \"BOW\", \"scalemode\": \"count\", \"side\": \"negative\", \"type\": \"violin\", \"x0\": \"SGD Classifier\", \"y\": [0.5384615384615384, 0.46153846153846156, 0.46153846153846156, 0.358974358974359, 0.46153846153846156, 0.38461538461538464, 0.3076923076923077, 0.3333333333333333, 0.5128205128205128, 0.5641025641025641, 0.5641025641025641, 0.46153846153846156, 0.46153846153846156, 0.5128205128205128, 0.5897435897435898, 0.38461538461538464, 0.358974358974359, 0.5641025641025641, 0.4358974358974359, 0.6410256410256411, 0.717948717948718, 0.5641025641025641, 0.6153846153846154, 0.5897435897435898, 0.5641025641025641, 0.5897435897435898, 0.6923076923076923, 0.46153846153846156, 0.6666666666666666, 0.5897435897435898, 0.6410256410256411, 0.6923076923076923, 0.6153846153846154, 0.6923076923076923, 0.6410256410256411, 0.6666666666666666, 0.6842105263157895, 0.47368421052631576, 0.5789473684210527, 0.6052631578947368, 0.631578947368421, 0.39473684210526316, 0.5526315789473685, 0.5, 0.42105263157894735, 0.5789473684210527, 0.5789473684210527, 0.47368421052631576, 0.5, 0.34210526315789475]}, {\"jitter\": 0.05, \"line\": {\"color\": \"lightseagreen\"}, \"meanline\": {\"visible\": true}, \"name\": \"TFIDF SGD\", \"pointpos\": 1.4, \"points\": \"all\", \"scalegroup\": \"TFIDF\", \"scalemode\": \"count\", \"side\": \"positive\", \"type\": \"violin\", \"x0\": \"SGD Classifier\", \"y\": [0.5384615384615384, 0.5128205128205128, 0.46153846153846156, 0.46153846153846156, 0.5641025641025641, 0.48717948717948717, 0.3333333333333333, 0.3076923076923077, 0.5384615384615384, 0.5641025641025641, 0.5897435897435898, 0.46153846153846156, 0.41025641025641024, 0.48717948717948717, 0.6153846153846154, 0.358974358974359, 0.46153846153846156, 0.5384615384615384, 0.46153846153846156, 0.8205128205128205, 0.6923076923076923, 0.6923076923076923, 0.6410256410256411, 0.6410256410256411, 0.7435897435897436, 0.6410256410256411, 0.6666666666666666, 0.5128205128205128, 0.717948717948718, 0.6666666666666666, 0.6410256410256411, 0.7435897435897436, 0.6666666666666666, 0.7435897435897436, 0.6923076923076923, 0.6666666666666666, 0.7105263157894737, 0.6052631578947368, 0.6842105263157895, 0.6842105263157895, 0.5, 0.3684210526315789, 0.631578947368421, 0.5789473684210527, 0.4473684210526316, 0.5, 0.5789473684210527, 0.5526315789473685, 0.5, 0.34210526315789475]}, {\"jitter\": 0.05, \"line\": {\"color\": \"red\"}, \"meanline\": {\"visible\": true}, \"name\": \"BOW BNB\", \"pointpos\": -1.4, \"points\": \"all\", \"scalegroup\": \"BOW\", \"scalemode\": \"count\", \"side\": \"negative\", \"type\": \"violin\", \"x0\": \"Bernoulli NB\", \"y\": [0.48717948717948717, 0.5128205128205128, 0.46153846153846156, 0.46153846153846156, 0.5384615384615384, 0.48717948717948717, 0.2564102564102564, 0.28205128205128205, 0.5897435897435898, 0.5128205128205128, 0.5128205128205128, 0.46153846153846156, 0.38461538461538464, 0.48717948717948717, 0.5897435897435898, 0.3333333333333333, 0.41025641025641024, 0.5641025641025641, 0.5128205128205128, 0.7692307692307693, 0.6666666666666666, 0.7435897435897436, 0.6153846153846154, 0.7692307692307693, 0.6410256410256411, 0.6153846153846154, 0.6153846153846154, 0.5897435897435898, 0.7435897435897436, 0.6923076923076923, 0.8205128205128205, 0.6666666666666666, 0.6153846153846154, 0.7692307692307693, 0.6666666666666666, 0.6410256410256411, 0.631578947368421, 0.6842105263157895, 0.6578947368421053, 0.7105263157894737, 0.6052631578947368, 0.5, 0.7105263157894737, 0.6578947368421053, 0.5789473684210527, 0.47368421052631576, 0.5789473684210527, 0.4473684210526316, 0.5, 0.21052631578947367]}, {\"jitter\": 0.05, \"line\": {\"color\": \"darkmagenta\"}, \"meanline\": {\"visible\": true}, \"name\": \"TFIDF BNB\", \"pointpos\": 1.4, \"points\": \"all\", \"scalegroup\": \"TFIDF\", \"scalemode\": \"count\", \"side\": \"positive\", \"type\": \"violin\", \"x0\": \"Bernoulli NB\", \"y\": [0.48717948717948717, 0.5128205128205128, 0.46153846153846156, 0.46153846153846156, 0.5384615384615384, 0.48717948717948717, 0.2564102564102564, 0.28205128205128205, 0.5897435897435898, 0.5128205128205128, 0.5128205128205128, 0.46153846153846156, 0.38461538461538464, 0.48717948717948717, 0.5897435897435898, 0.3333333333333333, 0.41025641025641024, 0.5641025641025641, 0.5128205128205128, 0.7692307692307693, 0.6666666666666666, 0.7435897435897436, 0.6153846153846154, 0.7692307692307693, 0.6410256410256411, 0.6153846153846154, 0.6153846153846154, 0.5897435897435898, 0.7435897435897436, 0.6923076923076923, 0.8205128205128205, 0.6666666666666666, 0.6153846153846154, 0.7692307692307693, 0.6666666666666666, 0.6410256410256411, 0.631578947368421, 0.6842105263157895, 0.6578947368421053, 0.7105263157894737, 0.6052631578947368, 0.5, 0.7105263157894737, 0.6578947368421053, 0.5789473684210527, 0.47368421052631576, 0.5789473684210527, 0.4473684210526316, 0.5, 0.21052631578947367]}, {\"jitter\": 0.05, \"line\": {\"color\": \"blue\"}, \"meanline\": {\"visible\": true}, \"name\": \"BOW LR\", \"pointpos\": -1.4, \"points\": \"all\", \"scalegroup\": \"BOW\", \"scalemode\": \"count\", \"side\": \"negative\", \"type\": \"violin\", \"x0\": \"Logistic Regresion\", \"y\": [0.48717948717948717, 0.46153846153846156, 0.48717948717948717, 0.41025641025641024, 0.5384615384615384, 0.46153846153846156, 0.3333333333333333, 0.2564102564102564, 0.5897435897435898, 0.5897435897435898, 0.6153846153846154, 0.48717948717948717, 0.4358974358974359, 0.5641025641025641, 0.5897435897435898, 0.38461538461538464, 0.4358974358974359, 0.5641025641025641, 0.4358974358974359, 0.717948717948718, 0.6666666666666666, 0.6666666666666666, 0.6153846153846154, 0.6410256410256411, 0.6923076923076923, 0.5384615384615384, 0.6153846153846154, 0.48717948717948717, 0.717948717948718, 0.6153846153846154, 0.5897435897435898, 0.7435897435897436, 0.6666666666666666, 0.6923076923076923, 0.5897435897435898, 0.717948717948718, 0.6842105263157895, 0.6052631578947368, 0.5789473684210527, 0.631578947368421, 0.5526315789473685, 0.42105263157894735, 0.631578947368421, 0.5526315789473685, 0.39473684210526316, 0.5789473684210527, 0.5789473684210527, 0.5, 0.5, 0.3157894736842105]}, {\"jitter\": 0.05, \"line\": {\"color\": \"darkblue\"}, \"meanline\": {\"visible\": true}, \"name\": \"TFIDF LR\", \"pointpos\": 1.4, \"points\": \"all\", \"scalegroup\": \"TFIDF\", \"scalemode\": \"count\", \"side\": \"positive\", \"type\": \"violin\", \"x0\": \"Logistic Regresion\", \"y\": [0.48717948717948717, 0.46153846153846156, 0.46153846153846156, 0.46153846153846156, 0.6153846153846154, 0.46153846153846156, 0.358974358974359, 0.3333333333333333, 0.5897435897435898, 0.5128205128205128, 0.5128205128205128, 0.5128205128205128, 0.38461538461538464, 0.5384615384615384, 0.6410256410256411, 0.358974358974359, 0.41025641025641024, 0.6153846153846154, 0.48717948717948717, 0.8717948717948718, 0.7435897435897436, 0.717948717948718, 0.6666666666666666, 0.7948717948717948, 0.717948717948718, 0.717948717948718, 0.6666666666666666, 0.6410256410256411, 0.717948717948718, 0.717948717948718, 0.7948717948717948, 0.8461538461538461, 0.5641025641025641, 0.6923076923076923, 0.6923076923076923, 0.7692307692307693, 0.7105263157894737, 0.7631578947368421, 0.7631578947368421, 0.7368421052631579, 0.5263157894736842, 0.5, 0.7105263157894737, 0.5789473684210527, 0.5, 0.5, 0.5526315789473685, 0.47368421052631576, 0.5263157894736842, 0.21052631578947367]}, {\"jitter\": 0.05, \"line\": {\"color\": \"black\"}, \"meanline\": {\"visible\": true}, \"name\": \"BOW MNB\", \"pointpos\": -1.4, \"points\": \"all\", \"scalegroup\": \"BOW\", \"scalemode\": \"count\", \"side\": \"negative\", \"type\": \"violin\", \"x0\": \"Multinomial NB\", \"y\": [0.5128205128205128, 0.5384615384615384, 0.46153846153846156, 0.5128205128205128, 0.5641025641025641, 0.5384615384615384, 0.3333333333333333, 0.4358974358974359, 0.5897435897435898, 0.5384615384615384, 0.6153846153846154, 0.48717948717948717, 0.38461538461538464, 0.5384615384615384, 0.6153846153846154, 0.4358974358974359, 0.41025641025641024, 0.6153846153846154, 0.48717948717948717, 0.7435897435897436, 0.717948717948718, 0.7435897435897436, 0.6666666666666666, 0.717948717948718, 0.6923076923076923, 0.6923076923076923, 0.6410256410256411, 0.5384615384615384, 0.7948717948717948, 0.6923076923076923, 0.6923076923076923, 0.6410256410256411, 0.6666666666666666, 0.7692307692307693, 0.6410256410256411, 0.717948717948718, 0.7105263157894737, 0.5263157894736842, 0.5526315789473685, 0.6842105263157895, 0.6578947368421053, 0.47368421052631576, 0.6052631578947368, 0.6052631578947368, 0.631578947368421, 0.6052631578947368, 0.5789473684210527, 0.4473684210526316, 0.5, 0.23684210526315788]}, {\"jitter\": 0.05, \"line\": {\"color\": \"gray\"}, \"meanline\": {\"visible\": true}, \"name\": \"TFIDF MNB\", \"pointpos\": 1.4, \"points\": \"all\", \"scalemode\": \"count\", \"side\": \"positive\", \"type\": \"violin\", \"x0\": \"Multinomial NB\", \"y\": [0.46153846153846156, 0.46153846153846156, 0.46153846153846156, 0.4358974358974359, 0.5384615384615384, 0.4358974358974359, 0.3076923076923077, 0.3076923076923077, 0.5897435897435898, 0.5128205128205128, 0.5384615384615384, 0.5128205128205128, 0.38461538461538464, 0.5384615384615384, 0.6153846153846154, 0.3076923076923077, 0.41025641025641024, 0.5641025641025641, 0.5128205128205128, 0.7948717948717948, 0.6923076923076923, 0.717948717948718, 0.6153846153846154, 0.8205128205128205, 0.6666666666666666, 0.6410256410256411, 0.6410256410256411, 0.717948717948718, 0.6923076923076923, 0.6666666666666666, 0.7692307692307693, 0.7948717948717948, 0.5641025641025641, 0.717948717948718, 0.6666666666666666, 0.7435897435897436, 0.6578947368421053, 0.7631578947368421, 0.7631578947368421, 0.7368421052631579, 0.47368421052631576, 0.5, 0.7105263157894737, 0.631578947368421, 0.5263157894736842, 0.47368421052631576, 0.5789473684210527, 0.4473684210526316, 0.5263157894736842, 0.18421052631578946]}, {\"line\": {\"color\": \"darkslategrey\", \"dash\": \"dash\"}, \"name\": \"Lexicon Simple\", \"type\": \"scatter\", \"x\": [\"SGD Classifier\", \"Multinomial NB\"], \"y\": [0.4112, 0.4112]}, {\"line\": {\"color\": \"darkslateblue\", \"dash\": \"dot\"}, \"name\": \"Lexicon Polarity\", \"type\": \"scatter\", \"x\": [\"SGD Classifier\", \"Multinomial NB\"], \"y\": [0.4804, 0.4804]}],\n",
       "                        {\"template\": {\"data\": {\"bar\": [{\"error_x\": {\"color\": \"#2a3f5f\"}, \"error_y\": {\"color\": \"#2a3f5f\"}, \"marker\": {\"line\": {\"color\": \"#E5ECF6\", \"width\": 0.5}}, \"type\": \"bar\"}], \"barpolar\": [{\"marker\": {\"line\": {\"color\": \"#E5ECF6\", \"width\": 0.5}}, \"type\": \"barpolar\"}], \"carpet\": [{\"aaxis\": {\"endlinecolor\": \"#2a3f5f\", \"gridcolor\": \"white\", \"linecolor\": \"white\", \"minorgridcolor\": \"white\", \"startlinecolor\": \"#2a3f5f\"}, \"baxis\": {\"endlinecolor\": \"#2a3f5f\", \"gridcolor\": \"white\", \"linecolor\": \"white\", \"minorgridcolor\": \"white\", \"startlinecolor\": \"#2a3f5f\"}, \"type\": \"carpet\"}], \"choropleth\": [{\"colorbar\": {\"outlinewidth\": 0, \"ticks\": \"\"}, \"type\": \"choropleth\"}], \"contour\": [{\"colorbar\": {\"outlinewidth\": 0, \"ticks\": \"\"}, \"colorscale\": [[0.0, \"#0d0887\"], [0.1111111111111111, \"#46039f\"], [0.2222222222222222, \"#7201a8\"], [0.3333333333333333, \"#9c179e\"], [0.4444444444444444, \"#bd3786\"], [0.5555555555555556, \"#d8576b\"], [0.6666666666666666, \"#ed7953\"], [0.7777777777777778, \"#fb9f3a\"], [0.8888888888888888, \"#fdca26\"], [1.0, \"#f0f921\"]], \"type\": \"contour\"}], \"contourcarpet\": [{\"colorbar\": {\"outlinewidth\": 0, \"ticks\": \"\"}, \"type\": \"contourcarpet\"}], \"heatmap\": [{\"colorbar\": {\"outlinewidth\": 0, \"ticks\": \"\"}, \"colorscale\": [[0.0, \"#0d0887\"], [0.1111111111111111, \"#46039f\"], [0.2222222222222222, \"#7201a8\"], [0.3333333333333333, \"#9c179e\"], [0.4444444444444444, \"#bd3786\"], [0.5555555555555556, \"#d8576b\"], [0.6666666666666666, \"#ed7953\"], [0.7777777777777778, \"#fb9f3a\"], [0.8888888888888888, \"#fdca26\"], [1.0, \"#f0f921\"]], \"type\": \"heatmap\"}], \"heatmapgl\": [{\"colorbar\": {\"outlinewidth\": 0, \"ticks\": \"\"}, \"colorscale\": [[0.0, \"#0d0887\"], [0.1111111111111111, \"#46039f\"], [0.2222222222222222, \"#7201a8\"], [0.3333333333333333, \"#9c179e\"], [0.4444444444444444, \"#bd3786\"], [0.5555555555555556, \"#d8576b\"], [0.6666666666666666, \"#ed7953\"], [0.7777777777777778, \"#fb9f3a\"], [0.8888888888888888, \"#fdca26\"], [1.0, \"#f0f921\"]], \"type\": \"heatmapgl\"}], \"histogram\": [{\"marker\": {\"colorbar\": {\"outlinewidth\": 0, \"ticks\": \"\"}}, \"type\": \"histogram\"}], \"histogram2d\": [{\"colorbar\": {\"outlinewidth\": 0, \"ticks\": \"\"}, \"colorscale\": [[0.0, \"#0d0887\"], [0.1111111111111111, \"#46039f\"], [0.2222222222222222, \"#7201a8\"], [0.3333333333333333, \"#9c179e\"], [0.4444444444444444, \"#bd3786\"], [0.5555555555555556, \"#d8576b\"], [0.6666666666666666, \"#ed7953\"], [0.7777777777777778, \"#fb9f3a\"], [0.8888888888888888, \"#fdca26\"], [1.0, \"#f0f921\"]], \"type\": \"histogram2d\"}], \"histogram2dcontour\": [{\"colorbar\": {\"outlinewidth\": 0, \"ticks\": \"\"}, \"colorscale\": [[0.0, \"#0d0887\"], [0.1111111111111111, \"#46039f\"], [0.2222222222222222, \"#7201a8\"], [0.3333333333333333, \"#9c179e\"], [0.4444444444444444, \"#bd3786\"], [0.5555555555555556, \"#d8576b\"], [0.6666666666666666, \"#ed7953\"], [0.7777777777777778, \"#fb9f3a\"], [0.8888888888888888, \"#fdca26\"], [1.0, \"#f0f921\"]], \"type\": \"histogram2dcontour\"}], \"mesh3d\": [{\"colorbar\": {\"outlinewidth\": 0, \"ticks\": \"\"}, \"type\": \"mesh3d\"}], \"parcoords\": [{\"line\": {\"colorbar\": {\"outlinewidth\": 0, \"ticks\": \"\"}}, \"type\": \"parcoords\"}], \"pie\": [{\"automargin\": true, \"type\": \"pie\"}], \"scatter\": [{\"marker\": {\"colorbar\": {\"outlinewidth\": 0, \"ticks\": \"\"}}, \"type\": \"scatter\"}], \"scatter3d\": [{\"line\": {\"colorbar\": {\"outlinewidth\": 0, \"ticks\": \"\"}}, \"marker\": {\"colorbar\": {\"outlinewidth\": 0, \"ticks\": \"\"}}, \"type\": \"scatter3d\"}], \"scattercarpet\": [{\"marker\": {\"colorbar\": {\"outlinewidth\": 0, \"ticks\": \"\"}}, \"type\": \"scattercarpet\"}], \"scattergeo\": [{\"marker\": {\"colorbar\": {\"outlinewidth\": 0, \"ticks\": \"\"}}, \"type\": \"scattergeo\"}], \"scattergl\": [{\"marker\": {\"colorbar\": {\"outlinewidth\": 0, \"ticks\": \"\"}}, \"type\": \"scattergl\"}], \"scattermapbox\": [{\"marker\": {\"colorbar\": {\"outlinewidth\": 0, \"ticks\": \"\"}}, \"type\": \"scattermapbox\"}], \"scatterpolar\": [{\"marker\": {\"colorbar\": {\"outlinewidth\": 0, \"ticks\": \"\"}}, \"type\": \"scatterpolar\"}], \"scatterpolargl\": [{\"marker\": {\"colorbar\": {\"outlinewidth\": 0, \"ticks\": \"\"}}, \"type\": \"scatterpolargl\"}], \"scatterternary\": [{\"marker\": {\"colorbar\": {\"outlinewidth\": 0, \"ticks\": \"\"}}, \"type\": \"scatterternary\"}], \"surface\": [{\"colorbar\": {\"outlinewidth\": 0, \"ticks\": \"\"}, \"colorscale\": [[0.0, \"#0d0887\"], [0.1111111111111111, \"#46039f\"], [0.2222222222222222, \"#7201a8\"], [0.3333333333333333, \"#9c179e\"], [0.4444444444444444, \"#bd3786\"], [0.5555555555555556, \"#d8576b\"], [0.6666666666666666, \"#ed7953\"], [0.7777777777777778, \"#fb9f3a\"], [0.8888888888888888, \"#fdca26\"], [1.0, \"#f0f921\"]], \"type\": \"surface\"}], \"table\": [{\"cells\": {\"fill\": {\"color\": \"#EBF0F8\"}, \"line\": {\"color\": \"white\"}}, \"header\": {\"fill\": {\"color\": \"#C8D4E3\"}, \"line\": {\"color\": \"white\"}}, \"type\": \"table\"}]}, \"layout\": {\"annotationdefaults\": {\"arrowcolor\": \"#2a3f5f\", \"arrowhead\": 0, \"arrowwidth\": 1}, \"coloraxis\": {\"colorbar\": {\"outlinewidth\": 0, \"ticks\": \"\"}}, \"colorscale\": {\"diverging\": [[0, \"#8e0152\"], [0.1, \"#c51b7d\"], [0.2, \"#de77ae\"], [0.3, \"#f1b6da\"], [0.4, \"#fde0ef\"], [0.5, \"#f7f7f7\"], [0.6, \"#e6f5d0\"], [0.7, \"#b8e186\"], [0.8, \"#7fbc41\"], [0.9, \"#4d9221\"], [1, \"#276419\"]], \"sequential\": [[0.0, \"#0d0887\"], [0.1111111111111111, \"#46039f\"], [0.2222222222222222, \"#7201a8\"], [0.3333333333333333, \"#9c179e\"], [0.4444444444444444, \"#bd3786\"], [0.5555555555555556, \"#d8576b\"], [0.6666666666666666, \"#ed7953\"], [0.7777777777777778, \"#fb9f3a\"], [0.8888888888888888, \"#fdca26\"], [1.0, \"#f0f921\"]], \"sequentialminus\": [[0.0, \"#0d0887\"], [0.1111111111111111, \"#46039f\"], [0.2222222222222222, \"#7201a8\"], [0.3333333333333333, \"#9c179e\"], [0.4444444444444444, \"#bd3786\"], [0.5555555555555556, \"#d8576b\"], [0.6666666666666666, \"#ed7953\"], [0.7777777777777778, \"#fb9f3a\"], [0.8888888888888888, \"#fdca26\"], [1.0, \"#f0f921\"]]}, \"colorway\": [\"#636efa\", \"#EF553B\", \"#00cc96\", \"#ab63fa\", \"#FFA15A\", \"#19d3f3\", \"#FF6692\", \"#B6E880\", \"#FF97FF\", \"#FECB52\"], \"font\": {\"color\": \"#2a3f5f\"}, \"geo\": {\"bgcolor\": \"white\", \"lakecolor\": \"white\", \"landcolor\": \"#E5ECF6\", \"showlakes\": true, \"showland\": true, \"subunitcolor\": \"white\"}, \"hoverlabel\": {\"align\": \"left\"}, \"hovermode\": \"closest\", \"mapbox\": {\"style\": \"light\"}, \"paper_bgcolor\": \"white\", \"plot_bgcolor\": \"#E5ECF6\", \"polar\": {\"angularaxis\": {\"gridcolor\": \"white\", \"linecolor\": \"white\", \"ticks\": \"\"}, \"bgcolor\": \"#E5ECF6\", \"radialaxis\": {\"gridcolor\": \"white\", \"linecolor\": \"white\", \"ticks\": \"\"}}, \"scene\": {\"xaxis\": {\"backgroundcolor\": \"#E5ECF6\", \"gridcolor\": \"white\", \"gridwidth\": 2, \"linecolor\": \"white\", \"showbackground\": true, \"ticks\": \"\", \"zerolinecolor\": \"white\"}, \"yaxis\": {\"backgroundcolor\": \"#E5ECF6\", \"gridcolor\": \"white\", \"gridwidth\": 2, \"linecolor\": \"white\", \"showbackground\": true, \"ticks\": \"\", \"zerolinecolor\": \"white\"}, \"zaxis\": {\"backgroundcolor\": \"#E5ECF6\", \"gridcolor\": \"white\", \"gridwidth\": 2, \"linecolor\": \"white\", \"showbackground\": true, \"ticks\": \"\", \"zerolinecolor\": \"white\"}}, \"shapedefaults\": {\"line\": {\"color\": \"#2a3f5f\"}}, \"ternary\": {\"aaxis\": {\"gridcolor\": \"white\", \"linecolor\": \"white\", \"ticks\": \"\"}, \"baxis\": {\"gridcolor\": \"white\", \"linecolor\": \"white\", \"ticks\": \"\"}, \"bgcolor\": \"#E5ECF6\", \"caxis\": {\"gridcolor\": \"white\", \"linecolor\": \"white\", \"ticks\": \"\"}}, \"title\": {\"x\": 0.05}, \"xaxis\": {\"automargin\": true, \"gridcolor\": \"white\", \"linecolor\": \"white\", \"ticks\": \"\", \"title\": {\"standoff\": 15}, \"zerolinecolor\": \"white\", \"zerolinewidth\": 2}, \"yaxis\": {\"automargin\": true, \"gridcolor\": \"white\", \"linecolor\": \"white\", \"ticks\": \"\", \"title\": {\"standoff\": 15}, \"zerolinecolor\": \"white\", \"zerolinewidth\": 2}}}, \"title\": {\"text\": \"Accuracy\"}, \"violingap\": 0, \"violingroupgap\": 0.6, \"violinmode\": \"overlay\"},\n",
       "                        {\"responsive\": true}\n",
       "                    ).then(function(){\n",
       "                            \n",
       "var gd = document.getElementById('b1ab7b8f-d88a-438e-9077-3c1e527ed0cd');\n",
       "var x = new MutationObserver(function (mutations, observer) {{\n",
       "        var display = window.getComputedStyle(gd).display;\n",
       "        if (!display || display === 'none') {{\n",
       "            console.log([gd, 'removed!']);\n",
       "            Plotly.purge(gd);\n",
       "            observer.disconnect();\n",
       "        }}\n",
       "}});\n",
       "\n",
       "// Listen for the removal of the full notebook cells\n",
       "var notebookContainer = gd.closest('#notebook-container');\n",
       "if (notebookContainer) {{\n",
       "    x.observe(notebookContainer, {childList: true});\n",
       "}}\n",
       "\n",
       "// Listen for the clearing of the current output cell\n",
       "var outputEl = gd.closest('.output');\n",
       "if (outputEl) {{\n",
       "    x.observe(outputEl, {childList: true});\n",
       "}}\n",
       "\n",
       "                        })\n",
       "                };\n",
       "                });\n",
       "            </script>\n",
       "        </div>"
      ]
     },
     "metadata": {},
     "output_type": "display_data"
    }
   ],
   "source": [
    "plots_metrics(acc_BOW_SGD, acc_TFIDF_SGD, acc_BOW_BNB, acc_TFIDF_BNB, acc_BOW_LR, acc_TFIDF_LR,\n",
    "                 acc_BOW_MNB, acc_TFIDF_MNB, \"Accuracy\",0.4112,0.4804)"
   ]
  },
  {
   "cell_type": "code",
   "execution_count": 70,
   "metadata": {},
   "outputs": [
    {
     "data": {
      "application/vnd.plotly.v1+json": {
       "config": {
        "plotlyServerURL": "https://plot.ly"
       },
       "data": [
        {
         "jitter": 0.05,
         "line": {
          "color": "green"
         },
         "meanline": {
          "visible": true
         },
         "name": "BOW SGD",
         "pointpos": -1.4,
         "points": "all",
         "scalegroup": "BOW",
         "scalemode": "count",
         "side": "negative",
         "type": "violin",
         "x0": "SGD Classifier",
         "y": [
          0.5982905982905983,
          0.48563218390804597,
          0.4391608391608391,
          0.33826429980276135,
          0.45769230769230773,
          0.41841491841491846,
          0.3424908424908425,
          0.5564435564435565,
          0.531013431013431,
          0.5961538461538461,
          0.6978021978021979,
          0.5420118343195265,
          0.48290598290598286,
          0.5689743589743589,
          0.6467236467236467,
          0.4285714285714285,
          0.3955574340189725,
          0.6035677285677286,
          0.524941724941725,
          0.7333333333333333,
          0.7726806526806527,
          0.575735992402659,
          0.6390532544378699,
          0.6733143399810066,
          0.5709507883420927,
          0.6043956043956045,
          0.680911680911681,
          0.530940170940171,
          0.6723646723646723,
          0.6780626780626781,
          0.7037037037037036,
          0.7633292633292633,
          0.6837606837606838,
          0.7753272368656985,
          0.6806526806526807,
          0.7575335775335775,
          0.6932330827067669,
          0.5903890160183066,
          0.6582456140350876,
          0.6585753176043557,
          0.6540592371617302,
          0.39350877192982453,
          0.5821052631578948,
          0.6623961218836566,
          0.48496240601503754,
          0.6211342836729834,
          0.616600790513834,
          0.46105263157894744,
          0.48026315789473684,
          0.3642659279778393
         ]
        },
        {
         "jitter": 0.05,
         "line": {
          "color": "lightseagreen"
         },
         "meanline": {
          "visible": true
         },
         "name": "TFIDF SGD",
         "pointpos": 1.4,
         "points": "all",
         "scalegroup": "TFIDF",
         "scalemode": "count",
         "side": "positive",
         "type": "violin",
         "x0": "SGD Classifier",
         "y": [
          0.610366694237662,
          0.5454545454545455,
          0.47435897435897434,
          0.4807692307692308,
          0.5344617068755,
          0.5831754452444108,
          0.35347985347985345,
          0.5607940446650124,
          0.5589743589743589,
          0.6199095022624435,
          0.683674350341017,
          0.5239610963748894,
          0.5324009324009324,
          0.5102564102564102,
          0.6239316239316239,
          0.5445616211745244,
          0.42592592592592593,
          0.5149572649572649,
          0.6036324786324786,
          0.829831816928591,
          0.6748198038520619,
          0.6423076923076924,
          0.6618921308576481,
          0.6615384615384615,
          0.7514588859416446,
          0.641616448068061,
          0.5964787900271771,
          0.5042735042735043,
          0.717948717948718,
          0.6614281775572098,
          0.6677718832891247,
          0.7454594017094017,
          0.7128205128205128,
          0.7681623931623932,
          0.6866489832007073,
          0.7208579881656804,
          0.720508166969147,
          0.593483709273183,
          0.6964912280701755,
          0.6470588235294118,
          0.5723684210526315,
          0.28596491228070176,
          0.615953947368421,
          0.6461988304093568,
          0.5131578947368421,
          0.6081871345029239,
          0.6323444976076554,
          0.5780701754385964,
          0.39097744360902253,
          0.49542334096109836
         ]
        },
        {
         "jitter": 0.05,
         "line": {
          "color": "red"
         },
         "meanline": {
          "visible": true
         },
         "name": "BOW BNB",
         "pointpos": -1.4,
         "points": "all",
         "scalegroup": "BOW",
         "scalemode": "count",
         "side": "negative",
         "type": "violin",
         "x0": "Bernoulli NB",
         "y": [
          0.5916083916083916,
          0.6495726495726496,
          0.48290598290598286,
          0.519036519036519,
          0.5592948717948718,
          0.6043956043956044,
          0.4807692307692308,
          0.5291375291375291,
          0.7580539119000657,
          0.5586080586080586,
          0.6307026307026308,
          0.494949494949495,
          0.5221445221445221,
          0.6017628205128205,
          0.5897435897435898,
          0.4766214177978884,
          0.5826210826210826,
          0.6157731157731158,
          0.6474358974358975,
          0.8045905707196029,
          0.6437728937728938,
          0.7099792099792099,
          0.6407239819004525,
          0.7366515837104072,
          0.6223443223443224,
          0.5983516483516483,
          0.5355075032494387,
          0.5998168498168498,
          0.7552655677655677,
          0.7004524886877828,
          0.8065268065268066,
          0.6714743589743589,
          0.6108262108262108,
          0.7852564102564102,
          0.6668734491315137,
          0.6163003663003662,
          0.6,
          0.6585010914382731,
          0.6421052631578947,
          0.708204334365325,
          0.6799758015728978,
          0.5278637770897833,
          0.694486215538847,
          0.7164473684210526,
          0.5910016977928693,
          0.6059379217273954,
          0.6985645933014354,
          0.4605263157894737,
          0.4356725146198831,
          0.43942831215970957
         ]
        },
        {
         "jitter": 0.05,
         "line": {
          "color": "darkmagenta"
         },
         "meanline": {
          "visible": true
         },
         "name": "TFIDF BNB",
         "pointpos": 1.4,
         "points": "all",
         "scalegroup": "TFIDF",
         "scalemode": "count",
         "side": "positive",
         "type": "violin",
         "x0": "Bernoulli NB",
         "y": [
          0.5916083916083916,
          0.6495726495726496,
          0.48290598290598286,
          0.519036519036519,
          0.5592948717948718,
          0.6043956043956044,
          0.4807692307692308,
          0.5291375291375291,
          0.7580539119000657,
          0.5586080586080586,
          0.6307026307026308,
          0.494949494949495,
          0.5221445221445221,
          0.6017628205128205,
          0.5897435897435898,
          0.4766214177978884,
          0.5826210826210826,
          0.6157731157731158,
          0.6474358974358975,
          0.8045905707196029,
          0.6437728937728938,
          0.7099792099792099,
          0.6407239819004525,
          0.7366515837104072,
          0.6223443223443224,
          0.5983516483516483,
          0.5355075032494387,
          0.5998168498168498,
          0.7552655677655677,
          0.7004524886877828,
          0.8065268065268066,
          0.6714743589743589,
          0.6108262108262108,
          0.7852564102564102,
          0.6668734491315137,
          0.6163003663003662,
          0.6,
          0.6585010914382731,
          0.6421052631578947,
          0.708204334365325,
          0.6799758015728978,
          0.5278637770897833,
          0.694486215538847,
          0.7164473684210526,
          0.5910016977928693,
          0.6059379217273954,
          0.6985645933014354,
          0.4605263157894737,
          0.4356725146198831,
          0.43942831215970957
         ]
        },
        {
         "jitter": 0.05,
         "line": {
          "color": "blue"
         },
         "meanline": {
          "visible": true
         },
         "name": "BOW LR",
         "pointpos": -1.4,
         "points": "all",
         "scalegroup": "BOW",
         "scalemode": "count",
         "side": "negative",
         "type": "violin",
         "x0": "Logistic Regresion",
         "y": [
          0.5699023199023199,
          0.4273504273504273,
          0.5489621489621489,
          0.34444444444444444,
          0.5106837606837608,
          0.5084615384615384,
          0.36617405582922824,
          0.535042735042735,
          0.6271062271062271,
          0.6542346542346542,
          0.7271062271062271,
          0.547008547008547,
          0.4813895781637717,
          0.6047008547008547,
          0.6239316239316239,
          0.3892307692307692,
          0.5008965393580778,
          0.582051282051282,
          0.5222222222222223,
          0.8076923076923077,
          0.682983682983683,
          0.6377998345740281,
          0.6336182336182337,
          0.6615384615384615,
          0.6969053934571177,
          0.554945054945055,
          0.5747863247863249,
          0.4960212201591512,
          0.729059829059829,
          0.671415004748338,
          0.655982905982906,
          0.7572649572649574,
          0.6997435897435897,
          0.7461538461538462,
          0.597948717948718,
          0.771706688373355,
          0.6932330827067669,
          0.593483709273183,
          0.6352826510721247,
          0.6681704260651629,
          0.5857432041642568,
          0.4049131449312937,
          0.5916515426497277,
          0.6860507913139492,
          0.4934210526315789,
          0.6096952908587258,
          0.6092105263157894,
          0.4774436090225564,
          0.47129186602870804,
          0.4336978810663021
         ]
        },
        {
         "jitter": 0.05,
         "line": {
          "color": "darkblue"
         },
         "meanline": {
          "visible": true
         },
         "name": "TFIDF LR",
         "pointpos": 1.4,
         "points": "all",
         "scalegroup": "TFIDF",
         "scalemode": "count",
         "side": "positive",
         "type": "violin",
         "x0": "Logistic Regresion",
         "y": [
          0.5831501831501831,
          0.6545209176788125,
          0.7514792899408284,
          0.5720720720720721,
          0.6648018648018649,
          0.6054131054131054,
          0.3631701631701632,
          0.6837606837606838,
          0.5620782726045883,
          0.7501643655489809,
          0.5726495726495727,
          0.4493927125506073,
          0.4636174636174636,
          0.5796221322537113,
          0.6555786555786556,
          0.5314685314685315,
          0.5156695156695157,
          0.7802197802197802,
          0.6163003663003662,
          0.89010989010989,
          0.7365079365079364,
          0.5802968960863698,
          0.7291101055806939,
          0.764957264957265,
          0.8065934065934065,
          0.8018018018018018,
          0.651074151074151,
          0.5384615384615384,
          0.7131868131868132,
          0.6892911010558069,
          0.8380566801619435,
          0.871101871101871,
          0.5509355509355509,
          0.6410256410256411,
          0.7168498168498169,
          0.8238866396761134,
          0.8015037593984962,
          0.7119883040935673,
          0.8207681365576103,
          0.662873399715505,
          0.6440191387559808,
          0.75,
          0.6381578947368421,
          0.6203560371517028,
          0.4356725146198831,
          0.631578947368421,
          0.5768136557610242,
          0.5394736842105263,
          0.7506925207756233,
          0.6147660818713451
         ]
        },
        {
         "jitter": 0.05,
         "line": {
          "color": "black"
         },
         "meanline": {
          "visible": true
         },
         "name": "BOW MNB",
         "pointpos": -1.4,
         "points": "all",
         "scalegroup": "BOW",
         "scalemode": "count",
         "side": "negative",
         "type": "violin",
         "x0": "Multinomial NB",
         "y": [
          0.5512820512820513,
          0.6223776223776224,
          0.4535980148883374,
          0.5401709401709401,
          0.5562448304383789,
          0.5904067197170645,
          0.34969053934571176,
          0.6428187197417967,
          0.5157509157509157,
          0.5673076923076923,
          0.7169625246548323,
          0.5046673756351175,
          0.3341103341103341,
          0.6377171215880894,
          0.6183386505967151,
          0.4377289377289377,
          0.49002849002849,
          0.6369837059492232,
          0.42882404951370473,
          0.7872405372405373,
          0.7143137832793005,
          0.7051282051282052,
          0.6972704714640199,
          0.7252747252747253,
          0.7015669515669517,
          0.6980548187444738,
          0.623931623931624,
          0.558974358974359,
          0.8081343943412909,
          0.695616211745244,
          0.7241758241758242,
          0.6828449328449329,
          0.6905594405594405,
          0.7642204538756263,
          0.6190476190476191,
          0.7552231718898386,
          0.7099415204678362,
          0.6118421052631579,
          0.6475279106858054,
          0.7342105263157895,
          0.6685736079328757,
          0.5401002506265664,
          0.5845864661654135,
          0.6437426900584796,
          0.6672932330827068,
          0.6352699931647299,
          0.6226076555023924,
          0.3201754385964912,
          0.3993808049535604,
          0.33522267206477735
         ]
        },
        {
         "jitter": 0.05,
         "line": {
          "color": "gray"
         },
         "meanline": {
          "visible": true
         },
         "name": "TFIDF MNB",
         "pointpos": 1.4,
         "points": "all",
         "scalemode": "count",
         "side": "positive",
         "type": "violin",
         "x0": "Multinomial NB",
         "y": [
          0.7514792899408284,
          0.398110661268556,
          0.7514792899408284,
          0.7541091387245233,
          0.7514792899408284,
          0.7624831309041835,
          0.7869822485207101,
          0.7869822485207101,
          0.7580539119000657,
          0.7501643655489809,
          0.5598290598290598,
          0.7501643655489809,
          0.45951417004048584,
          0.7514792899408284,
          0.7633136094674556,
          0.3873144399460189,
          0.5208791208791208,
          0.7643797643797644,
          0.7501643655489809,
          0.8380566801619435,
          0.7869822485207101,
          0.5802968960863698,
          0.660968660968661,
          0.8535762483130904,
          0.7837837837837838,
          0.5411605937921729,
          0.4986504723346829,
          0.7975016436554898,
          0.7894736842105263,
          0.5843454790823213,
          0.8224852071005918,
          0.8369493754109137,
          0.7541091387245233,
          0.7975016436554898,
          0.7837837837837838,
          0.8093359631821171,
          0.7780938833570413,
          0.8192520775623269,
          0.8207681365576103,
          0.8060941828254847,
          0.7506925207756233,
          0.75,
          0.7943213296398891,
          0.7673130193905816,
          0.7506925207756233,
          0.7506925207756233,
          0.7610241820768137,
          0.752770083102493,
          0.7506925207756233,
          0.8497229916897507
         ]
        },
        {
         "line": {
          "color": "darkslategrey",
          "dash": "dash"
         },
         "name": "Lexicon Simple",
         "type": "scatter",
         "x": [
          "SGD Classifier",
          "Multinomial NB"
         ],
         "y": [
          0.4473,
          0.4473
         ]
        },
        {
         "line": {
          "color": "darkslateblue",
          "dash": "dot"
         },
         "name": "Lexicon Polarity",
         "type": "scatter",
         "x": [
          "SGD Classifier",
          "Multinomial NB"
         ],
         "y": [
          0.5021,
          0.5021
         ]
        }
       ],
       "layout": {
        "template": {
         "data": {
          "bar": [
           {
            "error_x": {
             "color": "#2a3f5f"
            },
            "error_y": {
             "color": "#2a3f5f"
            },
            "marker": {
             "line": {
              "color": "#E5ECF6",
              "width": 0.5
             }
            },
            "type": "bar"
           }
          ],
          "barpolar": [
           {
            "marker": {
             "line": {
              "color": "#E5ECF6",
              "width": 0.5
             }
            },
            "type": "barpolar"
           }
          ],
          "carpet": [
           {
            "aaxis": {
             "endlinecolor": "#2a3f5f",
             "gridcolor": "white",
             "linecolor": "white",
             "minorgridcolor": "white",
             "startlinecolor": "#2a3f5f"
            },
            "baxis": {
             "endlinecolor": "#2a3f5f",
             "gridcolor": "white",
             "linecolor": "white",
             "minorgridcolor": "white",
             "startlinecolor": "#2a3f5f"
            },
            "type": "carpet"
           }
          ],
          "choropleth": [
           {
            "colorbar": {
             "outlinewidth": 0,
             "ticks": ""
            },
            "type": "choropleth"
           }
          ],
          "contour": [
           {
            "colorbar": {
             "outlinewidth": 0,
             "ticks": ""
            },
            "colorscale": [
             [
              0,
              "#0d0887"
             ],
             [
              0.1111111111111111,
              "#46039f"
             ],
             [
              0.2222222222222222,
              "#7201a8"
             ],
             [
              0.3333333333333333,
              "#9c179e"
             ],
             [
              0.4444444444444444,
              "#bd3786"
             ],
             [
              0.5555555555555556,
              "#d8576b"
             ],
             [
              0.6666666666666666,
              "#ed7953"
             ],
             [
              0.7777777777777778,
              "#fb9f3a"
             ],
             [
              0.8888888888888888,
              "#fdca26"
             ],
             [
              1,
              "#f0f921"
             ]
            ],
            "type": "contour"
           }
          ],
          "contourcarpet": [
           {
            "colorbar": {
             "outlinewidth": 0,
             "ticks": ""
            },
            "type": "contourcarpet"
           }
          ],
          "heatmap": [
           {
            "colorbar": {
             "outlinewidth": 0,
             "ticks": ""
            },
            "colorscale": [
             [
              0,
              "#0d0887"
             ],
             [
              0.1111111111111111,
              "#46039f"
             ],
             [
              0.2222222222222222,
              "#7201a8"
             ],
             [
              0.3333333333333333,
              "#9c179e"
             ],
             [
              0.4444444444444444,
              "#bd3786"
             ],
             [
              0.5555555555555556,
              "#d8576b"
             ],
             [
              0.6666666666666666,
              "#ed7953"
             ],
             [
              0.7777777777777778,
              "#fb9f3a"
             ],
             [
              0.8888888888888888,
              "#fdca26"
             ],
             [
              1,
              "#f0f921"
             ]
            ],
            "type": "heatmap"
           }
          ],
          "heatmapgl": [
           {
            "colorbar": {
             "outlinewidth": 0,
             "ticks": ""
            },
            "colorscale": [
             [
              0,
              "#0d0887"
             ],
             [
              0.1111111111111111,
              "#46039f"
             ],
             [
              0.2222222222222222,
              "#7201a8"
             ],
             [
              0.3333333333333333,
              "#9c179e"
             ],
             [
              0.4444444444444444,
              "#bd3786"
             ],
             [
              0.5555555555555556,
              "#d8576b"
             ],
             [
              0.6666666666666666,
              "#ed7953"
             ],
             [
              0.7777777777777778,
              "#fb9f3a"
             ],
             [
              0.8888888888888888,
              "#fdca26"
             ],
             [
              1,
              "#f0f921"
             ]
            ],
            "type": "heatmapgl"
           }
          ],
          "histogram": [
           {
            "marker": {
             "colorbar": {
              "outlinewidth": 0,
              "ticks": ""
             }
            },
            "type": "histogram"
           }
          ],
          "histogram2d": [
           {
            "colorbar": {
             "outlinewidth": 0,
             "ticks": ""
            },
            "colorscale": [
             [
              0,
              "#0d0887"
             ],
             [
              0.1111111111111111,
              "#46039f"
             ],
             [
              0.2222222222222222,
              "#7201a8"
             ],
             [
              0.3333333333333333,
              "#9c179e"
             ],
             [
              0.4444444444444444,
              "#bd3786"
             ],
             [
              0.5555555555555556,
              "#d8576b"
             ],
             [
              0.6666666666666666,
              "#ed7953"
             ],
             [
              0.7777777777777778,
              "#fb9f3a"
             ],
             [
              0.8888888888888888,
              "#fdca26"
             ],
             [
              1,
              "#f0f921"
             ]
            ],
            "type": "histogram2d"
           }
          ],
          "histogram2dcontour": [
           {
            "colorbar": {
             "outlinewidth": 0,
             "ticks": ""
            },
            "colorscale": [
             [
              0,
              "#0d0887"
             ],
             [
              0.1111111111111111,
              "#46039f"
             ],
             [
              0.2222222222222222,
              "#7201a8"
             ],
             [
              0.3333333333333333,
              "#9c179e"
             ],
             [
              0.4444444444444444,
              "#bd3786"
             ],
             [
              0.5555555555555556,
              "#d8576b"
             ],
             [
              0.6666666666666666,
              "#ed7953"
             ],
             [
              0.7777777777777778,
              "#fb9f3a"
             ],
             [
              0.8888888888888888,
              "#fdca26"
             ],
             [
              1,
              "#f0f921"
             ]
            ],
            "type": "histogram2dcontour"
           }
          ],
          "mesh3d": [
           {
            "colorbar": {
             "outlinewidth": 0,
             "ticks": ""
            },
            "type": "mesh3d"
           }
          ],
          "parcoords": [
           {
            "line": {
             "colorbar": {
              "outlinewidth": 0,
              "ticks": ""
             }
            },
            "type": "parcoords"
           }
          ],
          "pie": [
           {
            "automargin": true,
            "type": "pie"
           }
          ],
          "scatter": [
           {
            "marker": {
             "colorbar": {
              "outlinewidth": 0,
              "ticks": ""
             }
            },
            "type": "scatter"
           }
          ],
          "scatter3d": [
           {
            "line": {
             "colorbar": {
              "outlinewidth": 0,
              "ticks": ""
             }
            },
            "marker": {
             "colorbar": {
              "outlinewidth": 0,
              "ticks": ""
             }
            },
            "type": "scatter3d"
           }
          ],
          "scattercarpet": [
           {
            "marker": {
             "colorbar": {
              "outlinewidth": 0,
              "ticks": ""
             }
            },
            "type": "scattercarpet"
           }
          ],
          "scattergeo": [
           {
            "marker": {
             "colorbar": {
              "outlinewidth": 0,
              "ticks": ""
             }
            },
            "type": "scattergeo"
           }
          ],
          "scattergl": [
           {
            "marker": {
             "colorbar": {
              "outlinewidth": 0,
              "ticks": ""
             }
            },
            "type": "scattergl"
           }
          ],
          "scattermapbox": [
           {
            "marker": {
             "colorbar": {
              "outlinewidth": 0,
              "ticks": ""
             }
            },
            "type": "scattermapbox"
           }
          ],
          "scatterpolar": [
           {
            "marker": {
             "colorbar": {
              "outlinewidth": 0,
              "ticks": ""
             }
            },
            "type": "scatterpolar"
           }
          ],
          "scatterpolargl": [
           {
            "marker": {
             "colorbar": {
              "outlinewidth": 0,
              "ticks": ""
             }
            },
            "type": "scatterpolargl"
           }
          ],
          "scatterternary": [
           {
            "marker": {
             "colorbar": {
              "outlinewidth": 0,
              "ticks": ""
             }
            },
            "type": "scatterternary"
           }
          ],
          "surface": [
           {
            "colorbar": {
             "outlinewidth": 0,
             "ticks": ""
            },
            "colorscale": [
             [
              0,
              "#0d0887"
             ],
             [
              0.1111111111111111,
              "#46039f"
             ],
             [
              0.2222222222222222,
              "#7201a8"
             ],
             [
              0.3333333333333333,
              "#9c179e"
             ],
             [
              0.4444444444444444,
              "#bd3786"
             ],
             [
              0.5555555555555556,
              "#d8576b"
             ],
             [
              0.6666666666666666,
              "#ed7953"
             ],
             [
              0.7777777777777778,
              "#fb9f3a"
             ],
             [
              0.8888888888888888,
              "#fdca26"
             ],
             [
              1,
              "#f0f921"
             ]
            ],
            "type": "surface"
           }
          ],
          "table": [
           {
            "cells": {
             "fill": {
              "color": "#EBF0F8"
             },
             "line": {
              "color": "white"
             }
            },
            "header": {
             "fill": {
              "color": "#C8D4E3"
             },
             "line": {
              "color": "white"
             }
            },
            "type": "table"
           }
          ]
         },
         "layout": {
          "annotationdefaults": {
           "arrowcolor": "#2a3f5f",
           "arrowhead": 0,
           "arrowwidth": 1
          },
          "coloraxis": {
           "colorbar": {
            "outlinewidth": 0,
            "ticks": ""
           }
          },
          "colorscale": {
           "diverging": [
            [
             0,
             "#8e0152"
            ],
            [
             0.1,
             "#c51b7d"
            ],
            [
             0.2,
             "#de77ae"
            ],
            [
             0.3,
             "#f1b6da"
            ],
            [
             0.4,
             "#fde0ef"
            ],
            [
             0.5,
             "#f7f7f7"
            ],
            [
             0.6,
             "#e6f5d0"
            ],
            [
             0.7,
             "#b8e186"
            ],
            [
             0.8,
             "#7fbc41"
            ],
            [
             0.9,
             "#4d9221"
            ],
            [
             1,
             "#276419"
            ]
           ],
           "sequential": [
            [
             0,
             "#0d0887"
            ],
            [
             0.1111111111111111,
             "#46039f"
            ],
            [
             0.2222222222222222,
             "#7201a8"
            ],
            [
             0.3333333333333333,
             "#9c179e"
            ],
            [
             0.4444444444444444,
             "#bd3786"
            ],
            [
             0.5555555555555556,
             "#d8576b"
            ],
            [
             0.6666666666666666,
             "#ed7953"
            ],
            [
             0.7777777777777778,
             "#fb9f3a"
            ],
            [
             0.8888888888888888,
             "#fdca26"
            ],
            [
             1,
             "#f0f921"
            ]
           ],
           "sequentialminus": [
            [
             0,
             "#0d0887"
            ],
            [
             0.1111111111111111,
             "#46039f"
            ],
            [
             0.2222222222222222,
             "#7201a8"
            ],
            [
             0.3333333333333333,
             "#9c179e"
            ],
            [
             0.4444444444444444,
             "#bd3786"
            ],
            [
             0.5555555555555556,
             "#d8576b"
            ],
            [
             0.6666666666666666,
             "#ed7953"
            ],
            [
             0.7777777777777778,
             "#fb9f3a"
            ],
            [
             0.8888888888888888,
             "#fdca26"
            ],
            [
             1,
             "#f0f921"
            ]
           ]
          },
          "colorway": [
           "#636efa",
           "#EF553B",
           "#00cc96",
           "#ab63fa",
           "#FFA15A",
           "#19d3f3",
           "#FF6692",
           "#B6E880",
           "#FF97FF",
           "#FECB52"
          ],
          "font": {
           "color": "#2a3f5f"
          },
          "geo": {
           "bgcolor": "white",
           "lakecolor": "white",
           "landcolor": "#E5ECF6",
           "showlakes": true,
           "showland": true,
           "subunitcolor": "white"
          },
          "hoverlabel": {
           "align": "left"
          },
          "hovermode": "closest",
          "mapbox": {
           "style": "light"
          },
          "paper_bgcolor": "white",
          "plot_bgcolor": "#E5ECF6",
          "polar": {
           "angularaxis": {
            "gridcolor": "white",
            "linecolor": "white",
            "ticks": ""
           },
           "bgcolor": "#E5ECF6",
           "radialaxis": {
            "gridcolor": "white",
            "linecolor": "white",
            "ticks": ""
           }
          },
          "scene": {
           "xaxis": {
            "backgroundcolor": "#E5ECF6",
            "gridcolor": "white",
            "gridwidth": 2,
            "linecolor": "white",
            "showbackground": true,
            "ticks": "",
            "zerolinecolor": "white"
           },
           "yaxis": {
            "backgroundcolor": "#E5ECF6",
            "gridcolor": "white",
            "gridwidth": 2,
            "linecolor": "white",
            "showbackground": true,
            "ticks": "",
            "zerolinecolor": "white"
           },
           "zaxis": {
            "backgroundcolor": "#E5ECF6",
            "gridcolor": "white",
            "gridwidth": 2,
            "linecolor": "white",
            "showbackground": true,
            "ticks": "",
            "zerolinecolor": "white"
           }
          },
          "shapedefaults": {
           "line": {
            "color": "#2a3f5f"
           }
          },
          "ternary": {
           "aaxis": {
            "gridcolor": "white",
            "linecolor": "white",
            "ticks": ""
           },
           "baxis": {
            "gridcolor": "white",
            "linecolor": "white",
            "ticks": ""
           },
           "bgcolor": "#E5ECF6",
           "caxis": {
            "gridcolor": "white",
            "linecolor": "white",
            "ticks": ""
           }
          },
          "title": {
           "x": 0.05
          },
          "xaxis": {
           "automargin": true,
           "gridcolor": "white",
           "linecolor": "white",
           "ticks": "",
           "title": {
            "standoff": 15
           },
           "zerolinecolor": "white",
           "zerolinewidth": 2
          },
          "yaxis": {
           "automargin": true,
           "gridcolor": "white",
           "linecolor": "white",
           "ticks": "",
           "title": {
            "standoff": 15
           },
           "zerolinecolor": "white",
           "zerolinewidth": 2
          }
         }
        },
        "title": {
         "text": "Precision"
        },
        "violingap": 0,
        "violingroupgap": 0.6,
        "violinmode": "overlay"
       }
      },
      "text/html": [
       "<div>\n",
       "        \n",
       "        \n",
       "            <div id=\"e2bd5f7c-a9d0-408b-8832-872c9981e557\" class=\"plotly-graph-div\" style=\"height:525px; width:100%;\"></div>\n",
       "            <script type=\"text/javascript\">\n",
       "                require([\"plotly\"], function(Plotly) {\n",
       "                    window.PLOTLYENV=window.PLOTLYENV || {};\n",
       "                    \n",
       "                if (document.getElementById(\"e2bd5f7c-a9d0-408b-8832-872c9981e557\")) {\n",
       "                    Plotly.newPlot(\n",
       "                        'e2bd5f7c-a9d0-408b-8832-872c9981e557',\n",
       "                        [{\"jitter\": 0.05, \"line\": {\"color\": \"green\"}, \"meanline\": {\"visible\": true}, \"name\": \"BOW SGD\", \"pointpos\": -1.4, \"points\": \"all\", \"scalegroup\": \"BOW\", \"scalemode\": \"count\", \"side\": \"negative\", \"type\": \"violin\", \"x0\": \"SGD Classifier\", \"y\": [0.5982905982905983, 0.48563218390804597, 0.4391608391608391, 0.33826429980276135, 0.45769230769230773, 0.41841491841491846, 0.3424908424908425, 0.5564435564435565, 0.531013431013431, 0.5961538461538461, 0.6978021978021979, 0.5420118343195265, 0.48290598290598286, 0.5689743589743589, 0.6467236467236467, 0.4285714285714285, 0.3955574340189725, 0.6035677285677286, 0.524941724941725, 0.7333333333333333, 0.7726806526806527, 0.575735992402659, 0.6390532544378699, 0.6733143399810066, 0.5709507883420927, 0.6043956043956045, 0.680911680911681, 0.530940170940171, 0.6723646723646723, 0.6780626780626781, 0.7037037037037036, 0.7633292633292633, 0.6837606837606838, 0.7753272368656985, 0.6806526806526807, 0.7575335775335775, 0.6932330827067669, 0.5903890160183066, 0.6582456140350876, 0.6585753176043557, 0.6540592371617302, 0.39350877192982453, 0.5821052631578948, 0.6623961218836566, 0.48496240601503754, 0.6211342836729834, 0.616600790513834, 0.46105263157894744, 0.48026315789473684, 0.3642659279778393]}, {\"jitter\": 0.05, \"line\": {\"color\": \"lightseagreen\"}, \"meanline\": {\"visible\": true}, \"name\": \"TFIDF SGD\", \"pointpos\": 1.4, \"points\": \"all\", \"scalegroup\": \"TFIDF\", \"scalemode\": \"count\", \"side\": \"positive\", \"type\": \"violin\", \"x0\": \"SGD Classifier\", \"y\": [0.610366694237662, 0.5454545454545455, 0.47435897435897434, 0.4807692307692308, 0.5344617068755, 0.5831754452444108, 0.35347985347985345, 0.5607940446650124, 0.5589743589743589, 0.6199095022624435, 0.683674350341017, 0.5239610963748894, 0.5324009324009324, 0.5102564102564102, 0.6239316239316239, 0.5445616211745244, 0.42592592592592593, 0.5149572649572649, 0.6036324786324786, 0.829831816928591, 0.6748198038520619, 0.6423076923076924, 0.6618921308576481, 0.6615384615384615, 0.7514588859416446, 0.641616448068061, 0.5964787900271771, 0.5042735042735043, 0.717948717948718, 0.6614281775572098, 0.6677718832891247, 0.7454594017094017, 0.7128205128205128, 0.7681623931623932, 0.6866489832007073, 0.7208579881656804, 0.720508166969147, 0.593483709273183, 0.6964912280701755, 0.6470588235294118, 0.5723684210526315, 0.28596491228070176, 0.615953947368421, 0.6461988304093568, 0.5131578947368421, 0.6081871345029239, 0.6323444976076554, 0.5780701754385964, 0.39097744360902253, 0.49542334096109836]}, {\"jitter\": 0.05, \"line\": {\"color\": \"red\"}, \"meanline\": {\"visible\": true}, \"name\": \"BOW BNB\", \"pointpos\": -1.4, \"points\": \"all\", \"scalegroup\": \"BOW\", \"scalemode\": \"count\", \"side\": \"negative\", \"type\": \"violin\", \"x0\": \"Bernoulli NB\", \"y\": [0.5916083916083916, 0.6495726495726496, 0.48290598290598286, 0.519036519036519, 0.5592948717948718, 0.6043956043956044, 0.4807692307692308, 0.5291375291375291, 0.7580539119000657, 0.5586080586080586, 0.6307026307026308, 0.494949494949495, 0.5221445221445221, 0.6017628205128205, 0.5897435897435898, 0.4766214177978884, 0.5826210826210826, 0.6157731157731158, 0.6474358974358975, 0.8045905707196029, 0.6437728937728938, 0.7099792099792099, 0.6407239819004525, 0.7366515837104072, 0.6223443223443224, 0.5983516483516483, 0.5355075032494387, 0.5998168498168498, 0.7552655677655677, 0.7004524886877828, 0.8065268065268066, 0.6714743589743589, 0.6108262108262108, 0.7852564102564102, 0.6668734491315137, 0.6163003663003662, 0.6, 0.6585010914382731, 0.6421052631578947, 0.708204334365325, 0.6799758015728978, 0.5278637770897833, 0.694486215538847, 0.7164473684210526, 0.5910016977928693, 0.6059379217273954, 0.6985645933014354, 0.4605263157894737, 0.4356725146198831, 0.43942831215970957]}, {\"jitter\": 0.05, \"line\": {\"color\": \"darkmagenta\"}, \"meanline\": {\"visible\": true}, \"name\": \"TFIDF BNB\", \"pointpos\": 1.4, \"points\": \"all\", \"scalegroup\": \"TFIDF\", \"scalemode\": \"count\", \"side\": \"positive\", \"type\": \"violin\", \"x0\": \"Bernoulli NB\", \"y\": [0.5916083916083916, 0.6495726495726496, 0.48290598290598286, 0.519036519036519, 0.5592948717948718, 0.6043956043956044, 0.4807692307692308, 0.5291375291375291, 0.7580539119000657, 0.5586080586080586, 0.6307026307026308, 0.494949494949495, 0.5221445221445221, 0.6017628205128205, 0.5897435897435898, 0.4766214177978884, 0.5826210826210826, 0.6157731157731158, 0.6474358974358975, 0.8045905707196029, 0.6437728937728938, 0.7099792099792099, 0.6407239819004525, 0.7366515837104072, 0.6223443223443224, 0.5983516483516483, 0.5355075032494387, 0.5998168498168498, 0.7552655677655677, 0.7004524886877828, 0.8065268065268066, 0.6714743589743589, 0.6108262108262108, 0.7852564102564102, 0.6668734491315137, 0.6163003663003662, 0.6, 0.6585010914382731, 0.6421052631578947, 0.708204334365325, 0.6799758015728978, 0.5278637770897833, 0.694486215538847, 0.7164473684210526, 0.5910016977928693, 0.6059379217273954, 0.6985645933014354, 0.4605263157894737, 0.4356725146198831, 0.43942831215970957]}, {\"jitter\": 0.05, \"line\": {\"color\": \"blue\"}, \"meanline\": {\"visible\": true}, \"name\": \"BOW LR\", \"pointpos\": -1.4, \"points\": \"all\", \"scalegroup\": \"BOW\", \"scalemode\": \"count\", \"side\": \"negative\", \"type\": \"violin\", \"x0\": \"Logistic Regresion\", \"y\": [0.5699023199023199, 0.4273504273504273, 0.5489621489621489, 0.34444444444444444, 0.5106837606837608, 0.5084615384615384, 0.36617405582922824, 0.535042735042735, 0.6271062271062271, 0.6542346542346542, 0.7271062271062271, 0.547008547008547, 0.4813895781637717, 0.6047008547008547, 0.6239316239316239, 0.3892307692307692, 0.5008965393580778, 0.582051282051282, 0.5222222222222223, 0.8076923076923077, 0.682983682983683, 0.6377998345740281, 0.6336182336182337, 0.6615384615384615, 0.6969053934571177, 0.554945054945055, 0.5747863247863249, 0.4960212201591512, 0.729059829059829, 0.671415004748338, 0.655982905982906, 0.7572649572649574, 0.6997435897435897, 0.7461538461538462, 0.597948717948718, 0.771706688373355, 0.6932330827067669, 0.593483709273183, 0.6352826510721247, 0.6681704260651629, 0.5857432041642568, 0.4049131449312937, 0.5916515426497277, 0.6860507913139492, 0.4934210526315789, 0.6096952908587258, 0.6092105263157894, 0.4774436090225564, 0.47129186602870804, 0.4336978810663021]}, {\"jitter\": 0.05, \"line\": {\"color\": \"darkblue\"}, \"meanline\": {\"visible\": true}, \"name\": \"TFIDF LR\", \"pointpos\": 1.4, \"points\": \"all\", \"scalegroup\": \"TFIDF\", \"scalemode\": \"count\", \"side\": \"positive\", \"type\": \"violin\", \"x0\": \"Logistic Regresion\", \"y\": [0.5831501831501831, 0.6545209176788125, 0.7514792899408284, 0.5720720720720721, 0.6648018648018649, 0.6054131054131054, 0.3631701631701632, 0.6837606837606838, 0.5620782726045883, 0.7501643655489809, 0.5726495726495727, 0.4493927125506073, 0.4636174636174636, 0.5796221322537113, 0.6555786555786556, 0.5314685314685315, 0.5156695156695157, 0.7802197802197802, 0.6163003663003662, 0.89010989010989, 0.7365079365079364, 0.5802968960863698, 0.7291101055806939, 0.764957264957265, 0.8065934065934065, 0.8018018018018018, 0.651074151074151, 0.5384615384615384, 0.7131868131868132, 0.6892911010558069, 0.8380566801619435, 0.871101871101871, 0.5509355509355509, 0.6410256410256411, 0.7168498168498169, 0.8238866396761134, 0.8015037593984962, 0.7119883040935673, 0.8207681365576103, 0.662873399715505, 0.6440191387559808, 0.75, 0.6381578947368421, 0.6203560371517028, 0.4356725146198831, 0.631578947368421, 0.5768136557610242, 0.5394736842105263, 0.7506925207756233, 0.6147660818713451]}, {\"jitter\": 0.05, \"line\": {\"color\": \"black\"}, \"meanline\": {\"visible\": true}, \"name\": \"BOW MNB\", \"pointpos\": -1.4, \"points\": \"all\", \"scalegroup\": \"BOW\", \"scalemode\": \"count\", \"side\": \"negative\", \"type\": \"violin\", \"x0\": \"Multinomial NB\", \"y\": [0.5512820512820513, 0.6223776223776224, 0.4535980148883374, 0.5401709401709401, 0.5562448304383789, 0.5904067197170645, 0.34969053934571176, 0.6428187197417967, 0.5157509157509157, 0.5673076923076923, 0.7169625246548323, 0.5046673756351175, 0.3341103341103341, 0.6377171215880894, 0.6183386505967151, 0.4377289377289377, 0.49002849002849, 0.6369837059492232, 0.42882404951370473, 0.7872405372405373, 0.7143137832793005, 0.7051282051282052, 0.6972704714640199, 0.7252747252747253, 0.7015669515669517, 0.6980548187444738, 0.623931623931624, 0.558974358974359, 0.8081343943412909, 0.695616211745244, 0.7241758241758242, 0.6828449328449329, 0.6905594405594405, 0.7642204538756263, 0.6190476190476191, 0.7552231718898386, 0.7099415204678362, 0.6118421052631579, 0.6475279106858054, 0.7342105263157895, 0.6685736079328757, 0.5401002506265664, 0.5845864661654135, 0.6437426900584796, 0.6672932330827068, 0.6352699931647299, 0.6226076555023924, 0.3201754385964912, 0.3993808049535604, 0.33522267206477735]}, {\"jitter\": 0.05, \"line\": {\"color\": \"gray\"}, \"meanline\": {\"visible\": true}, \"name\": \"TFIDF MNB\", \"pointpos\": 1.4, \"points\": \"all\", \"scalemode\": \"count\", \"side\": \"positive\", \"type\": \"violin\", \"x0\": \"Multinomial NB\", \"y\": [0.7514792899408284, 0.398110661268556, 0.7514792899408284, 0.7541091387245233, 0.7514792899408284, 0.7624831309041835, 0.7869822485207101, 0.7869822485207101, 0.7580539119000657, 0.7501643655489809, 0.5598290598290598, 0.7501643655489809, 0.45951417004048584, 0.7514792899408284, 0.7633136094674556, 0.3873144399460189, 0.5208791208791208, 0.7643797643797644, 0.7501643655489809, 0.8380566801619435, 0.7869822485207101, 0.5802968960863698, 0.660968660968661, 0.8535762483130904, 0.7837837837837838, 0.5411605937921729, 0.4986504723346829, 0.7975016436554898, 0.7894736842105263, 0.5843454790823213, 0.8224852071005918, 0.8369493754109137, 0.7541091387245233, 0.7975016436554898, 0.7837837837837838, 0.8093359631821171, 0.7780938833570413, 0.8192520775623269, 0.8207681365576103, 0.8060941828254847, 0.7506925207756233, 0.75, 0.7943213296398891, 0.7673130193905816, 0.7506925207756233, 0.7506925207756233, 0.7610241820768137, 0.752770083102493, 0.7506925207756233, 0.8497229916897507]}, {\"line\": {\"color\": \"darkslategrey\", \"dash\": \"dash\"}, \"name\": \"Lexicon Simple\", \"type\": \"scatter\", \"x\": [\"SGD Classifier\", \"Multinomial NB\"], \"y\": [0.4473, 0.4473]}, {\"line\": {\"color\": \"darkslateblue\", \"dash\": \"dot\"}, \"name\": \"Lexicon Polarity\", \"type\": \"scatter\", \"x\": [\"SGD Classifier\", \"Multinomial NB\"], \"y\": [0.5021, 0.5021]}],\n",
       "                        {\"template\": {\"data\": {\"bar\": [{\"error_x\": {\"color\": \"#2a3f5f\"}, \"error_y\": {\"color\": \"#2a3f5f\"}, \"marker\": {\"line\": {\"color\": \"#E5ECF6\", \"width\": 0.5}}, \"type\": \"bar\"}], \"barpolar\": [{\"marker\": {\"line\": {\"color\": \"#E5ECF6\", \"width\": 0.5}}, \"type\": \"barpolar\"}], \"carpet\": [{\"aaxis\": {\"endlinecolor\": \"#2a3f5f\", \"gridcolor\": \"white\", \"linecolor\": \"white\", \"minorgridcolor\": \"white\", \"startlinecolor\": \"#2a3f5f\"}, \"baxis\": {\"endlinecolor\": \"#2a3f5f\", \"gridcolor\": \"white\", \"linecolor\": \"white\", \"minorgridcolor\": \"white\", \"startlinecolor\": \"#2a3f5f\"}, \"type\": \"carpet\"}], \"choropleth\": [{\"colorbar\": {\"outlinewidth\": 0, \"ticks\": \"\"}, \"type\": \"choropleth\"}], \"contour\": [{\"colorbar\": {\"outlinewidth\": 0, \"ticks\": \"\"}, \"colorscale\": [[0.0, \"#0d0887\"], [0.1111111111111111, \"#46039f\"], [0.2222222222222222, \"#7201a8\"], [0.3333333333333333, \"#9c179e\"], [0.4444444444444444, \"#bd3786\"], [0.5555555555555556, \"#d8576b\"], [0.6666666666666666, \"#ed7953\"], [0.7777777777777778, \"#fb9f3a\"], [0.8888888888888888, \"#fdca26\"], [1.0, \"#f0f921\"]], \"type\": \"contour\"}], \"contourcarpet\": [{\"colorbar\": {\"outlinewidth\": 0, \"ticks\": \"\"}, \"type\": \"contourcarpet\"}], \"heatmap\": [{\"colorbar\": {\"outlinewidth\": 0, \"ticks\": \"\"}, \"colorscale\": [[0.0, \"#0d0887\"], [0.1111111111111111, \"#46039f\"], [0.2222222222222222, \"#7201a8\"], [0.3333333333333333, \"#9c179e\"], [0.4444444444444444, \"#bd3786\"], [0.5555555555555556, \"#d8576b\"], [0.6666666666666666, \"#ed7953\"], [0.7777777777777778, \"#fb9f3a\"], [0.8888888888888888, \"#fdca26\"], [1.0, \"#f0f921\"]], \"type\": \"heatmap\"}], \"heatmapgl\": [{\"colorbar\": {\"outlinewidth\": 0, \"ticks\": \"\"}, \"colorscale\": [[0.0, \"#0d0887\"], [0.1111111111111111, \"#46039f\"], [0.2222222222222222, \"#7201a8\"], [0.3333333333333333, \"#9c179e\"], [0.4444444444444444, \"#bd3786\"], [0.5555555555555556, \"#d8576b\"], [0.6666666666666666, \"#ed7953\"], [0.7777777777777778, \"#fb9f3a\"], [0.8888888888888888, \"#fdca26\"], [1.0, \"#f0f921\"]], \"type\": \"heatmapgl\"}], \"histogram\": [{\"marker\": {\"colorbar\": {\"outlinewidth\": 0, \"ticks\": \"\"}}, \"type\": \"histogram\"}], \"histogram2d\": [{\"colorbar\": {\"outlinewidth\": 0, \"ticks\": \"\"}, \"colorscale\": [[0.0, \"#0d0887\"], [0.1111111111111111, \"#46039f\"], [0.2222222222222222, \"#7201a8\"], [0.3333333333333333, \"#9c179e\"], [0.4444444444444444, \"#bd3786\"], [0.5555555555555556, \"#d8576b\"], [0.6666666666666666, \"#ed7953\"], [0.7777777777777778, \"#fb9f3a\"], [0.8888888888888888, \"#fdca26\"], [1.0, \"#f0f921\"]], \"type\": \"histogram2d\"}], \"histogram2dcontour\": [{\"colorbar\": {\"outlinewidth\": 0, \"ticks\": \"\"}, \"colorscale\": [[0.0, \"#0d0887\"], [0.1111111111111111, \"#46039f\"], [0.2222222222222222, \"#7201a8\"], [0.3333333333333333, \"#9c179e\"], [0.4444444444444444, \"#bd3786\"], [0.5555555555555556, \"#d8576b\"], [0.6666666666666666, \"#ed7953\"], [0.7777777777777778, \"#fb9f3a\"], [0.8888888888888888, \"#fdca26\"], [1.0, \"#f0f921\"]], \"type\": \"histogram2dcontour\"}], \"mesh3d\": [{\"colorbar\": {\"outlinewidth\": 0, \"ticks\": \"\"}, \"type\": \"mesh3d\"}], \"parcoords\": [{\"line\": {\"colorbar\": {\"outlinewidth\": 0, \"ticks\": \"\"}}, \"type\": \"parcoords\"}], \"pie\": [{\"automargin\": true, \"type\": \"pie\"}], \"scatter\": [{\"marker\": {\"colorbar\": {\"outlinewidth\": 0, \"ticks\": \"\"}}, \"type\": \"scatter\"}], \"scatter3d\": [{\"line\": {\"colorbar\": {\"outlinewidth\": 0, \"ticks\": \"\"}}, \"marker\": {\"colorbar\": {\"outlinewidth\": 0, \"ticks\": \"\"}}, \"type\": \"scatter3d\"}], \"scattercarpet\": [{\"marker\": {\"colorbar\": {\"outlinewidth\": 0, \"ticks\": \"\"}}, \"type\": \"scattercarpet\"}], \"scattergeo\": [{\"marker\": {\"colorbar\": {\"outlinewidth\": 0, \"ticks\": \"\"}}, \"type\": \"scattergeo\"}], \"scattergl\": [{\"marker\": {\"colorbar\": {\"outlinewidth\": 0, \"ticks\": \"\"}}, \"type\": \"scattergl\"}], \"scattermapbox\": [{\"marker\": {\"colorbar\": {\"outlinewidth\": 0, \"ticks\": \"\"}}, \"type\": \"scattermapbox\"}], \"scatterpolar\": [{\"marker\": {\"colorbar\": {\"outlinewidth\": 0, \"ticks\": \"\"}}, \"type\": \"scatterpolar\"}], \"scatterpolargl\": [{\"marker\": {\"colorbar\": {\"outlinewidth\": 0, \"ticks\": \"\"}}, \"type\": \"scatterpolargl\"}], \"scatterternary\": [{\"marker\": {\"colorbar\": {\"outlinewidth\": 0, \"ticks\": \"\"}}, \"type\": \"scatterternary\"}], \"surface\": [{\"colorbar\": {\"outlinewidth\": 0, \"ticks\": \"\"}, \"colorscale\": [[0.0, \"#0d0887\"], [0.1111111111111111, \"#46039f\"], [0.2222222222222222, \"#7201a8\"], [0.3333333333333333, \"#9c179e\"], [0.4444444444444444, \"#bd3786\"], [0.5555555555555556, \"#d8576b\"], [0.6666666666666666, \"#ed7953\"], [0.7777777777777778, \"#fb9f3a\"], [0.8888888888888888, \"#fdca26\"], [1.0, \"#f0f921\"]], \"type\": \"surface\"}], \"table\": [{\"cells\": {\"fill\": {\"color\": \"#EBF0F8\"}, \"line\": {\"color\": \"white\"}}, \"header\": {\"fill\": {\"color\": \"#C8D4E3\"}, \"line\": {\"color\": \"white\"}}, \"type\": \"table\"}]}, \"layout\": {\"annotationdefaults\": {\"arrowcolor\": \"#2a3f5f\", \"arrowhead\": 0, \"arrowwidth\": 1}, \"coloraxis\": {\"colorbar\": {\"outlinewidth\": 0, \"ticks\": \"\"}}, \"colorscale\": {\"diverging\": [[0, \"#8e0152\"], [0.1, \"#c51b7d\"], [0.2, \"#de77ae\"], [0.3, \"#f1b6da\"], [0.4, \"#fde0ef\"], [0.5, \"#f7f7f7\"], [0.6, \"#e6f5d0\"], [0.7, \"#b8e186\"], [0.8, \"#7fbc41\"], [0.9, \"#4d9221\"], [1, \"#276419\"]], \"sequential\": [[0.0, \"#0d0887\"], [0.1111111111111111, \"#46039f\"], [0.2222222222222222, \"#7201a8\"], [0.3333333333333333, \"#9c179e\"], [0.4444444444444444, \"#bd3786\"], [0.5555555555555556, \"#d8576b\"], [0.6666666666666666, \"#ed7953\"], [0.7777777777777778, \"#fb9f3a\"], [0.8888888888888888, \"#fdca26\"], [1.0, \"#f0f921\"]], \"sequentialminus\": [[0.0, \"#0d0887\"], [0.1111111111111111, \"#46039f\"], [0.2222222222222222, \"#7201a8\"], [0.3333333333333333, \"#9c179e\"], [0.4444444444444444, \"#bd3786\"], [0.5555555555555556, \"#d8576b\"], [0.6666666666666666, \"#ed7953\"], [0.7777777777777778, \"#fb9f3a\"], [0.8888888888888888, \"#fdca26\"], [1.0, \"#f0f921\"]]}, \"colorway\": [\"#636efa\", \"#EF553B\", \"#00cc96\", \"#ab63fa\", \"#FFA15A\", \"#19d3f3\", \"#FF6692\", \"#B6E880\", \"#FF97FF\", \"#FECB52\"], \"font\": {\"color\": \"#2a3f5f\"}, \"geo\": {\"bgcolor\": \"white\", \"lakecolor\": \"white\", \"landcolor\": \"#E5ECF6\", \"showlakes\": true, \"showland\": true, \"subunitcolor\": \"white\"}, \"hoverlabel\": {\"align\": \"left\"}, \"hovermode\": \"closest\", \"mapbox\": {\"style\": \"light\"}, \"paper_bgcolor\": \"white\", \"plot_bgcolor\": \"#E5ECF6\", \"polar\": {\"angularaxis\": {\"gridcolor\": \"white\", \"linecolor\": \"white\", \"ticks\": \"\"}, \"bgcolor\": \"#E5ECF6\", \"radialaxis\": {\"gridcolor\": \"white\", \"linecolor\": \"white\", \"ticks\": \"\"}}, \"scene\": {\"xaxis\": {\"backgroundcolor\": \"#E5ECF6\", \"gridcolor\": \"white\", \"gridwidth\": 2, \"linecolor\": \"white\", \"showbackground\": true, \"ticks\": \"\", \"zerolinecolor\": \"white\"}, \"yaxis\": {\"backgroundcolor\": \"#E5ECF6\", \"gridcolor\": \"white\", \"gridwidth\": 2, \"linecolor\": \"white\", \"showbackground\": true, \"ticks\": \"\", \"zerolinecolor\": \"white\"}, \"zaxis\": {\"backgroundcolor\": \"#E5ECF6\", \"gridcolor\": \"white\", \"gridwidth\": 2, \"linecolor\": \"white\", \"showbackground\": true, \"ticks\": \"\", \"zerolinecolor\": \"white\"}}, \"shapedefaults\": {\"line\": {\"color\": \"#2a3f5f\"}}, \"ternary\": {\"aaxis\": {\"gridcolor\": \"white\", \"linecolor\": \"white\", \"ticks\": \"\"}, \"baxis\": {\"gridcolor\": \"white\", \"linecolor\": \"white\", \"ticks\": \"\"}, \"bgcolor\": \"#E5ECF6\", \"caxis\": {\"gridcolor\": \"white\", \"linecolor\": \"white\", \"ticks\": \"\"}}, \"title\": {\"x\": 0.05}, \"xaxis\": {\"automargin\": true, \"gridcolor\": \"white\", \"linecolor\": \"white\", \"ticks\": \"\", \"title\": {\"standoff\": 15}, \"zerolinecolor\": \"white\", \"zerolinewidth\": 2}, \"yaxis\": {\"automargin\": true, \"gridcolor\": \"white\", \"linecolor\": \"white\", \"ticks\": \"\", \"title\": {\"standoff\": 15}, \"zerolinecolor\": \"white\", \"zerolinewidth\": 2}}}, \"title\": {\"text\": \"Precision\"}, \"violingap\": 0, \"violingroupgap\": 0.6, \"violinmode\": \"overlay\"},\n",
       "                        {\"responsive\": true}\n",
       "                    ).then(function(){\n",
       "                            \n",
       "var gd = document.getElementById('e2bd5f7c-a9d0-408b-8832-872c9981e557');\n",
       "var x = new MutationObserver(function (mutations, observer) {{\n",
       "        var display = window.getComputedStyle(gd).display;\n",
       "        if (!display || display === 'none') {{\n",
       "            console.log([gd, 'removed!']);\n",
       "            Plotly.purge(gd);\n",
       "            observer.disconnect();\n",
       "        }}\n",
       "}});\n",
       "\n",
       "// Listen for the removal of the full notebook cells\n",
       "var notebookContainer = gd.closest('#notebook-container');\n",
       "if (notebookContainer) {{\n",
       "    x.observe(notebookContainer, {childList: true});\n",
       "}}\n",
       "\n",
       "// Listen for the clearing of the current output cell\n",
       "var outputEl = gd.closest('.output');\n",
       "if (outputEl) {{\n",
       "    x.observe(outputEl, {childList: true});\n",
       "}}\n",
       "\n",
       "                        })\n",
       "                };\n",
       "                });\n",
       "            </script>\n",
       "        </div>"
      ]
     },
     "metadata": {},
     "output_type": "display_data"
    }
   ],
   "source": [
    "plots_metrics(prec_BOW_SGD, prec_TFIDF_SGD, prec_BOW_BNB, prec_TFIDF_BNB, prec_BOW_LR, prec_TFIDF_LR,\n",
    "                 prec_BOW_MNB, prec_TFIDF_MNB, \"Precision\",0.4473,0.5021)"
   ]
  },
  {
   "cell_type": "code",
   "execution_count": 71,
   "metadata": {},
   "outputs": [
    {
     "data": {
      "application/vnd.plotly.v1+json": {
       "config": {
        "plotlyServerURL": "https://plot.ly"
       },
       "data": [
        {
         "jitter": 0.05,
         "line": {
          "color": "green"
         },
         "meanline": {
          "visible": true
         },
         "name": "BOW SGD",
         "pointpos": -1.4,
         "points": "all",
         "scalegroup": "BOW",
         "scalemode": "count",
         "side": "negative",
         "type": "violin",
         "x0": "SGD Classifier",
         "y": [
          0.46247086247086255,
          0.4070492155598539,
          0.3677368383250736,
          0.3230172927847347,
          0.4445998445998446,
          0.36452582505214076,
          0.23076923076923078,
          0.32996867386007656,
          0.45018545395903886,
          0.5015497323189632,
          0.5610812959650169,
          0.418364244451201,
          0.3953065904285417,
          0.472287742768292,
          0.5517619635266695,
          0.3519113746294274,
          0.3194190846364759,
          0.5294705294705295,
          0.39999999999999997,
          0.6636030636030635,
          0.7398797783413167,
          0.5674299556652498,
          0.585707502374169,
          0.6286472148541115,
          0.5671334181972479,
          0.5707502374169041,
          0.6844181459566075,
          0.48108369617803576,
          0.656507014997581,
          0.6200603318250377,
          0.670715249662618,
          0.7219274977895668,
          0.6197377501725327,
          0.7057929724596391,
          0.6463024897807507,
          0.6997524080857414,
          0.6580787633419213,
          0.5253036437246964,
          0.584803434780069,
          0.600580398364332,
          0.6160170697012802,
          0.3612819928609402,
          0.5660143949617634,
          0.5278295164943029,
          0.4211229946524064,
          0.5702081290181976,
          0.5586124401913874,
          0.431578947368421,
          0.40384615384615385,
          0.32348178137651823
         ]
        },
        {
         "jitter": 0.05,
         "line": {
          "color": "lightseagreen"
         },
         "meanline": {
          "visible": true
         },
         "name": "TFIDF SGD",
         "pointpos": 1.4,
         "points": "all",
         "scalegroup": "TFIDF",
         "scalemode": "count",
         "side": "positive",
         "type": "violin",
         "x0": "SGD Classifier",
         "y": [
          0.4502878074306646,
          0.4216524216524216,
          0.33618233618233617,
          0.35794614741983166,
          0.5169095816464238,
          0.4447293447293447,
          0.24615384615384614,
          0.20465116279069767,
          0.4270557029177719,
          0.476258309591643,
          0.5478286681294201,
          0.3908472479901051,
          0.30614211496564436,
          0.4256410256410257,
          0.5391363022941971,
          0.26700111482720185,
          0.3709757398863886,
          0.44065229642152726,
          0.39772079772079777,
          0.8106079712637091,
          0.6737573897817306,
          0.6280955511724743,
          0.5997988939165411,
          0.6511139134089954,
          0.713783891798658,
          0.6065002249212775,
          0.6205738705738705,
          0.49513704686118476,
          0.6824933687002653,
          0.6200115673799883,
          0.6540378863409771,
          0.7303215303215302,
          0.6126984126984127,
          0.7317418213969938,
          0.6671504596032898,
          0.6848667672197084,
          0.680947652149241,
          0.5987399643175736,
          0.6633393829401089,
          0.6293152235427278,
          0.4774436090225563,
          0.2857142857142857,
          0.5960749330954505,
          0.5737444100447197,
          0.43759398496240604,
          0.46869806094182825,
          0.5333714721586574,
          0.47913061182938005,
          0.3636363636363636,
          0.312280701754386
         ]
        },
        {
         "jitter": 0.05,
         "line": {
          "color": "red"
         },
         "meanline": {
          "visible": true
         },
         "name": "BOW BNB",
         "pointpos": -1.4,
         "points": "all",
         "scalegroup": "BOW",
         "scalemode": "count",
         "side": "negative",
         "type": "violin",
         "x0": "Bernoulli NB",
         "y": [
          0.3833943833943834,
          0.39215686274509803,
          0.33378317588843903,
          0.35223443223443224,
          0.47685857119819386,
          0.3735042735042735,
          0.13986013986013984,
          0.17094017094017092,
          0.43755169561621177,
          0.416635995583364,
          0.44933873144399467,
          0.36316723109175936,
          0.2585470085470085,
          0.38606676342525403,
          0.49072978303747544,
          0.20867430441898532,
          0.30953542581449556,
          0.472945789728312,
          0.40631163708086787,
          0.7468924518104847,
          0.6235652018304061,
          0.6604984758830913,
          0.5364372469635627,
          0.7479289940828403,
          0.558222767594652,
          0.5382351990170401,
          0.5663410663410662,
          0.5538461538461539,
          0.6900972590627763,
          0.618671926364234,
          0.8068376068376069,
          0.656084656084656,
          0.5763313609467455,
          0.723076923076923,
          0.633100233100233,
          0.6139659520807063,
          0.5618380316115367,
          0.6697368421052632,
          0.6201754385964913,
          0.6495755517826826,
          0.513197888337866,
          0.3790963257199603,
          0.63276740237691,
          0.5883040935672514,
          0.5036119711042312,
          0.3971291866028708,
          0.4963450292397661,
          0.2982456140350877,
          0.3571428571428571,
          0.14520917678812414
         ]
        },
        {
         "jitter": 0.05,
         "line": {
          "color": "darkmagenta"
         },
         "meanline": {
          "visible": true
         },
         "name": "TFIDF BNB",
         "pointpos": 1.4,
         "points": "all",
         "scalegroup": "TFIDF",
         "scalemode": "count",
         "side": "positive",
         "type": "violin",
         "x0": "Bernoulli NB",
         "y": [
          0.3833943833943834,
          0.39215686274509803,
          0.33378317588843903,
          0.35223443223443224,
          0.47685857119819386,
          0.3735042735042735,
          0.13986013986013984,
          0.17094017094017092,
          0.43755169561621177,
          0.416635995583364,
          0.44933873144399467,
          0.36316723109175936,
          0.2585470085470085,
          0.38606676342525403,
          0.49072978303747544,
          0.20867430441898532,
          0.30953542581449556,
          0.472945789728312,
          0.40631163708086787,
          0.7468924518104847,
          0.6235652018304061,
          0.6604984758830913,
          0.5364372469635627,
          0.7479289940828403,
          0.558222767594652,
          0.5382351990170401,
          0.5663410663410662,
          0.5538461538461539,
          0.6900972590627763,
          0.618671926364234,
          0.8068376068376069,
          0.656084656084656,
          0.5763313609467455,
          0.723076923076923,
          0.633100233100233,
          0.6139659520807063,
          0.5618380316115367,
          0.6697368421052632,
          0.6201754385964913,
          0.6495755517826826,
          0.513197888337866,
          0.3790963257199603,
          0.63276740237691,
          0.5883040935672514,
          0.5036119711042312,
          0.3971291866028708,
          0.4963450292397661,
          0.2982456140350877,
          0.3571428571428571,
          0.14520917678812414
         ]
        },
        {
         "jitter": 0.05,
         "line": {
          "color": "blue"
         },
         "meanline": {
          "visible": true
         },
         "name": "BOW LR",
         "pointpos": -1.4,
         "points": "all",
         "scalegroup": "BOW",
         "scalemode": "count",
         "side": "negative",
         "type": "violin",
         "x0": "Logistic Regresion",
         "y": [
          0.4194045511181061,
          0.3671794871794872,
          0.3824510477936496,
          0.3305016496505858,
          0.497985347985348,
          0.4250087134498587,
          0.24725980053322802,
          0.17582417582417578,
          0.48157972295903323,
          0.5142027783537216,
          0.5802957107304934,
          0.41025641025641024,
          0.3435154217762913,
          0.5180597180597181,
          0.5368121157594842,
          0.3288349077822762,
          0.3952297130786833,
          0.48612368024132735,
          0.39790073474284005,
          0.7373737373737373,
          0.6703296703296703,
          0.6427847105813209,
          0.5683046050939027,
          0.6511139134089954,
          0.6615763235943711,
          0.5204178537511872,
          0.5925979680696661,
          0.4786324786324786,
          0.6946778711484594,
          0.6047411707789065,
          0.621100261967135,
          0.7493905002101723,
          0.6632422678249191,
          0.6941176470588235,
          0.5808477237048666,
          0.7364468864468865,
          0.6580787633419213,
          0.5987399643175736,
          0.5792288207148889,
          0.61836288333566,
          0.5368421052631579,
          0.3625016488589896,
          0.6109022556390977,
          0.5764937706585304,
          0.39342105263157895,
          0.5579293868767552,
          0.5556243550051598,
          0.4267159125884888,
          0.3969712015888779,
          0.27578644888082277
         ]
        },
        {
         "jitter": 0.05,
         "line": {
          "color": "darkblue"
         },
         "meanline": {
          "visible": true
         },
         "name": "TFIDF LR",
         "pointpos": 1.4,
         "points": "all",
         "scalegroup": "TFIDF",
         "scalemode": "count",
         "side": "positive",
         "type": "violin",
         "x0": "Logistic Regresion",
         "y": [
          0.3746693558014313,
          0.29670329670329676,
          0.291497975708502,
          0.31970280989888833,
          0.550192726663315,
          0.3417817225509533,
          0.23650075414781296,
          0.22307692307692306,
          0.444724674232871,
          0.3476749239461104,
          0.41025641025641024,
          0.3536693191865606,
          0.22189349112426035,
          0.3833116036505867,
          0.5269721171360516,
          0.2471731167383342,
          0.25246548323471396,
          0.5364219114219114,
          0.3682983682983683,
          0.8468113083497698,
          0.6937286589892049,
          0.609168609168609,
          0.5943705417389629,
          0.752851128970532,
          0.6575146355804382,
          0.6306064306064306,
          0.5603486670484189,
          0.5698005698005699,
          0.6393119280887252,
          0.6461538461538462,
          0.7248868778280543,
          0.8016591251885371,
          0.447148582741803,
          0.6057692307692307,
          0.6203100101405187,
          0.6898584003061615,
          0.64014272970562,
          0.7005520794994479,
          0.6808704453441295,
          0.6348178137651822,
          0.42724458204334365,
          0.3333333333333333,
          0.6090225563909775,
          0.49084309519881214,
          0.3571428571428571,
          0.38490456911509546,
          0.4001814882032668,
          0.33771929824561403,
          0.3629764065335753,
          0.10734394124846999
         ]
        },
        {
         "jitter": 0.05,
         "line": {
          "color": "black"
         },
         "meanline": {
          "visible": true
         },
         "name": "BOW MNB",
         "pointpos": -1.4,
         "points": "all",
         "scalegroup": "BOW",
         "scalemode": "count",
         "side": "negative",
         "type": "violin",
         "x0": "Multinomial NB",
         "y": [
          0.4168701668701668,
          0.4507649213531566,
          0.3795569509855224,
          0.4469643831345959,
          0.5119752042828967,
          0.47666952930110823,
          0.24240150093808635,
          0.38546617379569326,
          0.4677276746242264,
          0.47938386399924854,
          0.6016669321017146,
          0.4182250498039971,
          0.26165501165501165,
          0.4647161954854263,
          0.57299693770282,
          0.3749817544883959,
          0.35006747638326585,
          0.56138147566719,
          0.42250130821559395,
          0.7495768599216874,
          0.710831566094724,
          0.6733682983682983,
          0.6308659893565554,
          0.7213675213675214,
          0.6693212669683257,
          0.6675716440422322,
          0.6305719921104537,
          0.5356125356125356,
          0.7741258741258742,
          0.6493155966840176,
          0.707245567499651,
          0.6573373895407795,
          0.664453528221644,
          0.7653107126791336,
          0.6229454306377382,
          0.7296595561301443,
          0.6939206304531381,
          0.563484182153497,
          0.5642150247413407,
          0.6549131449312938,
          0.6285530900421786,
          0.40057590785474323,
          0.5947368421052631,
          0.6095327604726101,
          0.5802005012531328,
          0.6065162907268169,
          0.5385964912280701,
          0.33043648081242066,
          0.3703703703703704,
          0.2106565697397616
         ]
        },
        {
         "jitter": 0.05,
         "line": {
          "color": "gray"
         },
         "meanline": {
          "visible": true
         },
         "name": "TFIDF MNB",
         "pointpos": 1.4,
         "points": "all",
         "scalemode": "count",
         "side": "positive",
         "type": "violin",
         "x0": "Multinomial NB",
         "y": [
          0.291497975708502,
          0.29670329670329676,
          0.291497975708502,
          0.26465201465201466,
          0.37692307692307697,
          0.2907339574006241,
          0.14479638009049772,
          0.14479638009049772,
          0.43755169561621177,
          0.3476749239461104,
          0.40848806366047746,
          0.3476749239461104,
          0.2177068214804064,
          0.37692307692307697,
          0.4688644688644689,
          0.1568627450980392,
          0.2574157868275515,
          0.44876293297345937,
          0.3476749239461104,
          0.7226890756302521,
          0.5664335664335665,
          0.609168609168609,
          0.5124044312685286,
          0.7598166728601511,
          0.5731259632898977,
          0.5208333333333334,
          0.5087505087505088,
          0.6000765403750479,
          0.587820512820513,
          0.5416666666666667,
          0.6688963210702342,
          0.7040293040293041,
          0.40689365279529216,
          0.6000765403750479,
          0.5739806641445986,
          0.6342383107088989,
          0.5455631512577156,
          0.6606441476826395,
          0.6808704453441295,
          0.6251993620414672,
          0.3045112781954888,
          0.3333333333333333,
          0.5902834008097166,
          0.4889643463497453,
          0.3629764065335753,
          0.3045112781954888,
          0.44623411978221417,
          0.27655502392344494,
          0.3629764065335753,
          0.057309941520467846
         ]
        },
        {
         "line": {
          "color": "darkslategrey",
          "dash": "dash"
         },
         "name": "Lexicon Simple",
         "type": "scatter",
         "x": [
          "SGD Classifier",
          "Multinomial NB"
         ],
         "y": [
          0.4269,
          0.4269
         ]
        },
        {
         "line": {
          "color": "darkslateblue",
          "dash": "dot"
         },
         "name": "Lexicon Polarity",
         "type": "scatter",
         "x": [
          "SGD Classifier",
          "Multinomial NB"
         ],
         "y": [
          0.4539,
          0.4539
         ]
        }
       ],
       "layout": {
        "template": {
         "data": {
          "bar": [
           {
            "error_x": {
             "color": "#2a3f5f"
            },
            "error_y": {
             "color": "#2a3f5f"
            },
            "marker": {
             "line": {
              "color": "#E5ECF6",
              "width": 0.5
             }
            },
            "type": "bar"
           }
          ],
          "barpolar": [
           {
            "marker": {
             "line": {
              "color": "#E5ECF6",
              "width": 0.5
             }
            },
            "type": "barpolar"
           }
          ],
          "carpet": [
           {
            "aaxis": {
             "endlinecolor": "#2a3f5f",
             "gridcolor": "white",
             "linecolor": "white",
             "minorgridcolor": "white",
             "startlinecolor": "#2a3f5f"
            },
            "baxis": {
             "endlinecolor": "#2a3f5f",
             "gridcolor": "white",
             "linecolor": "white",
             "minorgridcolor": "white",
             "startlinecolor": "#2a3f5f"
            },
            "type": "carpet"
           }
          ],
          "choropleth": [
           {
            "colorbar": {
             "outlinewidth": 0,
             "ticks": ""
            },
            "type": "choropleth"
           }
          ],
          "contour": [
           {
            "colorbar": {
             "outlinewidth": 0,
             "ticks": ""
            },
            "colorscale": [
             [
              0,
              "#0d0887"
             ],
             [
              0.1111111111111111,
              "#46039f"
             ],
             [
              0.2222222222222222,
              "#7201a8"
             ],
             [
              0.3333333333333333,
              "#9c179e"
             ],
             [
              0.4444444444444444,
              "#bd3786"
             ],
             [
              0.5555555555555556,
              "#d8576b"
             ],
             [
              0.6666666666666666,
              "#ed7953"
             ],
             [
              0.7777777777777778,
              "#fb9f3a"
             ],
             [
              0.8888888888888888,
              "#fdca26"
             ],
             [
              1,
              "#f0f921"
             ]
            ],
            "type": "contour"
           }
          ],
          "contourcarpet": [
           {
            "colorbar": {
             "outlinewidth": 0,
             "ticks": ""
            },
            "type": "contourcarpet"
           }
          ],
          "heatmap": [
           {
            "colorbar": {
             "outlinewidth": 0,
             "ticks": ""
            },
            "colorscale": [
             [
              0,
              "#0d0887"
             ],
             [
              0.1111111111111111,
              "#46039f"
             ],
             [
              0.2222222222222222,
              "#7201a8"
             ],
             [
              0.3333333333333333,
              "#9c179e"
             ],
             [
              0.4444444444444444,
              "#bd3786"
             ],
             [
              0.5555555555555556,
              "#d8576b"
             ],
             [
              0.6666666666666666,
              "#ed7953"
             ],
             [
              0.7777777777777778,
              "#fb9f3a"
             ],
             [
              0.8888888888888888,
              "#fdca26"
             ],
             [
              1,
              "#f0f921"
             ]
            ],
            "type": "heatmap"
           }
          ],
          "heatmapgl": [
           {
            "colorbar": {
             "outlinewidth": 0,
             "ticks": ""
            },
            "colorscale": [
             [
              0,
              "#0d0887"
             ],
             [
              0.1111111111111111,
              "#46039f"
             ],
             [
              0.2222222222222222,
              "#7201a8"
             ],
             [
              0.3333333333333333,
              "#9c179e"
             ],
             [
              0.4444444444444444,
              "#bd3786"
             ],
             [
              0.5555555555555556,
              "#d8576b"
             ],
             [
              0.6666666666666666,
              "#ed7953"
             ],
             [
              0.7777777777777778,
              "#fb9f3a"
             ],
             [
              0.8888888888888888,
              "#fdca26"
             ],
             [
              1,
              "#f0f921"
             ]
            ],
            "type": "heatmapgl"
           }
          ],
          "histogram": [
           {
            "marker": {
             "colorbar": {
              "outlinewidth": 0,
              "ticks": ""
             }
            },
            "type": "histogram"
           }
          ],
          "histogram2d": [
           {
            "colorbar": {
             "outlinewidth": 0,
             "ticks": ""
            },
            "colorscale": [
             [
              0,
              "#0d0887"
             ],
             [
              0.1111111111111111,
              "#46039f"
             ],
             [
              0.2222222222222222,
              "#7201a8"
             ],
             [
              0.3333333333333333,
              "#9c179e"
             ],
             [
              0.4444444444444444,
              "#bd3786"
             ],
             [
              0.5555555555555556,
              "#d8576b"
             ],
             [
              0.6666666666666666,
              "#ed7953"
             ],
             [
              0.7777777777777778,
              "#fb9f3a"
             ],
             [
              0.8888888888888888,
              "#fdca26"
             ],
             [
              1,
              "#f0f921"
             ]
            ],
            "type": "histogram2d"
           }
          ],
          "histogram2dcontour": [
           {
            "colorbar": {
             "outlinewidth": 0,
             "ticks": ""
            },
            "colorscale": [
             [
              0,
              "#0d0887"
             ],
             [
              0.1111111111111111,
              "#46039f"
             ],
             [
              0.2222222222222222,
              "#7201a8"
             ],
             [
              0.3333333333333333,
              "#9c179e"
             ],
             [
              0.4444444444444444,
              "#bd3786"
             ],
             [
              0.5555555555555556,
              "#d8576b"
             ],
             [
              0.6666666666666666,
              "#ed7953"
             ],
             [
              0.7777777777777778,
              "#fb9f3a"
             ],
             [
              0.8888888888888888,
              "#fdca26"
             ],
             [
              1,
              "#f0f921"
             ]
            ],
            "type": "histogram2dcontour"
           }
          ],
          "mesh3d": [
           {
            "colorbar": {
             "outlinewidth": 0,
             "ticks": ""
            },
            "type": "mesh3d"
           }
          ],
          "parcoords": [
           {
            "line": {
             "colorbar": {
              "outlinewidth": 0,
              "ticks": ""
             }
            },
            "type": "parcoords"
           }
          ],
          "pie": [
           {
            "automargin": true,
            "type": "pie"
           }
          ],
          "scatter": [
           {
            "marker": {
             "colorbar": {
              "outlinewidth": 0,
              "ticks": ""
             }
            },
            "type": "scatter"
           }
          ],
          "scatter3d": [
           {
            "line": {
             "colorbar": {
              "outlinewidth": 0,
              "ticks": ""
             }
            },
            "marker": {
             "colorbar": {
              "outlinewidth": 0,
              "ticks": ""
             }
            },
            "type": "scatter3d"
           }
          ],
          "scattercarpet": [
           {
            "marker": {
             "colorbar": {
              "outlinewidth": 0,
              "ticks": ""
             }
            },
            "type": "scattercarpet"
           }
          ],
          "scattergeo": [
           {
            "marker": {
             "colorbar": {
              "outlinewidth": 0,
              "ticks": ""
             }
            },
            "type": "scattergeo"
           }
          ],
          "scattergl": [
           {
            "marker": {
             "colorbar": {
              "outlinewidth": 0,
              "ticks": ""
             }
            },
            "type": "scattergl"
           }
          ],
          "scattermapbox": [
           {
            "marker": {
             "colorbar": {
              "outlinewidth": 0,
              "ticks": ""
             }
            },
            "type": "scattermapbox"
           }
          ],
          "scatterpolar": [
           {
            "marker": {
             "colorbar": {
              "outlinewidth": 0,
              "ticks": ""
             }
            },
            "type": "scatterpolar"
           }
          ],
          "scatterpolargl": [
           {
            "marker": {
             "colorbar": {
              "outlinewidth": 0,
              "ticks": ""
             }
            },
            "type": "scatterpolargl"
           }
          ],
          "scatterternary": [
           {
            "marker": {
             "colorbar": {
              "outlinewidth": 0,
              "ticks": ""
             }
            },
            "type": "scatterternary"
           }
          ],
          "surface": [
           {
            "colorbar": {
             "outlinewidth": 0,
             "ticks": ""
            },
            "colorscale": [
             [
              0,
              "#0d0887"
             ],
             [
              0.1111111111111111,
              "#46039f"
             ],
             [
              0.2222222222222222,
              "#7201a8"
             ],
             [
              0.3333333333333333,
              "#9c179e"
             ],
             [
              0.4444444444444444,
              "#bd3786"
             ],
             [
              0.5555555555555556,
              "#d8576b"
             ],
             [
              0.6666666666666666,
              "#ed7953"
             ],
             [
              0.7777777777777778,
              "#fb9f3a"
             ],
             [
              0.8888888888888888,
              "#fdca26"
             ],
             [
              1,
              "#f0f921"
             ]
            ],
            "type": "surface"
           }
          ],
          "table": [
           {
            "cells": {
             "fill": {
              "color": "#EBF0F8"
             },
             "line": {
              "color": "white"
             }
            },
            "header": {
             "fill": {
              "color": "#C8D4E3"
             },
             "line": {
              "color": "white"
             }
            },
            "type": "table"
           }
          ]
         },
         "layout": {
          "annotationdefaults": {
           "arrowcolor": "#2a3f5f",
           "arrowhead": 0,
           "arrowwidth": 1
          },
          "coloraxis": {
           "colorbar": {
            "outlinewidth": 0,
            "ticks": ""
           }
          },
          "colorscale": {
           "diverging": [
            [
             0,
             "#8e0152"
            ],
            [
             0.1,
             "#c51b7d"
            ],
            [
             0.2,
             "#de77ae"
            ],
            [
             0.3,
             "#f1b6da"
            ],
            [
             0.4,
             "#fde0ef"
            ],
            [
             0.5,
             "#f7f7f7"
            ],
            [
             0.6,
             "#e6f5d0"
            ],
            [
             0.7,
             "#b8e186"
            ],
            [
             0.8,
             "#7fbc41"
            ],
            [
             0.9,
             "#4d9221"
            ],
            [
             1,
             "#276419"
            ]
           ],
           "sequential": [
            [
             0,
             "#0d0887"
            ],
            [
             0.1111111111111111,
             "#46039f"
            ],
            [
             0.2222222222222222,
             "#7201a8"
            ],
            [
             0.3333333333333333,
             "#9c179e"
            ],
            [
             0.4444444444444444,
             "#bd3786"
            ],
            [
             0.5555555555555556,
             "#d8576b"
            ],
            [
             0.6666666666666666,
             "#ed7953"
            ],
            [
             0.7777777777777778,
             "#fb9f3a"
            ],
            [
             0.8888888888888888,
             "#fdca26"
            ],
            [
             1,
             "#f0f921"
            ]
           ],
           "sequentialminus": [
            [
             0,
             "#0d0887"
            ],
            [
             0.1111111111111111,
             "#46039f"
            ],
            [
             0.2222222222222222,
             "#7201a8"
            ],
            [
             0.3333333333333333,
             "#9c179e"
            ],
            [
             0.4444444444444444,
             "#bd3786"
            ],
            [
             0.5555555555555556,
             "#d8576b"
            ],
            [
             0.6666666666666666,
             "#ed7953"
            ],
            [
             0.7777777777777778,
             "#fb9f3a"
            ],
            [
             0.8888888888888888,
             "#fdca26"
            ],
            [
             1,
             "#f0f921"
            ]
           ]
          },
          "colorway": [
           "#636efa",
           "#EF553B",
           "#00cc96",
           "#ab63fa",
           "#FFA15A",
           "#19d3f3",
           "#FF6692",
           "#B6E880",
           "#FF97FF",
           "#FECB52"
          ],
          "font": {
           "color": "#2a3f5f"
          },
          "geo": {
           "bgcolor": "white",
           "lakecolor": "white",
           "landcolor": "#E5ECF6",
           "showlakes": true,
           "showland": true,
           "subunitcolor": "white"
          },
          "hoverlabel": {
           "align": "left"
          },
          "hovermode": "closest",
          "mapbox": {
           "style": "light"
          },
          "paper_bgcolor": "white",
          "plot_bgcolor": "#E5ECF6",
          "polar": {
           "angularaxis": {
            "gridcolor": "white",
            "linecolor": "white",
            "ticks": ""
           },
           "bgcolor": "#E5ECF6",
           "radialaxis": {
            "gridcolor": "white",
            "linecolor": "white",
            "ticks": ""
           }
          },
          "scene": {
           "xaxis": {
            "backgroundcolor": "#E5ECF6",
            "gridcolor": "white",
            "gridwidth": 2,
            "linecolor": "white",
            "showbackground": true,
            "ticks": "",
            "zerolinecolor": "white"
           },
           "yaxis": {
            "backgroundcolor": "#E5ECF6",
            "gridcolor": "white",
            "gridwidth": 2,
            "linecolor": "white",
            "showbackground": true,
            "ticks": "",
            "zerolinecolor": "white"
           },
           "zaxis": {
            "backgroundcolor": "#E5ECF6",
            "gridcolor": "white",
            "gridwidth": 2,
            "linecolor": "white",
            "showbackground": true,
            "ticks": "",
            "zerolinecolor": "white"
           }
          },
          "shapedefaults": {
           "line": {
            "color": "#2a3f5f"
           }
          },
          "ternary": {
           "aaxis": {
            "gridcolor": "white",
            "linecolor": "white",
            "ticks": ""
           },
           "baxis": {
            "gridcolor": "white",
            "linecolor": "white",
            "ticks": ""
           },
           "bgcolor": "#E5ECF6",
           "caxis": {
            "gridcolor": "white",
            "linecolor": "white",
            "ticks": ""
           }
          },
          "title": {
           "x": 0.05
          },
          "xaxis": {
           "automargin": true,
           "gridcolor": "white",
           "linecolor": "white",
           "ticks": "",
           "title": {
            "standoff": 15
           },
           "zerolinecolor": "white",
           "zerolinewidth": 2
          },
          "yaxis": {
           "automargin": true,
           "gridcolor": "white",
           "linecolor": "white",
           "ticks": "",
           "title": {
            "standoff": 15
           },
           "zerolinecolor": "white",
           "zerolinewidth": 2
          }
         }
        },
        "title": {
         "text": "F1"
        },
        "violingap": 0,
        "violingroupgap": 0.6,
        "violinmode": "overlay"
       }
      },
      "text/html": [
       "<div>\n",
       "        \n",
       "        \n",
       "            <div id=\"e7038550-5686-4a34-867b-176da192c265\" class=\"plotly-graph-div\" style=\"height:525px; width:100%;\"></div>\n",
       "            <script type=\"text/javascript\">\n",
       "                require([\"plotly\"], function(Plotly) {\n",
       "                    window.PLOTLYENV=window.PLOTLYENV || {};\n",
       "                    \n",
       "                if (document.getElementById(\"e7038550-5686-4a34-867b-176da192c265\")) {\n",
       "                    Plotly.newPlot(\n",
       "                        'e7038550-5686-4a34-867b-176da192c265',\n",
       "                        [{\"jitter\": 0.05, \"line\": {\"color\": \"green\"}, \"meanline\": {\"visible\": true}, \"name\": \"BOW SGD\", \"pointpos\": -1.4, \"points\": \"all\", \"scalegroup\": \"BOW\", \"scalemode\": \"count\", \"side\": \"negative\", \"type\": \"violin\", \"x0\": \"SGD Classifier\", \"y\": [0.46247086247086255, 0.4070492155598539, 0.3677368383250736, 0.3230172927847347, 0.4445998445998446, 0.36452582505214076, 0.23076923076923078, 0.32996867386007656, 0.45018545395903886, 0.5015497323189632, 0.5610812959650169, 0.418364244451201, 0.3953065904285417, 0.472287742768292, 0.5517619635266695, 0.3519113746294274, 0.3194190846364759, 0.5294705294705295, 0.39999999999999997, 0.6636030636030635, 0.7398797783413167, 0.5674299556652498, 0.585707502374169, 0.6286472148541115, 0.5671334181972479, 0.5707502374169041, 0.6844181459566075, 0.48108369617803576, 0.656507014997581, 0.6200603318250377, 0.670715249662618, 0.7219274977895668, 0.6197377501725327, 0.7057929724596391, 0.6463024897807507, 0.6997524080857414, 0.6580787633419213, 0.5253036437246964, 0.584803434780069, 0.600580398364332, 0.6160170697012802, 0.3612819928609402, 0.5660143949617634, 0.5278295164943029, 0.4211229946524064, 0.5702081290181976, 0.5586124401913874, 0.431578947368421, 0.40384615384615385, 0.32348178137651823]}, {\"jitter\": 0.05, \"line\": {\"color\": \"lightseagreen\"}, \"meanline\": {\"visible\": true}, \"name\": \"TFIDF SGD\", \"pointpos\": 1.4, \"points\": \"all\", \"scalegroup\": \"TFIDF\", \"scalemode\": \"count\", \"side\": \"positive\", \"type\": \"violin\", \"x0\": \"SGD Classifier\", \"y\": [0.4502878074306646, 0.4216524216524216, 0.33618233618233617, 0.35794614741983166, 0.5169095816464238, 0.4447293447293447, 0.24615384615384614, 0.20465116279069767, 0.4270557029177719, 0.476258309591643, 0.5478286681294201, 0.3908472479901051, 0.30614211496564436, 0.4256410256410257, 0.5391363022941971, 0.26700111482720185, 0.3709757398863886, 0.44065229642152726, 0.39772079772079777, 0.8106079712637091, 0.6737573897817306, 0.6280955511724743, 0.5997988939165411, 0.6511139134089954, 0.713783891798658, 0.6065002249212775, 0.6205738705738705, 0.49513704686118476, 0.6824933687002653, 0.6200115673799883, 0.6540378863409771, 0.7303215303215302, 0.6126984126984127, 0.7317418213969938, 0.6671504596032898, 0.6848667672197084, 0.680947652149241, 0.5987399643175736, 0.6633393829401089, 0.6293152235427278, 0.4774436090225563, 0.2857142857142857, 0.5960749330954505, 0.5737444100447197, 0.43759398496240604, 0.46869806094182825, 0.5333714721586574, 0.47913061182938005, 0.3636363636363636, 0.312280701754386]}, {\"jitter\": 0.05, \"line\": {\"color\": \"red\"}, \"meanline\": {\"visible\": true}, \"name\": \"BOW BNB\", \"pointpos\": -1.4, \"points\": \"all\", \"scalegroup\": \"BOW\", \"scalemode\": \"count\", \"side\": \"negative\", \"type\": \"violin\", \"x0\": \"Bernoulli NB\", \"y\": [0.3833943833943834, 0.39215686274509803, 0.33378317588843903, 0.35223443223443224, 0.47685857119819386, 0.3735042735042735, 0.13986013986013984, 0.17094017094017092, 0.43755169561621177, 0.416635995583364, 0.44933873144399467, 0.36316723109175936, 0.2585470085470085, 0.38606676342525403, 0.49072978303747544, 0.20867430441898532, 0.30953542581449556, 0.472945789728312, 0.40631163708086787, 0.7468924518104847, 0.6235652018304061, 0.6604984758830913, 0.5364372469635627, 0.7479289940828403, 0.558222767594652, 0.5382351990170401, 0.5663410663410662, 0.5538461538461539, 0.6900972590627763, 0.618671926364234, 0.8068376068376069, 0.656084656084656, 0.5763313609467455, 0.723076923076923, 0.633100233100233, 0.6139659520807063, 0.5618380316115367, 0.6697368421052632, 0.6201754385964913, 0.6495755517826826, 0.513197888337866, 0.3790963257199603, 0.63276740237691, 0.5883040935672514, 0.5036119711042312, 0.3971291866028708, 0.4963450292397661, 0.2982456140350877, 0.3571428571428571, 0.14520917678812414]}, {\"jitter\": 0.05, \"line\": {\"color\": \"darkmagenta\"}, \"meanline\": {\"visible\": true}, \"name\": \"TFIDF BNB\", \"pointpos\": 1.4, \"points\": \"all\", \"scalegroup\": \"TFIDF\", \"scalemode\": \"count\", \"side\": \"positive\", \"type\": \"violin\", \"x0\": \"Bernoulli NB\", \"y\": [0.3833943833943834, 0.39215686274509803, 0.33378317588843903, 0.35223443223443224, 0.47685857119819386, 0.3735042735042735, 0.13986013986013984, 0.17094017094017092, 0.43755169561621177, 0.416635995583364, 0.44933873144399467, 0.36316723109175936, 0.2585470085470085, 0.38606676342525403, 0.49072978303747544, 0.20867430441898532, 0.30953542581449556, 0.472945789728312, 0.40631163708086787, 0.7468924518104847, 0.6235652018304061, 0.6604984758830913, 0.5364372469635627, 0.7479289940828403, 0.558222767594652, 0.5382351990170401, 0.5663410663410662, 0.5538461538461539, 0.6900972590627763, 0.618671926364234, 0.8068376068376069, 0.656084656084656, 0.5763313609467455, 0.723076923076923, 0.633100233100233, 0.6139659520807063, 0.5618380316115367, 0.6697368421052632, 0.6201754385964913, 0.6495755517826826, 0.513197888337866, 0.3790963257199603, 0.63276740237691, 0.5883040935672514, 0.5036119711042312, 0.3971291866028708, 0.4963450292397661, 0.2982456140350877, 0.3571428571428571, 0.14520917678812414]}, {\"jitter\": 0.05, \"line\": {\"color\": \"blue\"}, \"meanline\": {\"visible\": true}, \"name\": \"BOW LR\", \"pointpos\": -1.4, \"points\": \"all\", \"scalegroup\": \"BOW\", \"scalemode\": \"count\", \"side\": \"negative\", \"type\": \"violin\", \"x0\": \"Logistic Regresion\", \"y\": [0.4194045511181061, 0.3671794871794872, 0.3824510477936496, 0.3305016496505858, 0.497985347985348, 0.4250087134498587, 0.24725980053322802, 0.17582417582417578, 0.48157972295903323, 0.5142027783537216, 0.5802957107304934, 0.41025641025641024, 0.3435154217762913, 0.5180597180597181, 0.5368121157594842, 0.3288349077822762, 0.3952297130786833, 0.48612368024132735, 0.39790073474284005, 0.7373737373737373, 0.6703296703296703, 0.6427847105813209, 0.5683046050939027, 0.6511139134089954, 0.6615763235943711, 0.5204178537511872, 0.5925979680696661, 0.4786324786324786, 0.6946778711484594, 0.6047411707789065, 0.621100261967135, 0.7493905002101723, 0.6632422678249191, 0.6941176470588235, 0.5808477237048666, 0.7364468864468865, 0.6580787633419213, 0.5987399643175736, 0.5792288207148889, 0.61836288333566, 0.5368421052631579, 0.3625016488589896, 0.6109022556390977, 0.5764937706585304, 0.39342105263157895, 0.5579293868767552, 0.5556243550051598, 0.4267159125884888, 0.3969712015888779, 0.27578644888082277]}, {\"jitter\": 0.05, \"line\": {\"color\": \"darkblue\"}, \"meanline\": {\"visible\": true}, \"name\": \"TFIDF LR\", \"pointpos\": 1.4, \"points\": \"all\", \"scalegroup\": \"TFIDF\", \"scalemode\": \"count\", \"side\": \"positive\", \"type\": \"violin\", \"x0\": \"Logistic Regresion\", \"y\": [0.3746693558014313, 0.29670329670329676, 0.291497975708502, 0.31970280989888833, 0.550192726663315, 0.3417817225509533, 0.23650075414781296, 0.22307692307692306, 0.444724674232871, 0.3476749239461104, 0.41025641025641024, 0.3536693191865606, 0.22189349112426035, 0.3833116036505867, 0.5269721171360516, 0.2471731167383342, 0.25246548323471396, 0.5364219114219114, 0.3682983682983683, 0.8468113083497698, 0.6937286589892049, 0.609168609168609, 0.5943705417389629, 0.752851128970532, 0.6575146355804382, 0.6306064306064306, 0.5603486670484189, 0.5698005698005699, 0.6393119280887252, 0.6461538461538462, 0.7248868778280543, 0.8016591251885371, 0.447148582741803, 0.6057692307692307, 0.6203100101405187, 0.6898584003061615, 0.64014272970562, 0.7005520794994479, 0.6808704453441295, 0.6348178137651822, 0.42724458204334365, 0.3333333333333333, 0.6090225563909775, 0.49084309519881214, 0.3571428571428571, 0.38490456911509546, 0.4001814882032668, 0.33771929824561403, 0.3629764065335753, 0.10734394124846999]}, {\"jitter\": 0.05, \"line\": {\"color\": \"black\"}, \"meanline\": {\"visible\": true}, \"name\": \"BOW MNB\", \"pointpos\": -1.4, \"points\": \"all\", \"scalegroup\": \"BOW\", \"scalemode\": \"count\", \"side\": \"negative\", \"type\": \"violin\", \"x0\": \"Multinomial NB\", \"y\": [0.4168701668701668, 0.4507649213531566, 0.3795569509855224, 0.4469643831345959, 0.5119752042828967, 0.47666952930110823, 0.24240150093808635, 0.38546617379569326, 0.4677276746242264, 0.47938386399924854, 0.6016669321017146, 0.4182250498039971, 0.26165501165501165, 0.4647161954854263, 0.57299693770282, 0.3749817544883959, 0.35006747638326585, 0.56138147566719, 0.42250130821559395, 0.7495768599216874, 0.710831566094724, 0.6733682983682983, 0.6308659893565554, 0.7213675213675214, 0.6693212669683257, 0.6675716440422322, 0.6305719921104537, 0.5356125356125356, 0.7741258741258742, 0.6493155966840176, 0.707245567499651, 0.6573373895407795, 0.664453528221644, 0.7653107126791336, 0.6229454306377382, 0.7296595561301443, 0.6939206304531381, 0.563484182153497, 0.5642150247413407, 0.6549131449312938, 0.6285530900421786, 0.40057590785474323, 0.5947368421052631, 0.6095327604726101, 0.5802005012531328, 0.6065162907268169, 0.5385964912280701, 0.33043648081242066, 0.3703703703703704, 0.2106565697397616]}, {\"jitter\": 0.05, \"line\": {\"color\": \"gray\"}, \"meanline\": {\"visible\": true}, \"name\": \"TFIDF MNB\", \"pointpos\": 1.4, \"points\": \"all\", \"scalemode\": \"count\", \"side\": \"positive\", \"type\": \"violin\", \"x0\": \"Multinomial NB\", \"y\": [0.291497975708502, 0.29670329670329676, 0.291497975708502, 0.26465201465201466, 0.37692307692307697, 0.2907339574006241, 0.14479638009049772, 0.14479638009049772, 0.43755169561621177, 0.3476749239461104, 0.40848806366047746, 0.3476749239461104, 0.2177068214804064, 0.37692307692307697, 0.4688644688644689, 0.1568627450980392, 0.2574157868275515, 0.44876293297345937, 0.3476749239461104, 0.7226890756302521, 0.5664335664335665, 0.609168609168609, 0.5124044312685286, 0.7598166728601511, 0.5731259632898977, 0.5208333333333334, 0.5087505087505088, 0.6000765403750479, 0.587820512820513, 0.5416666666666667, 0.6688963210702342, 0.7040293040293041, 0.40689365279529216, 0.6000765403750479, 0.5739806641445986, 0.6342383107088989, 0.5455631512577156, 0.6606441476826395, 0.6808704453441295, 0.6251993620414672, 0.3045112781954888, 0.3333333333333333, 0.5902834008097166, 0.4889643463497453, 0.3629764065335753, 0.3045112781954888, 0.44623411978221417, 0.27655502392344494, 0.3629764065335753, 0.057309941520467846]}, {\"line\": {\"color\": \"darkslategrey\", \"dash\": \"dash\"}, \"name\": \"Lexicon Simple\", \"type\": \"scatter\", \"x\": [\"SGD Classifier\", \"Multinomial NB\"], \"y\": [0.4269, 0.4269]}, {\"line\": {\"color\": \"darkslateblue\", \"dash\": \"dot\"}, \"name\": \"Lexicon Polarity\", \"type\": \"scatter\", \"x\": [\"SGD Classifier\", \"Multinomial NB\"], \"y\": [0.4539, 0.4539]}],\n",
       "                        {\"template\": {\"data\": {\"bar\": [{\"error_x\": {\"color\": \"#2a3f5f\"}, \"error_y\": {\"color\": \"#2a3f5f\"}, \"marker\": {\"line\": {\"color\": \"#E5ECF6\", \"width\": 0.5}}, \"type\": \"bar\"}], \"barpolar\": [{\"marker\": {\"line\": {\"color\": \"#E5ECF6\", \"width\": 0.5}}, \"type\": \"barpolar\"}], \"carpet\": [{\"aaxis\": {\"endlinecolor\": \"#2a3f5f\", \"gridcolor\": \"white\", \"linecolor\": \"white\", \"minorgridcolor\": \"white\", \"startlinecolor\": \"#2a3f5f\"}, \"baxis\": {\"endlinecolor\": \"#2a3f5f\", \"gridcolor\": \"white\", \"linecolor\": \"white\", \"minorgridcolor\": \"white\", \"startlinecolor\": \"#2a3f5f\"}, \"type\": \"carpet\"}], \"choropleth\": [{\"colorbar\": {\"outlinewidth\": 0, \"ticks\": \"\"}, \"type\": \"choropleth\"}], \"contour\": [{\"colorbar\": {\"outlinewidth\": 0, \"ticks\": \"\"}, \"colorscale\": [[0.0, \"#0d0887\"], [0.1111111111111111, \"#46039f\"], [0.2222222222222222, \"#7201a8\"], [0.3333333333333333, \"#9c179e\"], [0.4444444444444444, \"#bd3786\"], [0.5555555555555556, \"#d8576b\"], [0.6666666666666666, \"#ed7953\"], [0.7777777777777778, \"#fb9f3a\"], [0.8888888888888888, \"#fdca26\"], [1.0, \"#f0f921\"]], \"type\": \"contour\"}], \"contourcarpet\": [{\"colorbar\": {\"outlinewidth\": 0, \"ticks\": \"\"}, \"type\": \"contourcarpet\"}], \"heatmap\": [{\"colorbar\": {\"outlinewidth\": 0, \"ticks\": \"\"}, \"colorscale\": [[0.0, \"#0d0887\"], [0.1111111111111111, \"#46039f\"], [0.2222222222222222, \"#7201a8\"], [0.3333333333333333, \"#9c179e\"], [0.4444444444444444, \"#bd3786\"], [0.5555555555555556, \"#d8576b\"], [0.6666666666666666, \"#ed7953\"], [0.7777777777777778, \"#fb9f3a\"], [0.8888888888888888, \"#fdca26\"], [1.0, \"#f0f921\"]], \"type\": \"heatmap\"}], \"heatmapgl\": [{\"colorbar\": {\"outlinewidth\": 0, \"ticks\": \"\"}, \"colorscale\": [[0.0, \"#0d0887\"], [0.1111111111111111, \"#46039f\"], [0.2222222222222222, \"#7201a8\"], [0.3333333333333333, \"#9c179e\"], [0.4444444444444444, \"#bd3786\"], [0.5555555555555556, \"#d8576b\"], [0.6666666666666666, \"#ed7953\"], [0.7777777777777778, \"#fb9f3a\"], [0.8888888888888888, \"#fdca26\"], [1.0, \"#f0f921\"]], \"type\": \"heatmapgl\"}], \"histogram\": [{\"marker\": {\"colorbar\": {\"outlinewidth\": 0, \"ticks\": \"\"}}, \"type\": \"histogram\"}], \"histogram2d\": [{\"colorbar\": {\"outlinewidth\": 0, \"ticks\": \"\"}, \"colorscale\": [[0.0, \"#0d0887\"], [0.1111111111111111, \"#46039f\"], [0.2222222222222222, \"#7201a8\"], [0.3333333333333333, \"#9c179e\"], [0.4444444444444444, \"#bd3786\"], [0.5555555555555556, \"#d8576b\"], [0.6666666666666666, \"#ed7953\"], [0.7777777777777778, \"#fb9f3a\"], [0.8888888888888888, \"#fdca26\"], [1.0, \"#f0f921\"]], \"type\": \"histogram2d\"}], \"histogram2dcontour\": [{\"colorbar\": {\"outlinewidth\": 0, \"ticks\": \"\"}, \"colorscale\": [[0.0, \"#0d0887\"], [0.1111111111111111, \"#46039f\"], [0.2222222222222222, \"#7201a8\"], [0.3333333333333333, \"#9c179e\"], [0.4444444444444444, \"#bd3786\"], [0.5555555555555556, \"#d8576b\"], [0.6666666666666666, \"#ed7953\"], [0.7777777777777778, \"#fb9f3a\"], [0.8888888888888888, \"#fdca26\"], [1.0, \"#f0f921\"]], \"type\": \"histogram2dcontour\"}], \"mesh3d\": [{\"colorbar\": {\"outlinewidth\": 0, \"ticks\": \"\"}, \"type\": \"mesh3d\"}], \"parcoords\": [{\"line\": {\"colorbar\": {\"outlinewidth\": 0, \"ticks\": \"\"}}, \"type\": \"parcoords\"}], \"pie\": [{\"automargin\": true, \"type\": \"pie\"}], \"scatter\": [{\"marker\": {\"colorbar\": {\"outlinewidth\": 0, \"ticks\": \"\"}}, \"type\": \"scatter\"}], \"scatter3d\": [{\"line\": {\"colorbar\": {\"outlinewidth\": 0, \"ticks\": \"\"}}, \"marker\": {\"colorbar\": {\"outlinewidth\": 0, \"ticks\": \"\"}}, \"type\": \"scatter3d\"}], \"scattercarpet\": [{\"marker\": {\"colorbar\": {\"outlinewidth\": 0, \"ticks\": \"\"}}, \"type\": \"scattercarpet\"}], \"scattergeo\": [{\"marker\": {\"colorbar\": {\"outlinewidth\": 0, \"ticks\": \"\"}}, \"type\": \"scattergeo\"}], \"scattergl\": [{\"marker\": {\"colorbar\": {\"outlinewidth\": 0, \"ticks\": \"\"}}, \"type\": \"scattergl\"}], \"scattermapbox\": [{\"marker\": {\"colorbar\": {\"outlinewidth\": 0, \"ticks\": \"\"}}, \"type\": \"scattermapbox\"}], \"scatterpolar\": [{\"marker\": {\"colorbar\": {\"outlinewidth\": 0, \"ticks\": \"\"}}, \"type\": \"scatterpolar\"}], \"scatterpolargl\": [{\"marker\": {\"colorbar\": {\"outlinewidth\": 0, \"ticks\": \"\"}}, \"type\": \"scatterpolargl\"}], \"scatterternary\": [{\"marker\": {\"colorbar\": {\"outlinewidth\": 0, \"ticks\": \"\"}}, \"type\": \"scatterternary\"}], \"surface\": [{\"colorbar\": {\"outlinewidth\": 0, \"ticks\": \"\"}, \"colorscale\": [[0.0, \"#0d0887\"], [0.1111111111111111, \"#46039f\"], [0.2222222222222222, \"#7201a8\"], [0.3333333333333333, \"#9c179e\"], [0.4444444444444444, \"#bd3786\"], [0.5555555555555556, \"#d8576b\"], [0.6666666666666666, \"#ed7953\"], [0.7777777777777778, \"#fb9f3a\"], [0.8888888888888888, \"#fdca26\"], [1.0, \"#f0f921\"]], \"type\": \"surface\"}], \"table\": [{\"cells\": {\"fill\": {\"color\": \"#EBF0F8\"}, \"line\": {\"color\": \"white\"}}, \"header\": {\"fill\": {\"color\": \"#C8D4E3\"}, \"line\": {\"color\": \"white\"}}, \"type\": \"table\"}]}, \"layout\": {\"annotationdefaults\": {\"arrowcolor\": \"#2a3f5f\", \"arrowhead\": 0, \"arrowwidth\": 1}, \"coloraxis\": {\"colorbar\": {\"outlinewidth\": 0, \"ticks\": \"\"}}, \"colorscale\": {\"diverging\": [[0, \"#8e0152\"], [0.1, \"#c51b7d\"], [0.2, \"#de77ae\"], [0.3, \"#f1b6da\"], [0.4, \"#fde0ef\"], [0.5, \"#f7f7f7\"], [0.6, \"#e6f5d0\"], [0.7, \"#b8e186\"], [0.8, \"#7fbc41\"], [0.9, \"#4d9221\"], [1, \"#276419\"]], \"sequential\": [[0.0, \"#0d0887\"], [0.1111111111111111, \"#46039f\"], [0.2222222222222222, \"#7201a8\"], [0.3333333333333333, \"#9c179e\"], [0.4444444444444444, \"#bd3786\"], [0.5555555555555556, \"#d8576b\"], [0.6666666666666666, \"#ed7953\"], [0.7777777777777778, \"#fb9f3a\"], [0.8888888888888888, \"#fdca26\"], [1.0, \"#f0f921\"]], \"sequentialminus\": [[0.0, \"#0d0887\"], [0.1111111111111111, \"#46039f\"], [0.2222222222222222, \"#7201a8\"], [0.3333333333333333, \"#9c179e\"], [0.4444444444444444, \"#bd3786\"], [0.5555555555555556, \"#d8576b\"], [0.6666666666666666, \"#ed7953\"], [0.7777777777777778, \"#fb9f3a\"], [0.8888888888888888, \"#fdca26\"], [1.0, \"#f0f921\"]]}, \"colorway\": [\"#636efa\", \"#EF553B\", \"#00cc96\", \"#ab63fa\", \"#FFA15A\", \"#19d3f3\", \"#FF6692\", \"#B6E880\", \"#FF97FF\", \"#FECB52\"], \"font\": {\"color\": \"#2a3f5f\"}, \"geo\": {\"bgcolor\": \"white\", \"lakecolor\": \"white\", \"landcolor\": \"#E5ECF6\", \"showlakes\": true, \"showland\": true, \"subunitcolor\": \"white\"}, \"hoverlabel\": {\"align\": \"left\"}, \"hovermode\": \"closest\", \"mapbox\": {\"style\": \"light\"}, \"paper_bgcolor\": \"white\", \"plot_bgcolor\": \"#E5ECF6\", \"polar\": {\"angularaxis\": {\"gridcolor\": \"white\", \"linecolor\": \"white\", \"ticks\": \"\"}, \"bgcolor\": \"#E5ECF6\", \"radialaxis\": {\"gridcolor\": \"white\", \"linecolor\": \"white\", \"ticks\": \"\"}}, \"scene\": {\"xaxis\": {\"backgroundcolor\": \"#E5ECF6\", \"gridcolor\": \"white\", \"gridwidth\": 2, \"linecolor\": \"white\", \"showbackground\": true, \"ticks\": \"\", \"zerolinecolor\": \"white\"}, \"yaxis\": {\"backgroundcolor\": \"#E5ECF6\", \"gridcolor\": \"white\", \"gridwidth\": 2, \"linecolor\": \"white\", \"showbackground\": true, \"ticks\": \"\", \"zerolinecolor\": \"white\"}, \"zaxis\": {\"backgroundcolor\": \"#E5ECF6\", \"gridcolor\": \"white\", \"gridwidth\": 2, \"linecolor\": \"white\", \"showbackground\": true, \"ticks\": \"\", \"zerolinecolor\": \"white\"}}, \"shapedefaults\": {\"line\": {\"color\": \"#2a3f5f\"}}, \"ternary\": {\"aaxis\": {\"gridcolor\": \"white\", \"linecolor\": \"white\", \"ticks\": \"\"}, \"baxis\": {\"gridcolor\": \"white\", \"linecolor\": \"white\", \"ticks\": \"\"}, \"bgcolor\": \"#E5ECF6\", \"caxis\": {\"gridcolor\": \"white\", \"linecolor\": \"white\", \"ticks\": \"\"}}, \"title\": {\"x\": 0.05}, \"xaxis\": {\"automargin\": true, \"gridcolor\": \"white\", \"linecolor\": \"white\", \"ticks\": \"\", \"title\": {\"standoff\": 15}, \"zerolinecolor\": \"white\", \"zerolinewidth\": 2}, \"yaxis\": {\"automargin\": true, \"gridcolor\": \"white\", \"linecolor\": \"white\", \"ticks\": \"\", \"title\": {\"standoff\": 15}, \"zerolinecolor\": \"white\", \"zerolinewidth\": 2}}}, \"title\": {\"text\": \"F1\"}, \"violingap\": 0, \"violingroupgap\": 0.6, \"violinmode\": \"overlay\"},\n",
       "                        {\"responsive\": true}\n",
       "                    ).then(function(){\n",
       "                            \n",
       "var gd = document.getElementById('e7038550-5686-4a34-867b-176da192c265');\n",
       "var x = new MutationObserver(function (mutations, observer) {{\n",
       "        var display = window.getComputedStyle(gd).display;\n",
       "        if (!display || display === 'none') {{\n",
       "            console.log([gd, 'removed!']);\n",
       "            Plotly.purge(gd);\n",
       "            observer.disconnect();\n",
       "        }}\n",
       "}});\n",
       "\n",
       "// Listen for the removal of the full notebook cells\n",
       "var notebookContainer = gd.closest('#notebook-container');\n",
       "if (notebookContainer) {{\n",
       "    x.observe(notebookContainer, {childList: true});\n",
       "}}\n",
       "\n",
       "// Listen for the clearing of the current output cell\n",
       "var outputEl = gd.closest('.output');\n",
       "if (outputEl) {{\n",
       "    x.observe(outputEl, {childList: true});\n",
       "}}\n",
       "\n",
       "                        })\n",
       "                };\n",
       "                });\n",
       "            </script>\n",
       "        </div>"
      ]
     },
     "metadata": {},
     "output_type": "display_data"
    }
   ],
   "source": [
    "plots_metrics(f1_BOW_SGD, f1_TFIDF_SGD, f1_BOW_BNB, f1_TFIDF_BNB, f1_BOW_LR, f1_TFIDF_LR,\n",
    "                 f1_BOW_MNB, f1_TFIDF_MNB, \"F1\",0.4269,0.4539)"
   ]
  },
  {
   "cell_type": "code",
   "execution_count": 72,
   "metadata": {},
   "outputs": [
    {
     "data": {
      "application/vnd.plotly.v1+json": {
       "config": {
        "plotlyServerURL": "https://plot.ly"
       },
       "data": [
        {
         "jitter": 0.05,
         "line": {
          "color": "green"
         },
         "meanline": {
          "visible": true
         },
         "name": "BOW SGD",
         "pointpos": -1.4,
         "points": "all",
         "scalegroup": "BOW",
         "scalemode": "count",
         "side": "negative",
         "type": "violin",
         "x0": "SGD Classifier",
         "y": [
          0.5384615384615384,
          0.46153846153846156,
          0.46153846153846156,
          0.358974358974359,
          0.46153846153846156,
          0.38461538461538464,
          0.3076923076923077,
          0.3333333333333333,
          0.5128205128205128,
          0.5641025641025641,
          0.5641025641025641,
          0.46153846153846156,
          0.46153846153846156,
          0.5128205128205128,
          0.5897435897435898,
          0.38461538461538464,
          0.358974358974359,
          0.5641025641025641,
          0.4358974358974359,
          0.6410256410256411,
          0.717948717948718,
          0.5641025641025641,
          0.6153846153846154,
          0.5897435897435898,
          0.5641025641025641,
          0.5897435897435898,
          0.6923076923076923,
          0.46153846153846156,
          0.6666666666666666,
          0.5897435897435898,
          0.6410256410256411,
          0.6923076923076923,
          0.6153846153846154,
          0.6923076923076923,
          0.6410256410256411,
          0.6666666666666666,
          0.6842105263157895,
          0.47368421052631576,
          0.5789473684210527,
          0.6052631578947368,
          0.631578947368421,
          0.39473684210526316,
          0.5526315789473685,
          0.5,
          0.42105263157894735,
          0.5789473684210527,
          0.5789473684210527,
          0.47368421052631576,
          0.5,
          0.34210526315789475
         ]
        },
        {
         "jitter": 0.05,
         "line": {
          "color": "lightseagreen"
         },
         "meanline": {
          "visible": true
         },
         "name": "TFIDF SGD",
         "pointpos": 1.4,
         "points": "all",
         "scalegroup": "TFIDF",
         "scalemode": "count",
         "side": "positive",
         "type": "violin",
         "x0": "SGD Classifier",
         "y": [
          0.5384615384615384,
          0.5128205128205128,
          0.46153846153846156,
          0.46153846153846156,
          0.5641025641025641,
          0.48717948717948717,
          0.3333333333333333,
          0.3076923076923077,
          0.5384615384615384,
          0.5641025641025641,
          0.5897435897435898,
          0.46153846153846156,
          0.41025641025641024,
          0.48717948717948717,
          0.6153846153846154,
          0.358974358974359,
          0.46153846153846156,
          0.5384615384615384,
          0.46153846153846156,
          0.8205128205128205,
          0.6923076923076923,
          0.6923076923076923,
          0.6410256410256411,
          0.6410256410256411,
          0.7435897435897436,
          0.6410256410256411,
          0.6666666666666666,
          0.5128205128205128,
          0.717948717948718,
          0.6666666666666666,
          0.6410256410256411,
          0.7435897435897436,
          0.6666666666666666,
          0.7435897435897436,
          0.6923076923076923,
          0.6666666666666666,
          0.7105263157894737,
          0.6052631578947368,
          0.6842105263157895,
          0.6842105263157895,
          0.5,
          0.3684210526315789,
          0.631578947368421,
          0.5789473684210527,
          0.4473684210526316,
          0.5,
          0.5789473684210527,
          0.5526315789473685,
          0.5,
          0.34210526315789475
         ]
        },
        {
         "jitter": 0.05,
         "line": {
          "color": "red"
         },
         "meanline": {
          "visible": true
         },
         "name": "BOW BNB",
         "pointpos": -1.4,
         "points": "all",
         "scalegroup": "BOW",
         "scalemode": "count",
         "side": "negative",
         "type": "violin",
         "x0": "Bernoulli NB",
         "y": [
          0.48717948717948717,
          0.5128205128205128,
          0.46153846153846156,
          0.46153846153846156,
          0.5384615384615384,
          0.48717948717948717,
          0.2564102564102564,
          0.28205128205128205,
          0.5897435897435898,
          0.5128205128205128,
          0.5128205128205128,
          0.46153846153846156,
          0.38461538461538464,
          0.48717948717948717,
          0.5897435897435898,
          0.3333333333333333,
          0.41025641025641024,
          0.5641025641025641,
          0.5128205128205128,
          0.7692307692307693,
          0.6666666666666666,
          0.7435897435897436,
          0.6153846153846154,
          0.7692307692307693,
          0.6410256410256411,
          0.6153846153846154,
          0.6153846153846154,
          0.5897435897435898,
          0.7435897435897436,
          0.6923076923076923,
          0.8205128205128205,
          0.6666666666666666,
          0.6153846153846154,
          0.7692307692307693,
          0.6666666666666666,
          0.6410256410256411,
          0.631578947368421,
          0.6842105263157895,
          0.6578947368421053,
          0.7105263157894737,
          0.6052631578947368,
          0.5,
          0.7105263157894737,
          0.6578947368421053,
          0.5789473684210527,
          0.47368421052631576,
          0.5789473684210527,
          0.4473684210526316,
          0.5,
          0.21052631578947367
         ]
        },
        {
         "jitter": 0.05,
         "line": {
          "color": "darkmagenta"
         },
         "meanline": {
          "visible": true
         },
         "name": "TFIDF BNB",
         "pointpos": 1.4,
         "points": "all",
         "scalegroup": "TFIDF",
         "scalemode": "count",
         "side": "positive",
         "type": "violin",
         "x0": "Bernoulli NB",
         "y": [
          0.48717948717948717,
          0.5128205128205128,
          0.46153846153846156,
          0.46153846153846156,
          0.5384615384615384,
          0.48717948717948717,
          0.2564102564102564,
          0.28205128205128205,
          0.5897435897435898,
          0.5128205128205128,
          0.5128205128205128,
          0.46153846153846156,
          0.38461538461538464,
          0.48717948717948717,
          0.5897435897435898,
          0.3333333333333333,
          0.41025641025641024,
          0.5641025641025641,
          0.5128205128205128,
          0.7692307692307693,
          0.6666666666666666,
          0.7435897435897436,
          0.6153846153846154,
          0.7692307692307693,
          0.6410256410256411,
          0.6153846153846154,
          0.6153846153846154,
          0.5897435897435898,
          0.7435897435897436,
          0.6923076923076923,
          0.8205128205128205,
          0.6666666666666666,
          0.6153846153846154,
          0.7692307692307693,
          0.6666666666666666,
          0.6410256410256411,
          0.631578947368421,
          0.6842105263157895,
          0.6578947368421053,
          0.7105263157894737,
          0.6052631578947368,
          0.5,
          0.7105263157894737,
          0.6578947368421053,
          0.5789473684210527,
          0.47368421052631576,
          0.5789473684210527,
          0.4473684210526316,
          0.5,
          0.21052631578947367
         ]
        },
        {
         "jitter": 0.05,
         "line": {
          "color": "blue"
         },
         "meanline": {
          "visible": true
         },
         "name": "BOW LR",
         "pointpos": -1.4,
         "points": "all",
         "scalegroup": "BOW",
         "scalemode": "count",
         "side": "negative",
         "type": "violin",
         "x0": "Logistic Regresion",
         "y": [
          0.48717948717948717,
          0.46153846153846156,
          0.48717948717948717,
          0.41025641025641024,
          0.5384615384615384,
          0.46153846153846156,
          0.3333333333333333,
          0.2564102564102564,
          0.5897435897435898,
          0.5897435897435898,
          0.6153846153846154,
          0.48717948717948717,
          0.4358974358974359,
          0.5641025641025641,
          0.5897435897435898,
          0.38461538461538464,
          0.4358974358974359,
          0.5641025641025641,
          0.4358974358974359,
          0.717948717948718,
          0.6666666666666666,
          0.6666666666666666,
          0.6153846153846154,
          0.6410256410256411,
          0.6923076923076923,
          0.5384615384615384,
          0.6153846153846154,
          0.48717948717948717,
          0.717948717948718,
          0.6153846153846154,
          0.5897435897435898,
          0.7435897435897436,
          0.6666666666666666,
          0.6923076923076923,
          0.5897435897435898,
          0.717948717948718,
          0.6842105263157895,
          0.6052631578947368,
          0.5789473684210527,
          0.631578947368421,
          0.5526315789473685,
          0.42105263157894735,
          0.631578947368421,
          0.5526315789473685,
          0.39473684210526316,
          0.5789473684210527,
          0.5789473684210527,
          0.5,
          0.5,
          0.3157894736842105
         ]
        },
        {
         "jitter": 0.05,
         "line": {
          "color": "darkblue"
         },
         "meanline": {
          "visible": true
         },
         "name": "TFIDF LR",
         "pointpos": 1.4,
         "points": "all",
         "scalegroup": "TFIDF",
         "scalemode": "count",
         "side": "positive",
         "type": "violin",
         "x0": "Logistic Regresion",
         "y": [
          0.48717948717948717,
          0.46153846153846156,
          0.46153846153846156,
          0.46153846153846156,
          0.6153846153846154,
          0.46153846153846156,
          0.358974358974359,
          0.3333333333333333,
          0.5897435897435898,
          0.5128205128205128,
          0.5128205128205128,
          0.5128205128205128,
          0.38461538461538464,
          0.5384615384615384,
          0.6410256410256411,
          0.358974358974359,
          0.41025641025641024,
          0.6153846153846154,
          0.48717948717948717,
          0.8717948717948718,
          0.7435897435897436,
          0.717948717948718,
          0.6666666666666666,
          0.7948717948717948,
          0.717948717948718,
          0.717948717948718,
          0.6666666666666666,
          0.6410256410256411,
          0.717948717948718,
          0.717948717948718,
          0.7948717948717948,
          0.8461538461538461,
          0.5641025641025641,
          0.6923076923076923,
          0.6923076923076923,
          0.7692307692307693,
          0.7105263157894737,
          0.7631578947368421,
          0.7631578947368421,
          0.7368421052631579,
          0.5263157894736842,
          0.5,
          0.7105263157894737,
          0.5789473684210527,
          0.5,
          0.5,
          0.5526315789473685,
          0.47368421052631576,
          0.5263157894736842,
          0.21052631578947367
         ]
        },
        {
         "jitter": 0.05,
         "line": {
          "color": "black"
         },
         "meanline": {
          "visible": true
         },
         "name": "BOW MNB",
         "pointpos": -1.4,
         "points": "all",
         "scalegroup": "BOW",
         "scalemode": "count",
         "side": "negative",
         "type": "violin",
         "x0": "Multinomial NB",
         "y": [
          0.5128205128205128,
          0.5384615384615384,
          0.46153846153846156,
          0.5128205128205128,
          0.5641025641025641,
          0.5384615384615384,
          0.3333333333333333,
          0.4358974358974359,
          0.5897435897435898,
          0.5384615384615384,
          0.6153846153846154,
          0.48717948717948717,
          0.38461538461538464,
          0.5384615384615384,
          0.6153846153846154,
          0.4358974358974359,
          0.41025641025641024,
          0.6153846153846154,
          0.48717948717948717,
          0.7435897435897436,
          0.717948717948718,
          0.7435897435897436,
          0.6666666666666666,
          0.717948717948718,
          0.6923076923076923,
          0.6923076923076923,
          0.6410256410256411,
          0.5384615384615384,
          0.7948717948717948,
          0.6923076923076923,
          0.6923076923076923,
          0.6410256410256411,
          0.6666666666666666,
          0.7692307692307693,
          0.6410256410256411,
          0.717948717948718,
          0.7105263157894737,
          0.5263157894736842,
          0.5526315789473685,
          0.6842105263157895,
          0.6578947368421053,
          0.47368421052631576,
          0.6052631578947368,
          0.6052631578947368,
          0.631578947368421,
          0.6052631578947368,
          0.5789473684210527,
          0.4473684210526316,
          0.5,
          0.23684210526315788
         ]
        },
        {
         "jitter": 0.05,
         "line": {
          "color": "gray"
         },
         "meanline": {
          "visible": true
         },
         "name": "TFIDF MNB",
         "pointpos": 1.4,
         "points": "all",
         "scalemode": "count",
         "side": "positive",
         "type": "violin",
         "x0": "Multinomial NB",
         "y": [
          0.46153846153846156,
          0.46153846153846156,
          0.46153846153846156,
          0.4358974358974359,
          0.5384615384615384,
          0.4358974358974359,
          0.3076923076923077,
          0.3076923076923077,
          0.5897435897435898,
          0.5128205128205128,
          0.5384615384615384,
          0.5128205128205128,
          0.38461538461538464,
          0.5384615384615384,
          0.6153846153846154,
          0.3076923076923077,
          0.41025641025641024,
          0.5641025641025641,
          0.5128205128205128,
          0.7948717948717948,
          0.6923076923076923,
          0.717948717948718,
          0.6153846153846154,
          0.8205128205128205,
          0.6666666666666666,
          0.6410256410256411,
          0.6410256410256411,
          0.717948717948718,
          0.6923076923076923,
          0.6666666666666666,
          0.7692307692307693,
          0.7948717948717948,
          0.5641025641025641,
          0.717948717948718,
          0.6666666666666666,
          0.7435897435897436,
          0.6578947368421053,
          0.7631578947368421,
          0.7631578947368421,
          0.7368421052631579,
          0.47368421052631576,
          0.5,
          0.7105263157894737,
          0.631578947368421,
          0.5263157894736842,
          0.47368421052631576,
          0.5789473684210527,
          0.4473684210526316,
          0.5263157894736842,
          0.18421052631578946
         ]
        },
        {
         "line": {
          "color": "darkslategrey",
          "dash": "dash"
         },
         "name": "Lexicon Simple",
         "type": "scatter",
         "x": [
          "SGD Classifier",
          "Multinomial NB"
         ],
         "y": [
          0.4112,
          0.4112
         ]
        },
        {
         "line": {
          "color": "darkslateblue",
          "dash": "dot"
         },
         "name": "Lexicon Polarity",
         "type": "scatter",
         "x": [
          "SGD Classifier",
          "Multinomial NB"
         ],
         "y": [
          0.4804,
          0.4804
         ]
        }
       ],
       "layout": {
        "template": {
         "data": {
          "bar": [
           {
            "error_x": {
             "color": "#2a3f5f"
            },
            "error_y": {
             "color": "#2a3f5f"
            },
            "marker": {
             "line": {
              "color": "#E5ECF6",
              "width": 0.5
             }
            },
            "type": "bar"
           }
          ],
          "barpolar": [
           {
            "marker": {
             "line": {
              "color": "#E5ECF6",
              "width": 0.5
             }
            },
            "type": "barpolar"
           }
          ],
          "carpet": [
           {
            "aaxis": {
             "endlinecolor": "#2a3f5f",
             "gridcolor": "white",
             "linecolor": "white",
             "minorgridcolor": "white",
             "startlinecolor": "#2a3f5f"
            },
            "baxis": {
             "endlinecolor": "#2a3f5f",
             "gridcolor": "white",
             "linecolor": "white",
             "minorgridcolor": "white",
             "startlinecolor": "#2a3f5f"
            },
            "type": "carpet"
           }
          ],
          "choropleth": [
           {
            "colorbar": {
             "outlinewidth": 0,
             "ticks": ""
            },
            "type": "choropleth"
           }
          ],
          "contour": [
           {
            "colorbar": {
             "outlinewidth": 0,
             "ticks": ""
            },
            "colorscale": [
             [
              0,
              "#0d0887"
             ],
             [
              0.1111111111111111,
              "#46039f"
             ],
             [
              0.2222222222222222,
              "#7201a8"
             ],
             [
              0.3333333333333333,
              "#9c179e"
             ],
             [
              0.4444444444444444,
              "#bd3786"
             ],
             [
              0.5555555555555556,
              "#d8576b"
             ],
             [
              0.6666666666666666,
              "#ed7953"
             ],
             [
              0.7777777777777778,
              "#fb9f3a"
             ],
             [
              0.8888888888888888,
              "#fdca26"
             ],
             [
              1,
              "#f0f921"
             ]
            ],
            "type": "contour"
           }
          ],
          "contourcarpet": [
           {
            "colorbar": {
             "outlinewidth": 0,
             "ticks": ""
            },
            "type": "contourcarpet"
           }
          ],
          "heatmap": [
           {
            "colorbar": {
             "outlinewidth": 0,
             "ticks": ""
            },
            "colorscale": [
             [
              0,
              "#0d0887"
             ],
             [
              0.1111111111111111,
              "#46039f"
             ],
             [
              0.2222222222222222,
              "#7201a8"
             ],
             [
              0.3333333333333333,
              "#9c179e"
             ],
             [
              0.4444444444444444,
              "#bd3786"
             ],
             [
              0.5555555555555556,
              "#d8576b"
             ],
             [
              0.6666666666666666,
              "#ed7953"
             ],
             [
              0.7777777777777778,
              "#fb9f3a"
             ],
             [
              0.8888888888888888,
              "#fdca26"
             ],
             [
              1,
              "#f0f921"
             ]
            ],
            "type": "heatmap"
           }
          ],
          "heatmapgl": [
           {
            "colorbar": {
             "outlinewidth": 0,
             "ticks": ""
            },
            "colorscale": [
             [
              0,
              "#0d0887"
             ],
             [
              0.1111111111111111,
              "#46039f"
             ],
             [
              0.2222222222222222,
              "#7201a8"
             ],
             [
              0.3333333333333333,
              "#9c179e"
             ],
             [
              0.4444444444444444,
              "#bd3786"
             ],
             [
              0.5555555555555556,
              "#d8576b"
             ],
             [
              0.6666666666666666,
              "#ed7953"
             ],
             [
              0.7777777777777778,
              "#fb9f3a"
             ],
             [
              0.8888888888888888,
              "#fdca26"
             ],
             [
              1,
              "#f0f921"
             ]
            ],
            "type": "heatmapgl"
           }
          ],
          "histogram": [
           {
            "marker": {
             "colorbar": {
              "outlinewidth": 0,
              "ticks": ""
             }
            },
            "type": "histogram"
           }
          ],
          "histogram2d": [
           {
            "colorbar": {
             "outlinewidth": 0,
             "ticks": ""
            },
            "colorscale": [
             [
              0,
              "#0d0887"
             ],
             [
              0.1111111111111111,
              "#46039f"
             ],
             [
              0.2222222222222222,
              "#7201a8"
             ],
             [
              0.3333333333333333,
              "#9c179e"
             ],
             [
              0.4444444444444444,
              "#bd3786"
             ],
             [
              0.5555555555555556,
              "#d8576b"
             ],
             [
              0.6666666666666666,
              "#ed7953"
             ],
             [
              0.7777777777777778,
              "#fb9f3a"
             ],
             [
              0.8888888888888888,
              "#fdca26"
             ],
             [
              1,
              "#f0f921"
             ]
            ],
            "type": "histogram2d"
           }
          ],
          "histogram2dcontour": [
           {
            "colorbar": {
             "outlinewidth": 0,
             "ticks": ""
            },
            "colorscale": [
             [
              0,
              "#0d0887"
             ],
             [
              0.1111111111111111,
              "#46039f"
             ],
             [
              0.2222222222222222,
              "#7201a8"
             ],
             [
              0.3333333333333333,
              "#9c179e"
             ],
             [
              0.4444444444444444,
              "#bd3786"
             ],
             [
              0.5555555555555556,
              "#d8576b"
             ],
             [
              0.6666666666666666,
              "#ed7953"
             ],
             [
              0.7777777777777778,
              "#fb9f3a"
             ],
             [
              0.8888888888888888,
              "#fdca26"
             ],
             [
              1,
              "#f0f921"
             ]
            ],
            "type": "histogram2dcontour"
           }
          ],
          "mesh3d": [
           {
            "colorbar": {
             "outlinewidth": 0,
             "ticks": ""
            },
            "type": "mesh3d"
           }
          ],
          "parcoords": [
           {
            "line": {
             "colorbar": {
              "outlinewidth": 0,
              "ticks": ""
             }
            },
            "type": "parcoords"
           }
          ],
          "pie": [
           {
            "automargin": true,
            "type": "pie"
           }
          ],
          "scatter": [
           {
            "marker": {
             "colorbar": {
              "outlinewidth": 0,
              "ticks": ""
             }
            },
            "type": "scatter"
           }
          ],
          "scatter3d": [
           {
            "line": {
             "colorbar": {
              "outlinewidth": 0,
              "ticks": ""
             }
            },
            "marker": {
             "colorbar": {
              "outlinewidth": 0,
              "ticks": ""
             }
            },
            "type": "scatter3d"
           }
          ],
          "scattercarpet": [
           {
            "marker": {
             "colorbar": {
              "outlinewidth": 0,
              "ticks": ""
             }
            },
            "type": "scattercarpet"
           }
          ],
          "scattergeo": [
           {
            "marker": {
             "colorbar": {
              "outlinewidth": 0,
              "ticks": ""
             }
            },
            "type": "scattergeo"
           }
          ],
          "scattergl": [
           {
            "marker": {
             "colorbar": {
              "outlinewidth": 0,
              "ticks": ""
             }
            },
            "type": "scattergl"
           }
          ],
          "scattermapbox": [
           {
            "marker": {
             "colorbar": {
              "outlinewidth": 0,
              "ticks": ""
             }
            },
            "type": "scattermapbox"
           }
          ],
          "scatterpolar": [
           {
            "marker": {
             "colorbar": {
              "outlinewidth": 0,
              "ticks": ""
             }
            },
            "type": "scatterpolar"
           }
          ],
          "scatterpolargl": [
           {
            "marker": {
             "colorbar": {
              "outlinewidth": 0,
              "ticks": ""
             }
            },
            "type": "scatterpolargl"
           }
          ],
          "scatterternary": [
           {
            "marker": {
             "colorbar": {
              "outlinewidth": 0,
              "ticks": ""
             }
            },
            "type": "scatterternary"
           }
          ],
          "surface": [
           {
            "colorbar": {
             "outlinewidth": 0,
             "ticks": ""
            },
            "colorscale": [
             [
              0,
              "#0d0887"
             ],
             [
              0.1111111111111111,
              "#46039f"
             ],
             [
              0.2222222222222222,
              "#7201a8"
             ],
             [
              0.3333333333333333,
              "#9c179e"
             ],
             [
              0.4444444444444444,
              "#bd3786"
             ],
             [
              0.5555555555555556,
              "#d8576b"
             ],
             [
              0.6666666666666666,
              "#ed7953"
             ],
             [
              0.7777777777777778,
              "#fb9f3a"
             ],
             [
              0.8888888888888888,
              "#fdca26"
             ],
             [
              1,
              "#f0f921"
             ]
            ],
            "type": "surface"
           }
          ],
          "table": [
           {
            "cells": {
             "fill": {
              "color": "#EBF0F8"
             },
             "line": {
              "color": "white"
             }
            },
            "header": {
             "fill": {
              "color": "#C8D4E3"
             },
             "line": {
              "color": "white"
             }
            },
            "type": "table"
           }
          ]
         },
         "layout": {
          "annotationdefaults": {
           "arrowcolor": "#2a3f5f",
           "arrowhead": 0,
           "arrowwidth": 1
          },
          "coloraxis": {
           "colorbar": {
            "outlinewidth": 0,
            "ticks": ""
           }
          },
          "colorscale": {
           "diverging": [
            [
             0,
             "#8e0152"
            ],
            [
             0.1,
             "#c51b7d"
            ],
            [
             0.2,
             "#de77ae"
            ],
            [
             0.3,
             "#f1b6da"
            ],
            [
             0.4,
             "#fde0ef"
            ],
            [
             0.5,
             "#f7f7f7"
            ],
            [
             0.6,
             "#e6f5d0"
            ],
            [
             0.7,
             "#b8e186"
            ],
            [
             0.8,
             "#7fbc41"
            ],
            [
             0.9,
             "#4d9221"
            ],
            [
             1,
             "#276419"
            ]
           ],
           "sequential": [
            [
             0,
             "#0d0887"
            ],
            [
             0.1111111111111111,
             "#46039f"
            ],
            [
             0.2222222222222222,
             "#7201a8"
            ],
            [
             0.3333333333333333,
             "#9c179e"
            ],
            [
             0.4444444444444444,
             "#bd3786"
            ],
            [
             0.5555555555555556,
             "#d8576b"
            ],
            [
             0.6666666666666666,
             "#ed7953"
            ],
            [
             0.7777777777777778,
             "#fb9f3a"
            ],
            [
             0.8888888888888888,
             "#fdca26"
            ],
            [
             1,
             "#f0f921"
            ]
           ],
           "sequentialminus": [
            [
             0,
             "#0d0887"
            ],
            [
             0.1111111111111111,
             "#46039f"
            ],
            [
             0.2222222222222222,
             "#7201a8"
            ],
            [
             0.3333333333333333,
             "#9c179e"
            ],
            [
             0.4444444444444444,
             "#bd3786"
            ],
            [
             0.5555555555555556,
             "#d8576b"
            ],
            [
             0.6666666666666666,
             "#ed7953"
            ],
            [
             0.7777777777777778,
             "#fb9f3a"
            ],
            [
             0.8888888888888888,
             "#fdca26"
            ],
            [
             1,
             "#f0f921"
            ]
           ]
          },
          "colorway": [
           "#636efa",
           "#EF553B",
           "#00cc96",
           "#ab63fa",
           "#FFA15A",
           "#19d3f3",
           "#FF6692",
           "#B6E880",
           "#FF97FF",
           "#FECB52"
          ],
          "font": {
           "color": "#2a3f5f"
          },
          "geo": {
           "bgcolor": "white",
           "lakecolor": "white",
           "landcolor": "#E5ECF6",
           "showlakes": true,
           "showland": true,
           "subunitcolor": "white"
          },
          "hoverlabel": {
           "align": "left"
          },
          "hovermode": "closest",
          "mapbox": {
           "style": "light"
          },
          "paper_bgcolor": "white",
          "plot_bgcolor": "#E5ECF6",
          "polar": {
           "angularaxis": {
            "gridcolor": "white",
            "linecolor": "white",
            "ticks": ""
           },
           "bgcolor": "#E5ECF6",
           "radialaxis": {
            "gridcolor": "white",
            "linecolor": "white",
            "ticks": ""
           }
          },
          "scene": {
           "xaxis": {
            "backgroundcolor": "#E5ECF6",
            "gridcolor": "white",
            "gridwidth": 2,
            "linecolor": "white",
            "showbackground": true,
            "ticks": "",
            "zerolinecolor": "white"
           },
           "yaxis": {
            "backgroundcolor": "#E5ECF6",
            "gridcolor": "white",
            "gridwidth": 2,
            "linecolor": "white",
            "showbackground": true,
            "ticks": "",
            "zerolinecolor": "white"
           },
           "zaxis": {
            "backgroundcolor": "#E5ECF6",
            "gridcolor": "white",
            "gridwidth": 2,
            "linecolor": "white",
            "showbackground": true,
            "ticks": "",
            "zerolinecolor": "white"
           }
          },
          "shapedefaults": {
           "line": {
            "color": "#2a3f5f"
           }
          },
          "ternary": {
           "aaxis": {
            "gridcolor": "white",
            "linecolor": "white",
            "ticks": ""
           },
           "baxis": {
            "gridcolor": "white",
            "linecolor": "white",
            "ticks": ""
           },
           "bgcolor": "#E5ECF6",
           "caxis": {
            "gridcolor": "white",
            "linecolor": "white",
            "ticks": ""
           }
          },
          "title": {
           "x": 0.05
          },
          "xaxis": {
           "automargin": true,
           "gridcolor": "white",
           "linecolor": "white",
           "ticks": "",
           "title": {
            "standoff": 15
           },
           "zerolinecolor": "white",
           "zerolinewidth": 2
          },
          "yaxis": {
           "automargin": true,
           "gridcolor": "white",
           "linecolor": "white",
           "ticks": "",
           "title": {
            "standoff": 15
           },
           "zerolinecolor": "white",
           "zerolinewidth": 2
          }
         }
        },
        "title": {
         "text": "Recall"
        },
        "violingap": 0,
        "violingroupgap": 0.6,
        "violinmode": "overlay"
       }
      },
      "text/html": [
       "<div>\n",
       "        \n",
       "        \n",
       "            <div id=\"863b2aa8-6df6-4e7c-9927-f324d4408e87\" class=\"plotly-graph-div\" style=\"height:525px; width:100%;\"></div>\n",
       "            <script type=\"text/javascript\">\n",
       "                require([\"plotly\"], function(Plotly) {\n",
       "                    window.PLOTLYENV=window.PLOTLYENV || {};\n",
       "                    \n",
       "                if (document.getElementById(\"863b2aa8-6df6-4e7c-9927-f324d4408e87\")) {\n",
       "                    Plotly.newPlot(\n",
       "                        '863b2aa8-6df6-4e7c-9927-f324d4408e87',\n",
       "                        [{\"jitter\": 0.05, \"line\": {\"color\": \"green\"}, \"meanline\": {\"visible\": true}, \"name\": \"BOW SGD\", \"pointpos\": -1.4, \"points\": \"all\", \"scalegroup\": \"BOW\", \"scalemode\": \"count\", \"side\": \"negative\", \"type\": \"violin\", \"x0\": \"SGD Classifier\", \"y\": [0.5384615384615384, 0.46153846153846156, 0.46153846153846156, 0.358974358974359, 0.46153846153846156, 0.38461538461538464, 0.3076923076923077, 0.3333333333333333, 0.5128205128205128, 0.5641025641025641, 0.5641025641025641, 0.46153846153846156, 0.46153846153846156, 0.5128205128205128, 0.5897435897435898, 0.38461538461538464, 0.358974358974359, 0.5641025641025641, 0.4358974358974359, 0.6410256410256411, 0.717948717948718, 0.5641025641025641, 0.6153846153846154, 0.5897435897435898, 0.5641025641025641, 0.5897435897435898, 0.6923076923076923, 0.46153846153846156, 0.6666666666666666, 0.5897435897435898, 0.6410256410256411, 0.6923076923076923, 0.6153846153846154, 0.6923076923076923, 0.6410256410256411, 0.6666666666666666, 0.6842105263157895, 0.47368421052631576, 0.5789473684210527, 0.6052631578947368, 0.631578947368421, 0.39473684210526316, 0.5526315789473685, 0.5, 0.42105263157894735, 0.5789473684210527, 0.5789473684210527, 0.47368421052631576, 0.5, 0.34210526315789475]}, {\"jitter\": 0.05, \"line\": {\"color\": \"lightseagreen\"}, \"meanline\": {\"visible\": true}, \"name\": \"TFIDF SGD\", \"pointpos\": 1.4, \"points\": \"all\", \"scalegroup\": \"TFIDF\", \"scalemode\": \"count\", \"side\": \"positive\", \"type\": \"violin\", \"x0\": \"SGD Classifier\", \"y\": [0.5384615384615384, 0.5128205128205128, 0.46153846153846156, 0.46153846153846156, 0.5641025641025641, 0.48717948717948717, 0.3333333333333333, 0.3076923076923077, 0.5384615384615384, 0.5641025641025641, 0.5897435897435898, 0.46153846153846156, 0.41025641025641024, 0.48717948717948717, 0.6153846153846154, 0.358974358974359, 0.46153846153846156, 0.5384615384615384, 0.46153846153846156, 0.8205128205128205, 0.6923076923076923, 0.6923076923076923, 0.6410256410256411, 0.6410256410256411, 0.7435897435897436, 0.6410256410256411, 0.6666666666666666, 0.5128205128205128, 0.717948717948718, 0.6666666666666666, 0.6410256410256411, 0.7435897435897436, 0.6666666666666666, 0.7435897435897436, 0.6923076923076923, 0.6666666666666666, 0.7105263157894737, 0.6052631578947368, 0.6842105263157895, 0.6842105263157895, 0.5, 0.3684210526315789, 0.631578947368421, 0.5789473684210527, 0.4473684210526316, 0.5, 0.5789473684210527, 0.5526315789473685, 0.5, 0.34210526315789475]}, {\"jitter\": 0.05, \"line\": {\"color\": \"red\"}, \"meanline\": {\"visible\": true}, \"name\": \"BOW BNB\", \"pointpos\": -1.4, \"points\": \"all\", \"scalegroup\": \"BOW\", \"scalemode\": \"count\", \"side\": \"negative\", \"type\": \"violin\", \"x0\": \"Bernoulli NB\", \"y\": [0.48717948717948717, 0.5128205128205128, 0.46153846153846156, 0.46153846153846156, 0.5384615384615384, 0.48717948717948717, 0.2564102564102564, 0.28205128205128205, 0.5897435897435898, 0.5128205128205128, 0.5128205128205128, 0.46153846153846156, 0.38461538461538464, 0.48717948717948717, 0.5897435897435898, 0.3333333333333333, 0.41025641025641024, 0.5641025641025641, 0.5128205128205128, 0.7692307692307693, 0.6666666666666666, 0.7435897435897436, 0.6153846153846154, 0.7692307692307693, 0.6410256410256411, 0.6153846153846154, 0.6153846153846154, 0.5897435897435898, 0.7435897435897436, 0.6923076923076923, 0.8205128205128205, 0.6666666666666666, 0.6153846153846154, 0.7692307692307693, 0.6666666666666666, 0.6410256410256411, 0.631578947368421, 0.6842105263157895, 0.6578947368421053, 0.7105263157894737, 0.6052631578947368, 0.5, 0.7105263157894737, 0.6578947368421053, 0.5789473684210527, 0.47368421052631576, 0.5789473684210527, 0.4473684210526316, 0.5, 0.21052631578947367]}, {\"jitter\": 0.05, \"line\": {\"color\": \"darkmagenta\"}, \"meanline\": {\"visible\": true}, \"name\": \"TFIDF BNB\", \"pointpos\": 1.4, \"points\": \"all\", \"scalegroup\": \"TFIDF\", \"scalemode\": \"count\", \"side\": \"positive\", \"type\": \"violin\", \"x0\": \"Bernoulli NB\", \"y\": [0.48717948717948717, 0.5128205128205128, 0.46153846153846156, 0.46153846153846156, 0.5384615384615384, 0.48717948717948717, 0.2564102564102564, 0.28205128205128205, 0.5897435897435898, 0.5128205128205128, 0.5128205128205128, 0.46153846153846156, 0.38461538461538464, 0.48717948717948717, 0.5897435897435898, 0.3333333333333333, 0.41025641025641024, 0.5641025641025641, 0.5128205128205128, 0.7692307692307693, 0.6666666666666666, 0.7435897435897436, 0.6153846153846154, 0.7692307692307693, 0.6410256410256411, 0.6153846153846154, 0.6153846153846154, 0.5897435897435898, 0.7435897435897436, 0.6923076923076923, 0.8205128205128205, 0.6666666666666666, 0.6153846153846154, 0.7692307692307693, 0.6666666666666666, 0.6410256410256411, 0.631578947368421, 0.6842105263157895, 0.6578947368421053, 0.7105263157894737, 0.6052631578947368, 0.5, 0.7105263157894737, 0.6578947368421053, 0.5789473684210527, 0.47368421052631576, 0.5789473684210527, 0.4473684210526316, 0.5, 0.21052631578947367]}, {\"jitter\": 0.05, \"line\": {\"color\": \"blue\"}, \"meanline\": {\"visible\": true}, \"name\": \"BOW LR\", \"pointpos\": -1.4, \"points\": \"all\", \"scalegroup\": \"BOW\", \"scalemode\": \"count\", \"side\": \"negative\", \"type\": \"violin\", \"x0\": \"Logistic Regresion\", \"y\": [0.48717948717948717, 0.46153846153846156, 0.48717948717948717, 0.41025641025641024, 0.5384615384615384, 0.46153846153846156, 0.3333333333333333, 0.2564102564102564, 0.5897435897435898, 0.5897435897435898, 0.6153846153846154, 0.48717948717948717, 0.4358974358974359, 0.5641025641025641, 0.5897435897435898, 0.38461538461538464, 0.4358974358974359, 0.5641025641025641, 0.4358974358974359, 0.717948717948718, 0.6666666666666666, 0.6666666666666666, 0.6153846153846154, 0.6410256410256411, 0.6923076923076923, 0.5384615384615384, 0.6153846153846154, 0.48717948717948717, 0.717948717948718, 0.6153846153846154, 0.5897435897435898, 0.7435897435897436, 0.6666666666666666, 0.6923076923076923, 0.5897435897435898, 0.717948717948718, 0.6842105263157895, 0.6052631578947368, 0.5789473684210527, 0.631578947368421, 0.5526315789473685, 0.42105263157894735, 0.631578947368421, 0.5526315789473685, 0.39473684210526316, 0.5789473684210527, 0.5789473684210527, 0.5, 0.5, 0.3157894736842105]}, {\"jitter\": 0.05, \"line\": {\"color\": \"darkblue\"}, \"meanline\": {\"visible\": true}, \"name\": \"TFIDF LR\", \"pointpos\": 1.4, \"points\": \"all\", \"scalegroup\": \"TFIDF\", \"scalemode\": \"count\", \"side\": \"positive\", \"type\": \"violin\", \"x0\": \"Logistic Regresion\", \"y\": [0.48717948717948717, 0.46153846153846156, 0.46153846153846156, 0.46153846153846156, 0.6153846153846154, 0.46153846153846156, 0.358974358974359, 0.3333333333333333, 0.5897435897435898, 0.5128205128205128, 0.5128205128205128, 0.5128205128205128, 0.38461538461538464, 0.5384615384615384, 0.6410256410256411, 0.358974358974359, 0.41025641025641024, 0.6153846153846154, 0.48717948717948717, 0.8717948717948718, 0.7435897435897436, 0.717948717948718, 0.6666666666666666, 0.7948717948717948, 0.717948717948718, 0.717948717948718, 0.6666666666666666, 0.6410256410256411, 0.717948717948718, 0.717948717948718, 0.7948717948717948, 0.8461538461538461, 0.5641025641025641, 0.6923076923076923, 0.6923076923076923, 0.7692307692307693, 0.7105263157894737, 0.7631578947368421, 0.7631578947368421, 0.7368421052631579, 0.5263157894736842, 0.5, 0.7105263157894737, 0.5789473684210527, 0.5, 0.5, 0.5526315789473685, 0.47368421052631576, 0.5263157894736842, 0.21052631578947367]}, {\"jitter\": 0.05, \"line\": {\"color\": \"black\"}, \"meanline\": {\"visible\": true}, \"name\": \"BOW MNB\", \"pointpos\": -1.4, \"points\": \"all\", \"scalegroup\": \"BOW\", \"scalemode\": \"count\", \"side\": \"negative\", \"type\": \"violin\", \"x0\": \"Multinomial NB\", \"y\": [0.5128205128205128, 0.5384615384615384, 0.46153846153846156, 0.5128205128205128, 0.5641025641025641, 0.5384615384615384, 0.3333333333333333, 0.4358974358974359, 0.5897435897435898, 0.5384615384615384, 0.6153846153846154, 0.48717948717948717, 0.38461538461538464, 0.5384615384615384, 0.6153846153846154, 0.4358974358974359, 0.41025641025641024, 0.6153846153846154, 0.48717948717948717, 0.7435897435897436, 0.717948717948718, 0.7435897435897436, 0.6666666666666666, 0.717948717948718, 0.6923076923076923, 0.6923076923076923, 0.6410256410256411, 0.5384615384615384, 0.7948717948717948, 0.6923076923076923, 0.6923076923076923, 0.6410256410256411, 0.6666666666666666, 0.7692307692307693, 0.6410256410256411, 0.717948717948718, 0.7105263157894737, 0.5263157894736842, 0.5526315789473685, 0.6842105263157895, 0.6578947368421053, 0.47368421052631576, 0.6052631578947368, 0.6052631578947368, 0.631578947368421, 0.6052631578947368, 0.5789473684210527, 0.4473684210526316, 0.5, 0.23684210526315788]}, {\"jitter\": 0.05, \"line\": {\"color\": \"gray\"}, \"meanline\": {\"visible\": true}, \"name\": \"TFIDF MNB\", \"pointpos\": 1.4, \"points\": \"all\", \"scalemode\": \"count\", \"side\": \"positive\", \"type\": \"violin\", \"x0\": \"Multinomial NB\", \"y\": [0.46153846153846156, 0.46153846153846156, 0.46153846153846156, 0.4358974358974359, 0.5384615384615384, 0.4358974358974359, 0.3076923076923077, 0.3076923076923077, 0.5897435897435898, 0.5128205128205128, 0.5384615384615384, 0.5128205128205128, 0.38461538461538464, 0.5384615384615384, 0.6153846153846154, 0.3076923076923077, 0.41025641025641024, 0.5641025641025641, 0.5128205128205128, 0.7948717948717948, 0.6923076923076923, 0.717948717948718, 0.6153846153846154, 0.8205128205128205, 0.6666666666666666, 0.6410256410256411, 0.6410256410256411, 0.717948717948718, 0.6923076923076923, 0.6666666666666666, 0.7692307692307693, 0.7948717948717948, 0.5641025641025641, 0.717948717948718, 0.6666666666666666, 0.7435897435897436, 0.6578947368421053, 0.7631578947368421, 0.7631578947368421, 0.7368421052631579, 0.47368421052631576, 0.5, 0.7105263157894737, 0.631578947368421, 0.5263157894736842, 0.47368421052631576, 0.5789473684210527, 0.4473684210526316, 0.5263157894736842, 0.18421052631578946]}, {\"line\": {\"color\": \"darkslategrey\", \"dash\": \"dash\"}, \"name\": \"Lexicon Simple\", \"type\": \"scatter\", \"x\": [\"SGD Classifier\", \"Multinomial NB\"], \"y\": [0.4112, 0.4112]}, {\"line\": {\"color\": \"darkslateblue\", \"dash\": \"dot\"}, \"name\": \"Lexicon Polarity\", \"type\": \"scatter\", \"x\": [\"SGD Classifier\", \"Multinomial NB\"], \"y\": [0.4804, 0.4804]}],\n",
       "                        {\"template\": {\"data\": {\"bar\": [{\"error_x\": {\"color\": \"#2a3f5f\"}, \"error_y\": {\"color\": \"#2a3f5f\"}, \"marker\": {\"line\": {\"color\": \"#E5ECF6\", \"width\": 0.5}}, \"type\": \"bar\"}], \"barpolar\": [{\"marker\": {\"line\": {\"color\": \"#E5ECF6\", \"width\": 0.5}}, \"type\": \"barpolar\"}], \"carpet\": [{\"aaxis\": {\"endlinecolor\": \"#2a3f5f\", \"gridcolor\": \"white\", \"linecolor\": \"white\", \"minorgridcolor\": \"white\", \"startlinecolor\": \"#2a3f5f\"}, \"baxis\": {\"endlinecolor\": \"#2a3f5f\", \"gridcolor\": \"white\", \"linecolor\": \"white\", \"minorgridcolor\": \"white\", \"startlinecolor\": \"#2a3f5f\"}, \"type\": \"carpet\"}], \"choropleth\": [{\"colorbar\": {\"outlinewidth\": 0, \"ticks\": \"\"}, \"type\": \"choropleth\"}], \"contour\": [{\"colorbar\": {\"outlinewidth\": 0, \"ticks\": \"\"}, \"colorscale\": [[0.0, \"#0d0887\"], [0.1111111111111111, \"#46039f\"], [0.2222222222222222, \"#7201a8\"], [0.3333333333333333, \"#9c179e\"], [0.4444444444444444, \"#bd3786\"], [0.5555555555555556, \"#d8576b\"], [0.6666666666666666, \"#ed7953\"], [0.7777777777777778, \"#fb9f3a\"], [0.8888888888888888, \"#fdca26\"], [1.0, \"#f0f921\"]], \"type\": \"contour\"}], \"contourcarpet\": [{\"colorbar\": {\"outlinewidth\": 0, \"ticks\": \"\"}, \"type\": \"contourcarpet\"}], \"heatmap\": [{\"colorbar\": {\"outlinewidth\": 0, \"ticks\": \"\"}, \"colorscale\": [[0.0, \"#0d0887\"], [0.1111111111111111, \"#46039f\"], [0.2222222222222222, \"#7201a8\"], [0.3333333333333333, \"#9c179e\"], [0.4444444444444444, \"#bd3786\"], [0.5555555555555556, \"#d8576b\"], [0.6666666666666666, \"#ed7953\"], [0.7777777777777778, \"#fb9f3a\"], [0.8888888888888888, \"#fdca26\"], [1.0, \"#f0f921\"]], \"type\": \"heatmap\"}], \"heatmapgl\": [{\"colorbar\": {\"outlinewidth\": 0, \"ticks\": \"\"}, \"colorscale\": [[0.0, \"#0d0887\"], [0.1111111111111111, \"#46039f\"], [0.2222222222222222, \"#7201a8\"], [0.3333333333333333, \"#9c179e\"], [0.4444444444444444, \"#bd3786\"], [0.5555555555555556, \"#d8576b\"], [0.6666666666666666, \"#ed7953\"], [0.7777777777777778, \"#fb9f3a\"], [0.8888888888888888, \"#fdca26\"], [1.0, \"#f0f921\"]], \"type\": \"heatmapgl\"}], \"histogram\": [{\"marker\": {\"colorbar\": {\"outlinewidth\": 0, \"ticks\": \"\"}}, \"type\": \"histogram\"}], \"histogram2d\": [{\"colorbar\": {\"outlinewidth\": 0, \"ticks\": \"\"}, \"colorscale\": [[0.0, \"#0d0887\"], [0.1111111111111111, \"#46039f\"], [0.2222222222222222, \"#7201a8\"], [0.3333333333333333, \"#9c179e\"], [0.4444444444444444, \"#bd3786\"], [0.5555555555555556, \"#d8576b\"], [0.6666666666666666, \"#ed7953\"], [0.7777777777777778, \"#fb9f3a\"], [0.8888888888888888, \"#fdca26\"], [1.0, \"#f0f921\"]], \"type\": \"histogram2d\"}], \"histogram2dcontour\": [{\"colorbar\": {\"outlinewidth\": 0, \"ticks\": \"\"}, \"colorscale\": [[0.0, \"#0d0887\"], [0.1111111111111111, \"#46039f\"], [0.2222222222222222, \"#7201a8\"], [0.3333333333333333, \"#9c179e\"], [0.4444444444444444, \"#bd3786\"], [0.5555555555555556, \"#d8576b\"], [0.6666666666666666, \"#ed7953\"], [0.7777777777777778, \"#fb9f3a\"], [0.8888888888888888, \"#fdca26\"], [1.0, \"#f0f921\"]], \"type\": \"histogram2dcontour\"}], \"mesh3d\": [{\"colorbar\": {\"outlinewidth\": 0, \"ticks\": \"\"}, \"type\": \"mesh3d\"}], \"parcoords\": [{\"line\": {\"colorbar\": {\"outlinewidth\": 0, \"ticks\": \"\"}}, \"type\": \"parcoords\"}], \"pie\": [{\"automargin\": true, \"type\": \"pie\"}], \"scatter\": [{\"marker\": {\"colorbar\": {\"outlinewidth\": 0, \"ticks\": \"\"}}, \"type\": \"scatter\"}], \"scatter3d\": [{\"line\": {\"colorbar\": {\"outlinewidth\": 0, \"ticks\": \"\"}}, \"marker\": {\"colorbar\": {\"outlinewidth\": 0, \"ticks\": \"\"}}, \"type\": \"scatter3d\"}], \"scattercarpet\": [{\"marker\": {\"colorbar\": {\"outlinewidth\": 0, \"ticks\": \"\"}}, \"type\": \"scattercarpet\"}], \"scattergeo\": [{\"marker\": {\"colorbar\": {\"outlinewidth\": 0, \"ticks\": \"\"}}, \"type\": \"scattergeo\"}], \"scattergl\": [{\"marker\": {\"colorbar\": {\"outlinewidth\": 0, \"ticks\": \"\"}}, \"type\": \"scattergl\"}], \"scattermapbox\": [{\"marker\": {\"colorbar\": {\"outlinewidth\": 0, \"ticks\": \"\"}}, \"type\": \"scattermapbox\"}], \"scatterpolar\": [{\"marker\": {\"colorbar\": {\"outlinewidth\": 0, \"ticks\": \"\"}}, \"type\": \"scatterpolar\"}], \"scatterpolargl\": [{\"marker\": {\"colorbar\": {\"outlinewidth\": 0, \"ticks\": \"\"}}, \"type\": \"scatterpolargl\"}], \"scatterternary\": [{\"marker\": {\"colorbar\": {\"outlinewidth\": 0, \"ticks\": \"\"}}, \"type\": \"scatterternary\"}], \"surface\": [{\"colorbar\": {\"outlinewidth\": 0, \"ticks\": \"\"}, \"colorscale\": [[0.0, \"#0d0887\"], [0.1111111111111111, \"#46039f\"], [0.2222222222222222, \"#7201a8\"], [0.3333333333333333, \"#9c179e\"], [0.4444444444444444, \"#bd3786\"], [0.5555555555555556, \"#d8576b\"], [0.6666666666666666, \"#ed7953\"], [0.7777777777777778, \"#fb9f3a\"], [0.8888888888888888, \"#fdca26\"], [1.0, \"#f0f921\"]], \"type\": \"surface\"}], \"table\": [{\"cells\": {\"fill\": {\"color\": \"#EBF0F8\"}, \"line\": {\"color\": \"white\"}}, \"header\": {\"fill\": {\"color\": \"#C8D4E3\"}, \"line\": {\"color\": \"white\"}}, \"type\": \"table\"}]}, \"layout\": {\"annotationdefaults\": {\"arrowcolor\": \"#2a3f5f\", \"arrowhead\": 0, \"arrowwidth\": 1}, \"coloraxis\": {\"colorbar\": {\"outlinewidth\": 0, \"ticks\": \"\"}}, \"colorscale\": {\"diverging\": [[0, \"#8e0152\"], [0.1, \"#c51b7d\"], [0.2, \"#de77ae\"], [0.3, \"#f1b6da\"], [0.4, \"#fde0ef\"], [0.5, \"#f7f7f7\"], [0.6, \"#e6f5d0\"], [0.7, \"#b8e186\"], [0.8, \"#7fbc41\"], [0.9, \"#4d9221\"], [1, \"#276419\"]], \"sequential\": [[0.0, \"#0d0887\"], [0.1111111111111111, \"#46039f\"], [0.2222222222222222, \"#7201a8\"], [0.3333333333333333, \"#9c179e\"], [0.4444444444444444, \"#bd3786\"], [0.5555555555555556, \"#d8576b\"], [0.6666666666666666, \"#ed7953\"], [0.7777777777777778, \"#fb9f3a\"], [0.8888888888888888, \"#fdca26\"], [1.0, \"#f0f921\"]], \"sequentialminus\": [[0.0, \"#0d0887\"], [0.1111111111111111, \"#46039f\"], [0.2222222222222222, \"#7201a8\"], [0.3333333333333333, \"#9c179e\"], [0.4444444444444444, \"#bd3786\"], [0.5555555555555556, \"#d8576b\"], [0.6666666666666666, \"#ed7953\"], [0.7777777777777778, \"#fb9f3a\"], [0.8888888888888888, \"#fdca26\"], [1.0, \"#f0f921\"]]}, \"colorway\": [\"#636efa\", \"#EF553B\", \"#00cc96\", \"#ab63fa\", \"#FFA15A\", \"#19d3f3\", \"#FF6692\", \"#B6E880\", \"#FF97FF\", \"#FECB52\"], \"font\": {\"color\": \"#2a3f5f\"}, \"geo\": {\"bgcolor\": \"white\", \"lakecolor\": \"white\", \"landcolor\": \"#E5ECF6\", \"showlakes\": true, \"showland\": true, \"subunitcolor\": \"white\"}, \"hoverlabel\": {\"align\": \"left\"}, \"hovermode\": \"closest\", \"mapbox\": {\"style\": \"light\"}, \"paper_bgcolor\": \"white\", \"plot_bgcolor\": \"#E5ECF6\", \"polar\": {\"angularaxis\": {\"gridcolor\": \"white\", \"linecolor\": \"white\", \"ticks\": \"\"}, \"bgcolor\": \"#E5ECF6\", \"radialaxis\": {\"gridcolor\": \"white\", \"linecolor\": \"white\", \"ticks\": \"\"}}, \"scene\": {\"xaxis\": {\"backgroundcolor\": \"#E5ECF6\", \"gridcolor\": \"white\", \"gridwidth\": 2, \"linecolor\": \"white\", \"showbackground\": true, \"ticks\": \"\", \"zerolinecolor\": \"white\"}, \"yaxis\": {\"backgroundcolor\": \"#E5ECF6\", \"gridcolor\": \"white\", \"gridwidth\": 2, \"linecolor\": \"white\", \"showbackground\": true, \"ticks\": \"\", \"zerolinecolor\": \"white\"}, \"zaxis\": {\"backgroundcolor\": \"#E5ECF6\", \"gridcolor\": \"white\", \"gridwidth\": 2, \"linecolor\": \"white\", \"showbackground\": true, \"ticks\": \"\", \"zerolinecolor\": \"white\"}}, \"shapedefaults\": {\"line\": {\"color\": \"#2a3f5f\"}}, \"ternary\": {\"aaxis\": {\"gridcolor\": \"white\", \"linecolor\": \"white\", \"ticks\": \"\"}, \"baxis\": {\"gridcolor\": \"white\", \"linecolor\": \"white\", \"ticks\": \"\"}, \"bgcolor\": \"#E5ECF6\", \"caxis\": {\"gridcolor\": \"white\", \"linecolor\": \"white\", \"ticks\": \"\"}}, \"title\": {\"x\": 0.05}, \"xaxis\": {\"automargin\": true, \"gridcolor\": \"white\", \"linecolor\": \"white\", \"ticks\": \"\", \"title\": {\"standoff\": 15}, \"zerolinecolor\": \"white\", \"zerolinewidth\": 2}, \"yaxis\": {\"automargin\": true, \"gridcolor\": \"white\", \"linecolor\": \"white\", \"ticks\": \"\", \"title\": {\"standoff\": 15}, \"zerolinecolor\": \"white\", \"zerolinewidth\": 2}}}, \"title\": {\"text\": \"Recall\"}, \"violingap\": 0, \"violingroupgap\": 0.6, \"violinmode\": \"overlay\"},\n",
       "                        {\"responsive\": true}\n",
       "                    ).then(function(){\n",
       "                            \n",
       "var gd = document.getElementById('863b2aa8-6df6-4e7c-9927-f324d4408e87');\n",
       "var x = new MutationObserver(function (mutations, observer) {{\n",
       "        var display = window.getComputedStyle(gd).display;\n",
       "        if (!display || display === 'none') {{\n",
       "            console.log([gd, 'removed!']);\n",
       "            Plotly.purge(gd);\n",
       "            observer.disconnect();\n",
       "        }}\n",
       "}});\n",
       "\n",
       "// Listen for the removal of the full notebook cells\n",
       "var notebookContainer = gd.closest('#notebook-container');\n",
       "if (notebookContainer) {{\n",
       "    x.observe(notebookContainer, {childList: true});\n",
       "}}\n",
       "\n",
       "// Listen for the clearing of the current output cell\n",
       "var outputEl = gd.closest('.output');\n",
       "if (outputEl) {{\n",
       "    x.observe(outputEl, {childList: true});\n",
       "}}\n",
       "\n",
       "                        })\n",
       "                };\n",
       "                });\n",
       "            </script>\n",
       "        </div>"
      ]
     },
     "metadata": {},
     "output_type": "display_data"
    }
   ],
   "source": [
    "plots_metrics(recall_BOW_SGD, recall_TFIDF_SGD, recall_BOW_BNB, recall_TFIDF_BNB, recall_BOW_LR, recall_TFIDF_LR,\n",
    "                 recall_BOW_MNB, recall_TFIDF_MNB, \"Recall\",0.4112,0.4804)"
   ]
  },
  {
   "cell_type": "code",
   "execution_count": 87,
   "metadata": {},
   "outputs": [],
   "source": [
    "def first_quantile(metric):\n",
    "    q1=np.quantile(metric,0.25)\n",
    "    q1_metric = [x for x in metric if x < q1]\n",
    "    return q1_metric\n",
    "\n",
    "def plots_metrics_q1(metric_BOW_SGD, metric_TFIDF_SGD, metric_BOW_BNB, metric_TFIDF_BNB, \n",
    "                  metric_BOW_LR, metric_TFIDF_LR,metric_BOW_MNB, metric_TFIDF_MNB, measure):\n",
    "    fig = go.Figure()\n",
    "    fig.add_trace(go.Violin(y=metric_BOW_SGD, scalegroup='BOW', name='BOW SGD',side='negative',\n",
    "                            pointpos=-1.4,line_color='green',x0='SGD Classifier'))\n",
    "    fig.add_trace(go.Violin(y=metric_TFIDF_SGD, scalegroup='TFIDF', name='TFIDF SGD',side='positive', \n",
    "                            pointpos=1.4,line_color='lightseagreen',x0='SGD Classifier'))\n",
    "    fig.add_trace(go.Violin(y=metric_BOW_BNB, scalegroup='BOW', name='BOW BNB',side='negative',\n",
    "                            pointpos=-1.4,line_color='red', x0='Bernoulli NB'))\n",
    "    fig.add_trace(go.Violin(y=metric_TFIDF_BNB, scalegroup='TFIDF', name='TFIDF BNB',side='positive',\n",
    "                            pointpos=1.4,line_color='darkmagenta',x0='Bernoulli NB'))\n",
    "    fig.add_trace(go.Violin(y=metric_BOW_LR, scalegroup='BOW', name='BOW LR',side='negative',\n",
    "                            pointpos=-1.4,line_color='blue',x0='Logistic Regresion'))\n",
    "    fig.add_trace(go.Violin(y=metric_TFIDF_LR, scalegroup='TFIDF', name='TFIDF LR',side='positive',\n",
    "                            pointpos=1.4,line_color='darkblue', x0='Logistic Regresion'))\n",
    "    fig.add_trace(go.Violin(y=metric_BOW_MNB, scalegroup='BOW', name='BOW MNB',side='negative',\n",
    "                            pointpos=-1.4,line_color='black', x0='Multinomial NB'))\n",
    "    fig.add_trace(go.Violin(y=metric_TFIDF_MNB, name='TFIDF MNB',side='positive',\n",
    "                            pointpos=1.4,line_color='gray', x0='Multinomial NB'))\n",
    "    fig.update_traces(meanline_visible=True, points='all', jitter=0.05, scalemode='count')\n",
    "    fig.update_layout(title_text=measure,violingap=0, violingroupgap=0.6, violinmode='overlay')\n",
    "    fig.write_image(\"images/\"+measure+\"_q1.png\")\n",
    "    fig.show()\n",
    "\n",
    "\n",
    "def dataframe_metrics_q1(BOW_SGD,TFIDF_SGD,BOW_BNB,TFIDF_BNB,\n",
    "                         BOW_LR,TFIDF_LR,BOW_MNB,TFIDF_MNB,measure):\n",
    "    q1_BOW_SGD=first_quantile(BOW_SGD)\n",
    "    q1_TFIDF_SGD=first_quantile(TFIDF_SGD)\n",
    "    q1_BOW_BNB=first_quantile(BOW_BNB)\n",
    "    q1_TFIDF_BNB=first_quantile(TFIDF_BNB)\n",
    "    q1_BOW_LR=first_quantile(BOW_LR)\n",
    "    q1_TFIDF_LR=first_quantile(TFIDF_LR)\n",
    "    q1_BOW_MNB=first_quantile(BOW_MNB)\n",
    "    q1_TFIDF_MNB=first_quantile(TFIDF_MNB)\n",
    "    plots_metrics_q1(q1_BOW_SGD, q1_TFIDF_SGD, q1_BOW_BNB, q1_TFIDF_BNB, \n",
    "                  q1_BOW_LR, q1_TFIDF_LR,q1_BOW_MNB, q1_TFIDF_MNB, measure)\n",
    "    "
   ]
  },
  {
   "cell_type": "code",
   "execution_count": 88,
   "metadata": {},
   "outputs": [
    {
     "data": {
      "application/vnd.plotly.v1+json": {
       "config": {
        "plotlyServerURL": "https://plot.ly"
       },
       "data": [
        {
         "jitter": 0.05,
         "line": {
          "color": "green"
         },
         "meanline": {
          "visible": true
         },
         "name": "BOW SGD",
         "pointpos": -1.4,
         "points": "all",
         "scalegroup": "BOW",
         "scalemode": "count",
         "side": "negative",
         "type": "violin",
         "x0": "SGD Classifier",
         "y": [
          0.358974358974359,
          0.38461538461538464,
          0.3076923076923077,
          0.3333333333333333,
          0.38461538461538464,
          0.358974358974359,
          0.4358974358974359,
          0.39473684210526316,
          0.42105263157894735,
          0.34210526315789475
         ]
        },
        {
         "jitter": 0.05,
         "line": {
          "color": "lightseagreen"
         },
         "meanline": {
          "visible": true
         },
         "name": "TFIDF SGD",
         "pointpos": 1.4,
         "points": "all",
         "scalegroup": "TFIDF",
         "scalemode": "count",
         "side": "positive",
         "type": "violin",
         "x0": "SGD Classifier",
         "y": [
          0.46153846153846156,
          0.46153846153846156,
          0.3333333333333333,
          0.3076923076923077,
          0.46153846153846156,
          0.41025641025641024,
          0.358974358974359,
          0.46153846153846156,
          0.46153846153846156,
          0.3684210526315789,
          0.4473684210526316,
          0.34210526315789475
         ]
        },
        {
         "jitter": 0.05,
         "line": {
          "color": "red"
         },
         "meanline": {
          "visible": true
         },
         "name": "BOW BNB",
         "pointpos": -1.4,
         "points": "all",
         "scalegroup": "BOW",
         "scalemode": "count",
         "side": "negative",
         "type": "violin",
         "x0": "Bernoulli NB",
         "y": [
          0.46153846153846156,
          0.46153846153846156,
          0.2564102564102564,
          0.28205128205128205,
          0.46153846153846156,
          0.38461538461538464,
          0.3333333333333333,
          0.41025641025641024,
          0.47368421052631576,
          0.4473684210526316,
          0.21052631578947367
         ]
        },
        {
         "jitter": 0.05,
         "line": {
          "color": "darkmagenta"
         },
         "meanline": {
          "visible": true
         },
         "name": "TFIDF BNB",
         "pointpos": 1.4,
         "points": "all",
         "scalegroup": "TFIDF",
         "scalemode": "count",
         "side": "positive",
         "type": "violin",
         "x0": "Bernoulli NB",
         "y": [
          0.46153846153846156,
          0.46153846153846156,
          0.2564102564102564,
          0.28205128205128205,
          0.46153846153846156,
          0.38461538461538464,
          0.3333333333333333,
          0.41025641025641024,
          0.47368421052631576,
          0.4473684210526316,
          0.21052631578947367
         ]
        },
        {
         "jitter": 0.05,
         "line": {
          "color": "blue"
         },
         "meanline": {
          "visible": true
         },
         "name": "BOW LR",
         "pointpos": -1.4,
         "points": "all",
         "scalegroup": "BOW",
         "scalemode": "count",
         "side": "negative",
         "type": "violin",
         "x0": "Logistic Regresion",
         "y": [
          0.46153846153846156,
          0.41025641025641024,
          0.46153846153846156,
          0.3333333333333333,
          0.2564102564102564,
          0.4358974358974359,
          0.38461538461538464,
          0.4358974358974359,
          0.4358974358974359,
          0.42105263157894735,
          0.39473684210526316,
          0.3157894736842105
         ]
        },
        {
         "jitter": 0.05,
         "line": {
          "color": "darkblue"
         },
         "meanline": {
          "visible": true
         },
         "name": "TFIDF LR",
         "pointpos": 1.4,
         "points": "all",
         "scalegroup": "TFIDF",
         "scalemode": "count",
         "side": "positive",
         "type": "violin",
         "x0": "Logistic Regresion",
         "y": [
          0.48717948717948717,
          0.46153846153846156,
          0.46153846153846156,
          0.46153846153846156,
          0.46153846153846156,
          0.358974358974359,
          0.3333333333333333,
          0.38461538461538464,
          0.358974358974359,
          0.41025641025641024,
          0.48717948717948717,
          0.47368421052631576,
          0.21052631578947367
         ]
        },
        {
         "jitter": 0.05,
         "line": {
          "color": "black"
         },
         "meanline": {
          "visible": true
         },
         "name": "BOW MNB",
         "pointpos": -1.4,
         "points": "all",
         "scalegroup": "BOW",
         "scalemode": "count",
         "side": "negative",
         "type": "violin",
         "x0": "Multinomial NB",
         "y": [
          0.46153846153846156,
          0.3333333333333333,
          0.4358974358974359,
          0.48717948717948717,
          0.38461538461538464,
          0.4358974358974359,
          0.41025641025641024,
          0.48717948717948717,
          0.47368421052631576,
          0.4473684210526316,
          0.5,
          0.23684210526315788
         ]
        },
        {
         "jitter": 0.05,
         "line": {
          "color": "gray"
         },
         "meanline": {
          "visible": true
         },
         "name": "TFIDF MNB",
         "pointpos": 1.4,
         "points": "all",
         "scalemode": "count",
         "side": "positive",
         "type": "violin",
         "x0": "Multinomial NB",
         "y": [
          0.46153846153846156,
          0.46153846153846156,
          0.46153846153846156,
          0.4358974358974359,
          0.4358974358974359,
          0.3076923076923077,
          0.3076923076923077,
          0.38461538461538464,
          0.3076923076923077,
          0.41025641025641024,
          0.4473684210526316,
          0.18421052631578946
         ]
        }
       ],
       "layout": {
        "template": {
         "data": {
          "bar": [
           {
            "error_x": {
             "color": "#2a3f5f"
            },
            "error_y": {
             "color": "#2a3f5f"
            },
            "marker": {
             "line": {
              "color": "#E5ECF6",
              "width": 0.5
             }
            },
            "type": "bar"
           }
          ],
          "barpolar": [
           {
            "marker": {
             "line": {
              "color": "#E5ECF6",
              "width": 0.5
             }
            },
            "type": "barpolar"
           }
          ],
          "carpet": [
           {
            "aaxis": {
             "endlinecolor": "#2a3f5f",
             "gridcolor": "white",
             "linecolor": "white",
             "minorgridcolor": "white",
             "startlinecolor": "#2a3f5f"
            },
            "baxis": {
             "endlinecolor": "#2a3f5f",
             "gridcolor": "white",
             "linecolor": "white",
             "minorgridcolor": "white",
             "startlinecolor": "#2a3f5f"
            },
            "type": "carpet"
           }
          ],
          "choropleth": [
           {
            "colorbar": {
             "outlinewidth": 0,
             "ticks": ""
            },
            "type": "choropleth"
           }
          ],
          "contour": [
           {
            "colorbar": {
             "outlinewidth": 0,
             "ticks": ""
            },
            "colorscale": [
             [
              0,
              "#0d0887"
             ],
             [
              0.1111111111111111,
              "#46039f"
             ],
             [
              0.2222222222222222,
              "#7201a8"
             ],
             [
              0.3333333333333333,
              "#9c179e"
             ],
             [
              0.4444444444444444,
              "#bd3786"
             ],
             [
              0.5555555555555556,
              "#d8576b"
             ],
             [
              0.6666666666666666,
              "#ed7953"
             ],
             [
              0.7777777777777778,
              "#fb9f3a"
             ],
             [
              0.8888888888888888,
              "#fdca26"
             ],
             [
              1,
              "#f0f921"
             ]
            ],
            "type": "contour"
           }
          ],
          "contourcarpet": [
           {
            "colorbar": {
             "outlinewidth": 0,
             "ticks": ""
            },
            "type": "contourcarpet"
           }
          ],
          "heatmap": [
           {
            "colorbar": {
             "outlinewidth": 0,
             "ticks": ""
            },
            "colorscale": [
             [
              0,
              "#0d0887"
             ],
             [
              0.1111111111111111,
              "#46039f"
             ],
             [
              0.2222222222222222,
              "#7201a8"
             ],
             [
              0.3333333333333333,
              "#9c179e"
             ],
             [
              0.4444444444444444,
              "#bd3786"
             ],
             [
              0.5555555555555556,
              "#d8576b"
             ],
             [
              0.6666666666666666,
              "#ed7953"
             ],
             [
              0.7777777777777778,
              "#fb9f3a"
             ],
             [
              0.8888888888888888,
              "#fdca26"
             ],
             [
              1,
              "#f0f921"
             ]
            ],
            "type": "heatmap"
           }
          ],
          "heatmapgl": [
           {
            "colorbar": {
             "outlinewidth": 0,
             "ticks": ""
            },
            "colorscale": [
             [
              0,
              "#0d0887"
             ],
             [
              0.1111111111111111,
              "#46039f"
             ],
             [
              0.2222222222222222,
              "#7201a8"
             ],
             [
              0.3333333333333333,
              "#9c179e"
             ],
             [
              0.4444444444444444,
              "#bd3786"
             ],
             [
              0.5555555555555556,
              "#d8576b"
             ],
             [
              0.6666666666666666,
              "#ed7953"
             ],
             [
              0.7777777777777778,
              "#fb9f3a"
             ],
             [
              0.8888888888888888,
              "#fdca26"
             ],
             [
              1,
              "#f0f921"
             ]
            ],
            "type": "heatmapgl"
           }
          ],
          "histogram": [
           {
            "marker": {
             "colorbar": {
              "outlinewidth": 0,
              "ticks": ""
             }
            },
            "type": "histogram"
           }
          ],
          "histogram2d": [
           {
            "colorbar": {
             "outlinewidth": 0,
             "ticks": ""
            },
            "colorscale": [
             [
              0,
              "#0d0887"
             ],
             [
              0.1111111111111111,
              "#46039f"
             ],
             [
              0.2222222222222222,
              "#7201a8"
             ],
             [
              0.3333333333333333,
              "#9c179e"
             ],
             [
              0.4444444444444444,
              "#bd3786"
             ],
             [
              0.5555555555555556,
              "#d8576b"
             ],
             [
              0.6666666666666666,
              "#ed7953"
             ],
             [
              0.7777777777777778,
              "#fb9f3a"
             ],
             [
              0.8888888888888888,
              "#fdca26"
             ],
             [
              1,
              "#f0f921"
             ]
            ],
            "type": "histogram2d"
           }
          ],
          "histogram2dcontour": [
           {
            "colorbar": {
             "outlinewidth": 0,
             "ticks": ""
            },
            "colorscale": [
             [
              0,
              "#0d0887"
             ],
             [
              0.1111111111111111,
              "#46039f"
             ],
             [
              0.2222222222222222,
              "#7201a8"
             ],
             [
              0.3333333333333333,
              "#9c179e"
             ],
             [
              0.4444444444444444,
              "#bd3786"
             ],
             [
              0.5555555555555556,
              "#d8576b"
             ],
             [
              0.6666666666666666,
              "#ed7953"
             ],
             [
              0.7777777777777778,
              "#fb9f3a"
             ],
             [
              0.8888888888888888,
              "#fdca26"
             ],
             [
              1,
              "#f0f921"
             ]
            ],
            "type": "histogram2dcontour"
           }
          ],
          "mesh3d": [
           {
            "colorbar": {
             "outlinewidth": 0,
             "ticks": ""
            },
            "type": "mesh3d"
           }
          ],
          "parcoords": [
           {
            "line": {
             "colorbar": {
              "outlinewidth": 0,
              "ticks": ""
             }
            },
            "type": "parcoords"
           }
          ],
          "pie": [
           {
            "automargin": true,
            "type": "pie"
           }
          ],
          "scatter": [
           {
            "marker": {
             "colorbar": {
              "outlinewidth": 0,
              "ticks": ""
             }
            },
            "type": "scatter"
           }
          ],
          "scatter3d": [
           {
            "line": {
             "colorbar": {
              "outlinewidth": 0,
              "ticks": ""
             }
            },
            "marker": {
             "colorbar": {
              "outlinewidth": 0,
              "ticks": ""
             }
            },
            "type": "scatter3d"
           }
          ],
          "scattercarpet": [
           {
            "marker": {
             "colorbar": {
              "outlinewidth": 0,
              "ticks": ""
             }
            },
            "type": "scattercarpet"
           }
          ],
          "scattergeo": [
           {
            "marker": {
             "colorbar": {
              "outlinewidth": 0,
              "ticks": ""
             }
            },
            "type": "scattergeo"
           }
          ],
          "scattergl": [
           {
            "marker": {
             "colorbar": {
              "outlinewidth": 0,
              "ticks": ""
             }
            },
            "type": "scattergl"
           }
          ],
          "scattermapbox": [
           {
            "marker": {
             "colorbar": {
              "outlinewidth": 0,
              "ticks": ""
             }
            },
            "type": "scattermapbox"
           }
          ],
          "scatterpolar": [
           {
            "marker": {
             "colorbar": {
              "outlinewidth": 0,
              "ticks": ""
             }
            },
            "type": "scatterpolar"
           }
          ],
          "scatterpolargl": [
           {
            "marker": {
             "colorbar": {
              "outlinewidth": 0,
              "ticks": ""
             }
            },
            "type": "scatterpolargl"
           }
          ],
          "scatterternary": [
           {
            "marker": {
             "colorbar": {
              "outlinewidth": 0,
              "ticks": ""
             }
            },
            "type": "scatterternary"
           }
          ],
          "surface": [
           {
            "colorbar": {
             "outlinewidth": 0,
             "ticks": ""
            },
            "colorscale": [
             [
              0,
              "#0d0887"
             ],
             [
              0.1111111111111111,
              "#46039f"
             ],
             [
              0.2222222222222222,
              "#7201a8"
             ],
             [
              0.3333333333333333,
              "#9c179e"
             ],
             [
              0.4444444444444444,
              "#bd3786"
             ],
             [
              0.5555555555555556,
              "#d8576b"
             ],
             [
              0.6666666666666666,
              "#ed7953"
             ],
             [
              0.7777777777777778,
              "#fb9f3a"
             ],
             [
              0.8888888888888888,
              "#fdca26"
             ],
             [
              1,
              "#f0f921"
             ]
            ],
            "type": "surface"
           }
          ],
          "table": [
           {
            "cells": {
             "fill": {
              "color": "#EBF0F8"
             },
             "line": {
              "color": "white"
             }
            },
            "header": {
             "fill": {
              "color": "#C8D4E3"
             },
             "line": {
              "color": "white"
             }
            },
            "type": "table"
           }
          ]
         },
         "layout": {
          "annotationdefaults": {
           "arrowcolor": "#2a3f5f",
           "arrowhead": 0,
           "arrowwidth": 1
          },
          "coloraxis": {
           "colorbar": {
            "outlinewidth": 0,
            "ticks": ""
           }
          },
          "colorscale": {
           "diverging": [
            [
             0,
             "#8e0152"
            ],
            [
             0.1,
             "#c51b7d"
            ],
            [
             0.2,
             "#de77ae"
            ],
            [
             0.3,
             "#f1b6da"
            ],
            [
             0.4,
             "#fde0ef"
            ],
            [
             0.5,
             "#f7f7f7"
            ],
            [
             0.6,
             "#e6f5d0"
            ],
            [
             0.7,
             "#b8e186"
            ],
            [
             0.8,
             "#7fbc41"
            ],
            [
             0.9,
             "#4d9221"
            ],
            [
             1,
             "#276419"
            ]
           ],
           "sequential": [
            [
             0,
             "#0d0887"
            ],
            [
             0.1111111111111111,
             "#46039f"
            ],
            [
             0.2222222222222222,
             "#7201a8"
            ],
            [
             0.3333333333333333,
             "#9c179e"
            ],
            [
             0.4444444444444444,
             "#bd3786"
            ],
            [
             0.5555555555555556,
             "#d8576b"
            ],
            [
             0.6666666666666666,
             "#ed7953"
            ],
            [
             0.7777777777777778,
             "#fb9f3a"
            ],
            [
             0.8888888888888888,
             "#fdca26"
            ],
            [
             1,
             "#f0f921"
            ]
           ],
           "sequentialminus": [
            [
             0,
             "#0d0887"
            ],
            [
             0.1111111111111111,
             "#46039f"
            ],
            [
             0.2222222222222222,
             "#7201a8"
            ],
            [
             0.3333333333333333,
             "#9c179e"
            ],
            [
             0.4444444444444444,
             "#bd3786"
            ],
            [
             0.5555555555555556,
             "#d8576b"
            ],
            [
             0.6666666666666666,
             "#ed7953"
            ],
            [
             0.7777777777777778,
             "#fb9f3a"
            ],
            [
             0.8888888888888888,
             "#fdca26"
            ],
            [
             1,
             "#f0f921"
            ]
           ]
          },
          "colorway": [
           "#636efa",
           "#EF553B",
           "#00cc96",
           "#ab63fa",
           "#FFA15A",
           "#19d3f3",
           "#FF6692",
           "#B6E880",
           "#FF97FF",
           "#FECB52"
          ],
          "font": {
           "color": "#2a3f5f"
          },
          "geo": {
           "bgcolor": "white",
           "lakecolor": "white",
           "landcolor": "#E5ECF6",
           "showlakes": true,
           "showland": true,
           "subunitcolor": "white"
          },
          "hoverlabel": {
           "align": "left"
          },
          "hovermode": "closest",
          "mapbox": {
           "style": "light"
          },
          "paper_bgcolor": "white",
          "plot_bgcolor": "#E5ECF6",
          "polar": {
           "angularaxis": {
            "gridcolor": "white",
            "linecolor": "white",
            "ticks": ""
           },
           "bgcolor": "#E5ECF6",
           "radialaxis": {
            "gridcolor": "white",
            "linecolor": "white",
            "ticks": ""
           }
          },
          "scene": {
           "xaxis": {
            "backgroundcolor": "#E5ECF6",
            "gridcolor": "white",
            "gridwidth": 2,
            "linecolor": "white",
            "showbackground": true,
            "ticks": "",
            "zerolinecolor": "white"
           },
           "yaxis": {
            "backgroundcolor": "#E5ECF6",
            "gridcolor": "white",
            "gridwidth": 2,
            "linecolor": "white",
            "showbackground": true,
            "ticks": "",
            "zerolinecolor": "white"
           },
           "zaxis": {
            "backgroundcolor": "#E5ECF6",
            "gridcolor": "white",
            "gridwidth": 2,
            "linecolor": "white",
            "showbackground": true,
            "ticks": "",
            "zerolinecolor": "white"
           }
          },
          "shapedefaults": {
           "line": {
            "color": "#2a3f5f"
           }
          },
          "ternary": {
           "aaxis": {
            "gridcolor": "white",
            "linecolor": "white",
            "ticks": ""
           },
           "baxis": {
            "gridcolor": "white",
            "linecolor": "white",
            "ticks": ""
           },
           "bgcolor": "#E5ECF6",
           "caxis": {
            "gridcolor": "white",
            "linecolor": "white",
            "ticks": ""
           }
          },
          "title": {
           "x": 0.05
          },
          "xaxis": {
           "automargin": true,
           "gridcolor": "white",
           "linecolor": "white",
           "ticks": "",
           "title": {
            "standoff": 15
           },
           "zerolinecolor": "white",
           "zerolinewidth": 2
          },
          "yaxis": {
           "automargin": true,
           "gridcolor": "white",
           "linecolor": "white",
           "ticks": "",
           "title": {
            "standoff": 15
           },
           "zerolinecolor": "white",
           "zerolinewidth": 2
          }
         }
        },
        "title": {
         "text": "Accuracy"
        },
        "violingap": 0,
        "violingroupgap": 0.6,
        "violinmode": "overlay"
       }
      },
      "text/html": [
       "<div>\n",
       "        \n",
       "        \n",
       "            <div id=\"d6e3443b-36ad-4b7c-a6eb-0657469715e7\" class=\"plotly-graph-div\" style=\"height:525px; width:100%;\"></div>\n",
       "            <script type=\"text/javascript\">\n",
       "                require([\"plotly\"], function(Plotly) {\n",
       "                    window.PLOTLYENV=window.PLOTLYENV || {};\n",
       "                    \n",
       "                if (document.getElementById(\"d6e3443b-36ad-4b7c-a6eb-0657469715e7\")) {\n",
       "                    Plotly.newPlot(\n",
       "                        'd6e3443b-36ad-4b7c-a6eb-0657469715e7',\n",
       "                        [{\"jitter\": 0.05, \"line\": {\"color\": \"green\"}, \"meanline\": {\"visible\": true}, \"name\": \"BOW SGD\", \"pointpos\": -1.4, \"points\": \"all\", \"scalegroup\": \"BOW\", \"scalemode\": \"count\", \"side\": \"negative\", \"type\": \"violin\", \"x0\": \"SGD Classifier\", \"y\": [0.358974358974359, 0.38461538461538464, 0.3076923076923077, 0.3333333333333333, 0.38461538461538464, 0.358974358974359, 0.4358974358974359, 0.39473684210526316, 0.42105263157894735, 0.34210526315789475]}, {\"jitter\": 0.05, \"line\": {\"color\": \"lightseagreen\"}, \"meanline\": {\"visible\": true}, \"name\": \"TFIDF SGD\", \"pointpos\": 1.4, \"points\": \"all\", \"scalegroup\": \"TFIDF\", \"scalemode\": \"count\", \"side\": \"positive\", \"type\": \"violin\", \"x0\": \"SGD Classifier\", \"y\": [0.46153846153846156, 0.46153846153846156, 0.3333333333333333, 0.3076923076923077, 0.46153846153846156, 0.41025641025641024, 0.358974358974359, 0.46153846153846156, 0.46153846153846156, 0.3684210526315789, 0.4473684210526316, 0.34210526315789475]}, {\"jitter\": 0.05, \"line\": {\"color\": \"red\"}, \"meanline\": {\"visible\": true}, \"name\": \"BOW BNB\", \"pointpos\": -1.4, \"points\": \"all\", \"scalegroup\": \"BOW\", \"scalemode\": \"count\", \"side\": \"negative\", \"type\": \"violin\", \"x0\": \"Bernoulli NB\", \"y\": [0.46153846153846156, 0.46153846153846156, 0.2564102564102564, 0.28205128205128205, 0.46153846153846156, 0.38461538461538464, 0.3333333333333333, 0.41025641025641024, 0.47368421052631576, 0.4473684210526316, 0.21052631578947367]}, {\"jitter\": 0.05, \"line\": {\"color\": \"darkmagenta\"}, \"meanline\": {\"visible\": true}, \"name\": \"TFIDF BNB\", \"pointpos\": 1.4, \"points\": \"all\", \"scalegroup\": \"TFIDF\", \"scalemode\": \"count\", \"side\": \"positive\", \"type\": \"violin\", \"x0\": \"Bernoulli NB\", \"y\": [0.46153846153846156, 0.46153846153846156, 0.2564102564102564, 0.28205128205128205, 0.46153846153846156, 0.38461538461538464, 0.3333333333333333, 0.41025641025641024, 0.47368421052631576, 0.4473684210526316, 0.21052631578947367]}, {\"jitter\": 0.05, \"line\": {\"color\": \"blue\"}, \"meanline\": {\"visible\": true}, \"name\": \"BOW LR\", \"pointpos\": -1.4, \"points\": \"all\", \"scalegroup\": \"BOW\", \"scalemode\": \"count\", \"side\": \"negative\", \"type\": \"violin\", \"x0\": \"Logistic Regresion\", \"y\": [0.46153846153846156, 0.41025641025641024, 0.46153846153846156, 0.3333333333333333, 0.2564102564102564, 0.4358974358974359, 0.38461538461538464, 0.4358974358974359, 0.4358974358974359, 0.42105263157894735, 0.39473684210526316, 0.3157894736842105]}, {\"jitter\": 0.05, \"line\": {\"color\": \"darkblue\"}, \"meanline\": {\"visible\": true}, \"name\": \"TFIDF LR\", \"pointpos\": 1.4, \"points\": \"all\", \"scalegroup\": \"TFIDF\", \"scalemode\": \"count\", \"side\": \"positive\", \"type\": \"violin\", \"x0\": \"Logistic Regresion\", \"y\": [0.48717948717948717, 0.46153846153846156, 0.46153846153846156, 0.46153846153846156, 0.46153846153846156, 0.358974358974359, 0.3333333333333333, 0.38461538461538464, 0.358974358974359, 0.41025641025641024, 0.48717948717948717, 0.47368421052631576, 0.21052631578947367]}, {\"jitter\": 0.05, \"line\": {\"color\": \"black\"}, \"meanline\": {\"visible\": true}, \"name\": \"BOW MNB\", \"pointpos\": -1.4, \"points\": \"all\", \"scalegroup\": \"BOW\", \"scalemode\": \"count\", \"side\": \"negative\", \"type\": \"violin\", \"x0\": \"Multinomial NB\", \"y\": [0.46153846153846156, 0.3333333333333333, 0.4358974358974359, 0.48717948717948717, 0.38461538461538464, 0.4358974358974359, 0.41025641025641024, 0.48717948717948717, 0.47368421052631576, 0.4473684210526316, 0.5, 0.23684210526315788]}, {\"jitter\": 0.05, \"line\": {\"color\": \"gray\"}, \"meanline\": {\"visible\": true}, \"name\": \"TFIDF MNB\", \"pointpos\": 1.4, \"points\": \"all\", \"scalemode\": \"count\", \"side\": \"positive\", \"type\": \"violin\", \"x0\": \"Multinomial NB\", \"y\": [0.46153846153846156, 0.46153846153846156, 0.46153846153846156, 0.4358974358974359, 0.4358974358974359, 0.3076923076923077, 0.3076923076923077, 0.38461538461538464, 0.3076923076923077, 0.41025641025641024, 0.4473684210526316, 0.18421052631578946]}],\n",
       "                        {\"template\": {\"data\": {\"bar\": [{\"error_x\": {\"color\": \"#2a3f5f\"}, \"error_y\": {\"color\": \"#2a3f5f\"}, \"marker\": {\"line\": {\"color\": \"#E5ECF6\", \"width\": 0.5}}, \"type\": \"bar\"}], \"barpolar\": [{\"marker\": {\"line\": {\"color\": \"#E5ECF6\", \"width\": 0.5}}, \"type\": \"barpolar\"}], \"carpet\": [{\"aaxis\": {\"endlinecolor\": \"#2a3f5f\", \"gridcolor\": \"white\", \"linecolor\": \"white\", \"minorgridcolor\": \"white\", \"startlinecolor\": \"#2a3f5f\"}, \"baxis\": {\"endlinecolor\": \"#2a3f5f\", \"gridcolor\": \"white\", \"linecolor\": \"white\", \"minorgridcolor\": \"white\", \"startlinecolor\": \"#2a3f5f\"}, \"type\": \"carpet\"}], \"choropleth\": [{\"colorbar\": {\"outlinewidth\": 0, \"ticks\": \"\"}, \"type\": \"choropleth\"}], \"contour\": [{\"colorbar\": {\"outlinewidth\": 0, \"ticks\": \"\"}, \"colorscale\": [[0.0, \"#0d0887\"], [0.1111111111111111, \"#46039f\"], [0.2222222222222222, \"#7201a8\"], [0.3333333333333333, \"#9c179e\"], [0.4444444444444444, \"#bd3786\"], [0.5555555555555556, \"#d8576b\"], [0.6666666666666666, \"#ed7953\"], [0.7777777777777778, \"#fb9f3a\"], [0.8888888888888888, \"#fdca26\"], [1.0, \"#f0f921\"]], \"type\": \"contour\"}], \"contourcarpet\": [{\"colorbar\": {\"outlinewidth\": 0, \"ticks\": \"\"}, \"type\": \"contourcarpet\"}], \"heatmap\": [{\"colorbar\": {\"outlinewidth\": 0, \"ticks\": \"\"}, \"colorscale\": [[0.0, \"#0d0887\"], [0.1111111111111111, \"#46039f\"], [0.2222222222222222, \"#7201a8\"], [0.3333333333333333, \"#9c179e\"], [0.4444444444444444, \"#bd3786\"], [0.5555555555555556, \"#d8576b\"], [0.6666666666666666, \"#ed7953\"], [0.7777777777777778, \"#fb9f3a\"], [0.8888888888888888, \"#fdca26\"], [1.0, \"#f0f921\"]], \"type\": \"heatmap\"}], \"heatmapgl\": [{\"colorbar\": {\"outlinewidth\": 0, \"ticks\": \"\"}, \"colorscale\": [[0.0, \"#0d0887\"], [0.1111111111111111, \"#46039f\"], [0.2222222222222222, \"#7201a8\"], [0.3333333333333333, \"#9c179e\"], [0.4444444444444444, \"#bd3786\"], [0.5555555555555556, \"#d8576b\"], [0.6666666666666666, \"#ed7953\"], [0.7777777777777778, \"#fb9f3a\"], [0.8888888888888888, \"#fdca26\"], [1.0, \"#f0f921\"]], \"type\": \"heatmapgl\"}], \"histogram\": [{\"marker\": {\"colorbar\": {\"outlinewidth\": 0, \"ticks\": \"\"}}, \"type\": \"histogram\"}], \"histogram2d\": [{\"colorbar\": {\"outlinewidth\": 0, \"ticks\": \"\"}, \"colorscale\": [[0.0, \"#0d0887\"], [0.1111111111111111, \"#46039f\"], [0.2222222222222222, \"#7201a8\"], [0.3333333333333333, \"#9c179e\"], [0.4444444444444444, \"#bd3786\"], [0.5555555555555556, \"#d8576b\"], [0.6666666666666666, \"#ed7953\"], [0.7777777777777778, \"#fb9f3a\"], [0.8888888888888888, \"#fdca26\"], [1.0, \"#f0f921\"]], \"type\": \"histogram2d\"}], \"histogram2dcontour\": [{\"colorbar\": {\"outlinewidth\": 0, \"ticks\": \"\"}, \"colorscale\": [[0.0, \"#0d0887\"], [0.1111111111111111, \"#46039f\"], [0.2222222222222222, \"#7201a8\"], [0.3333333333333333, \"#9c179e\"], [0.4444444444444444, \"#bd3786\"], [0.5555555555555556, \"#d8576b\"], [0.6666666666666666, \"#ed7953\"], [0.7777777777777778, \"#fb9f3a\"], [0.8888888888888888, \"#fdca26\"], [1.0, \"#f0f921\"]], \"type\": \"histogram2dcontour\"}], \"mesh3d\": [{\"colorbar\": {\"outlinewidth\": 0, \"ticks\": \"\"}, \"type\": \"mesh3d\"}], \"parcoords\": [{\"line\": {\"colorbar\": {\"outlinewidth\": 0, \"ticks\": \"\"}}, \"type\": \"parcoords\"}], \"pie\": [{\"automargin\": true, \"type\": \"pie\"}], \"scatter\": [{\"marker\": {\"colorbar\": {\"outlinewidth\": 0, \"ticks\": \"\"}}, \"type\": \"scatter\"}], \"scatter3d\": [{\"line\": {\"colorbar\": {\"outlinewidth\": 0, \"ticks\": \"\"}}, \"marker\": {\"colorbar\": {\"outlinewidth\": 0, \"ticks\": \"\"}}, \"type\": \"scatter3d\"}], \"scattercarpet\": [{\"marker\": {\"colorbar\": {\"outlinewidth\": 0, \"ticks\": \"\"}}, \"type\": \"scattercarpet\"}], \"scattergeo\": [{\"marker\": {\"colorbar\": {\"outlinewidth\": 0, \"ticks\": \"\"}}, \"type\": \"scattergeo\"}], \"scattergl\": [{\"marker\": {\"colorbar\": {\"outlinewidth\": 0, \"ticks\": \"\"}}, \"type\": \"scattergl\"}], \"scattermapbox\": [{\"marker\": {\"colorbar\": {\"outlinewidth\": 0, \"ticks\": \"\"}}, \"type\": \"scattermapbox\"}], \"scatterpolar\": [{\"marker\": {\"colorbar\": {\"outlinewidth\": 0, \"ticks\": \"\"}}, \"type\": \"scatterpolar\"}], \"scatterpolargl\": [{\"marker\": {\"colorbar\": {\"outlinewidth\": 0, \"ticks\": \"\"}}, \"type\": \"scatterpolargl\"}], \"scatterternary\": [{\"marker\": {\"colorbar\": {\"outlinewidth\": 0, \"ticks\": \"\"}}, \"type\": \"scatterternary\"}], \"surface\": [{\"colorbar\": {\"outlinewidth\": 0, \"ticks\": \"\"}, \"colorscale\": [[0.0, \"#0d0887\"], [0.1111111111111111, \"#46039f\"], [0.2222222222222222, \"#7201a8\"], [0.3333333333333333, \"#9c179e\"], [0.4444444444444444, \"#bd3786\"], [0.5555555555555556, \"#d8576b\"], [0.6666666666666666, \"#ed7953\"], [0.7777777777777778, \"#fb9f3a\"], [0.8888888888888888, \"#fdca26\"], [1.0, \"#f0f921\"]], \"type\": \"surface\"}], \"table\": [{\"cells\": {\"fill\": {\"color\": \"#EBF0F8\"}, \"line\": {\"color\": \"white\"}}, \"header\": {\"fill\": {\"color\": \"#C8D4E3\"}, \"line\": {\"color\": \"white\"}}, \"type\": \"table\"}]}, \"layout\": {\"annotationdefaults\": {\"arrowcolor\": \"#2a3f5f\", \"arrowhead\": 0, \"arrowwidth\": 1}, \"coloraxis\": {\"colorbar\": {\"outlinewidth\": 0, \"ticks\": \"\"}}, \"colorscale\": {\"diverging\": [[0, \"#8e0152\"], [0.1, \"#c51b7d\"], [0.2, \"#de77ae\"], [0.3, \"#f1b6da\"], [0.4, \"#fde0ef\"], [0.5, \"#f7f7f7\"], [0.6, \"#e6f5d0\"], [0.7, \"#b8e186\"], [0.8, \"#7fbc41\"], [0.9, \"#4d9221\"], [1, \"#276419\"]], \"sequential\": [[0.0, \"#0d0887\"], [0.1111111111111111, \"#46039f\"], [0.2222222222222222, \"#7201a8\"], [0.3333333333333333, \"#9c179e\"], [0.4444444444444444, \"#bd3786\"], [0.5555555555555556, \"#d8576b\"], [0.6666666666666666, \"#ed7953\"], [0.7777777777777778, \"#fb9f3a\"], [0.8888888888888888, \"#fdca26\"], [1.0, \"#f0f921\"]], \"sequentialminus\": [[0.0, \"#0d0887\"], [0.1111111111111111, \"#46039f\"], [0.2222222222222222, \"#7201a8\"], [0.3333333333333333, \"#9c179e\"], [0.4444444444444444, \"#bd3786\"], [0.5555555555555556, \"#d8576b\"], [0.6666666666666666, \"#ed7953\"], [0.7777777777777778, \"#fb9f3a\"], [0.8888888888888888, \"#fdca26\"], [1.0, \"#f0f921\"]]}, \"colorway\": [\"#636efa\", \"#EF553B\", \"#00cc96\", \"#ab63fa\", \"#FFA15A\", \"#19d3f3\", \"#FF6692\", \"#B6E880\", \"#FF97FF\", \"#FECB52\"], \"font\": {\"color\": \"#2a3f5f\"}, \"geo\": {\"bgcolor\": \"white\", \"lakecolor\": \"white\", \"landcolor\": \"#E5ECF6\", \"showlakes\": true, \"showland\": true, \"subunitcolor\": \"white\"}, \"hoverlabel\": {\"align\": \"left\"}, \"hovermode\": \"closest\", \"mapbox\": {\"style\": \"light\"}, \"paper_bgcolor\": \"white\", \"plot_bgcolor\": \"#E5ECF6\", \"polar\": {\"angularaxis\": {\"gridcolor\": \"white\", \"linecolor\": \"white\", \"ticks\": \"\"}, \"bgcolor\": \"#E5ECF6\", \"radialaxis\": {\"gridcolor\": \"white\", \"linecolor\": \"white\", \"ticks\": \"\"}}, \"scene\": {\"xaxis\": {\"backgroundcolor\": \"#E5ECF6\", \"gridcolor\": \"white\", \"gridwidth\": 2, \"linecolor\": \"white\", \"showbackground\": true, \"ticks\": \"\", \"zerolinecolor\": \"white\"}, \"yaxis\": {\"backgroundcolor\": \"#E5ECF6\", \"gridcolor\": \"white\", \"gridwidth\": 2, \"linecolor\": \"white\", \"showbackground\": true, \"ticks\": \"\", \"zerolinecolor\": \"white\"}, \"zaxis\": {\"backgroundcolor\": \"#E5ECF6\", \"gridcolor\": \"white\", \"gridwidth\": 2, \"linecolor\": \"white\", \"showbackground\": true, \"ticks\": \"\", \"zerolinecolor\": \"white\"}}, \"shapedefaults\": {\"line\": {\"color\": \"#2a3f5f\"}}, \"ternary\": {\"aaxis\": {\"gridcolor\": \"white\", \"linecolor\": \"white\", \"ticks\": \"\"}, \"baxis\": {\"gridcolor\": \"white\", \"linecolor\": \"white\", \"ticks\": \"\"}, \"bgcolor\": \"#E5ECF6\", \"caxis\": {\"gridcolor\": \"white\", \"linecolor\": \"white\", \"ticks\": \"\"}}, \"title\": {\"x\": 0.05}, \"xaxis\": {\"automargin\": true, \"gridcolor\": \"white\", \"linecolor\": \"white\", \"ticks\": \"\", \"title\": {\"standoff\": 15}, \"zerolinecolor\": \"white\", \"zerolinewidth\": 2}, \"yaxis\": {\"automargin\": true, \"gridcolor\": \"white\", \"linecolor\": \"white\", \"ticks\": \"\", \"title\": {\"standoff\": 15}, \"zerolinecolor\": \"white\", \"zerolinewidth\": 2}}}, \"title\": {\"text\": \"Accuracy\"}, \"violingap\": 0, \"violingroupgap\": 0.6, \"violinmode\": \"overlay\"},\n",
       "                        {\"responsive\": true}\n",
       "                    ).then(function(){\n",
       "                            \n",
       "var gd = document.getElementById('d6e3443b-36ad-4b7c-a6eb-0657469715e7');\n",
       "var x = new MutationObserver(function (mutations, observer) {{\n",
       "        var display = window.getComputedStyle(gd).display;\n",
       "        if (!display || display === 'none') {{\n",
       "            console.log([gd, 'removed!']);\n",
       "            Plotly.purge(gd);\n",
       "            observer.disconnect();\n",
       "        }}\n",
       "}});\n",
       "\n",
       "// Listen for the removal of the full notebook cells\n",
       "var notebookContainer = gd.closest('#notebook-container');\n",
       "if (notebookContainer) {{\n",
       "    x.observe(notebookContainer, {childList: true});\n",
       "}}\n",
       "\n",
       "// Listen for the clearing of the current output cell\n",
       "var outputEl = gd.closest('.output');\n",
       "if (outputEl) {{\n",
       "    x.observe(outputEl, {childList: true});\n",
       "}}\n",
       "\n",
       "                        })\n",
       "                };\n",
       "                });\n",
       "            </script>\n",
       "        </div>"
      ]
     },
     "metadata": {},
     "output_type": "display_data"
    }
   ],
   "source": [
    "dataframe_metrics_q1(acc_BOW_SGD, acc_TFIDF_SGD, acc_BOW_BNB, acc_TFIDF_BNB, acc_BOW_LR, acc_TFIDF_LR,\n",
    "                 acc_BOW_MNB, acc_TFIDF_MNB, \"Accuracy\")"
   ]
  },
  {
   "cell_type": "code",
   "execution_count": 89,
   "metadata": {},
   "outputs": [
    {
     "data": {
      "application/vnd.plotly.v1+json": {
       "config": {
        "plotlyServerURL": "https://plot.ly"
       },
       "data": [
        {
         "jitter": 0.05,
         "line": {
          "color": "green"
         },
         "meanline": {
          "visible": true
         },
         "name": "BOW SGD",
         "pointpos": -1.4,
         "points": "all",
         "scalegroup": "BOW",
         "scalemode": "count",
         "side": "negative",
         "type": "violin",
         "x0": "SGD Classifier",
         "y": [
          0.4391608391608391,
          0.33826429980276135,
          0.45769230769230773,
          0.41841491841491846,
          0.3424908424908425,
          0.48290598290598286,
          0.4285714285714285,
          0.3955574340189725,
          0.39350877192982453,
          0.48496240601503754,
          0.46105263157894744,
          0.48026315789473684,
          0.3642659279778393
         ]
        },
        {
         "jitter": 0.05,
         "line": {
          "color": "lightseagreen"
         },
         "meanline": {
          "visible": true
         },
         "name": "TFIDF SGD",
         "pointpos": 1.4,
         "points": "all",
         "scalegroup": "TFIDF",
         "scalemode": "count",
         "side": "positive",
         "type": "violin",
         "x0": "SGD Classifier",
         "y": [
          0.47435897435897434,
          0.4807692307692308,
          0.35347985347985345,
          0.5239610963748894,
          0.5324009324009324,
          0.5102564102564102,
          0.42592592592592593,
          0.5149572649572649,
          0.5042735042735043,
          0.28596491228070176,
          0.5131578947368421,
          0.39097744360902253,
          0.49542334096109836
         ]
        },
        {
         "jitter": 0.05,
         "line": {
          "color": "red"
         },
         "meanline": {
          "visible": true
         },
         "name": "BOW BNB",
         "pointpos": -1.4,
         "points": "all",
         "scalegroup": "BOW",
         "scalemode": "count",
         "side": "negative",
         "type": "violin",
         "x0": "Bernoulli NB",
         "y": [
          0.48290598290598286,
          0.519036519036519,
          0.4807692307692308,
          0.5291375291375291,
          0.5586080586080586,
          0.494949494949495,
          0.5221445221445221,
          0.4766214177978884,
          0.5355075032494387,
          0.5278637770897833,
          0.4605263157894737,
          0.4356725146198831,
          0.43942831215970957
         ]
        },
        {
         "jitter": 0.05,
         "line": {
          "color": "darkmagenta"
         },
         "meanline": {
          "visible": true
         },
         "name": "TFIDF BNB",
         "pointpos": 1.4,
         "points": "all",
         "scalegroup": "TFIDF",
         "scalemode": "count",
         "side": "positive",
         "type": "violin",
         "x0": "Bernoulli NB",
         "y": [
          0.48290598290598286,
          0.519036519036519,
          0.4807692307692308,
          0.5291375291375291,
          0.5586080586080586,
          0.494949494949495,
          0.5221445221445221,
          0.4766214177978884,
          0.5355075032494387,
          0.5278637770897833,
          0.4605263157894737,
          0.4356725146198831,
          0.43942831215970957
         ]
        },
        {
         "jitter": 0.05,
         "line": {
          "color": "blue"
         },
         "meanline": {
          "visible": true
         },
         "name": "BOW LR",
         "pointpos": -1.4,
         "points": "all",
         "scalegroup": "BOW",
         "scalemode": "count",
         "side": "negative",
         "type": "violin",
         "x0": "Logistic Regresion",
         "y": [
          0.4273504273504273,
          0.34444444444444444,
          0.5084615384615384,
          0.36617405582922824,
          0.4813895781637717,
          0.3892307692307692,
          0.5008965393580778,
          0.4960212201591512,
          0.4049131449312937,
          0.4934210526315789,
          0.4774436090225564,
          0.47129186602870804,
          0.4336978810663021
         ]
        },
        {
         "jitter": 0.05,
         "line": {
          "color": "darkblue"
         },
         "meanline": {
          "visible": true
         },
         "name": "TFIDF LR",
         "pointpos": 1.4,
         "points": "all",
         "scalegroup": "TFIDF",
         "scalemode": "count",
         "side": "positive",
         "type": "violin",
         "x0": "Logistic Regresion",
         "y": [
          0.5720720720720721,
          0.3631701631701632,
          0.5620782726045883,
          0.5726495726495727,
          0.4493927125506073,
          0.4636174636174636,
          0.5314685314685315,
          0.5156695156695157,
          0.5384615384615384,
          0.5509355509355509,
          0.4356725146198831,
          0.5768136557610242,
          0.5394736842105263
         ]
        },
        {
         "jitter": 0.05,
         "line": {
          "color": "black"
         },
         "meanline": {
          "visible": true
         },
         "name": "BOW MNB",
         "pointpos": -1.4,
         "points": "all",
         "scalegroup": "BOW",
         "scalemode": "count",
         "side": "negative",
         "type": "violin",
         "x0": "Multinomial NB",
         "y": [
          0.4535980148883374,
          0.5401709401709401,
          0.34969053934571176,
          0.5157509157509157,
          0.5046673756351175,
          0.3341103341103341,
          0.4377289377289377,
          0.49002849002849,
          0.42882404951370473,
          0.5401002506265664,
          0.3201754385964912,
          0.3993808049535604,
          0.33522267206477735
         ]
        },
        {
         "jitter": 0.05,
         "line": {
          "color": "gray"
         },
         "meanline": {
          "visible": true
         },
         "name": "TFIDF MNB",
         "pointpos": 1.4,
         "points": "all",
         "scalemode": "count",
         "side": "positive",
         "type": "violin",
         "x0": "Multinomial NB",
         "y": [
          0.398110661268556,
          0.5598290598290598,
          0.45951417004048584,
          0.3873144399460189,
          0.5208791208791208,
          0.5802968960863698,
          0.660968660968661,
          0.5411605937921729,
          0.4986504723346829,
          0.5843454790823213,
          0.75
         ]
        }
       ],
       "layout": {
        "template": {
         "data": {
          "bar": [
           {
            "error_x": {
             "color": "#2a3f5f"
            },
            "error_y": {
             "color": "#2a3f5f"
            },
            "marker": {
             "line": {
              "color": "#E5ECF6",
              "width": 0.5
             }
            },
            "type": "bar"
           }
          ],
          "barpolar": [
           {
            "marker": {
             "line": {
              "color": "#E5ECF6",
              "width": 0.5
             }
            },
            "type": "barpolar"
           }
          ],
          "carpet": [
           {
            "aaxis": {
             "endlinecolor": "#2a3f5f",
             "gridcolor": "white",
             "linecolor": "white",
             "minorgridcolor": "white",
             "startlinecolor": "#2a3f5f"
            },
            "baxis": {
             "endlinecolor": "#2a3f5f",
             "gridcolor": "white",
             "linecolor": "white",
             "minorgridcolor": "white",
             "startlinecolor": "#2a3f5f"
            },
            "type": "carpet"
           }
          ],
          "choropleth": [
           {
            "colorbar": {
             "outlinewidth": 0,
             "ticks": ""
            },
            "type": "choropleth"
           }
          ],
          "contour": [
           {
            "colorbar": {
             "outlinewidth": 0,
             "ticks": ""
            },
            "colorscale": [
             [
              0,
              "#0d0887"
             ],
             [
              0.1111111111111111,
              "#46039f"
             ],
             [
              0.2222222222222222,
              "#7201a8"
             ],
             [
              0.3333333333333333,
              "#9c179e"
             ],
             [
              0.4444444444444444,
              "#bd3786"
             ],
             [
              0.5555555555555556,
              "#d8576b"
             ],
             [
              0.6666666666666666,
              "#ed7953"
             ],
             [
              0.7777777777777778,
              "#fb9f3a"
             ],
             [
              0.8888888888888888,
              "#fdca26"
             ],
             [
              1,
              "#f0f921"
             ]
            ],
            "type": "contour"
           }
          ],
          "contourcarpet": [
           {
            "colorbar": {
             "outlinewidth": 0,
             "ticks": ""
            },
            "type": "contourcarpet"
           }
          ],
          "heatmap": [
           {
            "colorbar": {
             "outlinewidth": 0,
             "ticks": ""
            },
            "colorscale": [
             [
              0,
              "#0d0887"
             ],
             [
              0.1111111111111111,
              "#46039f"
             ],
             [
              0.2222222222222222,
              "#7201a8"
             ],
             [
              0.3333333333333333,
              "#9c179e"
             ],
             [
              0.4444444444444444,
              "#bd3786"
             ],
             [
              0.5555555555555556,
              "#d8576b"
             ],
             [
              0.6666666666666666,
              "#ed7953"
             ],
             [
              0.7777777777777778,
              "#fb9f3a"
             ],
             [
              0.8888888888888888,
              "#fdca26"
             ],
             [
              1,
              "#f0f921"
             ]
            ],
            "type": "heatmap"
           }
          ],
          "heatmapgl": [
           {
            "colorbar": {
             "outlinewidth": 0,
             "ticks": ""
            },
            "colorscale": [
             [
              0,
              "#0d0887"
             ],
             [
              0.1111111111111111,
              "#46039f"
             ],
             [
              0.2222222222222222,
              "#7201a8"
             ],
             [
              0.3333333333333333,
              "#9c179e"
             ],
             [
              0.4444444444444444,
              "#bd3786"
             ],
             [
              0.5555555555555556,
              "#d8576b"
             ],
             [
              0.6666666666666666,
              "#ed7953"
             ],
             [
              0.7777777777777778,
              "#fb9f3a"
             ],
             [
              0.8888888888888888,
              "#fdca26"
             ],
             [
              1,
              "#f0f921"
             ]
            ],
            "type": "heatmapgl"
           }
          ],
          "histogram": [
           {
            "marker": {
             "colorbar": {
              "outlinewidth": 0,
              "ticks": ""
             }
            },
            "type": "histogram"
           }
          ],
          "histogram2d": [
           {
            "colorbar": {
             "outlinewidth": 0,
             "ticks": ""
            },
            "colorscale": [
             [
              0,
              "#0d0887"
             ],
             [
              0.1111111111111111,
              "#46039f"
             ],
             [
              0.2222222222222222,
              "#7201a8"
             ],
             [
              0.3333333333333333,
              "#9c179e"
             ],
             [
              0.4444444444444444,
              "#bd3786"
             ],
             [
              0.5555555555555556,
              "#d8576b"
             ],
             [
              0.6666666666666666,
              "#ed7953"
             ],
             [
              0.7777777777777778,
              "#fb9f3a"
             ],
             [
              0.8888888888888888,
              "#fdca26"
             ],
             [
              1,
              "#f0f921"
             ]
            ],
            "type": "histogram2d"
           }
          ],
          "histogram2dcontour": [
           {
            "colorbar": {
             "outlinewidth": 0,
             "ticks": ""
            },
            "colorscale": [
             [
              0,
              "#0d0887"
             ],
             [
              0.1111111111111111,
              "#46039f"
             ],
             [
              0.2222222222222222,
              "#7201a8"
             ],
             [
              0.3333333333333333,
              "#9c179e"
             ],
             [
              0.4444444444444444,
              "#bd3786"
             ],
             [
              0.5555555555555556,
              "#d8576b"
             ],
             [
              0.6666666666666666,
              "#ed7953"
             ],
             [
              0.7777777777777778,
              "#fb9f3a"
             ],
             [
              0.8888888888888888,
              "#fdca26"
             ],
             [
              1,
              "#f0f921"
             ]
            ],
            "type": "histogram2dcontour"
           }
          ],
          "mesh3d": [
           {
            "colorbar": {
             "outlinewidth": 0,
             "ticks": ""
            },
            "type": "mesh3d"
           }
          ],
          "parcoords": [
           {
            "line": {
             "colorbar": {
              "outlinewidth": 0,
              "ticks": ""
             }
            },
            "type": "parcoords"
           }
          ],
          "pie": [
           {
            "automargin": true,
            "type": "pie"
           }
          ],
          "scatter": [
           {
            "marker": {
             "colorbar": {
              "outlinewidth": 0,
              "ticks": ""
             }
            },
            "type": "scatter"
           }
          ],
          "scatter3d": [
           {
            "line": {
             "colorbar": {
              "outlinewidth": 0,
              "ticks": ""
             }
            },
            "marker": {
             "colorbar": {
              "outlinewidth": 0,
              "ticks": ""
             }
            },
            "type": "scatter3d"
           }
          ],
          "scattercarpet": [
           {
            "marker": {
             "colorbar": {
              "outlinewidth": 0,
              "ticks": ""
             }
            },
            "type": "scattercarpet"
           }
          ],
          "scattergeo": [
           {
            "marker": {
             "colorbar": {
              "outlinewidth": 0,
              "ticks": ""
             }
            },
            "type": "scattergeo"
           }
          ],
          "scattergl": [
           {
            "marker": {
             "colorbar": {
              "outlinewidth": 0,
              "ticks": ""
             }
            },
            "type": "scattergl"
           }
          ],
          "scattermapbox": [
           {
            "marker": {
             "colorbar": {
              "outlinewidth": 0,
              "ticks": ""
             }
            },
            "type": "scattermapbox"
           }
          ],
          "scatterpolar": [
           {
            "marker": {
             "colorbar": {
              "outlinewidth": 0,
              "ticks": ""
             }
            },
            "type": "scatterpolar"
           }
          ],
          "scatterpolargl": [
           {
            "marker": {
             "colorbar": {
              "outlinewidth": 0,
              "ticks": ""
             }
            },
            "type": "scatterpolargl"
           }
          ],
          "scatterternary": [
           {
            "marker": {
             "colorbar": {
              "outlinewidth": 0,
              "ticks": ""
             }
            },
            "type": "scatterternary"
           }
          ],
          "surface": [
           {
            "colorbar": {
             "outlinewidth": 0,
             "ticks": ""
            },
            "colorscale": [
             [
              0,
              "#0d0887"
             ],
             [
              0.1111111111111111,
              "#46039f"
             ],
             [
              0.2222222222222222,
              "#7201a8"
             ],
             [
              0.3333333333333333,
              "#9c179e"
             ],
             [
              0.4444444444444444,
              "#bd3786"
             ],
             [
              0.5555555555555556,
              "#d8576b"
             ],
             [
              0.6666666666666666,
              "#ed7953"
             ],
             [
              0.7777777777777778,
              "#fb9f3a"
             ],
             [
              0.8888888888888888,
              "#fdca26"
             ],
             [
              1,
              "#f0f921"
             ]
            ],
            "type": "surface"
           }
          ],
          "table": [
           {
            "cells": {
             "fill": {
              "color": "#EBF0F8"
             },
             "line": {
              "color": "white"
             }
            },
            "header": {
             "fill": {
              "color": "#C8D4E3"
             },
             "line": {
              "color": "white"
             }
            },
            "type": "table"
           }
          ]
         },
         "layout": {
          "annotationdefaults": {
           "arrowcolor": "#2a3f5f",
           "arrowhead": 0,
           "arrowwidth": 1
          },
          "coloraxis": {
           "colorbar": {
            "outlinewidth": 0,
            "ticks": ""
           }
          },
          "colorscale": {
           "diverging": [
            [
             0,
             "#8e0152"
            ],
            [
             0.1,
             "#c51b7d"
            ],
            [
             0.2,
             "#de77ae"
            ],
            [
             0.3,
             "#f1b6da"
            ],
            [
             0.4,
             "#fde0ef"
            ],
            [
             0.5,
             "#f7f7f7"
            ],
            [
             0.6,
             "#e6f5d0"
            ],
            [
             0.7,
             "#b8e186"
            ],
            [
             0.8,
             "#7fbc41"
            ],
            [
             0.9,
             "#4d9221"
            ],
            [
             1,
             "#276419"
            ]
           ],
           "sequential": [
            [
             0,
             "#0d0887"
            ],
            [
             0.1111111111111111,
             "#46039f"
            ],
            [
             0.2222222222222222,
             "#7201a8"
            ],
            [
             0.3333333333333333,
             "#9c179e"
            ],
            [
             0.4444444444444444,
             "#bd3786"
            ],
            [
             0.5555555555555556,
             "#d8576b"
            ],
            [
             0.6666666666666666,
             "#ed7953"
            ],
            [
             0.7777777777777778,
             "#fb9f3a"
            ],
            [
             0.8888888888888888,
             "#fdca26"
            ],
            [
             1,
             "#f0f921"
            ]
           ],
           "sequentialminus": [
            [
             0,
             "#0d0887"
            ],
            [
             0.1111111111111111,
             "#46039f"
            ],
            [
             0.2222222222222222,
             "#7201a8"
            ],
            [
             0.3333333333333333,
             "#9c179e"
            ],
            [
             0.4444444444444444,
             "#bd3786"
            ],
            [
             0.5555555555555556,
             "#d8576b"
            ],
            [
             0.6666666666666666,
             "#ed7953"
            ],
            [
             0.7777777777777778,
             "#fb9f3a"
            ],
            [
             0.8888888888888888,
             "#fdca26"
            ],
            [
             1,
             "#f0f921"
            ]
           ]
          },
          "colorway": [
           "#636efa",
           "#EF553B",
           "#00cc96",
           "#ab63fa",
           "#FFA15A",
           "#19d3f3",
           "#FF6692",
           "#B6E880",
           "#FF97FF",
           "#FECB52"
          ],
          "font": {
           "color": "#2a3f5f"
          },
          "geo": {
           "bgcolor": "white",
           "lakecolor": "white",
           "landcolor": "#E5ECF6",
           "showlakes": true,
           "showland": true,
           "subunitcolor": "white"
          },
          "hoverlabel": {
           "align": "left"
          },
          "hovermode": "closest",
          "mapbox": {
           "style": "light"
          },
          "paper_bgcolor": "white",
          "plot_bgcolor": "#E5ECF6",
          "polar": {
           "angularaxis": {
            "gridcolor": "white",
            "linecolor": "white",
            "ticks": ""
           },
           "bgcolor": "#E5ECF6",
           "radialaxis": {
            "gridcolor": "white",
            "linecolor": "white",
            "ticks": ""
           }
          },
          "scene": {
           "xaxis": {
            "backgroundcolor": "#E5ECF6",
            "gridcolor": "white",
            "gridwidth": 2,
            "linecolor": "white",
            "showbackground": true,
            "ticks": "",
            "zerolinecolor": "white"
           },
           "yaxis": {
            "backgroundcolor": "#E5ECF6",
            "gridcolor": "white",
            "gridwidth": 2,
            "linecolor": "white",
            "showbackground": true,
            "ticks": "",
            "zerolinecolor": "white"
           },
           "zaxis": {
            "backgroundcolor": "#E5ECF6",
            "gridcolor": "white",
            "gridwidth": 2,
            "linecolor": "white",
            "showbackground": true,
            "ticks": "",
            "zerolinecolor": "white"
           }
          },
          "shapedefaults": {
           "line": {
            "color": "#2a3f5f"
           }
          },
          "ternary": {
           "aaxis": {
            "gridcolor": "white",
            "linecolor": "white",
            "ticks": ""
           },
           "baxis": {
            "gridcolor": "white",
            "linecolor": "white",
            "ticks": ""
           },
           "bgcolor": "#E5ECF6",
           "caxis": {
            "gridcolor": "white",
            "linecolor": "white",
            "ticks": ""
           }
          },
          "title": {
           "x": 0.05
          },
          "xaxis": {
           "automargin": true,
           "gridcolor": "white",
           "linecolor": "white",
           "ticks": "",
           "title": {
            "standoff": 15
           },
           "zerolinecolor": "white",
           "zerolinewidth": 2
          },
          "yaxis": {
           "automargin": true,
           "gridcolor": "white",
           "linecolor": "white",
           "ticks": "",
           "title": {
            "standoff": 15
           },
           "zerolinecolor": "white",
           "zerolinewidth": 2
          }
         }
        },
        "title": {
         "text": "Precision"
        },
        "violingap": 0,
        "violingroupgap": 0.6,
        "violinmode": "overlay"
       }
      },
      "text/html": [
       "<div>\n",
       "        \n",
       "        \n",
       "            <div id=\"362a9aec-6fd1-486e-9c3a-d1ed2c3dd9b7\" class=\"plotly-graph-div\" style=\"height:525px; width:100%;\"></div>\n",
       "            <script type=\"text/javascript\">\n",
       "                require([\"plotly\"], function(Plotly) {\n",
       "                    window.PLOTLYENV=window.PLOTLYENV || {};\n",
       "                    \n",
       "                if (document.getElementById(\"362a9aec-6fd1-486e-9c3a-d1ed2c3dd9b7\")) {\n",
       "                    Plotly.newPlot(\n",
       "                        '362a9aec-6fd1-486e-9c3a-d1ed2c3dd9b7',\n",
       "                        [{\"jitter\": 0.05, \"line\": {\"color\": \"green\"}, \"meanline\": {\"visible\": true}, \"name\": \"BOW SGD\", \"pointpos\": -1.4, \"points\": \"all\", \"scalegroup\": \"BOW\", \"scalemode\": \"count\", \"side\": \"negative\", \"type\": \"violin\", \"x0\": \"SGD Classifier\", \"y\": [0.4391608391608391, 0.33826429980276135, 0.45769230769230773, 0.41841491841491846, 0.3424908424908425, 0.48290598290598286, 0.4285714285714285, 0.3955574340189725, 0.39350877192982453, 0.48496240601503754, 0.46105263157894744, 0.48026315789473684, 0.3642659279778393]}, {\"jitter\": 0.05, \"line\": {\"color\": \"lightseagreen\"}, \"meanline\": {\"visible\": true}, \"name\": \"TFIDF SGD\", \"pointpos\": 1.4, \"points\": \"all\", \"scalegroup\": \"TFIDF\", \"scalemode\": \"count\", \"side\": \"positive\", \"type\": \"violin\", \"x0\": \"SGD Classifier\", \"y\": [0.47435897435897434, 0.4807692307692308, 0.35347985347985345, 0.5239610963748894, 0.5324009324009324, 0.5102564102564102, 0.42592592592592593, 0.5149572649572649, 0.5042735042735043, 0.28596491228070176, 0.5131578947368421, 0.39097744360902253, 0.49542334096109836]}, {\"jitter\": 0.05, \"line\": {\"color\": \"red\"}, \"meanline\": {\"visible\": true}, \"name\": \"BOW BNB\", \"pointpos\": -1.4, \"points\": \"all\", \"scalegroup\": \"BOW\", \"scalemode\": \"count\", \"side\": \"negative\", \"type\": \"violin\", \"x0\": \"Bernoulli NB\", \"y\": [0.48290598290598286, 0.519036519036519, 0.4807692307692308, 0.5291375291375291, 0.5586080586080586, 0.494949494949495, 0.5221445221445221, 0.4766214177978884, 0.5355075032494387, 0.5278637770897833, 0.4605263157894737, 0.4356725146198831, 0.43942831215970957]}, {\"jitter\": 0.05, \"line\": {\"color\": \"darkmagenta\"}, \"meanline\": {\"visible\": true}, \"name\": \"TFIDF BNB\", \"pointpos\": 1.4, \"points\": \"all\", \"scalegroup\": \"TFIDF\", \"scalemode\": \"count\", \"side\": \"positive\", \"type\": \"violin\", \"x0\": \"Bernoulli NB\", \"y\": [0.48290598290598286, 0.519036519036519, 0.4807692307692308, 0.5291375291375291, 0.5586080586080586, 0.494949494949495, 0.5221445221445221, 0.4766214177978884, 0.5355075032494387, 0.5278637770897833, 0.4605263157894737, 0.4356725146198831, 0.43942831215970957]}, {\"jitter\": 0.05, \"line\": {\"color\": \"blue\"}, \"meanline\": {\"visible\": true}, \"name\": \"BOW LR\", \"pointpos\": -1.4, \"points\": \"all\", \"scalegroup\": \"BOW\", \"scalemode\": \"count\", \"side\": \"negative\", \"type\": \"violin\", \"x0\": \"Logistic Regresion\", \"y\": [0.4273504273504273, 0.34444444444444444, 0.5084615384615384, 0.36617405582922824, 0.4813895781637717, 0.3892307692307692, 0.5008965393580778, 0.4960212201591512, 0.4049131449312937, 0.4934210526315789, 0.4774436090225564, 0.47129186602870804, 0.4336978810663021]}, {\"jitter\": 0.05, \"line\": {\"color\": \"darkblue\"}, \"meanline\": {\"visible\": true}, \"name\": \"TFIDF LR\", \"pointpos\": 1.4, \"points\": \"all\", \"scalegroup\": \"TFIDF\", \"scalemode\": \"count\", \"side\": \"positive\", \"type\": \"violin\", \"x0\": \"Logistic Regresion\", \"y\": [0.5720720720720721, 0.3631701631701632, 0.5620782726045883, 0.5726495726495727, 0.4493927125506073, 0.4636174636174636, 0.5314685314685315, 0.5156695156695157, 0.5384615384615384, 0.5509355509355509, 0.4356725146198831, 0.5768136557610242, 0.5394736842105263]}, {\"jitter\": 0.05, \"line\": {\"color\": \"black\"}, \"meanline\": {\"visible\": true}, \"name\": \"BOW MNB\", \"pointpos\": -1.4, \"points\": \"all\", \"scalegroup\": \"BOW\", \"scalemode\": \"count\", \"side\": \"negative\", \"type\": \"violin\", \"x0\": \"Multinomial NB\", \"y\": [0.4535980148883374, 0.5401709401709401, 0.34969053934571176, 0.5157509157509157, 0.5046673756351175, 0.3341103341103341, 0.4377289377289377, 0.49002849002849, 0.42882404951370473, 0.5401002506265664, 0.3201754385964912, 0.3993808049535604, 0.33522267206477735]}, {\"jitter\": 0.05, \"line\": {\"color\": \"gray\"}, \"meanline\": {\"visible\": true}, \"name\": \"TFIDF MNB\", \"pointpos\": 1.4, \"points\": \"all\", \"scalemode\": \"count\", \"side\": \"positive\", \"type\": \"violin\", \"x0\": \"Multinomial NB\", \"y\": [0.398110661268556, 0.5598290598290598, 0.45951417004048584, 0.3873144399460189, 0.5208791208791208, 0.5802968960863698, 0.660968660968661, 0.5411605937921729, 0.4986504723346829, 0.5843454790823213, 0.75]}],\n",
       "                        {\"template\": {\"data\": {\"bar\": [{\"error_x\": {\"color\": \"#2a3f5f\"}, \"error_y\": {\"color\": \"#2a3f5f\"}, \"marker\": {\"line\": {\"color\": \"#E5ECF6\", \"width\": 0.5}}, \"type\": \"bar\"}], \"barpolar\": [{\"marker\": {\"line\": {\"color\": \"#E5ECF6\", \"width\": 0.5}}, \"type\": \"barpolar\"}], \"carpet\": [{\"aaxis\": {\"endlinecolor\": \"#2a3f5f\", \"gridcolor\": \"white\", \"linecolor\": \"white\", \"minorgridcolor\": \"white\", \"startlinecolor\": \"#2a3f5f\"}, \"baxis\": {\"endlinecolor\": \"#2a3f5f\", \"gridcolor\": \"white\", \"linecolor\": \"white\", \"minorgridcolor\": \"white\", \"startlinecolor\": \"#2a3f5f\"}, \"type\": \"carpet\"}], \"choropleth\": [{\"colorbar\": {\"outlinewidth\": 0, \"ticks\": \"\"}, \"type\": \"choropleth\"}], \"contour\": [{\"colorbar\": {\"outlinewidth\": 0, \"ticks\": \"\"}, \"colorscale\": [[0.0, \"#0d0887\"], [0.1111111111111111, \"#46039f\"], [0.2222222222222222, \"#7201a8\"], [0.3333333333333333, \"#9c179e\"], [0.4444444444444444, \"#bd3786\"], [0.5555555555555556, \"#d8576b\"], [0.6666666666666666, \"#ed7953\"], [0.7777777777777778, \"#fb9f3a\"], [0.8888888888888888, \"#fdca26\"], [1.0, \"#f0f921\"]], \"type\": \"contour\"}], \"contourcarpet\": [{\"colorbar\": {\"outlinewidth\": 0, \"ticks\": \"\"}, \"type\": \"contourcarpet\"}], \"heatmap\": [{\"colorbar\": {\"outlinewidth\": 0, \"ticks\": \"\"}, \"colorscale\": [[0.0, \"#0d0887\"], [0.1111111111111111, \"#46039f\"], [0.2222222222222222, \"#7201a8\"], [0.3333333333333333, \"#9c179e\"], [0.4444444444444444, \"#bd3786\"], [0.5555555555555556, \"#d8576b\"], [0.6666666666666666, \"#ed7953\"], [0.7777777777777778, \"#fb9f3a\"], [0.8888888888888888, \"#fdca26\"], [1.0, \"#f0f921\"]], \"type\": \"heatmap\"}], \"heatmapgl\": [{\"colorbar\": {\"outlinewidth\": 0, \"ticks\": \"\"}, \"colorscale\": [[0.0, \"#0d0887\"], [0.1111111111111111, \"#46039f\"], [0.2222222222222222, \"#7201a8\"], [0.3333333333333333, \"#9c179e\"], [0.4444444444444444, \"#bd3786\"], [0.5555555555555556, \"#d8576b\"], [0.6666666666666666, \"#ed7953\"], [0.7777777777777778, \"#fb9f3a\"], [0.8888888888888888, \"#fdca26\"], [1.0, \"#f0f921\"]], \"type\": \"heatmapgl\"}], \"histogram\": [{\"marker\": {\"colorbar\": {\"outlinewidth\": 0, \"ticks\": \"\"}}, \"type\": \"histogram\"}], \"histogram2d\": [{\"colorbar\": {\"outlinewidth\": 0, \"ticks\": \"\"}, \"colorscale\": [[0.0, \"#0d0887\"], [0.1111111111111111, \"#46039f\"], [0.2222222222222222, \"#7201a8\"], [0.3333333333333333, \"#9c179e\"], [0.4444444444444444, \"#bd3786\"], [0.5555555555555556, \"#d8576b\"], [0.6666666666666666, \"#ed7953\"], [0.7777777777777778, \"#fb9f3a\"], [0.8888888888888888, \"#fdca26\"], [1.0, \"#f0f921\"]], \"type\": \"histogram2d\"}], \"histogram2dcontour\": [{\"colorbar\": {\"outlinewidth\": 0, \"ticks\": \"\"}, \"colorscale\": [[0.0, \"#0d0887\"], [0.1111111111111111, \"#46039f\"], [0.2222222222222222, \"#7201a8\"], [0.3333333333333333, \"#9c179e\"], [0.4444444444444444, \"#bd3786\"], [0.5555555555555556, \"#d8576b\"], [0.6666666666666666, \"#ed7953\"], [0.7777777777777778, \"#fb9f3a\"], [0.8888888888888888, \"#fdca26\"], [1.0, \"#f0f921\"]], \"type\": \"histogram2dcontour\"}], \"mesh3d\": [{\"colorbar\": {\"outlinewidth\": 0, \"ticks\": \"\"}, \"type\": \"mesh3d\"}], \"parcoords\": [{\"line\": {\"colorbar\": {\"outlinewidth\": 0, \"ticks\": \"\"}}, \"type\": \"parcoords\"}], \"pie\": [{\"automargin\": true, \"type\": \"pie\"}], \"scatter\": [{\"marker\": {\"colorbar\": {\"outlinewidth\": 0, \"ticks\": \"\"}}, \"type\": \"scatter\"}], \"scatter3d\": [{\"line\": {\"colorbar\": {\"outlinewidth\": 0, \"ticks\": \"\"}}, \"marker\": {\"colorbar\": {\"outlinewidth\": 0, \"ticks\": \"\"}}, \"type\": \"scatter3d\"}], \"scattercarpet\": [{\"marker\": {\"colorbar\": {\"outlinewidth\": 0, \"ticks\": \"\"}}, \"type\": \"scattercarpet\"}], \"scattergeo\": [{\"marker\": {\"colorbar\": {\"outlinewidth\": 0, \"ticks\": \"\"}}, \"type\": \"scattergeo\"}], \"scattergl\": [{\"marker\": {\"colorbar\": {\"outlinewidth\": 0, \"ticks\": \"\"}}, \"type\": \"scattergl\"}], \"scattermapbox\": [{\"marker\": {\"colorbar\": {\"outlinewidth\": 0, \"ticks\": \"\"}}, \"type\": \"scattermapbox\"}], \"scatterpolar\": [{\"marker\": {\"colorbar\": {\"outlinewidth\": 0, \"ticks\": \"\"}}, \"type\": \"scatterpolar\"}], \"scatterpolargl\": [{\"marker\": {\"colorbar\": {\"outlinewidth\": 0, \"ticks\": \"\"}}, \"type\": \"scatterpolargl\"}], \"scatterternary\": [{\"marker\": {\"colorbar\": {\"outlinewidth\": 0, \"ticks\": \"\"}}, \"type\": \"scatterternary\"}], \"surface\": [{\"colorbar\": {\"outlinewidth\": 0, \"ticks\": \"\"}, \"colorscale\": [[0.0, \"#0d0887\"], [0.1111111111111111, \"#46039f\"], [0.2222222222222222, \"#7201a8\"], [0.3333333333333333, \"#9c179e\"], [0.4444444444444444, \"#bd3786\"], [0.5555555555555556, \"#d8576b\"], [0.6666666666666666, \"#ed7953\"], [0.7777777777777778, \"#fb9f3a\"], [0.8888888888888888, \"#fdca26\"], [1.0, \"#f0f921\"]], \"type\": \"surface\"}], \"table\": [{\"cells\": {\"fill\": {\"color\": \"#EBF0F8\"}, \"line\": {\"color\": \"white\"}}, \"header\": {\"fill\": {\"color\": \"#C8D4E3\"}, \"line\": {\"color\": \"white\"}}, \"type\": \"table\"}]}, \"layout\": {\"annotationdefaults\": {\"arrowcolor\": \"#2a3f5f\", \"arrowhead\": 0, \"arrowwidth\": 1}, \"coloraxis\": {\"colorbar\": {\"outlinewidth\": 0, \"ticks\": \"\"}}, \"colorscale\": {\"diverging\": [[0, \"#8e0152\"], [0.1, \"#c51b7d\"], [0.2, \"#de77ae\"], [0.3, \"#f1b6da\"], [0.4, \"#fde0ef\"], [0.5, \"#f7f7f7\"], [0.6, \"#e6f5d0\"], [0.7, \"#b8e186\"], [0.8, \"#7fbc41\"], [0.9, \"#4d9221\"], [1, \"#276419\"]], \"sequential\": [[0.0, \"#0d0887\"], [0.1111111111111111, \"#46039f\"], [0.2222222222222222, \"#7201a8\"], [0.3333333333333333, \"#9c179e\"], [0.4444444444444444, \"#bd3786\"], [0.5555555555555556, \"#d8576b\"], [0.6666666666666666, \"#ed7953\"], [0.7777777777777778, \"#fb9f3a\"], [0.8888888888888888, \"#fdca26\"], [1.0, \"#f0f921\"]], \"sequentialminus\": [[0.0, \"#0d0887\"], [0.1111111111111111, \"#46039f\"], [0.2222222222222222, \"#7201a8\"], [0.3333333333333333, \"#9c179e\"], [0.4444444444444444, \"#bd3786\"], [0.5555555555555556, \"#d8576b\"], [0.6666666666666666, \"#ed7953\"], [0.7777777777777778, \"#fb9f3a\"], [0.8888888888888888, \"#fdca26\"], [1.0, \"#f0f921\"]]}, \"colorway\": [\"#636efa\", \"#EF553B\", \"#00cc96\", \"#ab63fa\", \"#FFA15A\", \"#19d3f3\", \"#FF6692\", \"#B6E880\", \"#FF97FF\", \"#FECB52\"], \"font\": {\"color\": \"#2a3f5f\"}, \"geo\": {\"bgcolor\": \"white\", \"lakecolor\": \"white\", \"landcolor\": \"#E5ECF6\", \"showlakes\": true, \"showland\": true, \"subunitcolor\": \"white\"}, \"hoverlabel\": {\"align\": \"left\"}, \"hovermode\": \"closest\", \"mapbox\": {\"style\": \"light\"}, \"paper_bgcolor\": \"white\", \"plot_bgcolor\": \"#E5ECF6\", \"polar\": {\"angularaxis\": {\"gridcolor\": \"white\", \"linecolor\": \"white\", \"ticks\": \"\"}, \"bgcolor\": \"#E5ECF6\", \"radialaxis\": {\"gridcolor\": \"white\", \"linecolor\": \"white\", \"ticks\": \"\"}}, \"scene\": {\"xaxis\": {\"backgroundcolor\": \"#E5ECF6\", \"gridcolor\": \"white\", \"gridwidth\": 2, \"linecolor\": \"white\", \"showbackground\": true, \"ticks\": \"\", \"zerolinecolor\": \"white\"}, \"yaxis\": {\"backgroundcolor\": \"#E5ECF6\", \"gridcolor\": \"white\", \"gridwidth\": 2, \"linecolor\": \"white\", \"showbackground\": true, \"ticks\": \"\", \"zerolinecolor\": \"white\"}, \"zaxis\": {\"backgroundcolor\": \"#E5ECF6\", \"gridcolor\": \"white\", \"gridwidth\": 2, \"linecolor\": \"white\", \"showbackground\": true, \"ticks\": \"\", \"zerolinecolor\": \"white\"}}, \"shapedefaults\": {\"line\": {\"color\": \"#2a3f5f\"}}, \"ternary\": {\"aaxis\": {\"gridcolor\": \"white\", \"linecolor\": \"white\", \"ticks\": \"\"}, \"baxis\": {\"gridcolor\": \"white\", \"linecolor\": \"white\", \"ticks\": \"\"}, \"bgcolor\": \"#E5ECF6\", \"caxis\": {\"gridcolor\": \"white\", \"linecolor\": \"white\", \"ticks\": \"\"}}, \"title\": {\"x\": 0.05}, \"xaxis\": {\"automargin\": true, \"gridcolor\": \"white\", \"linecolor\": \"white\", \"ticks\": \"\", \"title\": {\"standoff\": 15}, \"zerolinecolor\": \"white\", \"zerolinewidth\": 2}, \"yaxis\": {\"automargin\": true, \"gridcolor\": \"white\", \"linecolor\": \"white\", \"ticks\": \"\", \"title\": {\"standoff\": 15}, \"zerolinecolor\": \"white\", \"zerolinewidth\": 2}}}, \"title\": {\"text\": \"Precision\"}, \"violingap\": 0, \"violingroupgap\": 0.6, \"violinmode\": \"overlay\"},\n",
       "                        {\"responsive\": true}\n",
       "                    ).then(function(){\n",
       "                            \n",
       "var gd = document.getElementById('362a9aec-6fd1-486e-9c3a-d1ed2c3dd9b7');\n",
       "var x = new MutationObserver(function (mutations, observer) {{\n",
       "        var display = window.getComputedStyle(gd).display;\n",
       "        if (!display || display === 'none') {{\n",
       "            console.log([gd, 'removed!']);\n",
       "            Plotly.purge(gd);\n",
       "            observer.disconnect();\n",
       "        }}\n",
       "}});\n",
       "\n",
       "// Listen for the removal of the full notebook cells\n",
       "var notebookContainer = gd.closest('#notebook-container');\n",
       "if (notebookContainer) {{\n",
       "    x.observe(notebookContainer, {childList: true});\n",
       "}}\n",
       "\n",
       "// Listen for the clearing of the current output cell\n",
       "var outputEl = gd.closest('.output');\n",
       "if (outputEl) {{\n",
       "    x.observe(outputEl, {childList: true});\n",
       "}}\n",
       "\n",
       "                        })\n",
       "                };\n",
       "                });\n",
       "            </script>\n",
       "        </div>"
      ]
     },
     "metadata": {},
     "output_type": "display_data"
    }
   ],
   "source": [
    "dataframe_metrics_q1(prec_BOW_SGD, prec_TFIDF_SGD, prec_BOW_BNB, prec_TFIDF_BNB, prec_BOW_LR, prec_TFIDF_LR,\n",
    "                 prec_BOW_MNB, prec_TFIDF_MNB, \"Precision\")"
   ]
  },
  {
   "cell_type": "code",
   "execution_count": 90,
   "metadata": {},
   "outputs": [
    {
     "data": {
      "application/vnd.plotly.v1+json": {
       "config": {
        "plotlyServerURL": "https://plot.ly"
       },
       "data": [
        {
         "jitter": 0.05,
         "line": {
          "color": "green"
         },
         "meanline": {
          "visible": true
         },
         "name": "BOW SGD",
         "pointpos": -1.4,
         "points": "all",
         "scalegroup": "BOW",
         "scalemode": "count",
         "side": "negative",
         "type": "violin",
         "x0": "SGD Classifier",
         "y": [
          0.4070492155598539,
          0.3677368383250736,
          0.3230172927847347,
          0.36452582505214076,
          0.23076923076923078,
          0.32996867386007656,
          0.3953065904285417,
          0.3519113746294274,
          0.3194190846364759,
          0.39999999999999997,
          0.3612819928609402,
          0.40384615384615385,
          0.32348178137651823
         ]
        },
        {
         "jitter": 0.05,
         "line": {
          "color": "lightseagreen"
         },
         "meanline": {
          "visible": true
         },
         "name": "TFIDF SGD",
         "pointpos": 1.4,
         "points": "all",
         "scalegroup": "TFIDF",
         "scalemode": "count",
         "side": "positive",
         "type": "violin",
         "x0": "SGD Classifier",
         "y": [
          0.4216524216524216,
          0.33618233618233617,
          0.35794614741983166,
          0.24615384615384614,
          0.20465116279069767,
          0.3908472479901051,
          0.30614211496564436,
          0.26700111482720185,
          0.3709757398863886,
          0.39772079772079777,
          0.2857142857142857,
          0.3636363636363636,
          0.312280701754386
         ]
        },
        {
         "jitter": 0.05,
         "line": {
          "color": "red"
         },
         "meanline": {
          "visible": true
         },
         "name": "BOW BNB",
         "pointpos": -1.4,
         "points": "all",
         "scalegroup": "BOW",
         "scalemode": "count",
         "side": "negative",
         "type": "violin",
         "x0": "Bernoulli NB",
         "y": [
          0.33378317588843903,
          0.35223443223443224,
          0.3735042735042735,
          0.13986013986013984,
          0.17094017094017092,
          0.36316723109175936,
          0.2585470085470085,
          0.20867430441898532,
          0.30953542581449556,
          0.3790963257199603,
          0.2982456140350877,
          0.3571428571428571,
          0.14520917678812414
         ]
        },
        {
         "jitter": 0.05,
         "line": {
          "color": "darkmagenta"
         },
         "meanline": {
          "visible": true
         },
         "name": "TFIDF BNB",
         "pointpos": 1.4,
         "points": "all",
         "scalegroup": "TFIDF",
         "scalemode": "count",
         "side": "positive",
         "type": "violin",
         "x0": "Bernoulli NB",
         "y": [
          0.33378317588843903,
          0.35223443223443224,
          0.3735042735042735,
          0.13986013986013984,
          0.17094017094017092,
          0.36316723109175936,
          0.2585470085470085,
          0.20867430441898532,
          0.30953542581449556,
          0.3790963257199603,
          0.2982456140350877,
          0.3571428571428571,
          0.14520917678812414
         ]
        },
        {
         "jitter": 0.05,
         "line": {
          "color": "blue"
         },
         "meanline": {
          "visible": true
         },
         "name": "BOW LR",
         "pointpos": -1.4,
         "points": "all",
         "scalegroup": "BOW",
         "scalemode": "count",
         "side": "negative",
         "type": "violin",
         "x0": "Logistic Regresion",
         "y": [
          0.3671794871794872,
          0.3824510477936496,
          0.3305016496505858,
          0.24725980053322802,
          0.17582417582417578,
          0.3435154217762913,
          0.3288349077822762,
          0.3952297130786833,
          0.39790073474284005,
          0.3625016488589896,
          0.39342105263157895,
          0.3969712015888779,
          0.27578644888082277
         ]
        },
        {
         "jitter": 0.05,
         "line": {
          "color": "darkblue"
         },
         "meanline": {
          "visible": true
         },
         "name": "TFIDF LR",
         "pointpos": 1.4,
         "points": "all",
         "scalegroup": "TFIDF",
         "scalemode": "count",
         "side": "positive",
         "type": "violin",
         "x0": "Logistic Regresion",
         "y": [
          0.29670329670329676,
          0.291497975708502,
          0.31970280989888833,
          0.3417817225509533,
          0.23650075414781296,
          0.22307692307692306,
          0.3476749239461104,
          0.22189349112426035,
          0.2471731167383342,
          0.25246548323471396,
          0.3333333333333333,
          0.33771929824561403,
          0.10734394124846999
         ]
        },
        {
         "jitter": 0.05,
         "line": {
          "color": "black"
         },
         "meanline": {
          "visible": true
         },
         "name": "BOW MNB",
         "pointpos": -1.4,
         "points": "all",
         "scalegroup": "BOW",
         "scalemode": "count",
         "side": "negative",
         "type": "violin",
         "x0": "Multinomial NB",
         "y": [
          0.4168701668701668,
          0.3795569509855224,
          0.24240150093808635,
          0.38546617379569326,
          0.4182250498039971,
          0.26165501165501165,
          0.3749817544883959,
          0.35006747638326585,
          0.42250130821559395,
          0.40057590785474323,
          0.33043648081242066,
          0.3703703703703704,
          0.2106565697397616
         ]
        },
        {
         "jitter": 0.05,
         "line": {
          "color": "gray"
         },
         "meanline": {
          "visible": true
         },
         "name": "TFIDF MNB",
         "pointpos": 1.4,
         "points": "all",
         "scalemode": "count",
         "side": "positive",
         "type": "violin",
         "x0": "Multinomial NB",
         "y": [
          0.291497975708502,
          0.29670329670329676,
          0.291497975708502,
          0.26465201465201466,
          0.2907339574006241,
          0.14479638009049772,
          0.14479638009049772,
          0.2177068214804064,
          0.1568627450980392,
          0.2574157868275515,
          0.27655502392344494,
          0.057309941520467846
         ]
        }
       ],
       "layout": {
        "template": {
         "data": {
          "bar": [
           {
            "error_x": {
             "color": "#2a3f5f"
            },
            "error_y": {
             "color": "#2a3f5f"
            },
            "marker": {
             "line": {
              "color": "#E5ECF6",
              "width": 0.5
             }
            },
            "type": "bar"
           }
          ],
          "barpolar": [
           {
            "marker": {
             "line": {
              "color": "#E5ECF6",
              "width": 0.5
             }
            },
            "type": "barpolar"
           }
          ],
          "carpet": [
           {
            "aaxis": {
             "endlinecolor": "#2a3f5f",
             "gridcolor": "white",
             "linecolor": "white",
             "minorgridcolor": "white",
             "startlinecolor": "#2a3f5f"
            },
            "baxis": {
             "endlinecolor": "#2a3f5f",
             "gridcolor": "white",
             "linecolor": "white",
             "minorgridcolor": "white",
             "startlinecolor": "#2a3f5f"
            },
            "type": "carpet"
           }
          ],
          "choropleth": [
           {
            "colorbar": {
             "outlinewidth": 0,
             "ticks": ""
            },
            "type": "choropleth"
           }
          ],
          "contour": [
           {
            "colorbar": {
             "outlinewidth": 0,
             "ticks": ""
            },
            "colorscale": [
             [
              0,
              "#0d0887"
             ],
             [
              0.1111111111111111,
              "#46039f"
             ],
             [
              0.2222222222222222,
              "#7201a8"
             ],
             [
              0.3333333333333333,
              "#9c179e"
             ],
             [
              0.4444444444444444,
              "#bd3786"
             ],
             [
              0.5555555555555556,
              "#d8576b"
             ],
             [
              0.6666666666666666,
              "#ed7953"
             ],
             [
              0.7777777777777778,
              "#fb9f3a"
             ],
             [
              0.8888888888888888,
              "#fdca26"
             ],
             [
              1,
              "#f0f921"
             ]
            ],
            "type": "contour"
           }
          ],
          "contourcarpet": [
           {
            "colorbar": {
             "outlinewidth": 0,
             "ticks": ""
            },
            "type": "contourcarpet"
           }
          ],
          "heatmap": [
           {
            "colorbar": {
             "outlinewidth": 0,
             "ticks": ""
            },
            "colorscale": [
             [
              0,
              "#0d0887"
             ],
             [
              0.1111111111111111,
              "#46039f"
             ],
             [
              0.2222222222222222,
              "#7201a8"
             ],
             [
              0.3333333333333333,
              "#9c179e"
             ],
             [
              0.4444444444444444,
              "#bd3786"
             ],
             [
              0.5555555555555556,
              "#d8576b"
             ],
             [
              0.6666666666666666,
              "#ed7953"
             ],
             [
              0.7777777777777778,
              "#fb9f3a"
             ],
             [
              0.8888888888888888,
              "#fdca26"
             ],
             [
              1,
              "#f0f921"
             ]
            ],
            "type": "heatmap"
           }
          ],
          "heatmapgl": [
           {
            "colorbar": {
             "outlinewidth": 0,
             "ticks": ""
            },
            "colorscale": [
             [
              0,
              "#0d0887"
             ],
             [
              0.1111111111111111,
              "#46039f"
             ],
             [
              0.2222222222222222,
              "#7201a8"
             ],
             [
              0.3333333333333333,
              "#9c179e"
             ],
             [
              0.4444444444444444,
              "#bd3786"
             ],
             [
              0.5555555555555556,
              "#d8576b"
             ],
             [
              0.6666666666666666,
              "#ed7953"
             ],
             [
              0.7777777777777778,
              "#fb9f3a"
             ],
             [
              0.8888888888888888,
              "#fdca26"
             ],
             [
              1,
              "#f0f921"
             ]
            ],
            "type": "heatmapgl"
           }
          ],
          "histogram": [
           {
            "marker": {
             "colorbar": {
              "outlinewidth": 0,
              "ticks": ""
             }
            },
            "type": "histogram"
           }
          ],
          "histogram2d": [
           {
            "colorbar": {
             "outlinewidth": 0,
             "ticks": ""
            },
            "colorscale": [
             [
              0,
              "#0d0887"
             ],
             [
              0.1111111111111111,
              "#46039f"
             ],
             [
              0.2222222222222222,
              "#7201a8"
             ],
             [
              0.3333333333333333,
              "#9c179e"
             ],
             [
              0.4444444444444444,
              "#bd3786"
             ],
             [
              0.5555555555555556,
              "#d8576b"
             ],
             [
              0.6666666666666666,
              "#ed7953"
             ],
             [
              0.7777777777777778,
              "#fb9f3a"
             ],
             [
              0.8888888888888888,
              "#fdca26"
             ],
             [
              1,
              "#f0f921"
             ]
            ],
            "type": "histogram2d"
           }
          ],
          "histogram2dcontour": [
           {
            "colorbar": {
             "outlinewidth": 0,
             "ticks": ""
            },
            "colorscale": [
             [
              0,
              "#0d0887"
             ],
             [
              0.1111111111111111,
              "#46039f"
             ],
             [
              0.2222222222222222,
              "#7201a8"
             ],
             [
              0.3333333333333333,
              "#9c179e"
             ],
             [
              0.4444444444444444,
              "#bd3786"
             ],
             [
              0.5555555555555556,
              "#d8576b"
             ],
             [
              0.6666666666666666,
              "#ed7953"
             ],
             [
              0.7777777777777778,
              "#fb9f3a"
             ],
             [
              0.8888888888888888,
              "#fdca26"
             ],
             [
              1,
              "#f0f921"
             ]
            ],
            "type": "histogram2dcontour"
           }
          ],
          "mesh3d": [
           {
            "colorbar": {
             "outlinewidth": 0,
             "ticks": ""
            },
            "type": "mesh3d"
           }
          ],
          "parcoords": [
           {
            "line": {
             "colorbar": {
              "outlinewidth": 0,
              "ticks": ""
             }
            },
            "type": "parcoords"
           }
          ],
          "pie": [
           {
            "automargin": true,
            "type": "pie"
           }
          ],
          "scatter": [
           {
            "marker": {
             "colorbar": {
              "outlinewidth": 0,
              "ticks": ""
             }
            },
            "type": "scatter"
           }
          ],
          "scatter3d": [
           {
            "line": {
             "colorbar": {
              "outlinewidth": 0,
              "ticks": ""
             }
            },
            "marker": {
             "colorbar": {
              "outlinewidth": 0,
              "ticks": ""
             }
            },
            "type": "scatter3d"
           }
          ],
          "scattercarpet": [
           {
            "marker": {
             "colorbar": {
              "outlinewidth": 0,
              "ticks": ""
             }
            },
            "type": "scattercarpet"
           }
          ],
          "scattergeo": [
           {
            "marker": {
             "colorbar": {
              "outlinewidth": 0,
              "ticks": ""
             }
            },
            "type": "scattergeo"
           }
          ],
          "scattergl": [
           {
            "marker": {
             "colorbar": {
              "outlinewidth": 0,
              "ticks": ""
             }
            },
            "type": "scattergl"
           }
          ],
          "scattermapbox": [
           {
            "marker": {
             "colorbar": {
              "outlinewidth": 0,
              "ticks": ""
             }
            },
            "type": "scattermapbox"
           }
          ],
          "scatterpolar": [
           {
            "marker": {
             "colorbar": {
              "outlinewidth": 0,
              "ticks": ""
             }
            },
            "type": "scatterpolar"
           }
          ],
          "scatterpolargl": [
           {
            "marker": {
             "colorbar": {
              "outlinewidth": 0,
              "ticks": ""
             }
            },
            "type": "scatterpolargl"
           }
          ],
          "scatterternary": [
           {
            "marker": {
             "colorbar": {
              "outlinewidth": 0,
              "ticks": ""
             }
            },
            "type": "scatterternary"
           }
          ],
          "surface": [
           {
            "colorbar": {
             "outlinewidth": 0,
             "ticks": ""
            },
            "colorscale": [
             [
              0,
              "#0d0887"
             ],
             [
              0.1111111111111111,
              "#46039f"
             ],
             [
              0.2222222222222222,
              "#7201a8"
             ],
             [
              0.3333333333333333,
              "#9c179e"
             ],
             [
              0.4444444444444444,
              "#bd3786"
             ],
             [
              0.5555555555555556,
              "#d8576b"
             ],
             [
              0.6666666666666666,
              "#ed7953"
             ],
             [
              0.7777777777777778,
              "#fb9f3a"
             ],
             [
              0.8888888888888888,
              "#fdca26"
             ],
             [
              1,
              "#f0f921"
             ]
            ],
            "type": "surface"
           }
          ],
          "table": [
           {
            "cells": {
             "fill": {
              "color": "#EBF0F8"
             },
             "line": {
              "color": "white"
             }
            },
            "header": {
             "fill": {
              "color": "#C8D4E3"
             },
             "line": {
              "color": "white"
             }
            },
            "type": "table"
           }
          ]
         },
         "layout": {
          "annotationdefaults": {
           "arrowcolor": "#2a3f5f",
           "arrowhead": 0,
           "arrowwidth": 1
          },
          "coloraxis": {
           "colorbar": {
            "outlinewidth": 0,
            "ticks": ""
           }
          },
          "colorscale": {
           "diverging": [
            [
             0,
             "#8e0152"
            ],
            [
             0.1,
             "#c51b7d"
            ],
            [
             0.2,
             "#de77ae"
            ],
            [
             0.3,
             "#f1b6da"
            ],
            [
             0.4,
             "#fde0ef"
            ],
            [
             0.5,
             "#f7f7f7"
            ],
            [
             0.6,
             "#e6f5d0"
            ],
            [
             0.7,
             "#b8e186"
            ],
            [
             0.8,
             "#7fbc41"
            ],
            [
             0.9,
             "#4d9221"
            ],
            [
             1,
             "#276419"
            ]
           ],
           "sequential": [
            [
             0,
             "#0d0887"
            ],
            [
             0.1111111111111111,
             "#46039f"
            ],
            [
             0.2222222222222222,
             "#7201a8"
            ],
            [
             0.3333333333333333,
             "#9c179e"
            ],
            [
             0.4444444444444444,
             "#bd3786"
            ],
            [
             0.5555555555555556,
             "#d8576b"
            ],
            [
             0.6666666666666666,
             "#ed7953"
            ],
            [
             0.7777777777777778,
             "#fb9f3a"
            ],
            [
             0.8888888888888888,
             "#fdca26"
            ],
            [
             1,
             "#f0f921"
            ]
           ],
           "sequentialminus": [
            [
             0,
             "#0d0887"
            ],
            [
             0.1111111111111111,
             "#46039f"
            ],
            [
             0.2222222222222222,
             "#7201a8"
            ],
            [
             0.3333333333333333,
             "#9c179e"
            ],
            [
             0.4444444444444444,
             "#bd3786"
            ],
            [
             0.5555555555555556,
             "#d8576b"
            ],
            [
             0.6666666666666666,
             "#ed7953"
            ],
            [
             0.7777777777777778,
             "#fb9f3a"
            ],
            [
             0.8888888888888888,
             "#fdca26"
            ],
            [
             1,
             "#f0f921"
            ]
           ]
          },
          "colorway": [
           "#636efa",
           "#EF553B",
           "#00cc96",
           "#ab63fa",
           "#FFA15A",
           "#19d3f3",
           "#FF6692",
           "#B6E880",
           "#FF97FF",
           "#FECB52"
          ],
          "font": {
           "color": "#2a3f5f"
          },
          "geo": {
           "bgcolor": "white",
           "lakecolor": "white",
           "landcolor": "#E5ECF6",
           "showlakes": true,
           "showland": true,
           "subunitcolor": "white"
          },
          "hoverlabel": {
           "align": "left"
          },
          "hovermode": "closest",
          "mapbox": {
           "style": "light"
          },
          "paper_bgcolor": "white",
          "plot_bgcolor": "#E5ECF6",
          "polar": {
           "angularaxis": {
            "gridcolor": "white",
            "linecolor": "white",
            "ticks": ""
           },
           "bgcolor": "#E5ECF6",
           "radialaxis": {
            "gridcolor": "white",
            "linecolor": "white",
            "ticks": ""
           }
          },
          "scene": {
           "xaxis": {
            "backgroundcolor": "#E5ECF6",
            "gridcolor": "white",
            "gridwidth": 2,
            "linecolor": "white",
            "showbackground": true,
            "ticks": "",
            "zerolinecolor": "white"
           },
           "yaxis": {
            "backgroundcolor": "#E5ECF6",
            "gridcolor": "white",
            "gridwidth": 2,
            "linecolor": "white",
            "showbackground": true,
            "ticks": "",
            "zerolinecolor": "white"
           },
           "zaxis": {
            "backgroundcolor": "#E5ECF6",
            "gridcolor": "white",
            "gridwidth": 2,
            "linecolor": "white",
            "showbackground": true,
            "ticks": "",
            "zerolinecolor": "white"
           }
          },
          "shapedefaults": {
           "line": {
            "color": "#2a3f5f"
           }
          },
          "ternary": {
           "aaxis": {
            "gridcolor": "white",
            "linecolor": "white",
            "ticks": ""
           },
           "baxis": {
            "gridcolor": "white",
            "linecolor": "white",
            "ticks": ""
           },
           "bgcolor": "#E5ECF6",
           "caxis": {
            "gridcolor": "white",
            "linecolor": "white",
            "ticks": ""
           }
          },
          "title": {
           "x": 0.05
          },
          "xaxis": {
           "automargin": true,
           "gridcolor": "white",
           "linecolor": "white",
           "ticks": "",
           "title": {
            "standoff": 15
           },
           "zerolinecolor": "white",
           "zerolinewidth": 2
          },
          "yaxis": {
           "automargin": true,
           "gridcolor": "white",
           "linecolor": "white",
           "ticks": "",
           "title": {
            "standoff": 15
           },
           "zerolinecolor": "white",
           "zerolinewidth": 2
          }
         }
        },
        "title": {
         "text": "F1"
        },
        "violingap": 0,
        "violingroupgap": 0.6,
        "violinmode": "overlay"
       }
      },
      "text/html": [
       "<div>\n",
       "        \n",
       "        \n",
       "            <div id=\"4183f18f-91e6-4bb7-90db-a4eeeef78887\" class=\"plotly-graph-div\" style=\"height:525px; width:100%;\"></div>\n",
       "            <script type=\"text/javascript\">\n",
       "                require([\"plotly\"], function(Plotly) {\n",
       "                    window.PLOTLYENV=window.PLOTLYENV || {};\n",
       "                    \n",
       "                if (document.getElementById(\"4183f18f-91e6-4bb7-90db-a4eeeef78887\")) {\n",
       "                    Plotly.newPlot(\n",
       "                        '4183f18f-91e6-4bb7-90db-a4eeeef78887',\n",
       "                        [{\"jitter\": 0.05, \"line\": {\"color\": \"green\"}, \"meanline\": {\"visible\": true}, \"name\": \"BOW SGD\", \"pointpos\": -1.4, \"points\": \"all\", \"scalegroup\": \"BOW\", \"scalemode\": \"count\", \"side\": \"negative\", \"type\": \"violin\", \"x0\": \"SGD Classifier\", \"y\": [0.4070492155598539, 0.3677368383250736, 0.3230172927847347, 0.36452582505214076, 0.23076923076923078, 0.32996867386007656, 0.3953065904285417, 0.3519113746294274, 0.3194190846364759, 0.39999999999999997, 0.3612819928609402, 0.40384615384615385, 0.32348178137651823]}, {\"jitter\": 0.05, \"line\": {\"color\": \"lightseagreen\"}, \"meanline\": {\"visible\": true}, \"name\": \"TFIDF SGD\", \"pointpos\": 1.4, \"points\": \"all\", \"scalegroup\": \"TFIDF\", \"scalemode\": \"count\", \"side\": \"positive\", \"type\": \"violin\", \"x0\": \"SGD Classifier\", \"y\": [0.4216524216524216, 0.33618233618233617, 0.35794614741983166, 0.24615384615384614, 0.20465116279069767, 0.3908472479901051, 0.30614211496564436, 0.26700111482720185, 0.3709757398863886, 0.39772079772079777, 0.2857142857142857, 0.3636363636363636, 0.312280701754386]}, {\"jitter\": 0.05, \"line\": {\"color\": \"red\"}, \"meanline\": {\"visible\": true}, \"name\": \"BOW BNB\", \"pointpos\": -1.4, \"points\": \"all\", \"scalegroup\": \"BOW\", \"scalemode\": \"count\", \"side\": \"negative\", \"type\": \"violin\", \"x0\": \"Bernoulli NB\", \"y\": [0.33378317588843903, 0.35223443223443224, 0.3735042735042735, 0.13986013986013984, 0.17094017094017092, 0.36316723109175936, 0.2585470085470085, 0.20867430441898532, 0.30953542581449556, 0.3790963257199603, 0.2982456140350877, 0.3571428571428571, 0.14520917678812414]}, {\"jitter\": 0.05, \"line\": {\"color\": \"darkmagenta\"}, \"meanline\": {\"visible\": true}, \"name\": \"TFIDF BNB\", \"pointpos\": 1.4, \"points\": \"all\", \"scalegroup\": \"TFIDF\", \"scalemode\": \"count\", \"side\": \"positive\", \"type\": \"violin\", \"x0\": \"Bernoulli NB\", \"y\": [0.33378317588843903, 0.35223443223443224, 0.3735042735042735, 0.13986013986013984, 0.17094017094017092, 0.36316723109175936, 0.2585470085470085, 0.20867430441898532, 0.30953542581449556, 0.3790963257199603, 0.2982456140350877, 0.3571428571428571, 0.14520917678812414]}, {\"jitter\": 0.05, \"line\": {\"color\": \"blue\"}, \"meanline\": {\"visible\": true}, \"name\": \"BOW LR\", \"pointpos\": -1.4, \"points\": \"all\", \"scalegroup\": \"BOW\", \"scalemode\": \"count\", \"side\": \"negative\", \"type\": \"violin\", \"x0\": \"Logistic Regresion\", \"y\": [0.3671794871794872, 0.3824510477936496, 0.3305016496505858, 0.24725980053322802, 0.17582417582417578, 0.3435154217762913, 0.3288349077822762, 0.3952297130786833, 0.39790073474284005, 0.3625016488589896, 0.39342105263157895, 0.3969712015888779, 0.27578644888082277]}, {\"jitter\": 0.05, \"line\": {\"color\": \"darkblue\"}, \"meanline\": {\"visible\": true}, \"name\": \"TFIDF LR\", \"pointpos\": 1.4, \"points\": \"all\", \"scalegroup\": \"TFIDF\", \"scalemode\": \"count\", \"side\": \"positive\", \"type\": \"violin\", \"x0\": \"Logistic Regresion\", \"y\": [0.29670329670329676, 0.291497975708502, 0.31970280989888833, 0.3417817225509533, 0.23650075414781296, 0.22307692307692306, 0.3476749239461104, 0.22189349112426035, 0.2471731167383342, 0.25246548323471396, 0.3333333333333333, 0.33771929824561403, 0.10734394124846999]}, {\"jitter\": 0.05, \"line\": {\"color\": \"black\"}, \"meanline\": {\"visible\": true}, \"name\": \"BOW MNB\", \"pointpos\": -1.4, \"points\": \"all\", \"scalegroup\": \"BOW\", \"scalemode\": \"count\", \"side\": \"negative\", \"type\": \"violin\", \"x0\": \"Multinomial NB\", \"y\": [0.4168701668701668, 0.3795569509855224, 0.24240150093808635, 0.38546617379569326, 0.4182250498039971, 0.26165501165501165, 0.3749817544883959, 0.35006747638326585, 0.42250130821559395, 0.40057590785474323, 0.33043648081242066, 0.3703703703703704, 0.2106565697397616]}, {\"jitter\": 0.05, \"line\": {\"color\": \"gray\"}, \"meanline\": {\"visible\": true}, \"name\": \"TFIDF MNB\", \"pointpos\": 1.4, \"points\": \"all\", \"scalemode\": \"count\", \"side\": \"positive\", \"type\": \"violin\", \"x0\": \"Multinomial NB\", \"y\": [0.291497975708502, 0.29670329670329676, 0.291497975708502, 0.26465201465201466, 0.2907339574006241, 0.14479638009049772, 0.14479638009049772, 0.2177068214804064, 0.1568627450980392, 0.2574157868275515, 0.27655502392344494, 0.057309941520467846]}],\n",
       "                        {\"template\": {\"data\": {\"bar\": [{\"error_x\": {\"color\": \"#2a3f5f\"}, \"error_y\": {\"color\": \"#2a3f5f\"}, \"marker\": {\"line\": {\"color\": \"#E5ECF6\", \"width\": 0.5}}, \"type\": \"bar\"}], \"barpolar\": [{\"marker\": {\"line\": {\"color\": \"#E5ECF6\", \"width\": 0.5}}, \"type\": \"barpolar\"}], \"carpet\": [{\"aaxis\": {\"endlinecolor\": \"#2a3f5f\", \"gridcolor\": \"white\", \"linecolor\": \"white\", \"minorgridcolor\": \"white\", \"startlinecolor\": \"#2a3f5f\"}, \"baxis\": {\"endlinecolor\": \"#2a3f5f\", \"gridcolor\": \"white\", \"linecolor\": \"white\", \"minorgridcolor\": \"white\", \"startlinecolor\": \"#2a3f5f\"}, \"type\": \"carpet\"}], \"choropleth\": [{\"colorbar\": {\"outlinewidth\": 0, \"ticks\": \"\"}, \"type\": \"choropleth\"}], \"contour\": [{\"colorbar\": {\"outlinewidth\": 0, \"ticks\": \"\"}, \"colorscale\": [[0.0, \"#0d0887\"], [0.1111111111111111, \"#46039f\"], [0.2222222222222222, \"#7201a8\"], [0.3333333333333333, \"#9c179e\"], [0.4444444444444444, \"#bd3786\"], [0.5555555555555556, \"#d8576b\"], [0.6666666666666666, \"#ed7953\"], [0.7777777777777778, \"#fb9f3a\"], [0.8888888888888888, \"#fdca26\"], [1.0, \"#f0f921\"]], \"type\": \"contour\"}], \"contourcarpet\": [{\"colorbar\": {\"outlinewidth\": 0, \"ticks\": \"\"}, \"type\": \"contourcarpet\"}], \"heatmap\": [{\"colorbar\": {\"outlinewidth\": 0, \"ticks\": \"\"}, \"colorscale\": [[0.0, \"#0d0887\"], [0.1111111111111111, \"#46039f\"], [0.2222222222222222, \"#7201a8\"], [0.3333333333333333, \"#9c179e\"], [0.4444444444444444, \"#bd3786\"], [0.5555555555555556, \"#d8576b\"], [0.6666666666666666, \"#ed7953\"], [0.7777777777777778, \"#fb9f3a\"], [0.8888888888888888, \"#fdca26\"], [1.0, \"#f0f921\"]], \"type\": \"heatmap\"}], \"heatmapgl\": [{\"colorbar\": {\"outlinewidth\": 0, \"ticks\": \"\"}, \"colorscale\": [[0.0, \"#0d0887\"], [0.1111111111111111, \"#46039f\"], [0.2222222222222222, \"#7201a8\"], [0.3333333333333333, \"#9c179e\"], [0.4444444444444444, \"#bd3786\"], [0.5555555555555556, \"#d8576b\"], [0.6666666666666666, \"#ed7953\"], [0.7777777777777778, \"#fb9f3a\"], [0.8888888888888888, \"#fdca26\"], [1.0, \"#f0f921\"]], \"type\": \"heatmapgl\"}], \"histogram\": [{\"marker\": {\"colorbar\": {\"outlinewidth\": 0, \"ticks\": \"\"}}, \"type\": \"histogram\"}], \"histogram2d\": [{\"colorbar\": {\"outlinewidth\": 0, \"ticks\": \"\"}, \"colorscale\": [[0.0, \"#0d0887\"], [0.1111111111111111, \"#46039f\"], [0.2222222222222222, \"#7201a8\"], [0.3333333333333333, \"#9c179e\"], [0.4444444444444444, \"#bd3786\"], [0.5555555555555556, \"#d8576b\"], [0.6666666666666666, \"#ed7953\"], [0.7777777777777778, \"#fb9f3a\"], [0.8888888888888888, \"#fdca26\"], [1.0, \"#f0f921\"]], \"type\": \"histogram2d\"}], \"histogram2dcontour\": [{\"colorbar\": {\"outlinewidth\": 0, \"ticks\": \"\"}, \"colorscale\": [[0.0, \"#0d0887\"], [0.1111111111111111, \"#46039f\"], [0.2222222222222222, \"#7201a8\"], [0.3333333333333333, \"#9c179e\"], [0.4444444444444444, \"#bd3786\"], [0.5555555555555556, \"#d8576b\"], [0.6666666666666666, \"#ed7953\"], [0.7777777777777778, \"#fb9f3a\"], [0.8888888888888888, \"#fdca26\"], [1.0, \"#f0f921\"]], \"type\": \"histogram2dcontour\"}], \"mesh3d\": [{\"colorbar\": {\"outlinewidth\": 0, \"ticks\": \"\"}, \"type\": \"mesh3d\"}], \"parcoords\": [{\"line\": {\"colorbar\": {\"outlinewidth\": 0, \"ticks\": \"\"}}, \"type\": \"parcoords\"}], \"pie\": [{\"automargin\": true, \"type\": \"pie\"}], \"scatter\": [{\"marker\": {\"colorbar\": {\"outlinewidth\": 0, \"ticks\": \"\"}}, \"type\": \"scatter\"}], \"scatter3d\": [{\"line\": {\"colorbar\": {\"outlinewidth\": 0, \"ticks\": \"\"}}, \"marker\": {\"colorbar\": {\"outlinewidth\": 0, \"ticks\": \"\"}}, \"type\": \"scatter3d\"}], \"scattercarpet\": [{\"marker\": {\"colorbar\": {\"outlinewidth\": 0, \"ticks\": \"\"}}, \"type\": \"scattercarpet\"}], \"scattergeo\": [{\"marker\": {\"colorbar\": {\"outlinewidth\": 0, \"ticks\": \"\"}}, \"type\": \"scattergeo\"}], \"scattergl\": [{\"marker\": {\"colorbar\": {\"outlinewidth\": 0, \"ticks\": \"\"}}, \"type\": \"scattergl\"}], \"scattermapbox\": [{\"marker\": {\"colorbar\": {\"outlinewidth\": 0, \"ticks\": \"\"}}, \"type\": \"scattermapbox\"}], \"scatterpolar\": [{\"marker\": {\"colorbar\": {\"outlinewidth\": 0, \"ticks\": \"\"}}, \"type\": \"scatterpolar\"}], \"scatterpolargl\": [{\"marker\": {\"colorbar\": {\"outlinewidth\": 0, \"ticks\": \"\"}}, \"type\": \"scatterpolargl\"}], \"scatterternary\": [{\"marker\": {\"colorbar\": {\"outlinewidth\": 0, \"ticks\": \"\"}}, \"type\": \"scatterternary\"}], \"surface\": [{\"colorbar\": {\"outlinewidth\": 0, \"ticks\": \"\"}, \"colorscale\": [[0.0, \"#0d0887\"], [0.1111111111111111, \"#46039f\"], [0.2222222222222222, \"#7201a8\"], [0.3333333333333333, \"#9c179e\"], [0.4444444444444444, \"#bd3786\"], [0.5555555555555556, \"#d8576b\"], [0.6666666666666666, \"#ed7953\"], [0.7777777777777778, \"#fb9f3a\"], [0.8888888888888888, \"#fdca26\"], [1.0, \"#f0f921\"]], \"type\": \"surface\"}], \"table\": [{\"cells\": {\"fill\": {\"color\": \"#EBF0F8\"}, \"line\": {\"color\": \"white\"}}, \"header\": {\"fill\": {\"color\": \"#C8D4E3\"}, \"line\": {\"color\": \"white\"}}, \"type\": \"table\"}]}, \"layout\": {\"annotationdefaults\": {\"arrowcolor\": \"#2a3f5f\", \"arrowhead\": 0, \"arrowwidth\": 1}, \"coloraxis\": {\"colorbar\": {\"outlinewidth\": 0, \"ticks\": \"\"}}, \"colorscale\": {\"diverging\": [[0, \"#8e0152\"], [0.1, \"#c51b7d\"], [0.2, \"#de77ae\"], [0.3, \"#f1b6da\"], [0.4, \"#fde0ef\"], [0.5, \"#f7f7f7\"], [0.6, \"#e6f5d0\"], [0.7, \"#b8e186\"], [0.8, \"#7fbc41\"], [0.9, \"#4d9221\"], [1, \"#276419\"]], \"sequential\": [[0.0, \"#0d0887\"], [0.1111111111111111, \"#46039f\"], [0.2222222222222222, \"#7201a8\"], [0.3333333333333333, \"#9c179e\"], [0.4444444444444444, \"#bd3786\"], [0.5555555555555556, \"#d8576b\"], [0.6666666666666666, \"#ed7953\"], [0.7777777777777778, \"#fb9f3a\"], [0.8888888888888888, \"#fdca26\"], [1.0, \"#f0f921\"]], \"sequentialminus\": [[0.0, \"#0d0887\"], [0.1111111111111111, \"#46039f\"], [0.2222222222222222, \"#7201a8\"], [0.3333333333333333, \"#9c179e\"], [0.4444444444444444, \"#bd3786\"], [0.5555555555555556, \"#d8576b\"], [0.6666666666666666, \"#ed7953\"], [0.7777777777777778, \"#fb9f3a\"], [0.8888888888888888, \"#fdca26\"], [1.0, \"#f0f921\"]]}, \"colorway\": [\"#636efa\", \"#EF553B\", \"#00cc96\", \"#ab63fa\", \"#FFA15A\", \"#19d3f3\", \"#FF6692\", \"#B6E880\", \"#FF97FF\", \"#FECB52\"], \"font\": {\"color\": \"#2a3f5f\"}, \"geo\": {\"bgcolor\": \"white\", \"lakecolor\": \"white\", \"landcolor\": \"#E5ECF6\", \"showlakes\": true, \"showland\": true, \"subunitcolor\": \"white\"}, \"hoverlabel\": {\"align\": \"left\"}, \"hovermode\": \"closest\", \"mapbox\": {\"style\": \"light\"}, \"paper_bgcolor\": \"white\", \"plot_bgcolor\": \"#E5ECF6\", \"polar\": {\"angularaxis\": {\"gridcolor\": \"white\", \"linecolor\": \"white\", \"ticks\": \"\"}, \"bgcolor\": \"#E5ECF6\", \"radialaxis\": {\"gridcolor\": \"white\", \"linecolor\": \"white\", \"ticks\": \"\"}}, \"scene\": {\"xaxis\": {\"backgroundcolor\": \"#E5ECF6\", \"gridcolor\": \"white\", \"gridwidth\": 2, \"linecolor\": \"white\", \"showbackground\": true, \"ticks\": \"\", \"zerolinecolor\": \"white\"}, \"yaxis\": {\"backgroundcolor\": \"#E5ECF6\", \"gridcolor\": \"white\", \"gridwidth\": 2, \"linecolor\": \"white\", \"showbackground\": true, \"ticks\": \"\", \"zerolinecolor\": \"white\"}, \"zaxis\": {\"backgroundcolor\": \"#E5ECF6\", \"gridcolor\": \"white\", \"gridwidth\": 2, \"linecolor\": \"white\", \"showbackground\": true, \"ticks\": \"\", \"zerolinecolor\": \"white\"}}, \"shapedefaults\": {\"line\": {\"color\": \"#2a3f5f\"}}, \"ternary\": {\"aaxis\": {\"gridcolor\": \"white\", \"linecolor\": \"white\", \"ticks\": \"\"}, \"baxis\": {\"gridcolor\": \"white\", \"linecolor\": \"white\", \"ticks\": \"\"}, \"bgcolor\": \"#E5ECF6\", \"caxis\": {\"gridcolor\": \"white\", \"linecolor\": \"white\", \"ticks\": \"\"}}, \"title\": {\"x\": 0.05}, \"xaxis\": {\"automargin\": true, \"gridcolor\": \"white\", \"linecolor\": \"white\", \"ticks\": \"\", \"title\": {\"standoff\": 15}, \"zerolinecolor\": \"white\", \"zerolinewidth\": 2}, \"yaxis\": {\"automargin\": true, \"gridcolor\": \"white\", \"linecolor\": \"white\", \"ticks\": \"\", \"title\": {\"standoff\": 15}, \"zerolinecolor\": \"white\", \"zerolinewidth\": 2}}}, \"title\": {\"text\": \"F1\"}, \"violingap\": 0, \"violingroupgap\": 0.6, \"violinmode\": \"overlay\"},\n",
       "                        {\"responsive\": true}\n",
       "                    ).then(function(){\n",
       "                            \n",
       "var gd = document.getElementById('4183f18f-91e6-4bb7-90db-a4eeeef78887');\n",
       "var x = new MutationObserver(function (mutations, observer) {{\n",
       "        var display = window.getComputedStyle(gd).display;\n",
       "        if (!display || display === 'none') {{\n",
       "            console.log([gd, 'removed!']);\n",
       "            Plotly.purge(gd);\n",
       "            observer.disconnect();\n",
       "        }}\n",
       "}});\n",
       "\n",
       "// Listen for the removal of the full notebook cells\n",
       "var notebookContainer = gd.closest('#notebook-container');\n",
       "if (notebookContainer) {{\n",
       "    x.observe(notebookContainer, {childList: true});\n",
       "}}\n",
       "\n",
       "// Listen for the clearing of the current output cell\n",
       "var outputEl = gd.closest('.output');\n",
       "if (outputEl) {{\n",
       "    x.observe(outputEl, {childList: true});\n",
       "}}\n",
       "\n",
       "                        })\n",
       "                };\n",
       "                });\n",
       "            </script>\n",
       "        </div>"
      ]
     },
     "metadata": {},
     "output_type": "display_data"
    }
   ],
   "source": [
    "dataframe_metrics_q1(f1_BOW_SGD, f1_TFIDF_SGD, f1_BOW_BNB, f1_TFIDF_BNB, f1_BOW_LR, f1_TFIDF_LR,\n",
    "                 f1_BOW_MNB, f1_TFIDF_MNB, \"F1\")"
   ]
  },
  {
   "cell_type": "code",
   "execution_count": 91,
   "metadata": {},
   "outputs": [
    {
     "data": {
      "application/vnd.plotly.v1+json": {
       "config": {
        "plotlyServerURL": "https://plot.ly"
       },
       "data": [
        {
         "jitter": 0.05,
         "line": {
          "color": "green"
         },
         "meanline": {
          "visible": true
         },
         "name": "BOW SGD",
         "pointpos": -1.4,
         "points": "all",
         "scalegroup": "BOW",
         "scalemode": "count",
         "side": "negative",
         "type": "violin",
         "x0": "SGD Classifier",
         "y": [
          0.358974358974359,
          0.38461538461538464,
          0.3076923076923077,
          0.3333333333333333,
          0.38461538461538464,
          0.358974358974359,
          0.4358974358974359,
          0.39473684210526316,
          0.42105263157894735,
          0.34210526315789475
         ]
        },
        {
         "jitter": 0.05,
         "line": {
          "color": "lightseagreen"
         },
         "meanline": {
          "visible": true
         },
         "name": "TFIDF SGD",
         "pointpos": 1.4,
         "points": "all",
         "scalegroup": "TFIDF",
         "scalemode": "count",
         "side": "positive",
         "type": "violin",
         "x0": "SGD Classifier",
         "y": [
          0.46153846153846156,
          0.46153846153846156,
          0.3333333333333333,
          0.3076923076923077,
          0.46153846153846156,
          0.41025641025641024,
          0.358974358974359,
          0.46153846153846156,
          0.46153846153846156,
          0.3684210526315789,
          0.4473684210526316,
          0.34210526315789475
         ]
        },
        {
         "jitter": 0.05,
         "line": {
          "color": "red"
         },
         "meanline": {
          "visible": true
         },
         "name": "BOW BNB",
         "pointpos": -1.4,
         "points": "all",
         "scalegroup": "BOW",
         "scalemode": "count",
         "side": "negative",
         "type": "violin",
         "x0": "Bernoulli NB",
         "y": [
          0.46153846153846156,
          0.46153846153846156,
          0.2564102564102564,
          0.28205128205128205,
          0.46153846153846156,
          0.38461538461538464,
          0.3333333333333333,
          0.41025641025641024,
          0.47368421052631576,
          0.4473684210526316,
          0.21052631578947367
         ]
        },
        {
         "jitter": 0.05,
         "line": {
          "color": "darkmagenta"
         },
         "meanline": {
          "visible": true
         },
         "name": "TFIDF BNB",
         "pointpos": 1.4,
         "points": "all",
         "scalegroup": "TFIDF",
         "scalemode": "count",
         "side": "positive",
         "type": "violin",
         "x0": "Bernoulli NB",
         "y": [
          0.46153846153846156,
          0.46153846153846156,
          0.2564102564102564,
          0.28205128205128205,
          0.46153846153846156,
          0.38461538461538464,
          0.3333333333333333,
          0.41025641025641024,
          0.47368421052631576,
          0.4473684210526316,
          0.21052631578947367
         ]
        },
        {
         "jitter": 0.05,
         "line": {
          "color": "blue"
         },
         "meanline": {
          "visible": true
         },
         "name": "BOW LR",
         "pointpos": -1.4,
         "points": "all",
         "scalegroup": "BOW",
         "scalemode": "count",
         "side": "negative",
         "type": "violin",
         "x0": "Logistic Regresion",
         "y": [
          0.46153846153846156,
          0.41025641025641024,
          0.46153846153846156,
          0.3333333333333333,
          0.2564102564102564,
          0.4358974358974359,
          0.38461538461538464,
          0.4358974358974359,
          0.4358974358974359,
          0.42105263157894735,
          0.39473684210526316,
          0.3157894736842105
         ]
        },
        {
         "jitter": 0.05,
         "line": {
          "color": "darkblue"
         },
         "meanline": {
          "visible": true
         },
         "name": "TFIDF LR",
         "pointpos": 1.4,
         "points": "all",
         "scalegroup": "TFIDF",
         "scalemode": "count",
         "side": "positive",
         "type": "violin",
         "x0": "Logistic Regresion",
         "y": [
          0.48717948717948717,
          0.46153846153846156,
          0.46153846153846156,
          0.46153846153846156,
          0.46153846153846156,
          0.358974358974359,
          0.3333333333333333,
          0.38461538461538464,
          0.358974358974359,
          0.41025641025641024,
          0.48717948717948717,
          0.47368421052631576,
          0.21052631578947367
         ]
        },
        {
         "jitter": 0.05,
         "line": {
          "color": "black"
         },
         "meanline": {
          "visible": true
         },
         "name": "BOW MNB",
         "pointpos": -1.4,
         "points": "all",
         "scalegroup": "BOW",
         "scalemode": "count",
         "side": "negative",
         "type": "violin",
         "x0": "Multinomial NB",
         "y": [
          0.46153846153846156,
          0.3333333333333333,
          0.4358974358974359,
          0.48717948717948717,
          0.38461538461538464,
          0.4358974358974359,
          0.41025641025641024,
          0.48717948717948717,
          0.47368421052631576,
          0.4473684210526316,
          0.5,
          0.23684210526315788
         ]
        },
        {
         "jitter": 0.05,
         "line": {
          "color": "gray"
         },
         "meanline": {
          "visible": true
         },
         "name": "TFIDF MNB",
         "pointpos": 1.4,
         "points": "all",
         "scalemode": "count",
         "side": "positive",
         "type": "violin",
         "x0": "Multinomial NB",
         "y": [
          0.46153846153846156,
          0.46153846153846156,
          0.46153846153846156,
          0.4358974358974359,
          0.4358974358974359,
          0.3076923076923077,
          0.3076923076923077,
          0.38461538461538464,
          0.3076923076923077,
          0.41025641025641024,
          0.4473684210526316,
          0.18421052631578946
         ]
        }
       ],
       "layout": {
        "template": {
         "data": {
          "bar": [
           {
            "error_x": {
             "color": "#2a3f5f"
            },
            "error_y": {
             "color": "#2a3f5f"
            },
            "marker": {
             "line": {
              "color": "#E5ECF6",
              "width": 0.5
             }
            },
            "type": "bar"
           }
          ],
          "barpolar": [
           {
            "marker": {
             "line": {
              "color": "#E5ECF6",
              "width": 0.5
             }
            },
            "type": "barpolar"
           }
          ],
          "carpet": [
           {
            "aaxis": {
             "endlinecolor": "#2a3f5f",
             "gridcolor": "white",
             "linecolor": "white",
             "minorgridcolor": "white",
             "startlinecolor": "#2a3f5f"
            },
            "baxis": {
             "endlinecolor": "#2a3f5f",
             "gridcolor": "white",
             "linecolor": "white",
             "minorgridcolor": "white",
             "startlinecolor": "#2a3f5f"
            },
            "type": "carpet"
           }
          ],
          "choropleth": [
           {
            "colorbar": {
             "outlinewidth": 0,
             "ticks": ""
            },
            "type": "choropleth"
           }
          ],
          "contour": [
           {
            "colorbar": {
             "outlinewidth": 0,
             "ticks": ""
            },
            "colorscale": [
             [
              0,
              "#0d0887"
             ],
             [
              0.1111111111111111,
              "#46039f"
             ],
             [
              0.2222222222222222,
              "#7201a8"
             ],
             [
              0.3333333333333333,
              "#9c179e"
             ],
             [
              0.4444444444444444,
              "#bd3786"
             ],
             [
              0.5555555555555556,
              "#d8576b"
             ],
             [
              0.6666666666666666,
              "#ed7953"
             ],
             [
              0.7777777777777778,
              "#fb9f3a"
             ],
             [
              0.8888888888888888,
              "#fdca26"
             ],
             [
              1,
              "#f0f921"
             ]
            ],
            "type": "contour"
           }
          ],
          "contourcarpet": [
           {
            "colorbar": {
             "outlinewidth": 0,
             "ticks": ""
            },
            "type": "contourcarpet"
           }
          ],
          "heatmap": [
           {
            "colorbar": {
             "outlinewidth": 0,
             "ticks": ""
            },
            "colorscale": [
             [
              0,
              "#0d0887"
             ],
             [
              0.1111111111111111,
              "#46039f"
             ],
             [
              0.2222222222222222,
              "#7201a8"
             ],
             [
              0.3333333333333333,
              "#9c179e"
             ],
             [
              0.4444444444444444,
              "#bd3786"
             ],
             [
              0.5555555555555556,
              "#d8576b"
             ],
             [
              0.6666666666666666,
              "#ed7953"
             ],
             [
              0.7777777777777778,
              "#fb9f3a"
             ],
             [
              0.8888888888888888,
              "#fdca26"
             ],
             [
              1,
              "#f0f921"
             ]
            ],
            "type": "heatmap"
           }
          ],
          "heatmapgl": [
           {
            "colorbar": {
             "outlinewidth": 0,
             "ticks": ""
            },
            "colorscale": [
             [
              0,
              "#0d0887"
             ],
             [
              0.1111111111111111,
              "#46039f"
             ],
             [
              0.2222222222222222,
              "#7201a8"
             ],
             [
              0.3333333333333333,
              "#9c179e"
             ],
             [
              0.4444444444444444,
              "#bd3786"
             ],
             [
              0.5555555555555556,
              "#d8576b"
             ],
             [
              0.6666666666666666,
              "#ed7953"
             ],
             [
              0.7777777777777778,
              "#fb9f3a"
             ],
             [
              0.8888888888888888,
              "#fdca26"
             ],
             [
              1,
              "#f0f921"
             ]
            ],
            "type": "heatmapgl"
           }
          ],
          "histogram": [
           {
            "marker": {
             "colorbar": {
              "outlinewidth": 0,
              "ticks": ""
             }
            },
            "type": "histogram"
           }
          ],
          "histogram2d": [
           {
            "colorbar": {
             "outlinewidth": 0,
             "ticks": ""
            },
            "colorscale": [
             [
              0,
              "#0d0887"
             ],
             [
              0.1111111111111111,
              "#46039f"
             ],
             [
              0.2222222222222222,
              "#7201a8"
             ],
             [
              0.3333333333333333,
              "#9c179e"
             ],
             [
              0.4444444444444444,
              "#bd3786"
             ],
             [
              0.5555555555555556,
              "#d8576b"
             ],
             [
              0.6666666666666666,
              "#ed7953"
             ],
             [
              0.7777777777777778,
              "#fb9f3a"
             ],
             [
              0.8888888888888888,
              "#fdca26"
             ],
             [
              1,
              "#f0f921"
             ]
            ],
            "type": "histogram2d"
           }
          ],
          "histogram2dcontour": [
           {
            "colorbar": {
             "outlinewidth": 0,
             "ticks": ""
            },
            "colorscale": [
             [
              0,
              "#0d0887"
             ],
             [
              0.1111111111111111,
              "#46039f"
             ],
             [
              0.2222222222222222,
              "#7201a8"
             ],
             [
              0.3333333333333333,
              "#9c179e"
             ],
             [
              0.4444444444444444,
              "#bd3786"
             ],
             [
              0.5555555555555556,
              "#d8576b"
             ],
             [
              0.6666666666666666,
              "#ed7953"
             ],
             [
              0.7777777777777778,
              "#fb9f3a"
             ],
             [
              0.8888888888888888,
              "#fdca26"
             ],
             [
              1,
              "#f0f921"
             ]
            ],
            "type": "histogram2dcontour"
           }
          ],
          "mesh3d": [
           {
            "colorbar": {
             "outlinewidth": 0,
             "ticks": ""
            },
            "type": "mesh3d"
           }
          ],
          "parcoords": [
           {
            "line": {
             "colorbar": {
              "outlinewidth": 0,
              "ticks": ""
             }
            },
            "type": "parcoords"
           }
          ],
          "pie": [
           {
            "automargin": true,
            "type": "pie"
           }
          ],
          "scatter": [
           {
            "marker": {
             "colorbar": {
              "outlinewidth": 0,
              "ticks": ""
             }
            },
            "type": "scatter"
           }
          ],
          "scatter3d": [
           {
            "line": {
             "colorbar": {
              "outlinewidth": 0,
              "ticks": ""
             }
            },
            "marker": {
             "colorbar": {
              "outlinewidth": 0,
              "ticks": ""
             }
            },
            "type": "scatter3d"
           }
          ],
          "scattercarpet": [
           {
            "marker": {
             "colorbar": {
              "outlinewidth": 0,
              "ticks": ""
             }
            },
            "type": "scattercarpet"
           }
          ],
          "scattergeo": [
           {
            "marker": {
             "colorbar": {
              "outlinewidth": 0,
              "ticks": ""
             }
            },
            "type": "scattergeo"
           }
          ],
          "scattergl": [
           {
            "marker": {
             "colorbar": {
              "outlinewidth": 0,
              "ticks": ""
             }
            },
            "type": "scattergl"
           }
          ],
          "scattermapbox": [
           {
            "marker": {
             "colorbar": {
              "outlinewidth": 0,
              "ticks": ""
             }
            },
            "type": "scattermapbox"
           }
          ],
          "scatterpolar": [
           {
            "marker": {
             "colorbar": {
              "outlinewidth": 0,
              "ticks": ""
             }
            },
            "type": "scatterpolar"
           }
          ],
          "scatterpolargl": [
           {
            "marker": {
             "colorbar": {
              "outlinewidth": 0,
              "ticks": ""
             }
            },
            "type": "scatterpolargl"
           }
          ],
          "scatterternary": [
           {
            "marker": {
             "colorbar": {
              "outlinewidth": 0,
              "ticks": ""
             }
            },
            "type": "scatterternary"
           }
          ],
          "surface": [
           {
            "colorbar": {
             "outlinewidth": 0,
             "ticks": ""
            },
            "colorscale": [
             [
              0,
              "#0d0887"
             ],
             [
              0.1111111111111111,
              "#46039f"
             ],
             [
              0.2222222222222222,
              "#7201a8"
             ],
             [
              0.3333333333333333,
              "#9c179e"
             ],
             [
              0.4444444444444444,
              "#bd3786"
             ],
             [
              0.5555555555555556,
              "#d8576b"
             ],
             [
              0.6666666666666666,
              "#ed7953"
             ],
             [
              0.7777777777777778,
              "#fb9f3a"
             ],
             [
              0.8888888888888888,
              "#fdca26"
             ],
             [
              1,
              "#f0f921"
             ]
            ],
            "type": "surface"
           }
          ],
          "table": [
           {
            "cells": {
             "fill": {
              "color": "#EBF0F8"
             },
             "line": {
              "color": "white"
             }
            },
            "header": {
             "fill": {
              "color": "#C8D4E3"
             },
             "line": {
              "color": "white"
             }
            },
            "type": "table"
           }
          ]
         },
         "layout": {
          "annotationdefaults": {
           "arrowcolor": "#2a3f5f",
           "arrowhead": 0,
           "arrowwidth": 1
          },
          "coloraxis": {
           "colorbar": {
            "outlinewidth": 0,
            "ticks": ""
           }
          },
          "colorscale": {
           "diverging": [
            [
             0,
             "#8e0152"
            ],
            [
             0.1,
             "#c51b7d"
            ],
            [
             0.2,
             "#de77ae"
            ],
            [
             0.3,
             "#f1b6da"
            ],
            [
             0.4,
             "#fde0ef"
            ],
            [
             0.5,
             "#f7f7f7"
            ],
            [
             0.6,
             "#e6f5d0"
            ],
            [
             0.7,
             "#b8e186"
            ],
            [
             0.8,
             "#7fbc41"
            ],
            [
             0.9,
             "#4d9221"
            ],
            [
             1,
             "#276419"
            ]
           ],
           "sequential": [
            [
             0,
             "#0d0887"
            ],
            [
             0.1111111111111111,
             "#46039f"
            ],
            [
             0.2222222222222222,
             "#7201a8"
            ],
            [
             0.3333333333333333,
             "#9c179e"
            ],
            [
             0.4444444444444444,
             "#bd3786"
            ],
            [
             0.5555555555555556,
             "#d8576b"
            ],
            [
             0.6666666666666666,
             "#ed7953"
            ],
            [
             0.7777777777777778,
             "#fb9f3a"
            ],
            [
             0.8888888888888888,
             "#fdca26"
            ],
            [
             1,
             "#f0f921"
            ]
           ],
           "sequentialminus": [
            [
             0,
             "#0d0887"
            ],
            [
             0.1111111111111111,
             "#46039f"
            ],
            [
             0.2222222222222222,
             "#7201a8"
            ],
            [
             0.3333333333333333,
             "#9c179e"
            ],
            [
             0.4444444444444444,
             "#bd3786"
            ],
            [
             0.5555555555555556,
             "#d8576b"
            ],
            [
             0.6666666666666666,
             "#ed7953"
            ],
            [
             0.7777777777777778,
             "#fb9f3a"
            ],
            [
             0.8888888888888888,
             "#fdca26"
            ],
            [
             1,
             "#f0f921"
            ]
           ]
          },
          "colorway": [
           "#636efa",
           "#EF553B",
           "#00cc96",
           "#ab63fa",
           "#FFA15A",
           "#19d3f3",
           "#FF6692",
           "#B6E880",
           "#FF97FF",
           "#FECB52"
          ],
          "font": {
           "color": "#2a3f5f"
          },
          "geo": {
           "bgcolor": "white",
           "lakecolor": "white",
           "landcolor": "#E5ECF6",
           "showlakes": true,
           "showland": true,
           "subunitcolor": "white"
          },
          "hoverlabel": {
           "align": "left"
          },
          "hovermode": "closest",
          "mapbox": {
           "style": "light"
          },
          "paper_bgcolor": "white",
          "plot_bgcolor": "#E5ECF6",
          "polar": {
           "angularaxis": {
            "gridcolor": "white",
            "linecolor": "white",
            "ticks": ""
           },
           "bgcolor": "#E5ECF6",
           "radialaxis": {
            "gridcolor": "white",
            "linecolor": "white",
            "ticks": ""
           }
          },
          "scene": {
           "xaxis": {
            "backgroundcolor": "#E5ECF6",
            "gridcolor": "white",
            "gridwidth": 2,
            "linecolor": "white",
            "showbackground": true,
            "ticks": "",
            "zerolinecolor": "white"
           },
           "yaxis": {
            "backgroundcolor": "#E5ECF6",
            "gridcolor": "white",
            "gridwidth": 2,
            "linecolor": "white",
            "showbackground": true,
            "ticks": "",
            "zerolinecolor": "white"
           },
           "zaxis": {
            "backgroundcolor": "#E5ECF6",
            "gridcolor": "white",
            "gridwidth": 2,
            "linecolor": "white",
            "showbackground": true,
            "ticks": "",
            "zerolinecolor": "white"
           }
          },
          "shapedefaults": {
           "line": {
            "color": "#2a3f5f"
           }
          },
          "ternary": {
           "aaxis": {
            "gridcolor": "white",
            "linecolor": "white",
            "ticks": ""
           },
           "baxis": {
            "gridcolor": "white",
            "linecolor": "white",
            "ticks": ""
           },
           "bgcolor": "#E5ECF6",
           "caxis": {
            "gridcolor": "white",
            "linecolor": "white",
            "ticks": ""
           }
          },
          "title": {
           "x": 0.05
          },
          "xaxis": {
           "automargin": true,
           "gridcolor": "white",
           "linecolor": "white",
           "ticks": "",
           "title": {
            "standoff": 15
           },
           "zerolinecolor": "white",
           "zerolinewidth": 2
          },
          "yaxis": {
           "automargin": true,
           "gridcolor": "white",
           "linecolor": "white",
           "ticks": "",
           "title": {
            "standoff": 15
           },
           "zerolinecolor": "white",
           "zerolinewidth": 2
          }
         }
        },
        "title": {
         "text": "Recall"
        },
        "violingap": 0,
        "violingroupgap": 0.6,
        "violinmode": "overlay"
       }
      },
      "text/html": [
       "<div>\n",
       "        \n",
       "        \n",
       "            <div id=\"73d6f200-dcb9-4ce6-9761-592ec7100596\" class=\"plotly-graph-div\" style=\"height:525px; width:100%;\"></div>\n",
       "            <script type=\"text/javascript\">\n",
       "                require([\"plotly\"], function(Plotly) {\n",
       "                    window.PLOTLYENV=window.PLOTLYENV || {};\n",
       "                    \n",
       "                if (document.getElementById(\"73d6f200-dcb9-4ce6-9761-592ec7100596\")) {\n",
       "                    Plotly.newPlot(\n",
       "                        '73d6f200-dcb9-4ce6-9761-592ec7100596',\n",
       "                        [{\"jitter\": 0.05, \"line\": {\"color\": \"green\"}, \"meanline\": {\"visible\": true}, \"name\": \"BOW SGD\", \"pointpos\": -1.4, \"points\": \"all\", \"scalegroup\": \"BOW\", \"scalemode\": \"count\", \"side\": \"negative\", \"type\": \"violin\", \"x0\": \"SGD Classifier\", \"y\": [0.358974358974359, 0.38461538461538464, 0.3076923076923077, 0.3333333333333333, 0.38461538461538464, 0.358974358974359, 0.4358974358974359, 0.39473684210526316, 0.42105263157894735, 0.34210526315789475]}, {\"jitter\": 0.05, \"line\": {\"color\": \"lightseagreen\"}, \"meanline\": {\"visible\": true}, \"name\": \"TFIDF SGD\", \"pointpos\": 1.4, \"points\": \"all\", \"scalegroup\": \"TFIDF\", \"scalemode\": \"count\", \"side\": \"positive\", \"type\": \"violin\", \"x0\": \"SGD Classifier\", \"y\": [0.46153846153846156, 0.46153846153846156, 0.3333333333333333, 0.3076923076923077, 0.46153846153846156, 0.41025641025641024, 0.358974358974359, 0.46153846153846156, 0.46153846153846156, 0.3684210526315789, 0.4473684210526316, 0.34210526315789475]}, {\"jitter\": 0.05, \"line\": {\"color\": \"red\"}, \"meanline\": {\"visible\": true}, \"name\": \"BOW BNB\", \"pointpos\": -1.4, \"points\": \"all\", \"scalegroup\": \"BOW\", \"scalemode\": \"count\", \"side\": \"negative\", \"type\": \"violin\", \"x0\": \"Bernoulli NB\", \"y\": [0.46153846153846156, 0.46153846153846156, 0.2564102564102564, 0.28205128205128205, 0.46153846153846156, 0.38461538461538464, 0.3333333333333333, 0.41025641025641024, 0.47368421052631576, 0.4473684210526316, 0.21052631578947367]}, {\"jitter\": 0.05, \"line\": {\"color\": \"darkmagenta\"}, \"meanline\": {\"visible\": true}, \"name\": \"TFIDF BNB\", \"pointpos\": 1.4, \"points\": \"all\", \"scalegroup\": \"TFIDF\", \"scalemode\": \"count\", \"side\": \"positive\", \"type\": \"violin\", \"x0\": \"Bernoulli NB\", \"y\": [0.46153846153846156, 0.46153846153846156, 0.2564102564102564, 0.28205128205128205, 0.46153846153846156, 0.38461538461538464, 0.3333333333333333, 0.41025641025641024, 0.47368421052631576, 0.4473684210526316, 0.21052631578947367]}, {\"jitter\": 0.05, \"line\": {\"color\": \"blue\"}, \"meanline\": {\"visible\": true}, \"name\": \"BOW LR\", \"pointpos\": -1.4, \"points\": \"all\", \"scalegroup\": \"BOW\", \"scalemode\": \"count\", \"side\": \"negative\", \"type\": \"violin\", \"x0\": \"Logistic Regresion\", \"y\": [0.46153846153846156, 0.41025641025641024, 0.46153846153846156, 0.3333333333333333, 0.2564102564102564, 0.4358974358974359, 0.38461538461538464, 0.4358974358974359, 0.4358974358974359, 0.42105263157894735, 0.39473684210526316, 0.3157894736842105]}, {\"jitter\": 0.05, \"line\": {\"color\": \"darkblue\"}, \"meanline\": {\"visible\": true}, \"name\": \"TFIDF LR\", \"pointpos\": 1.4, \"points\": \"all\", \"scalegroup\": \"TFIDF\", \"scalemode\": \"count\", \"side\": \"positive\", \"type\": \"violin\", \"x0\": \"Logistic Regresion\", \"y\": [0.48717948717948717, 0.46153846153846156, 0.46153846153846156, 0.46153846153846156, 0.46153846153846156, 0.358974358974359, 0.3333333333333333, 0.38461538461538464, 0.358974358974359, 0.41025641025641024, 0.48717948717948717, 0.47368421052631576, 0.21052631578947367]}, {\"jitter\": 0.05, \"line\": {\"color\": \"black\"}, \"meanline\": {\"visible\": true}, \"name\": \"BOW MNB\", \"pointpos\": -1.4, \"points\": \"all\", \"scalegroup\": \"BOW\", \"scalemode\": \"count\", \"side\": \"negative\", \"type\": \"violin\", \"x0\": \"Multinomial NB\", \"y\": [0.46153846153846156, 0.3333333333333333, 0.4358974358974359, 0.48717948717948717, 0.38461538461538464, 0.4358974358974359, 0.41025641025641024, 0.48717948717948717, 0.47368421052631576, 0.4473684210526316, 0.5, 0.23684210526315788]}, {\"jitter\": 0.05, \"line\": {\"color\": \"gray\"}, \"meanline\": {\"visible\": true}, \"name\": \"TFIDF MNB\", \"pointpos\": 1.4, \"points\": \"all\", \"scalemode\": \"count\", \"side\": \"positive\", \"type\": \"violin\", \"x0\": \"Multinomial NB\", \"y\": [0.46153846153846156, 0.46153846153846156, 0.46153846153846156, 0.4358974358974359, 0.4358974358974359, 0.3076923076923077, 0.3076923076923077, 0.38461538461538464, 0.3076923076923077, 0.41025641025641024, 0.4473684210526316, 0.18421052631578946]}],\n",
       "                        {\"template\": {\"data\": {\"bar\": [{\"error_x\": {\"color\": \"#2a3f5f\"}, \"error_y\": {\"color\": \"#2a3f5f\"}, \"marker\": {\"line\": {\"color\": \"#E5ECF6\", \"width\": 0.5}}, \"type\": \"bar\"}], \"barpolar\": [{\"marker\": {\"line\": {\"color\": \"#E5ECF6\", \"width\": 0.5}}, \"type\": \"barpolar\"}], \"carpet\": [{\"aaxis\": {\"endlinecolor\": \"#2a3f5f\", \"gridcolor\": \"white\", \"linecolor\": \"white\", \"minorgridcolor\": \"white\", \"startlinecolor\": \"#2a3f5f\"}, \"baxis\": {\"endlinecolor\": \"#2a3f5f\", \"gridcolor\": \"white\", \"linecolor\": \"white\", \"minorgridcolor\": \"white\", \"startlinecolor\": \"#2a3f5f\"}, \"type\": \"carpet\"}], \"choropleth\": [{\"colorbar\": {\"outlinewidth\": 0, \"ticks\": \"\"}, \"type\": \"choropleth\"}], \"contour\": [{\"colorbar\": {\"outlinewidth\": 0, \"ticks\": \"\"}, \"colorscale\": [[0.0, \"#0d0887\"], [0.1111111111111111, \"#46039f\"], [0.2222222222222222, \"#7201a8\"], [0.3333333333333333, \"#9c179e\"], [0.4444444444444444, \"#bd3786\"], [0.5555555555555556, \"#d8576b\"], [0.6666666666666666, \"#ed7953\"], [0.7777777777777778, \"#fb9f3a\"], [0.8888888888888888, \"#fdca26\"], [1.0, \"#f0f921\"]], \"type\": \"contour\"}], \"contourcarpet\": [{\"colorbar\": {\"outlinewidth\": 0, \"ticks\": \"\"}, \"type\": \"contourcarpet\"}], \"heatmap\": [{\"colorbar\": {\"outlinewidth\": 0, \"ticks\": \"\"}, \"colorscale\": [[0.0, \"#0d0887\"], [0.1111111111111111, \"#46039f\"], [0.2222222222222222, \"#7201a8\"], [0.3333333333333333, \"#9c179e\"], [0.4444444444444444, \"#bd3786\"], [0.5555555555555556, \"#d8576b\"], [0.6666666666666666, \"#ed7953\"], [0.7777777777777778, \"#fb9f3a\"], [0.8888888888888888, \"#fdca26\"], [1.0, \"#f0f921\"]], \"type\": \"heatmap\"}], \"heatmapgl\": [{\"colorbar\": {\"outlinewidth\": 0, \"ticks\": \"\"}, \"colorscale\": [[0.0, \"#0d0887\"], [0.1111111111111111, \"#46039f\"], [0.2222222222222222, \"#7201a8\"], [0.3333333333333333, \"#9c179e\"], [0.4444444444444444, \"#bd3786\"], [0.5555555555555556, \"#d8576b\"], [0.6666666666666666, \"#ed7953\"], [0.7777777777777778, \"#fb9f3a\"], [0.8888888888888888, \"#fdca26\"], [1.0, \"#f0f921\"]], \"type\": \"heatmapgl\"}], \"histogram\": [{\"marker\": {\"colorbar\": {\"outlinewidth\": 0, \"ticks\": \"\"}}, \"type\": \"histogram\"}], \"histogram2d\": [{\"colorbar\": {\"outlinewidth\": 0, \"ticks\": \"\"}, \"colorscale\": [[0.0, \"#0d0887\"], [0.1111111111111111, \"#46039f\"], [0.2222222222222222, \"#7201a8\"], [0.3333333333333333, \"#9c179e\"], [0.4444444444444444, \"#bd3786\"], [0.5555555555555556, \"#d8576b\"], [0.6666666666666666, \"#ed7953\"], [0.7777777777777778, \"#fb9f3a\"], [0.8888888888888888, \"#fdca26\"], [1.0, \"#f0f921\"]], \"type\": \"histogram2d\"}], \"histogram2dcontour\": [{\"colorbar\": {\"outlinewidth\": 0, \"ticks\": \"\"}, \"colorscale\": [[0.0, \"#0d0887\"], [0.1111111111111111, \"#46039f\"], [0.2222222222222222, \"#7201a8\"], [0.3333333333333333, \"#9c179e\"], [0.4444444444444444, \"#bd3786\"], [0.5555555555555556, \"#d8576b\"], [0.6666666666666666, \"#ed7953\"], [0.7777777777777778, \"#fb9f3a\"], [0.8888888888888888, \"#fdca26\"], [1.0, \"#f0f921\"]], \"type\": \"histogram2dcontour\"}], \"mesh3d\": [{\"colorbar\": {\"outlinewidth\": 0, \"ticks\": \"\"}, \"type\": \"mesh3d\"}], \"parcoords\": [{\"line\": {\"colorbar\": {\"outlinewidth\": 0, \"ticks\": \"\"}}, \"type\": \"parcoords\"}], \"pie\": [{\"automargin\": true, \"type\": \"pie\"}], \"scatter\": [{\"marker\": {\"colorbar\": {\"outlinewidth\": 0, \"ticks\": \"\"}}, \"type\": \"scatter\"}], \"scatter3d\": [{\"line\": {\"colorbar\": {\"outlinewidth\": 0, \"ticks\": \"\"}}, \"marker\": {\"colorbar\": {\"outlinewidth\": 0, \"ticks\": \"\"}}, \"type\": \"scatter3d\"}], \"scattercarpet\": [{\"marker\": {\"colorbar\": {\"outlinewidth\": 0, \"ticks\": \"\"}}, \"type\": \"scattercarpet\"}], \"scattergeo\": [{\"marker\": {\"colorbar\": {\"outlinewidth\": 0, \"ticks\": \"\"}}, \"type\": \"scattergeo\"}], \"scattergl\": [{\"marker\": {\"colorbar\": {\"outlinewidth\": 0, \"ticks\": \"\"}}, \"type\": \"scattergl\"}], \"scattermapbox\": [{\"marker\": {\"colorbar\": {\"outlinewidth\": 0, \"ticks\": \"\"}}, \"type\": \"scattermapbox\"}], \"scatterpolar\": [{\"marker\": {\"colorbar\": {\"outlinewidth\": 0, \"ticks\": \"\"}}, \"type\": \"scatterpolar\"}], \"scatterpolargl\": [{\"marker\": {\"colorbar\": {\"outlinewidth\": 0, \"ticks\": \"\"}}, \"type\": \"scatterpolargl\"}], \"scatterternary\": [{\"marker\": {\"colorbar\": {\"outlinewidth\": 0, \"ticks\": \"\"}}, \"type\": \"scatterternary\"}], \"surface\": [{\"colorbar\": {\"outlinewidth\": 0, \"ticks\": \"\"}, \"colorscale\": [[0.0, \"#0d0887\"], [0.1111111111111111, \"#46039f\"], [0.2222222222222222, \"#7201a8\"], [0.3333333333333333, \"#9c179e\"], [0.4444444444444444, \"#bd3786\"], [0.5555555555555556, \"#d8576b\"], [0.6666666666666666, \"#ed7953\"], [0.7777777777777778, \"#fb9f3a\"], [0.8888888888888888, \"#fdca26\"], [1.0, \"#f0f921\"]], \"type\": \"surface\"}], \"table\": [{\"cells\": {\"fill\": {\"color\": \"#EBF0F8\"}, \"line\": {\"color\": \"white\"}}, \"header\": {\"fill\": {\"color\": \"#C8D4E3\"}, \"line\": {\"color\": \"white\"}}, \"type\": \"table\"}]}, \"layout\": {\"annotationdefaults\": {\"arrowcolor\": \"#2a3f5f\", \"arrowhead\": 0, \"arrowwidth\": 1}, \"coloraxis\": {\"colorbar\": {\"outlinewidth\": 0, \"ticks\": \"\"}}, \"colorscale\": {\"diverging\": [[0, \"#8e0152\"], [0.1, \"#c51b7d\"], [0.2, \"#de77ae\"], [0.3, \"#f1b6da\"], [0.4, \"#fde0ef\"], [0.5, \"#f7f7f7\"], [0.6, \"#e6f5d0\"], [0.7, \"#b8e186\"], [0.8, \"#7fbc41\"], [0.9, \"#4d9221\"], [1, \"#276419\"]], \"sequential\": [[0.0, \"#0d0887\"], [0.1111111111111111, \"#46039f\"], [0.2222222222222222, \"#7201a8\"], [0.3333333333333333, \"#9c179e\"], [0.4444444444444444, \"#bd3786\"], [0.5555555555555556, \"#d8576b\"], [0.6666666666666666, \"#ed7953\"], [0.7777777777777778, \"#fb9f3a\"], [0.8888888888888888, \"#fdca26\"], [1.0, \"#f0f921\"]], \"sequentialminus\": [[0.0, \"#0d0887\"], [0.1111111111111111, \"#46039f\"], [0.2222222222222222, \"#7201a8\"], [0.3333333333333333, \"#9c179e\"], [0.4444444444444444, \"#bd3786\"], [0.5555555555555556, \"#d8576b\"], [0.6666666666666666, \"#ed7953\"], [0.7777777777777778, \"#fb9f3a\"], [0.8888888888888888, \"#fdca26\"], [1.0, \"#f0f921\"]]}, \"colorway\": [\"#636efa\", \"#EF553B\", \"#00cc96\", \"#ab63fa\", \"#FFA15A\", \"#19d3f3\", \"#FF6692\", \"#B6E880\", \"#FF97FF\", \"#FECB52\"], \"font\": {\"color\": \"#2a3f5f\"}, \"geo\": {\"bgcolor\": \"white\", \"lakecolor\": \"white\", \"landcolor\": \"#E5ECF6\", \"showlakes\": true, \"showland\": true, \"subunitcolor\": \"white\"}, \"hoverlabel\": {\"align\": \"left\"}, \"hovermode\": \"closest\", \"mapbox\": {\"style\": \"light\"}, \"paper_bgcolor\": \"white\", \"plot_bgcolor\": \"#E5ECF6\", \"polar\": {\"angularaxis\": {\"gridcolor\": \"white\", \"linecolor\": \"white\", \"ticks\": \"\"}, \"bgcolor\": \"#E5ECF6\", \"radialaxis\": {\"gridcolor\": \"white\", \"linecolor\": \"white\", \"ticks\": \"\"}}, \"scene\": {\"xaxis\": {\"backgroundcolor\": \"#E5ECF6\", \"gridcolor\": \"white\", \"gridwidth\": 2, \"linecolor\": \"white\", \"showbackground\": true, \"ticks\": \"\", \"zerolinecolor\": \"white\"}, \"yaxis\": {\"backgroundcolor\": \"#E5ECF6\", \"gridcolor\": \"white\", \"gridwidth\": 2, \"linecolor\": \"white\", \"showbackground\": true, \"ticks\": \"\", \"zerolinecolor\": \"white\"}, \"zaxis\": {\"backgroundcolor\": \"#E5ECF6\", \"gridcolor\": \"white\", \"gridwidth\": 2, \"linecolor\": \"white\", \"showbackground\": true, \"ticks\": \"\", \"zerolinecolor\": \"white\"}}, \"shapedefaults\": {\"line\": {\"color\": \"#2a3f5f\"}}, \"ternary\": {\"aaxis\": {\"gridcolor\": \"white\", \"linecolor\": \"white\", \"ticks\": \"\"}, \"baxis\": {\"gridcolor\": \"white\", \"linecolor\": \"white\", \"ticks\": \"\"}, \"bgcolor\": \"#E5ECF6\", \"caxis\": {\"gridcolor\": \"white\", \"linecolor\": \"white\", \"ticks\": \"\"}}, \"title\": {\"x\": 0.05}, \"xaxis\": {\"automargin\": true, \"gridcolor\": \"white\", \"linecolor\": \"white\", \"ticks\": \"\", \"title\": {\"standoff\": 15}, \"zerolinecolor\": \"white\", \"zerolinewidth\": 2}, \"yaxis\": {\"automargin\": true, \"gridcolor\": \"white\", \"linecolor\": \"white\", \"ticks\": \"\", \"title\": {\"standoff\": 15}, \"zerolinecolor\": \"white\", \"zerolinewidth\": 2}}}, \"title\": {\"text\": \"Recall\"}, \"violingap\": 0, \"violingroupgap\": 0.6, \"violinmode\": \"overlay\"},\n",
       "                        {\"responsive\": true}\n",
       "                    ).then(function(){\n",
       "                            \n",
       "var gd = document.getElementById('73d6f200-dcb9-4ce6-9761-592ec7100596');\n",
       "var x = new MutationObserver(function (mutations, observer) {{\n",
       "        var display = window.getComputedStyle(gd).display;\n",
       "        if (!display || display === 'none') {{\n",
       "            console.log([gd, 'removed!']);\n",
       "            Plotly.purge(gd);\n",
       "            observer.disconnect();\n",
       "        }}\n",
       "}});\n",
       "\n",
       "// Listen for the removal of the full notebook cells\n",
       "var notebookContainer = gd.closest('#notebook-container');\n",
       "if (notebookContainer) {{\n",
       "    x.observe(notebookContainer, {childList: true});\n",
       "}}\n",
       "\n",
       "// Listen for the clearing of the current output cell\n",
       "var outputEl = gd.closest('.output');\n",
       "if (outputEl) {{\n",
       "    x.observe(outputEl, {childList: true});\n",
       "}}\n",
       "\n",
       "                        })\n",
       "                };\n",
       "                });\n",
       "            </script>\n",
       "        </div>"
      ]
     },
     "metadata": {},
     "output_type": "display_data"
    }
   ],
   "source": [
    "dataframe_metrics_q1(recall_BOW_SGD, recall_TFIDF_SGD, recall_BOW_BNB, recall_TFIDF_BNB, recall_BOW_LR, recall_TFIDF_LR,\n",
    "                 recall_BOW_MNB, recall_TFIDF_MNB, \"Recall\")"
   ]
  },
  {
   "cell_type": "code",
   "execution_count": null,
   "metadata": {},
   "outputs": [],
   "source": []
  }
 ],
 "metadata": {
  "kernelspec": {
   "display_name": "Python 3",
   "language": "python",
   "name": "python3"
  },
  "language_info": {
   "codemirror_mode": {
    "name": "ipython",
    "version": 3
   },
   "file_extension": ".py",
   "mimetype": "text/x-python",
   "name": "python",
   "nbconvert_exporter": "python",
   "pygments_lexer": "ipython3",
   "version": "3.8.2"
  }
 },
 "nbformat": 4,
 "nbformat_minor": 4
}
